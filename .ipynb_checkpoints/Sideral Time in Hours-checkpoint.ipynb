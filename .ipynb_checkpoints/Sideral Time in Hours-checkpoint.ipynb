{
 "metadata": {
  "name": "",
  "signature": "sha256:ee49c196261eb3de9ecd0ce9718f314a1d7ee7d8eb7e6adc4a4c97adf52cc888"
 },
 "nbformat": 3,
 "nbformat_minor": 0,
 "worksheets": [
  {
   "cells": [
    {
     "cell_type": "code",
     "collapsed": false,
     "input": [
      "from astropy.io import fits #import and export fits images\n",
      "from astropy.time import Time #control time in fits images\n",
      "import glob #package for list files\n",
      "import os #package for control bash commands\n",
      "import yaml #input data without any trouble\n",
      "#import string #transform a list in a string of caracters\n",
      "import useful_functions as use\n",
      "import numpy as np\n",
      "#from pandas import HDFStore #save data in a database"
     ],
     "language": "python",
     "metadata": {},
     "outputs": [],
     "prompt_number": 1
    },
    {
     "cell_type": "code",
     "collapsed": false,
     "input": [
      "pwd"
     ],
     "language": "python",
     "metadata": {},
     "outputs": [
      {
       "metadata": {},
       "output_type": "pyout",
       "prompt_number": 2,
       "text": [
        "u'/media/sf_windows/MEGA/work/codes/iraf_task'"
       ]
      }
     ],
     "prompt_number": 2
    },
    {
     "cell_type": "code",
     "collapsed": false,
     "input": [
      "ls"
     ],
     "language": "python",
     "metadata": {},
     "outputs": [
      {
       "output_type": "stream",
       "stream": "stdout",
       "text": [
        "\u001b[0m\u001b[38;5;34mcalibrations.py\u001b[0m*             \u001b[38;5;34mmasterflat.py\u001b[0m*\r\n",
        "\u001b[38;5;34mExoSetupTaskParameters.py\u001b[0m*   \u001b[38;5;34mObtain Universal Time UT using astropy.ipynb\u001b[0m*\r\n",
        "\u001b[38;5;34mExoSetupTaskParameters.pyc\u001b[0m*  \u001b[38;5;27mold_input\u001b[0m/\r\n",
        "\u001b[38;5;34mimstatistics.py\u001b[0m*             \u001b[38;5;34mREADME.md\u001b[0m*\r\n",
        "\u001b[38;5;34minput_05jan12.yaml\u001b[0m*          \u001b[38;5;34mrun.log\u001b[0m*\r\n",
        "\u001b[38;5;34mINPUT_PARAMETERS\u001b[0m*            \u001b[38;5;34mscience.py\u001b[0m*\r\n",
        "\u001b[38;5;34mlegalcode\u001b[0m*                   \u001b[38;5;34mSideral Time DDMMYY.ipynb\u001b[0m*\r\n",
        "\u001b[38;5;34mlicense\u001b[0m*                     \u001b[38;5;34mtime_info.py\u001b[0m*\r\n",
        "\u001b[38;5;34mlogin.py\u001b[0m*                    \u001b[38;5;34mUntitled0.ipynb\u001b[0m*\r\n",
        "\u001b[38;5;34mlogin.pyc\u001b[0m*                   \u001b[38;5;34museful_functions.py\u001b[0m*\r\n",
        "\u001b[38;5;34mmasterbias.py\u001b[0m*               \u001b[38;5;34museful_functions.pyc\u001b[0m*\r\n"
       ]
      }
     ],
     "prompt_number": 3
    },
    {
     "cell_type": "code",
     "collapsed": false,
     "input": [
      "input_data = yaml.load(open('./input_05jan12.yaml'))"
     ],
     "language": "python",
     "metadata": {},
     "outputs": [],
     "prompt_number": 4
    },
    {
     "cell_type": "code",
     "collapsed": false,
     "input": [
      "input_data"
     ],
     "language": "python",
     "metadata": {},
     "outputs": [
      {
       "metadata": {},
       "output_type": "pyout",
       "prompt_number": 5,
       "text": [
        "{'DEC': '+50:13:32.9',\n",
        " 'RA': '07:48:06.46',\n",
        " 'altitude': 2510.0,\n",
        " 'data_path': '/home/walter/workspace/exoplanet/data/xo2b/xo2b.b/',\n",
        " 'date-obs': 'DATE-OBS',\n",
        " 'epoch': '2000.0',\n",
        " 'exoplanet': 'xo2b',\n",
        " 'frame': 'fk5',\n",
        " 'lat-obs': 32.4164722222,\n",
        " 'lon-obs': -110.734527778,\n",
        " 'observatory': 'mtbigelow',\n",
        " 'save_path': '/home/walter/workspace/exoplanet/data/xo2b/xo2b.b/teste_pyraf',\n",
        " 'scale-time': 'utc',\n",
        " 'time': 'ut',\n",
        " 'time-obs': 'UT',\n",
        " 'time_zone': 7.0,\n",
        " 'u.DEC': 'degree',\n",
        " 'u.RA': 'degree'}"
       ]
      }
     ],
     "prompt_number": 5
    },
    {
     "cell_type": "code",
     "collapsed": false,
     "input": [
      "os.chdir(input_data['save_path'])"
     ],
     "language": "python",
     "metadata": {},
     "outputs": [],
     "prompt_number": 10
    },
    {
     "cell_type": "code",
     "collapsed": false,
     "input": [
      "ls"
     ],
     "language": "python",
     "metadata": {},
     "outputs": [
      {
       "output_type": "stream",
       "stream": "stdout",
       "text": [
        "\u001b[0m\u001b[38;5;34mABxo2b.0002.fits\u001b[0m*  \u001b[38;5;34mABxo2b.0070.fits\u001b[0m*  \u001b[38;5;34mABxo2b.0138.fits\u001b[0m*  \u001b[38;5;34mABxo2b.0206.fits\u001b[0m*\r\n",
        "\u001b[38;5;34mABxo2b.0004.fits\u001b[0m*  \u001b[38;5;34mABxo2b.0072.fits\u001b[0m*  \u001b[38;5;34mABxo2b.0140.fits\u001b[0m*  \u001b[38;5;34mABxo2b.0208.fits\u001b[0m*\r\n",
        "\u001b[38;5;34mABxo2b.0006.fits\u001b[0m*  \u001b[38;5;34mABxo2b.0074.fits\u001b[0m*  \u001b[38;5;34mABxo2b.0142.fits\u001b[0m*  \u001b[38;5;34mABxo2b.0210.fits\u001b[0m*\r\n",
        "\u001b[38;5;34mABxo2b.0008.fits\u001b[0m*  \u001b[38;5;34mABxo2b.0076.fits\u001b[0m*  \u001b[38;5;34mABxo2b.0144.fits\u001b[0m*  \u001b[38;5;34mABxo2b.0212.fits\u001b[0m*\r\n",
        "\u001b[38;5;34mABxo2b.0010.fits\u001b[0m*  \u001b[38;5;34mABxo2b.0078.fits\u001b[0m*  \u001b[38;5;34mABxo2b.0146.fits\u001b[0m*  \u001b[38;5;34mABxo2b.0214.fits\u001b[0m*\r\n",
        "\u001b[38;5;34mABxo2b.0012.fits\u001b[0m*  \u001b[38;5;34mABxo2b.0080.fits\u001b[0m*  \u001b[38;5;34mABxo2b.0148.fits\u001b[0m*  \u001b[38;5;34mABxo2b.0216.fits\u001b[0m*\r\n",
        "\u001b[38;5;34mABxo2b.0014.fits\u001b[0m*  \u001b[38;5;34mABxo2b.0082.fits\u001b[0m*  \u001b[38;5;34mABxo2b.0150.fits\u001b[0m*  \u001b[38;5;34mABxo2b.0218.fits\u001b[0m*\r\n",
        "\u001b[38;5;34mABxo2b.0016.fits\u001b[0m*  \u001b[38;5;34mABxo2b.0084.fits\u001b[0m*  \u001b[38;5;34mABxo2b.0152.fits\u001b[0m*  \u001b[38;5;34mABxo2b.0220.fits\u001b[0m*\r\n",
        "\u001b[38;5;34mABxo2b.0018.fits\u001b[0m*  \u001b[38;5;34mABxo2b.0086.fits\u001b[0m*  \u001b[38;5;34mABxo2b.0154.fits\u001b[0m*  \u001b[38;5;34mABxo2b.0222.fits\u001b[0m*\r\n",
        "\u001b[38;5;34mABxo2b.0020.fits\u001b[0m*  \u001b[38;5;34mABxo2b.0088.fits\u001b[0m*  \u001b[38;5;34mABxo2b.0156.fits\u001b[0m*  \u001b[38;5;34mABxo2b.0224.fits\u001b[0m*\r\n",
        "\u001b[38;5;34mABxo2b.0022.fits\u001b[0m*  \u001b[38;5;34mABxo2b.0090.fits\u001b[0m*  \u001b[38;5;34mABxo2b.0158.fits\u001b[0m*  \u001b[38;5;34mABxo2b.0226.fits\u001b[0m*\r\n",
        "\u001b[38;5;34mABxo2b.0024.fits\u001b[0m*  \u001b[38;5;34mABxo2b.0092.fits\u001b[0m*  \u001b[38;5;34mABxo2b.0160.fits\u001b[0m*  \u001b[38;5;34mABxo2b.0228.fits\u001b[0m*\r\n",
        "\u001b[38;5;34mABxo2b.0026.fits\u001b[0m*  \u001b[38;5;34mABxo2b.0094.fits\u001b[0m*  \u001b[38;5;34mABxo2b.0162.fits\u001b[0m*  \u001b[38;5;34mABxo2b.0230.fits\u001b[0m*\r\n",
        "\u001b[38;5;34mABxo2b.0028.fits\u001b[0m*  \u001b[38;5;34mABxo2b.0096.fits\u001b[0m*  \u001b[38;5;34mABxo2b.0164.fits\u001b[0m*  \u001b[38;5;34mABxo2b.0232.fits\u001b[0m*\r\n",
        "\u001b[38;5;34mABxo2b.0030.fits\u001b[0m*  \u001b[38;5;34mABxo2b.0098.fits\u001b[0m*  \u001b[38;5;34mABxo2b.0166.fits\u001b[0m*  \u001b[38;5;34mABxo2b.0234.fits\u001b[0m*\r\n",
        "\u001b[38;5;34mABxo2b.0032.fits\u001b[0m*  \u001b[38;5;34mABxo2b.0100.fits\u001b[0m*  \u001b[38;5;34mABxo2b.0168.fits\u001b[0m*  \u001b[38;5;34mABxo2b.0236.fits\u001b[0m*\r\n",
        "\u001b[38;5;34mABxo2b.0034.fits\u001b[0m*  \u001b[38;5;34mABxo2b.0102.fits\u001b[0m*  \u001b[38;5;34mABxo2b.0170.fits\u001b[0m*  \u001b[38;5;34mABxo2b.0238.fits\u001b[0m*\r\n",
        "\u001b[38;5;34mABxo2b.0036.fits\u001b[0m*  \u001b[38;5;34mABxo2b.0104.fits\u001b[0m*  \u001b[38;5;34mABxo2b.0172.fits\u001b[0m*  \u001b[38;5;34mABxo2b.0240.fits\u001b[0m*\r\n",
        "\u001b[38;5;34mABxo2b.0038.fits\u001b[0m*  \u001b[38;5;34mABxo2b.0106.fits\u001b[0m*  \u001b[38;5;34mABxo2b.0174.fits\u001b[0m*  \u001b[38;5;34mABxo2b.0242.fits\u001b[0m*\r\n",
        "\u001b[38;5;34mABxo2b.0040.fits\u001b[0m*  \u001b[38;5;34mABxo2b.0108.fits\u001b[0m*  \u001b[38;5;34mABxo2b.0176.fits\u001b[0m*  \u001b[38;5;34mABxo2b.0244.fits\u001b[0m*\r\n",
        "\u001b[38;5;34mABxo2b.0042.fits\u001b[0m*  \u001b[38;5;34mABxo2b.0110.fits\u001b[0m*  \u001b[38;5;34mABxo2b.0178.fits\u001b[0m*  \u001b[38;5;34mABxo2b.0246.fits\u001b[0m*\r\n",
        "\u001b[38;5;34mABxo2b.0044.fits\u001b[0m*  \u001b[38;5;34mABxo2b.0112.fits\u001b[0m*  \u001b[38;5;34mABxo2b.0180.fits\u001b[0m*  \u001b[38;5;34mABxo2b.0248.fits\u001b[0m*\r\n",
        "\u001b[38;5;34mABxo2b.0046.fits\u001b[0m*  \u001b[38;5;34mABxo2b.0114.fits\u001b[0m*  \u001b[38;5;34mABxo2b.0182.fits\u001b[0m*  \u001b[38;5;34mABxo2b.0250.fits\u001b[0m*\r\n",
        "\u001b[38;5;34mABxo2b.0048.fits\u001b[0m*  \u001b[38;5;34mABxo2b.0116.fits\u001b[0m*  \u001b[38;5;34mABxo2b.0184.fits\u001b[0m*  \u001b[38;5;34mABxo2b.0252.fits\u001b[0m*\r\n",
        "\u001b[38;5;34mABxo2b.0050.fits\u001b[0m*  \u001b[38;5;34mABxo2b.0118.fits\u001b[0m*  \u001b[38;5;34mABxo2b.0186.fits\u001b[0m*  \u001b[38;5;34mABxo2b.0254.fits\u001b[0m*\r\n",
        "\u001b[38;5;34mABxo2b.0052.fits\u001b[0m*  \u001b[38;5;34mABxo2b.0120.fits\u001b[0m*  \u001b[38;5;34mABxo2b.0188.fits\u001b[0m*  \u001b[38;5;34mABxo2b.0256.fits\u001b[0m*\r\n",
        "\u001b[38;5;34mABxo2b.0054.fits\u001b[0m*  \u001b[38;5;34mABxo2b.0122.fits\u001b[0m*  \u001b[38;5;34mABxo2b.0190.fits\u001b[0m*  \u001b[38;5;34mABxo2b.0258.fits\u001b[0m*\r\n",
        "\u001b[38;5;34mABxo2b.0056.fits\u001b[0m*  \u001b[38;5;34mABxo2b.0124.fits\u001b[0m*  \u001b[38;5;34mABxo2b.0192.fits\u001b[0m*  \u001b[38;5;34mABxo2b.0260.fits\u001b[0m*\r\n",
        "\u001b[38;5;34mABxo2b.0058.fits\u001b[0m*  \u001b[38;5;34mABxo2b.0126.fits\u001b[0m*  \u001b[38;5;34mABxo2b.0194.fits\u001b[0m*  \u001b[38;5;34mABxo2b.0262.fits\u001b[0m*\r\n",
        "\u001b[38;5;34mABxo2b.0060.fits\u001b[0m*  \u001b[38;5;34mABxo2b.0128.fits\u001b[0m*  \u001b[38;5;34mABxo2b.0196.fits\u001b[0m*  \u001b[38;5;34mABxo2b.0264.fits\u001b[0m*\r\n",
        "\u001b[38;5;34mABxo2b.0062.fits\u001b[0m*  \u001b[38;5;34mABxo2b.0130.fits\u001b[0m*  \u001b[38;5;34mABxo2b.0198.fits\u001b[0m*  \u001b[38;5;34mABxo2b.0266.fits\u001b[0m*\r\n",
        "\u001b[38;5;34mABxo2b.0064.fits\u001b[0m*  \u001b[38;5;34mABxo2b.0132.fits\u001b[0m*  \u001b[38;5;34mABxo2b.0200.fits\u001b[0m*  \u001b[38;5;34msuperbias.fits\u001b[0m*\r\n",
        "\u001b[38;5;34mABxo2b.0066.fits\u001b[0m*  \u001b[38;5;34mABxo2b.0134.fits\u001b[0m*  \u001b[38;5;34mABxo2b.0202.fits\u001b[0m*  \u001b[38;5;34msuperflat.fits\u001b[0m*\r\n",
        "\u001b[38;5;34mABxo2b.0068.fits\u001b[0m*  \u001b[38;5;34mABxo2b.0136.fits\u001b[0m*  \u001b[38;5;34mABxo2b.0204.fits\u001b[0m*\r\n"
       ]
      }
     ],
     "prompt_number": 11
    },
    {
     "cell_type": "code",
     "collapsed": false,
     "input": [
      "images = sorted(glob.glob('AB'+input_data['exoplanet']+'*.fits'))"
     ],
     "language": "python",
     "metadata": {},
     "outputs": [],
     "prompt_number": 14
    },
    {
     "cell_type": "code",
     "collapsed": false,
     "input": [
      "tempo_loc = [] #time object\n",
      "JD = np.zeros(len(images)) #julian date from time object\n",
      "ST = np.zeros(len(images))"
     ],
     "language": "python",
     "metadata": {},
     "outputs": [],
     "prompt_number": 16
    },
    {
     "cell_type": "code",
     "collapsed": false,
     "input": [
      "#teste para uma imagem\n",
      "\n",
      "hdr = fits.getheader(images[0])\n",
      "UTC = hdr['date-obs']+'T'+hdr['UT'] #string that contain the time in UTC in isot format"
     ],
     "language": "python",
     "metadata": {},
     "outputs": [],
     "prompt_number": 19
    },
    {
     "cell_type": "code",
     "collapsed": false,
     "input": [
      "tempo = Time(UTC,scale=input_data['scale-time'],format='isot',location=(input_data['lon-obs'],input_data['lat-obs'],input_data['altitude']))\n"
     ],
     "language": "python",
     "metadata": {},
     "outputs": [],
     "prompt_number": 23
    },
    {
     "cell_type": "code",
     "collapsed": false,
     "input": [
      "print tempo"
     ],
     "language": "python",
     "metadata": {},
     "outputs": [
      {
       "output_type": "stream",
       "stream": "stdout",
       "text": [
        "2012-12-10T05:29:57.274\n"
       ]
      }
     ],
     "prompt_number": 24
    },
    {
     "cell_type": "code",
     "collapsed": false,
     "input": [
      "tempo.sidereal_time('apparent').hour"
     ],
     "language": "python",
     "metadata": {},
     "outputs": [
      {
       "metadata": {},
       "output_type": "pyout",
       "prompt_number": 28,
       "text": [
        "3.407166408884269"
       ]
      }
     ],
     "prompt_number": 28
    },
    {
     "cell_type": "code",
     "collapsed": false,
     "input": [],
     "language": "python",
     "metadata": {},
     "outputs": []
    }
   ],
   "metadata": {}
  }
 ]
}