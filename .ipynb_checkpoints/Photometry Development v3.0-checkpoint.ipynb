{
 "cells": [
  {
   "cell_type": "code",
   "execution_count": 1,
   "metadata": {
    "collapsed": false
   },
   "outputs": [
    {
     "name": "stdout",
     "output_type": "stream",
     "text": [
      "\n",
      " Including time information in the header \n",
      "\n",
      "\n",
      " Loading packages .... \n",
      "\n",
      "\n",
      "\n",
      "      +------------------------------------------------------------+\n",
      "      |       Space Telescope Science Data Analysis System         |    \n",
      "      |                   STSDAS Version 3.17                      |\n",
      "      |                                                            |\n",
      "      |   Space Telescope Science Institute, Baltimore, Maryland   |\n",
      "      |   Copyright (C) 2014 Association of Universities for       |\n",
      "      |            Research in Astronomy, Inc.(AURA)               |\n",
      "      |       See stsdas$copyright.stsdas for terms of use.        |\n",
      "      |         For help, send e-mail to help@stsci.edu            |\n",
      "      |                                                            |\n",
      "      +------------------------------------------------------------+\n",
      "stsdas/:\n",
      " analysis/      examples        hst_calib/      sobsolete/\n",
      " contrib/       fitsio/         playpen/        toolbox/\n",
      " describe       graphics/       problems\n",
      "imred/:\n",
      " argus/         ctioslit/       hydra/          kpnocoude/      vtel/\n",
      " bias/          dtoi/           iids/           kpnoslit/\n",
      " ccdred/        echelle/        irred/          quadred/\n",
      " crutil/        generic/        irs/            specred/\n",
      "ccdred/:\n",
      " badpiximage    ccdlist         combine         mkillumcor      setinstrument\n",
      " ccdgroups      ccdmask         darkcombine     mkillumflat     zerocombine\n",
      " ccdhedit       ccdproc         flatcombine     mkskycor\n",
      " ccdinstrument  ccdtest         mkfringecor     mkskyflat\n",
      "crutil/:\n",
      " cosmicrays     crcombine       crfix           crmedian\n",
      " craverage      credit          crgrow          crnebula\n",
      "\n",
      ".... Done.\n"
     ]
    }
   ],
   "source": [
    "\"\"\"\n",
    "Created on Sun Feb 14 21:01:54 2016\n",
    "\n",
    "@author: Walter Martins-Filho\n",
    "e-mail: walter at on.br\n",
    "        waltersmartinsf at gmail.com\n",
    "\"\"\"\n",
    "#******************************************************************************\n",
    "#Main Goal: include the time_info in the header of the images.\n",
    "#******************************************************************************\n",
    "\n",
    "print '\\n Including time information in the header \\n'\n",
    "print '\\n Loading packages .... \\n'\n",
    "\n",
    "from pyraf import iraf #IRAF\n",
    "from login import * #IRAF configurations\n",
    "from astropy.io import fits #import and export fits images\n",
    "import glob #package for list files\n",
    "import os #package for control bash commands\n",
    "import useful_functions as use #useful functions\n",
    "import yaml #input data without any trouble\n",
    "from string import split #use to unconcanated a string in parts\n",
    "from pandas import DataFrame, read_csv #work with dataframes\n",
    "from photutils import CircularAperture, aperture_photometry,CircularAnnulus,Background #Photometry routines \n",
    "from astropy.table import hstack\n",
    "from astropy.io.misc import fnpickle, fnunpickle\n",
    "import numpy as np\n",
    "from scipy import array\n",
    "print '\\n.... Done.'"
   ]
  },
  {
   "cell_type": "code",
   "execution_count": 2,
   "metadata": {
    "collapsed": true
   },
   "outputs": [],
   "source": [
    "%matplotlib inline\n",
    "import pylab\n",
    "\n",
    "import matplotlib.pyplot as plt #plot library\n",
    "def init_plotting():\n",
    "    \"\"\"\n",
    "    Funcao para definir uma janela grafica com parametros customizados para aptresentacoes em ppt ou latex.\n",
    "    \"\"\"\n",
    "    plt.rcParams['figure.figsize'] = (14.0,8.0)\n",
    "    plt.rcParams['font.size'] = 20\n",
    "    #plt.rcParams['font.family'] = 'Times New Roman'\n",
    "    plt.rcParams['axes.labelsize'] = plt.rcParams['font.size']\n",
    "    plt.rcParams['axes.titlesize'] = 0.75*plt.rcParams['font.size']\n",
    "    plt.rcParams['legend.fontsize'] = 0.65*plt.rcParams['font.size']\n",
    "    plt.rcParams['xtick.labelsize'] = plt.rcParams['font.size']\n",
    "    plt.rcParams['ytick.labelsize'] = plt.rcParams['font.size']\n",
    "    plt.rcParams['xtick.major.size'] = 3\n",
    "    plt.rcParams['xtick.minor.size'] = 3\n",
    "    plt.rcParams['xtick.major.width'] = 1\n",
    "    plt.rcParams['xtick.minor.width'] = 1\n",
    "    plt.rcParams['ytick.major.size'] = 3\n",
    "    plt.rcParams['ytick.minor.size'] = 3\n",
    "    plt.rcParams['ytick.major.width'] = 1\n",
    "    plt.rcParams['ytick.minor.width'] = 1\n",
    "    plt.rcParams['legend.frameon'] = True\n",
    "    plt.rcParams['legend.loc'] = 'best'\n",
    "    plt.rcParams['axes.linewidth'] = 1\n",
    "\n",
    "init_plotting()"
   ]
  },
  {
   "cell_type": "code",
   "execution_count": 3,
   "metadata": {
    "collapsed": false
   },
   "outputs": [
    {
     "name": "stdout",
     "output_type": "stream",
     "text": [
      "/home/walter/exoplanet/data/xo2b/xo2b.b/iraf_task\n"
     ]
    }
   ],
   "source": [
    "cd /home/walter/exoplanet/data/xo2b/xo2b.b/iraf_task/"
   ]
  },
  {
   "cell_type": "code",
   "execution_count": 4,
   "metadata": {
    "collapsed": false,
    "scrolled": true
   },
   "outputs": [
    {
     "name": "stdout",
     "output_type": "stream",
     "text": [
      "ABxo2b.0002.fits  ABxo2b.0096.fits  ABxo2b.0190.fits\r\n",
      "ABxo2b.0004.fits  ABxo2b.0098.fits  ABxo2b.0192.fits\r\n",
      "ABxo2b.0006.fits  ABxo2b.0100.fits  ABxo2b.0194.fits\r\n",
      "ABxo2b.0008.fits  ABxo2b.0102.fits  ABxo2b.0196.fits\r\n",
      "ABxo2b.0010.fits  ABxo2b.0104.fits  ABxo2b.0198.fits\r\n",
      "ABxo2b.0012.fits  ABxo2b.0106.fits  ABxo2b.0200.fits\r\n",
      "ABxo2b.0014.fits  ABxo2b.0108.fits  ABxo2b.0202.fits\r\n",
      "ABxo2b.0016.fits  ABxo2b.0110.fits  ABxo2b.0204.fits\r\n",
      "ABxo2b.0018.fits  ABxo2b.0112.fits  ABxo2b.0206.fits\r\n",
      "ABxo2b.0020.fits  ABxo2b.0114.fits  ABxo2b.0208.fits\r\n",
      "ABxo2b.0022.fits  ABxo2b.0116.fits  ABxo2b.0210.fits\r\n",
      "ABxo2b.0024.fits  ABxo2b.0118.fits  ABxo2b.0212.fits\r\n",
      "ABxo2b.0026.fits  ABxo2b.0120.fits  ABxo2b.0214.fits\r\n",
      "ABxo2b.0028.fits  ABxo2b.0122.fits  ABxo2b.0216.fits\r\n",
      "ABxo2b.0030.fits  ABxo2b.0124.fits  ABxo2b.0218.fits\r\n",
      "ABxo2b.0032.fits  ABxo2b.0126.fits  ABxo2b.0220.fits\r\n",
      "ABxo2b.0034.fits  ABxo2b.0128.fits  ABxo2b.0222.fits\r\n",
      "ABxo2b.0036.fits  ABxo2b.0130.fits  ABxo2b.0224.fits\r\n",
      "ABxo2b.0038.fits  ABxo2b.0132.fits  ABxo2b.0226.fits\r\n",
      "ABxo2b.0040.fits  ABxo2b.0134.fits  ABxo2b.0228.fits\r\n",
      "ABxo2b.0042.fits  ABxo2b.0136.fits  ABxo2b.0230.fits\r\n",
      "ABxo2b.0044.fits  ABxo2b.0138.fits  ABxo2b.0232.fits\r\n",
      "ABxo2b.0046.fits  ABxo2b.0140.fits  ABxo2b.0234.fits\r\n",
      "ABxo2b.0048.fits  ABxo2b.0142.fits  ABxo2b.0236.fits\r\n",
      "ABxo2b.0050.fits  ABxo2b.0144.fits  ABxo2b.0238.fits\r\n",
      "ABxo2b.0052.fits  ABxo2b.0146.fits  ABxo2b.0240.fits\r\n",
      "ABxo2b.0054.fits  ABxo2b.0148.fits  ABxo2b.0242.fits\r\n",
      "ABxo2b.0056.fits  ABxo2b.0150.fits  ABxo2b.0244.fits\r\n",
      "ABxo2b.0058.fits  ABxo2b.0152.fits  ABxo2b.0246.fits\r\n",
      "ABxo2b.0060.fits  ABxo2b.0154.fits  ABxo2b.0248.fits\r\n",
      "ABxo2b.0062.fits  ABxo2b.0156.fits  ABxo2b.0250.fits\r\n",
      "ABxo2b.0064.fits  ABxo2b.0158.fits  ABxo2b.0252.fits\r\n",
      "ABxo2b.0066.fits  ABxo2b.0160.fits  ABxo2b.0254.fits\r\n",
      "ABxo2b.0068.fits  ABxo2b.0162.fits  ABxo2b.0256.fits\r\n",
      "ABxo2b.0070.fits  ABxo2b.0164.fits  ABxo2b.0258.fits\r\n",
      "ABxo2b.0072.fits  ABxo2b.0166.fits  ABxo2b.0260.fits\r\n",
      "ABxo2b.0074.fits  ABxo2b.0168.fits  ABxo2b.0262.fits\r\n",
      "ABxo2b.0076.fits  ABxo2b.0170.fits  ABxo2b.0264.fits\r\n",
      "ABxo2b.0078.fits  ABxo2b.0172.fits  ABxo2b.0266.fits\r\n",
      "ABxo2b.0080.fits  ABxo2b.0174.fits  \u001b[0m\u001b[01;34mbackground\u001b[0m/\r\n",
      "ABxo2b.0082.fits  ABxo2b.0176.fits  \u001b[01;34mphot_results\u001b[0m/\r\n",
      "ABxo2b.0084.fits  ABxo2b.0178.fits  \u001b[01;35mraw_data.png\u001b[0m\r\n",
      "ABxo2b.0086.fits  ABxo2b.0180.fits  results.csv\r\n",
      "ABxo2b.0088.fits  ABxo2b.0182.fits  results_iraf_calibrations.csv\r\n",
      "ABxo2b.0090.fits  ABxo2b.0184.fits  superbias.fits\r\n",
      "ABxo2b.0092.fits  ABxo2b.0186.fits  superflat.fits\r\n",
      "ABxo2b.0094.fits  ABxo2b.0188.fits\r\n"
     ]
    }
   ],
   "source": [
    "ls"
   ]
  },
  {
   "cell_type": "code",
   "execution_count": 6,
   "metadata": {
    "collapsed": true
   },
   "outputs": [],
   "source": [
    "os.chdir('/home/walter/github/iraf_task/')"
   ]
  },
  {
   "cell_type": "code",
   "execution_count": 7,
   "metadata": {
    "collapsed": false
   },
   "outputs": [
    {
     "name": "stdout",
     "output_type": "stream",
     "text": [
      "\n",
      "Reading input*.yaml file ....\n",
      "\n",
      "reading input file ... \n",
      "\n",
      "....  done! \n",
      "\n",
      "YAML information:\n",
      "{'u.DEC': 'degree', 'frame': 'fk5', 'data_path': '/home/walter/exoplanet/data/xo2b/xo2b.b', 'lat-obs': 32.4164722222, 'observatory': 'mtbigelow', 'circular_orbit': False, 'gain': 3.19, 'skysection': [526, 81], 'lon-obs': -110.734527778, 'DEC': '+50:13:32.9', 'apertures': [7, 14], 'pxpositions': [582.79, 581.76, 559.06, 512.4], 'u.RA': 'degree', 'altitude': 2510.0, 'time-obs': 'UT', 'time_zone': 7.0, 'date-obs': 'DATE-OBS', 'epoch': '2000.0', 'RA': '07:48:06.46', 'save_path': '/home/walter/exoplanet/data/xo2b/xo2b.b/iraf_task', 'time': 'ut', 'exoplanet': 'xo2b', 'scale-time': 'utc'}\n"
     ]
    }
   ],
   "source": [
    "#input data\n",
    "print '\\nReading input*.yaml file ....\\n'\n",
    "#******************************************************************************\n",
    "#**************** BEGIN INPUT PATH FILE ***************************************\n",
    "#******************************************************************************\n",
    "#path for your data directory, path for your data save, and names for the lists\n",
    "#Import with yaml file: input path and prefix information for files\n",
    "input_file = glob.glob('input*.yaml')\n",
    "if input_file:\n",
    "    if len(input_file) == 1:\n",
    "        print 'reading input file ... \\n'\n",
    "        file = yaml.load(open(input_file[0])) #creating our dictionary of input variables\n",
    "        data_path = file['data_path']\n",
    "        save_path = file['save_path']\n",
    "        planet = file['exoplanet']\n",
    "        print '....  done! \\n'\n",
    "    if len(input_file) > 1:\n",
    "        print 'reading input file ... \\n'\n",
    "        print '.... there is more than 1 input_path*.yaml.\\n \\nPlease, remove the others files that you do not need. \\n'\n",
    "        raise SystemExit\n",
    "else:\n",
    "    print 'There is no input_path*.yaml. \\nPlease, create a input file describe in INPUT_PARAMETERS.'\n",
    "    raise SystemExit\n",
    "#******************************************************************************\n",
    "#******************* END INPUT PATH FILE **************************************\n",
    "#******************************************************************************\n",
    "\n",
    "\n",
    "print 'YAML information:'\n",
    "input_file = file\n",
    "print input_file"
   ]
  },
  {
   "cell_type": "code",
   "execution_count": 8,
   "metadata": {
    "collapsed": true
   },
   "outputs": [],
   "source": [
    "os.chdir(save_path)"
   ]
  },
  {
   "cell_type": "code",
   "execution_count": 9,
   "metadata": {
    "collapsed": true
   },
   "outputs": [],
   "source": [
    "def phot_readData(input_file):\n",
    "    \"\"\"\n",
    "    Read the aperture photometry files and return the normalized flux, rawflux, of the exoplanet, \n",
    "    with the error, eflux, the heliocentric julian date, hjd, and teh airmass.\n",
    "    ___\n",
    "    \n",
    "    INPUT\n",
    "    \n",
    "    input_file: dict, dictionary of information for you data images sample.\n",
    "    \"\"\"\n",
    "    print 'Reading '+input_file['exoplanet']+'*.csv files ....'\n",
    "    files_csv = np.sort(glob.glob('./phot_results/'+input_file['exoplanet']+'*.csv'))\n",
    "    scatter = np.zeros(len(files_csv))\n",
    "    for i in range(len(files_csv)):\n",
    "        xo2b = read_csv(files_csv[i])\n",
    "        scatter[i] = np.std(xo2b.hoststar)\n",
    "        use.update_progress((i+1.)/len(files_csv))\n",
    "    hjd = read_csv('results_iraf_calibrations.csv')\n",
    "    airmass = hjd.Airmass\n",
    "    hjd = hjd.HJD.values\n",
    "    print '... done!'\n",
    "    id_min = scatter.argmin() #index of the min scatter file\n",
    "    id_max = scatter.argmax() #index for the maximum scatter file\n",
    "    print 'The smallest scatter is: '+str(files_csv[id_min])\n",
    "    print 'Which is file: '+files_csv[id_min]\n",
    "    print('Working @'+files_csv[id_min]+' that is the min scatter')\n",
    "    print('... Read '+files_csv[id_min]+' ...')\n",
    "    data_min_scatter = read_csv(files_csv[id_min])\n",
    "    print('... done.')\n",
    "    rawflux = data_min_scatter.hoststar.values/data_min_scatter.refstar.values\n",
    "    eflux = rawflux*np.sqrt((data_min_scatter.hoststar_err.values/data_min_scatter.hoststar.values)**2 + (data_min_scatter.refstar_err.values/data_min_scatter.refstar.values)**2)\n",
    "    return rawflux,eflux,hjd,airmass"
   ]
  },
  {
   "cell_type": "code",
   "execution_count": 11,
   "metadata": {
    "collapsed": false
   },
   "outputs": [
    {
     "name": "stdout",
     "output_type": "stream",
     "text": [
      "Reading xo2b*.csv files ....\n",
      "Percent: [##########] 100% Done...\n",
      "... done!\n",
      "The smallest scatter is: ./phot_results/xo2b_flux_radius_13.9.csv\n",
      "Which is file: ./phot_results/xo2b_flux_radius_13.9.csv\n",
      "Working @./phot_results/xo2b_flux_radius_13.9.csv that is the min scatter\n",
      "... Read ./phot_results/xo2b_flux_radius_13.9.csv ...\n",
      "... done.\n"
     ]
    }
   ],
   "source": [
    "rawflux, eflux, hjd, airmass =  phot_readData(input_file)"
   ]
  },
  {
   "cell_type": "code",
   "execution_count": null,
   "metadata": {
    "collapsed": true
   },
   "outputs": [],
   "source": []
  }
 ],
 "metadata": {
  "kernelspec": {
   "display_name": "Python 2",
   "language": "python",
   "name": "python2"
  },
  "language_info": {
   "codemirror_mode": {
    "name": "ipython",
    "version": 2
   },
   "file_extension": ".py",
   "mimetype": "text/x-python",
   "name": "python",
   "nbconvert_exporter": "python",
   "pygments_lexer": "ipython2",
   "version": "2.7.11"
  }
 },
 "nbformat": 4,
 "nbformat_minor": 0
}
