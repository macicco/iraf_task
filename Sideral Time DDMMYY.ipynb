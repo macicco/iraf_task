{
 "metadata": {
  "name": "",
  "signature": "sha256:47087104bbd122c537b0ec8e22d97eac6c26f25e5faa0e2dca3220fbfe6be5e8"
 },
 "nbformat": 3,
 "nbformat_minor": 0,
 "worksheets": [
  {
   "cells": [
    {
     "cell_type": "code",
     "collapsed": false,
     "input": [
      "# Main Goal: How to get a sideral time from header of image\n",
      "\n",
      "%matplotlib inline\n",
      "\n",
      "import os\n",
      "import numpy as np\n",
      "\n",
      "import matplotlib.pyplot as plt #plot library\n",
      "def init_plotting():\n",
      "    plt.rcParams['figure.figsize'] = (14.0,8.0)\n",
      "    plt.rcParams['font.size'] = 10\n",
      "    #plt.rcParams['font.family'] = 'Times New Roman'\n",
      "    plt.rcParams['axes.labelsize'] = plt.rcParams['font.size']\n",
      "    plt.rcParams['axes.titlesize'] = 2*plt.rcParams['font.size']\n",
      "    plt.rcParams['legend.fontsize'] = 0.65*plt.rcParams['font.size']\n",
      "    plt.rcParams['xtick.labelsize'] = plt.rcParams['font.size']\n",
      "    plt.rcParams['ytick.labelsize'] = plt.rcParams['font.size']\n",
      "    plt.rcParams['xtick.major.size'] = 3\n",
      "    plt.rcParams['xtick.minor.size'] = 3\n",
      "    plt.rcParams['xtick.major.width'] = 1\n",
      "    plt.rcParams['xtick.minor.width'] = 1\n",
      "    plt.rcParams['ytick.major.size'] = 3\n",
      "    plt.rcParams['ytick.minor.size'] = 3\n",
      "    plt.rcParams['ytick.major.width'] = 1\n",
      "    plt.rcParams['ytick.minor.width'] = 1\n",
      "    plt.rcParams['legend.frameon'] = True\n",
      "    plt.rcParams['legend.loc'] = 'best'\n",
      "    plt.rcParams['axes.linewidth'] = 1\n",
      "\n",
      "init_plotting()"
     ],
     "language": "python",
     "metadata": {},
     "outputs": [],
     "prompt_number": 1
    },
    {
     "cell_type": "code",
     "collapsed": false,
     "input": [
      "from astropy.io import fits\n",
      "from astropy.time import Time"
     ],
     "language": "python",
     "metadata": {},
     "outputs": [],
     "prompt_number": 2
    },
    {
     "cell_type": "code",
     "collapsed": false,
     "input": [
      "os.getcwd()"
     ],
     "language": "python",
     "metadata": {},
     "outputs": [
      {
       "metadata": {},
       "output_type": "pyout",
       "prompt_number": 3,
       "text": [
        "'/home/walter/MEGA/work/codes/iraf_task'"
       ]
      }
     ],
     "prompt_number": 3
    },
    {
     "cell_type": "code",
     "collapsed": false,
     "input": [
      "os.chdir('/home/walter/exoplanet/xo2b/xo2b_wsmf/05jan12/xo2b.u/')"
     ],
     "language": "python",
     "metadata": {},
     "outputs": [],
     "prompt_number": 4
    },
    {
     "cell_type": "code",
     "collapsed": false,
     "input": [
      "ls"
     ],
     "language": "python",
     "metadata": {},
     "outputs": [
      {
       "output_type": "stream",
       "stream": "stdout",
       "text": [
        "AfterAnalyze.cl     \u001b[0m\u001b[38;5;27mmag_8.1\u001b[0m/         XO2b.0141.fits\r\n",
        "\u001b[38;5;27mAllfluxFiles\u001b[0m/       \u001b[38;5;27mmag_8.2\u001b[0m/         XO2b.0143.fits\r\n",
        "\u001b[38;5;27mbias\u001b[0m/               \u001b[38;5;27mmag_8.3\u001b[0m/         XO2b.0145.fits\r\n",
        "bias.u.p.0001.fits  \u001b[38;5;27mmag_8.4\u001b[0m/         XO2b.0149.fits\r\n",
        "bias.u.p.0002.fits  \u001b[38;5;27mmag_8.5\u001b[0m/         XO2b.0151.fits\r\n",
        "bias.u.p.0003.fits  \u001b[38;5;27mmag_8.6\u001b[0m/         XO2b.0153.fits\r\n",
        "bias.u.p.0004.fits  \u001b[38;5;27mmag_8.7\u001b[0m/         XO2b.0155.fits\r\n",
        "bias.u.p.0005.fits  \u001b[38;5;27mmag_8.8\u001b[0m/         XO2b.0159.fits\r\n",
        "bias.u.p.0006.fits  \u001b[38;5;27mmag_8.9\u001b[0m/         XO2b.0161.fits\r\n",
        "bias.u.p.0007.fits  \u001b[38;5;27mmag_9.0\u001b[0m/         XO2b.0163.fits\r\n",
        "bias.u.p.0008.fits  \u001b[38;5;27mmag_9.1\u001b[0m/         XO2b.0165.fits\r\n",
        "bias.u.p.0009.fits  \u001b[38;5;27mmag_9.2\u001b[0m/         XO2b.0169.fits\r\n",
        "bias.u.p.0010.fits  \u001b[38;5;27mmag_9.3\u001b[0m/         XO2b.0171.fits\r\n",
        "\u001b[38;5;27mB-images\u001b[0m/           \u001b[38;5;27mmag_9.4\u001b[0m/         XO2b.0173.fits\r\n",
        "compile+run         \u001b[38;5;27mmag_9.5\u001b[0m/         XO2b.0175.fits\r\n",
        "\u001b[38;5;27mExoDRPL\u001b[0m/            \u001b[38;5;27mmag_9.6\u001b[0m/         XO2b.0179.fits\r\n",
        "\u001b[38;5;9mExo_DRPL.tar.gz\u001b[0m     \u001b[38;5;27mmag_9.7\u001b[0m/         XO2b.0181.fits\r\n",
        "ExoFunction         \u001b[38;5;27mmag_9.8\u001b[0m/         XO2b.0183.fits\r\n",
        "ExoMainAPS.cl       \u001b[38;5;27mmag_9.9\u001b[0m/         XO2b.0185.fits\r\n",
        "\u001b[38;5;27mExoStuff\u001b[0m/           Main-XO2b.cl     XO2b.0189.fits\r\n",
        "\u001b[38;5;27mFB-images\u001b[0m/          Nsuperflat.fits  XO2b.0191.fits\r\n",
        "\u001b[38;5;27mfigures\u001b[0m/            PlotLC1.cl       XO2b.0193.fits\r\n",
        "\u001b[38;5;27mflats\u001b[0m/              PlotLC2.cl       XO2b.0195.fits\r\n",
        "flat.u.p.0001.fits  PlotLC3.cl       XO2b.0199.fits\r\n",
        "flat.u.p.0002.fits  Pre-XO2b.cl      XO2b.0201.fits\r\n",
        "flat.u.p.0003.fits  \u001b[38;5;13mraw_data.png\u001b[0m     XO2b.0203.fits\r\n",
        "flat.u.p.0004.fits  \u001b[38;5;27mResults\u001b[0m/         XO2b.0205.fits\r\n",
        "flat.u.p.0005.fits  skysigma1.dat    XO2b.0209.fits\r\n",
        "flat.u.p.0006.fits  \u001b[38;5;13mwavelet.png\u001b[0m      XO2b.0211.fits\r\n",
        "flat.u.p.0007.fits  XO2b.0001.fits   XO2b.0213.fits\r\n",
        "flat.u.p.0008.fits  XO2b.0003.fits   XO2b.0215.fits\r\n",
        "flat.u.p.0009.fits  XO2b.0005.fits   XO2b.0219.fits\r\n",
        "flat.u.p.0010.fits  XO2b.0009.fits   XO2b.0221.fits\r\n",
        "\u001b[38;5;27miraf_task\u001b[0m/          XO2b.0011.fits   XO2b.0223.fits\r\n",
        "\u001b[38;5;27mmag_10.0\u001b[0m/           XO2b.0013.fits   XO2b.0225.fits\r\n",
        "\u001b[38;5;27mmag_10.1\u001b[0m/           XO2b.0015.fits   XO2b.0229.fits\r\n",
        "\u001b[38;5;27mmag_10.2\u001b[0m/           XO2b.0019.fits   XO2b.0231.fits\r\n",
        "\u001b[38;5;27mmag_10.3\u001b[0m/           XO2b.0021.fits   XO2b.0233.fits\r\n",
        "\u001b[38;5;27mmag_10.4\u001b[0m/           XO2b.0023.fits   XO2b.0235.fits\r\n",
        "\u001b[38;5;27mmag_10.5\u001b[0m/           XO2b.0025.fits   XO2b.0239.fits\r\n",
        "\u001b[38;5;27mmag_10.6\u001b[0m/           XO2b.0029.fits   XO2b.0241.fits\r\n",
        "\u001b[38;5;27mmag_10.7\u001b[0m/           XO2b.0031.fits   XO2b.0243.fits\r\n",
        "\u001b[38;5;27mmag_10.8\u001b[0m/           XO2b.0033.fits   XO2b.0245.fits\r\n",
        "\u001b[38;5;27mmag_10.9\u001b[0m/           XO2b.0035.fits   XO2b.0249.fits\r\n",
        "\u001b[38;5;27mmag_11.0\u001b[0m/           XO2b.0039.fits   XO2b.0251.fits\r\n",
        "\u001b[38;5;27mmag_11.1\u001b[0m/           XO2b.0041.fits   XO2b.0253.fits\r\n",
        "\u001b[38;5;27mmag_11.2\u001b[0m/           XO2b.0043.fits   XO2b.0255.fits\r\n",
        "\u001b[38;5;27mmag_11.3\u001b[0m/           XO2b.0045.fits   XO2b.0259.fits\r\n",
        "\u001b[38;5;27mmag_11.4\u001b[0m/           XO2b.0049.fits   XO2b.0261.fits\r\n",
        "\u001b[38;5;27mmag_11.5\u001b[0m/           XO2b.0051.fits   XO2b.0263.fits\r\n",
        "\u001b[38;5;27mmag_11.6\u001b[0m/           XO2b.0053.fits   XO2b.0265.fits\r\n",
        "\u001b[38;5;27mmag_11.7\u001b[0m/           XO2b.0055.fits   XO2b.0269.fits\r\n",
        "\u001b[38;5;27mmag_11.8\u001b[0m/           XO2b.0059.fits   XO2b.0271.fits\r\n",
        "\u001b[38;5;27mmag_11.9\u001b[0m/           XO2b.0061.fits   XO2b.0273.fits\r\n",
        "\u001b[38;5;27mmag_12.0\u001b[0m/           XO2b.0063.fits   XO2b.0275.fits\r\n",
        "\u001b[38;5;27mmag_12.1\u001b[0m/           XO2b.0065.fits   XO2b.0279.fits\r\n",
        "\u001b[38;5;27mmag_12.2\u001b[0m/           XO2b.0069.fits   XO2b.0281.fits\r\n",
        "\u001b[38;5;27mmag_12.3\u001b[0m/           XO2b.0071.fits   XO2b.0283.fits\r\n",
        "\u001b[38;5;27mmag_12.4\u001b[0m/           XO2b.0073.fits   XO2b.0285.fits\r\n",
        "\u001b[38;5;27mmag_12.5\u001b[0m/           XO2b.0075.fits   XO2b.0289.fits\r\n",
        "\u001b[38;5;27mmag_12.6\u001b[0m/           XO2b.0079.fits   XO2b.0291.fits\r\n",
        "\u001b[38;5;27mmag_12.7\u001b[0m/           XO2b.0081.fits   XO2b.0293.fits\r\n",
        "\u001b[38;5;27mmag_12.8\u001b[0m/           XO2b.0083.fits   XO2b.0295.fits\r\n",
        "\u001b[38;5;27mmag_12.9\u001b[0m/           XO2b.0085.fits   XO2b.0299.fits\r\n",
        "\u001b[38;5;27mmag_13.0\u001b[0m/           XO2b.0089.fits   XO2b.0301.fits\r\n",
        "\u001b[38;5;27mmag_13.1\u001b[0m/           XO2b.0091.fits   XO2b.0303.fits\r\n",
        "\u001b[38;5;27mmag_13.2\u001b[0m/           XO2b.0093.fits   XO2b.0305.fits\r\n",
        "\u001b[38;5;27mmag_13.3\u001b[0m/           XO2b.0095.fits   XO2b.0309.fits\r\n",
        "\u001b[38;5;27mmag_13.4\u001b[0m/           XO2b.0099.fits   XO2b.0311.fits\r\n",
        "\u001b[38;5;27mmag_13.5\u001b[0m/           XO2b.0101.fits   XO2b.0313.fits\r\n",
        "\u001b[38;5;27mmag_13.6\u001b[0m/           XO2b.0103.fits   XO2b.0315.fits\r\n",
        "\u001b[38;5;27mmag_13.7\u001b[0m/           XO2b.0105.fits   XO2b.0319.fits\r\n",
        "\u001b[38;5;27mmag_13.8\u001b[0m/           XO2b.0109.fits   XO2b.0321.fits\r\n",
        "\u001b[38;5;27mmag_13.9\u001b[0m/           XO2b.0111.fits   XO2b.0323.fits\r\n",
        "\u001b[38;5;27mmag_7.0\u001b[0m/            XO2b.0113.fits   XO2b.0325.fits\r\n",
        "\u001b[38;5;27mmag_7.1\u001b[0m/            XO2b.0115.fits   XO2b.0329.fits\r\n",
        "\u001b[38;5;27mmag_7.2\u001b[0m/            XO2b.0119.fits   XO2b.0331.fits\r\n",
        "\u001b[38;5;27mmag_7.3\u001b[0m/            XO2b.0121.fits   XO2b.0333.fits\r\n",
        "\u001b[38;5;27mmag_7.4\u001b[0m/            XO2b.0123.fits   XO2b.0335.fits\r\n",
        "\u001b[38;5;27mmag_7.5\u001b[0m/            XO2b.0125.fits   XO2b.0339.fits\r\n",
        "\u001b[38;5;27mmag_7.6\u001b[0m/            XO2b.0129.fits   XO2b.0341.fits\r\n",
        "\u001b[38;5;27mmag_7.7\u001b[0m/            XO2b.0131.fits   \u001b[38;5;13mxo2b_best_model_05jan2012.png\u001b[0m\r\n",
        "\u001b[38;5;27mmag_7.8\u001b[0m/            XO2b.0133.fits   xyfile\r\n",
        "\u001b[38;5;27mmag_7.9\u001b[0m/            XO2b.0135.fits\r\n",
        "\u001b[38;5;27mmag_8.0\u001b[0m/            XO2b.0139.fits\r\n"
       ]
      }
     ],
     "prompt_number": 5
    },
    {
     "cell_type": "code",
     "collapsed": false,
     "input": [
      "hdr = fits.getheader('./XO2b.0001.fits')"
     ],
     "language": "python",
     "metadata": {},
     "outputs": [],
     "prompt_number": 6
    },
    {
     "cell_type": "code",
     "collapsed": false,
     "input": [
      "hdr"
     ],
     "language": "python",
     "metadata": {},
     "outputs": [
      {
       "metadata": {},
       "output_type": "pyout",
       "prompt_number": 7,
       "text": [
        "SIMPLE  =                    T / Fits standard                                  \n",
        "BITPIX  =                  -32 / Bits per pixel                                 \n",
        "NAXIS   =                    2 / Number of axes                                 \n",
        "NAXIS1  =                 1365 / Axis length                                    \n",
        "NAXIS2  =                  683 / Axis length                                    \n",
        "EXTEND  =                    F / File may contain extensions                    \n",
        "ORIGIN  = 'NOAO-IRAF FITS Image Kernel July 2003' / FITS file originator        \n",
        "DATE    = '2012-01-05T03:49:14' / Date FITS file was generated                  \n",
        "IRAF-TLM= '2013-02-23T07:13:37' / Time of last modification                     \n",
        "OBJECT  = 'XO-2b   '           / Name of the object observed                    \n",
        "CCDSUM  = '3 3     '           / CCD pixel summing                              \n",
        "CCDBIN1 =                    3 / Binning factor along axis 1                    \n",
        "CCDBIN2 =                    3 / Binning factor along axis 2                    \n",
        "FILENAME= 'XO2b.0001.fits'     / base filename at acquisition                   \n",
        "NCCDS   =                    1 / Number of CCDs                                 \n",
        "NAMPS   =                    2 / Number of amplifiers                           \n",
        "DARKCUR = '0.0     '           / Average dark current (e-/pixel/hour)           \n",
        "DARKTIME=               60.157 / Dark time (seconds)                            \n",
        "DATE-OBS= '2012-01-05'         / UTC shutter opened                             \n",
        "DETECTOR= 'mont4k sn3088'      / Detector name                                  \n",
        "DETGAIN =                    5 / Video gain setting                             \n",
        "EXPREQ  =                 60.0 / Exposure time requested (seconds)              \n",
        "EXPTIME =                 60.0 / Exposure time (seconds)                        \n",
        "GAIN1   = '3.14    '           / Conversion gain (e-/DN) for amp 1              \n",
        "GAIN2   = '3.08    '           / Conversion gain (e-/DN) for amp 2              \n",
        "IMAGETYP= 'object  '           / Image type                                     \n",
        "INSTRUME= 'mont4k  '           / Instrument name                                \n",
        "LOCTIME = '20:48:01'           / Local time at start of exposure                \n",
        "OBSERVAT= 'mtbigelow'          / Observatory                                    \n",
        "OBSERVER= 'Turner  '                                                            \n",
        "PCIFILE = 'pci2.lod'           / PCI board DSP code filename                    \n",
        "PIXSCAL1= '0.15    '           / Pixel scale for axis 1 (arcsec/unbinned pixel) \n",
        "PIXSCAL2= '0.15    '           / Pixel scale for axis 2 (arcsec/unbinned pixel) \n",
        "PIXSIZE1= '15.0    '           / Pixel size for axis 1 (microns)                \n",
        "PIXSIZE2= '15.0    '           / Pixel size for axis 2 (microns)                \n",
        "RDNOISE1= '6.3     '           / Read noise (electrons) for amp 1               \n",
        "RDNOISE2= '6.7     '           / Read noise (electrons) for amp 2               \n",
        "SITEELEV= '2510    '           / Altitude (meters)                              \n",
        "SITELAT = '32:24:59.3'         / Latitude (DD:MM:SS.S North)                    \n",
        "SITELONG= '110:44:04.3'        / Longitude (DD:MM:SS.S West)                    \n",
        "TELESCOP= 'bigelow-1.55m'      / Telescope name                                 \n",
        "TIME-OBS= '03:48:01.246'       / UTC at start of exposure                       \n",
        "TIMESYS = 'UTC     '           / Time system                                    \n",
        "TIMEZONE=                    7 / Local time zone                                \n",
        "TIMFILE = 'tim2_split.lod'     / Timing board DSP code filename                 \n",
        "UT      = '03:48:01.246'       / UTC at start of exposure                       \n",
        "UTC-OBS = '03:48:01.246'       / UTC at start of exposure                       \n",
        "UTILFILE= 'util2.lod'          / Utility board DSP code filename                \n",
        "VIDGAIN =                    5 / Video gain setting                             \n",
        "VIDSPEED=                    1 / Video speed setting                            \n",
        "ITL-HEAD= 'OK      '           / ITL Header flag                                \n",
        "N-AMPS-X=                    2 / Number of amplifiers in X                      \n",
        "N-AMPS-Y=                    1 / Number of amplifiers in Y                      \n",
        "N-DET-X =                    1 / Number of detectors in X                       \n",
        "N-DET-Y =                    1 / Number of detectors in Y                       \n",
        "NUM-AMPX=                    2 / Number of amplifiers in X                      \n",
        "NUM-AMPY=                    1 / Number of amplifiers in Y                      \n",
        "NUM-DETX=                    1 / Number of detectors in X                       \n",
        "NUM-DETY=                    1 / Number of detectors in Y                       \n",
        "REF-PIX1=                 2048 / Reference pixel 1                              \n",
        "REF-PIX2=                 2048 / Reference pixel 2                              \n",
        "SYS-MOD = 'Mont4k  '           / System module                                  \n",
        "CAMTEMP =               -116.0 / Camera temperature in C                        \n",
        "DEWTEMP =             -184.666 / Dewar temperature in C                         \n",
        "XTKCOEF =          2.600000E-4                                                  \n",
        "BUNIT   = 'ADU     '           / Physical unit of array values                  \n",
        "COMMENT Image                                                                   \n",
        "DETSIZE = '[1:4092,1:2049]'    / Detector size                                  \n",
        "CCDSIZE = '[1:4092,1:2049]'    / CCD size                                       \n",
        "AMPSEC  = '[0:4094,0:2048]'    / Amplifier section                              \n",
        "DETSEC  = '[0:4094,0:2048]'    / Detector section                               \n",
        "CCDSEC  = '[0:4094,0:2048]'    / CCD section                                    \n",
        "CCDSEC1 = '[1:682,1:683]'      / CCD section with binning                       \n",
        "OVRSCAN1=                   20 / Overscan on axis 1                             \n",
        "OVRSCAN2=                    0 / Overscan on axis 2                             \n",
        "PRESCAN1=                    0 / Underscan on axis 1                            \n",
        "PRESCAN2=                    0 / Underscan on axis 2                            \n",
        "ATM1_1  =                    1 / CCD to amplifier transformation                \n",
        "ATM2_2  =                    1 / CCD to amplifier transformation                \n",
        "ATV1    =                    0 / CCD to amplifier transformation                \n",
        "ATV2    =                    0 / CCD to amplifier transformation                \n",
        "LTM1_1  =    0.333333343267441 / CCD to image transformation                    \n",
        "LTM2_2  =    0.333333343267441 / CCD to image transformation                    \n",
        "LTV1    =    0.666666686534882 / CCD to image transformation                    \n",
        "LTV2    =    0.666666686534882 / CCD to image transformation                    \n",
        "DTM1_1  =                    1 / CCD to detector transformation                 \n",
        "DTM2_2  =                    1 / CCD to detector transformation                 \n",
        "DTV1    =                    0 / CCD to detector transformation                 \n",
        "DTV2    =                    0 / CCD to detector transformation                 \n",
        "COMMENT WCS                                                                     \n",
        "EQUINOX =                 2000 / Equinox of WCS                                 \n",
        "WCSDIM  =                    2 / WCS Dimensionality                             \n",
        "CTYPE1  = 'RA---TNX'           / Coordinate type                                \n",
        "CTYPE2  = 'DEC--TNX'           / Coordinate type                                \n",
        "CRPIX1  =     682.333353668451 / Coordinate reference pixel                     \n",
        "CRPIX2  =     342.000010192394 / Coordinate reference pixel                     \n",
        "CD1_1   =  1.49999995529652E-4 / Coordinate matrix                              \n",
        "CD2_2   =  1.49999995529652E-4 / Coordinate matrix                              \n",
        "AMP-CFG =                    0 / Amplifier configuration                        \n",
        "DET-NUM =                    1 / Detector number                                \n",
        "EXT-NUM =                    1 / Extension number                               \n",
        "JPG-EXT =                    1 / Image section                                  \n",
        "DET-POSX=                    1 / Detector position in X                         \n",
        "DET-POSY=                    1 / Detector position in Y                         \n",
        "AMP-POSX=                    1 / Amplifier position in X                        \n",
        "AMP-POSY=                    1 / Amplifier position in Y                        \n",
        "AMP-PIX1=                    1 / Amplifier pixel position in X                  \n",
        "AMP-PIX2=                    1 / Amplifier pixel position in Y                  \n",
        "CDELT1  =  1.49999995529652E-4                                                  \n",
        "CDELT2  =  1.49999995529652E-4                                                  \n",
        "WAT0_001= 'system=image'                                                        \n",
        "WAT1_001= 'wtype=tnx axtype=ra'                                                 \n",
        "WAT2_001= 'wtype=tnx axtype=dec'                                                \n",
        "TRIM    = '[1:682,1:683]'                                                       \n",
        "OVERSCAN= '[688:702,1:683]'                                                     \n",
        "OVSCMED1=             926.0311                                                  \n",
        "OVSCMED2=             919.9296                                                  \n",
        "                                                                                \n",
        "                                                                                \n",
        "                                                                                \n",
        "                                                                                \n",
        "                                                                                \n",
        "                                                                                \n",
        "                                                                                \n",
        "                                                                                \n",
        "                                                                                \n",
        "                                                                                \n",
        "                                                                                \n",
        "                                                                                \n",
        "                                                                                \n",
        "                                                                                \n",
        "                                                                                \n",
        "                                                                                \n",
        "                                                                                \n",
        "                                                                                \n",
        "                                                                                \n",
        "                                                                                \n",
        "                                                                                \n",
        "                                                                                \n",
        "                                                                                \n",
        "                                                                                \n",
        "                                                                                \n",
        "                                                                                "
       ]
      }
     ],
     "prompt_number": 7
    },
    {
     "cell_type": "code",
     "collapsed": false,
     "input": [
      "print hdr['DATE-OBS'] #observational date\n",
      "print hdr['loctime'] #date of local time that began the observation\n",
      "print hdr['time-obs'] #UTC at stat opf the exposure"
     ],
     "language": "python",
     "metadata": {},
     "outputs": [
      {
       "output_type": "stream",
       "stream": "stdout",
       "text": [
        "2012-01-05\n",
        "20:48:01\n",
        "03:48:01.246\n"
       ]
      }
     ],
     "prompt_number": 8
    },
    {
     "cell_type": "code",
     "collapsed": false,
     "input": [
      "hdr['date-obs']+'T'+hdr['time-obs'] #string that contain the time in UTC in isot format"
     ],
     "language": "python",
     "metadata": {},
     "outputs": [
      {
       "metadata": {},
       "output_type": "pyout",
       "prompt_number": 9,
       "text": [
        "'2012-01-05T03:48:01.246'"
       ]
      }
     ],
     "prompt_number": 9
    },
    {
     "cell_type": "code",
     "collapsed": false,
     "input": [
      "#Location info\n",
      "print hdr['sitelong'] #longitude W\n",
      "print hdr['sitelat'] #latitude N\n",
      "print hdr['siteelev'] #altitude in meters"
     ],
     "language": "python",
     "metadata": {},
     "outputs": [
      {
       "output_type": "stream",
       "stream": "stdout",
       "text": [
        "110:44:04.3\n",
        "32:24:59.3\n",
        "2510\n"
       ]
      }
     ],
     "prompt_number": 10
    },
    {
     "cell_type": "code",
     "collapsed": false,
     "input": [
      "import LatLon as latlon #library to convert lat, log string in numbers\n",
      "import string"
     ],
     "language": "python",
     "metadata": {},
     "outputs": [],
     "prompt_number": 25
    },
    {
     "cell_type": "code",
     "collapsed": false,
     "input": [
      "string.split(hdr['sitelat'],':')"
     ],
     "language": "python",
     "metadata": {},
     "outputs": [
      {
       "metadata": {},
       "output_type": "pyout",
       "prompt_number": 27,
       "text": [
        "['32', '24', '59.3']"
       ]
      }
     ],
     "prompt_number": 27
    },
    {
     "cell_type": "code",
     "collapsed": false,
     "input": [
      "range(len([1,2,3]))[1:]"
     ],
     "language": "python",
     "metadata": {},
     "outputs": [
      {
       "metadata": {},
       "output_type": "pyout",
       "prompt_number": 39,
       "text": [
        "[1, 2]"
       ]
      }
     ],
     "prompt_number": 39
    },
    {
     "cell_type": "code",
     "collapsed": false,
     "input": [
      "loc_obs = [hdr['sitelat']+':N',hdr['sitelong']+':W',hdr['siteelev']]\n",
      "for i in range(len(loc_obs)):\n",
      "    new_coord = string.split(loc_obs[i],':')\n",
      "    loc_obs[i] = new_coord[0]\n",
      "    for j in range(len(new_coord))[1:]:\n",
      "        loc_obs[i] = loc_obs[i]+' '+new_coord[j]\n",
      "print loc_obs"
     ],
     "language": "python",
     "metadata": {},
     "outputs": [
      {
       "output_type": "stream",
       "stream": "stdout",
       "text": [
        "['32 24 59.3 N', '110 44 04.3 W', '2510']\n"
       ]
      }
     ],
     "prompt_number": 40
    },
    {
     "cell_type": "code",
     "collapsed": false,
     "input": [
      "location_obs = latlon.string2latlon(loc_obs[0],loc_obs[1],'d% %m% %S% %H')"
     ],
     "language": "python",
     "metadata": {},
     "outputs": [],
     "prompt_number": 58
    },
    {
     "cell_type": "code",
     "collapsed": false,
     "input": [
      "location_obs"
     ],
     "language": "python",
     "metadata": {},
     "outputs": [
      {
       "metadata": {},
       "output_type": "pyout",
       "prompt_number": 59,
       "text": [
        "Latitude 32.4164722222, Longitude -110.734527778"
       ]
      }
     ],
     "prompt_number": 59
    },
    {
     "cell_type": "code",
     "collapsed": false,
     "input": [
      "print float(location_obs.lat),float(location_obs.lon)"
     ],
     "language": "python",
     "metadata": {},
     "outputs": [
      {
       "output_type": "stream",
       "stream": "stdout",
       "text": [
        "32.4164722222 -110.734527778\n"
       ]
      }
     ],
     "prompt_number": 60
    },
    {
     "cell_type": "code",
     "collapsed": false,
     "input": [
      "#Create the time object for our image\n",
      "tempo_loc = Time(hdr['date-obs']+'T'+hdr['time-obs'],scale='utc',format='isot',\n",
      "     location=(float(location_obs.lon),float(location_obs.lat)))"
     ],
     "language": "python",
     "metadata": {},
     "outputs": [],
     "prompt_number": 71
    },
    {
     "cell_type": "code",
     "collapsed": false,
     "input": [
      "print (float(location_obs.lon),float(location_obs.lat),float(loc_obs[2]))"
     ],
     "language": "python",
     "metadata": {},
     "outputs": [
      {
       "output_type": "stream",
       "stream": "stdout",
       "text": [
        "(-110.73452777777779, 32.41647222222222, 2510.0)\n"
       ]
      }
     ],
     "prompt_number": 72
    },
    {
     "cell_type": "code",
     "collapsed": false,
     "input": [
      "tempo_loc"
     ],
     "language": "python",
     "metadata": {},
     "outputs": [
      {
       "metadata": {},
       "output_type": "pyout",
       "prompt_number": 73,
       "text": [
        "<Time object: scale='utc' format='isot' value=2012-01-05T03:48:01.246>"
       ]
      }
     ],
     "prompt_number": 73
    },
    {
     "cell_type": "code",
     "collapsed": false,
     "input": [
      "tempo_loc.jd"
     ],
     "language": "python",
     "metadata": {},
     "outputs": [
      {
       "metadata": {},
       "output_type": "pyout",
       "prompt_number": 74,
       "text": [
        "2455931.6583477547"
       ]
      }
     ],
     "prompt_number": 74
    },
    {
     "cell_type": "code",
     "collapsed": false,
     "input": [
      "tempo_loc.sidereal_time('apparent')"
     ],
     "language": "python",
     "metadata": {},
     "outputs": [
      {
       "latex": [
        "$3^\\mathrm{h}21^\\mathrm{m}43.7021^\\mathrm{s}$"
       ],
       "metadata": {},
       "output_type": "pyout",
       "prompt_number": 75,
       "text": [
        "<Longitude 3.362139459298681 hourangle>"
       ]
      }
     ],
     "prompt_number": 75
    },
    {
     "cell_type": "code",
     "collapsed": false,
     "input": [
      "tempo_loc.sidereal_time('mean')"
     ],
     "language": "python",
     "metadata": {},
     "outputs": [
      {
       "latex": [
        "$3^\\mathrm{h}21^\\mathrm{m}42.6626^\\mathrm{s}$"
       ],
       "metadata": {},
       "output_type": "pyout",
       "prompt_number": 76,
       "text": [
        "<Longitude 3.3618507311705423 hourangle>"
       ]
      }
     ],
     "prompt_number": 76
    },
    {
     "cell_type": "code",
     "collapsed": false,
     "input": [
      "print tempo_loc.sidereal_time('apparent').hour"
     ],
     "language": "python",
     "metadata": {},
     "outputs": [
      {
       "output_type": "stream",
       "stream": "stdout",
       "text": [
        "3.3621394593\n"
       ]
      }
     ],
     "prompt_number": 79
    },
    {
     "cell_type": "code",
     "collapsed": false,
     "input": [
      "#teste 2012-01-05T03:48:01.246\n",
      "teste_iraf = Time('2012-01-05T03:48:01.25',scale='utc',format='isot',location=(float(location_obs.lon),float(location_obs.lat)))"
     ],
     "language": "python",
     "metadata": {},
     "outputs": [],
     "prompt_number": 98
    },
    {
     "cell_type": "code",
     "collapsed": false,
     "input": [
      "teste_iraf"
     ],
     "language": "python",
     "metadata": {},
     "outputs": [
      {
       "metadata": {},
       "output_type": "pyout",
       "prompt_number": 99,
       "text": [
        "<Time object: scale='utc' format='isot' value=2012-01-05T03:48:01.250>"
       ]
      }
     ],
     "prompt_number": 99
    },
    {
     "cell_type": "code",
     "collapsed": false,
     "input": [
      "teste_iraf.sidereal_time('apparent')"
     ],
     "language": "python",
     "metadata": {},
     "outputs": [
      {
       "latex": [
        "$3^\\mathrm{h}21^\\mathrm{m}43.7061^\\mathrm{s}$"
       ],
       "metadata": {},
       "output_type": "pyout",
       "prompt_number": 100,
       "text": [
        "<Longitude 3.362140573451952 hourangle>"
       ]
      }
     ],
     "prompt_number": 100
    },
    {
     "cell_type": "code",
     "collapsed": false,
     "input": [
      "teste_iraf.sidereal_time('mean')"
     ],
     "language": "python",
     "metadata": {},
     "outputs": [
      {
       "latex": [
        "$3^\\mathrm{h}21^\\mathrm{m}42.6666^\\mathrm{s}$"
       ],
       "metadata": {},
       "output_type": "pyout",
       "prompt_number": 101,
       "text": [
        "<Longitude 3.361851845323753 hourangle>"
       ]
      }
     ],
     "prompt_number": 101
    },
    {
     "cell_type": "code",
     "collapsed": false,
     "input": [
      "teste_iraf.jd"
     ],
     "language": "python",
     "metadata": {},
     "outputs": [
      {
       "metadata": {},
       "output_type": "pyout",
       "prompt_number": 102,
       "text": [
        "2455931.658347801"
       ]
      }
     ],
     "prompt_number": 102
    },
    {
     "cell_type": "code",
     "collapsed": false,
     "input": [
      "tempo_loc.jd"
     ],
     "language": "python",
     "metadata": {},
     "outputs": [
      {
       "metadata": {},
       "output_type": "pyout",
       "prompt_number": 103,
       "text": [
        "2455931.6583477547"
       ]
      }
     ],
     "prompt_number": 103
    },
    {
     "cell_type": "code",
     "collapsed": false,
     "input": [
      "hdr"
     ],
     "language": "python",
     "metadata": {},
     "outputs": [
      {
       "metadata": {},
       "output_type": "pyout",
       "prompt_number": 104,
       "text": [
        "SIMPLE  =                    T / Fits standard                                  \n",
        "BITPIX  =                  -32 / Bits per pixel                                 \n",
        "NAXIS   =                    2 / Number of axes                                 \n",
        "NAXIS1  =                 1365 / Axis length                                    \n",
        "NAXIS2  =                  683 / Axis length                                    \n",
        "EXTEND  =                    F / File may contain extensions                    \n",
        "ORIGIN  = 'NOAO-IRAF FITS Image Kernel July 2003' / FITS file originator        \n",
        "DATE    = '2012-01-05T03:49:14' / Date FITS file was generated                  \n",
        "IRAF-TLM= '2013-02-23T07:13:37' / Time of last modification                     \n",
        "OBJECT  = 'XO-2b   '           / Name of the object observed                    \n",
        "CCDSUM  = '3 3     '           / CCD pixel summing                              \n",
        "CCDBIN1 =                    3 / Binning factor along axis 1                    \n",
        "CCDBIN2 =                    3 / Binning factor along axis 2                    \n",
        "FILENAME= 'XO2b.0001.fits'     / base filename at acquisition                   \n",
        "NCCDS   =                    1 / Number of CCDs                                 \n",
        "NAMPS   =                    2 / Number of amplifiers                           \n",
        "DARKCUR = '0.0     '           / Average dark current (e-/pixel/hour)           \n",
        "DARKTIME=               60.157 / Dark time (seconds)                            \n",
        "DATE-OBS= '2012-01-05'         / UTC shutter opened                             \n",
        "DETECTOR= 'mont4k sn3088'      / Detector name                                  \n",
        "DETGAIN =                    5 / Video gain setting                             \n",
        "EXPREQ  =                 60.0 / Exposure time requested (seconds)              \n",
        "EXPTIME =                 60.0 / Exposure time (seconds)                        \n",
        "GAIN1   = '3.14    '           / Conversion gain (e-/DN) for amp 1              \n",
        "GAIN2   = '3.08    '           / Conversion gain (e-/DN) for amp 2              \n",
        "IMAGETYP= 'object  '           / Image type                                     \n",
        "INSTRUME= 'mont4k  '           / Instrument name                                \n",
        "LOCTIME = '20:48:01'           / Local time at start of exposure                \n",
        "OBSERVAT= 'mtbigelow'          / Observatory                                    \n",
        "OBSERVER= 'Turner  '                                                            \n",
        "PCIFILE = 'pci2.lod'           / PCI board DSP code filename                    \n",
        "PIXSCAL1= '0.15    '           / Pixel scale for axis 1 (arcsec/unbinned pixel) \n",
        "PIXSCAL2= '0.15    '           / Pixel scale for axis 2 (arcsec/unbinned pixel) \n",
        "PIXSIZE1= '15.0    '           / Pixel size for axis 1 (microns)                \n",
        "PIXSIZE2= '15.0    '           / Pixel size for axis 2 (microns)                \n",
        "RDNOISE1= '6.3     '           / Read noise (electrons) for amp 1               \n",
        "RDNOISE2= '6.7     '           / Read noise (electrons) for amp 2               \n",
        "SITEELEV= '2510    '           / Altitude (meters)                              \n",
        "SITELAT = '32:24:59.3'         / Latitude (DD:MM:SS.S North)                    \n",
        "SITELONG= '110:44:04.3'        / Longitude (DD:MM:SS.S West)                    \n",
        "TELESCOP= 'bigelow-1.55m'      / Telescope name                                 \n",
        "TIME-OBS= '03:48:01.246'       / UTC at start of exposure                       \n",
        "TIMESYS = 'UTC     '           / Time system                                    \n",
        "TIMEZONE=                    7 / Local time zone                                \n",
        "TIMFILE = 'tim2_split.lod'     / Timing board DSP code filename                 \n",
        "UT      = '03:48:01.246'       / UTC at start of exposure                       \n",
        "UTC-OBS = '03:48:01.246'       / UTC at start of exposure                       \n",
        "UTILFILE= 'util2.lod'          / Utility board DSP code filename                \n",
        "VIDGAIN =                    5 / Video gain setting                             \n",
        "VIDSPEED=                    1 / Video speed setting                            \n",
        "ITL-HEAD= 'OK      '           / ITL Header flag                                \n",
        "N-AMPS-X=                    2 / Number of amplifiers in X                      \n",
        "N-AMPS-Y=                    1 / Number of amplifiers in Y                      \n",
        "N-DET-X =                    1 / Number of detectors in X                       \n",
        "N-DET-Y =                    1 / Number of detectors in Y                       \n",
        "NUM-AMPX=                    2 / Number of amplifiers in X                      \n",
        "NUM-AMPY=                    1 / Number of amplifiers in Y                      \n",
        "NUM-DETX=                    1 / Number of detectors in X                       \n",
        "NUM-DETY=                    1 / Number of detectors in Y                       \n",
        "REF-PIX1=                 2048 / Reference pixel 1                              \n",
        "REF-PIX2=                 2048 / Reference pixel 2                              \n",
        "SYS-MOD = 'Mont4k  '           / System module                                  \n",
        "CAMTEMP =               -116.0 / Camera temperature in C                        \n",
        "DEWTEMP =             -184.666 / Dewar temperature in C                         \n",
        "XTKCOEF =          2.600000E-4                                                  \n",
        "BUNIT   = 'ADU     '           / Physical unit of array values                  \n",
        "COMMENT Image                                                                   \n",
        "DETSIZE = '[1:4092,1:2049]'    / Detector size                                  \n",
        "CCDSIZE = '[1:4092,1:2049]'    / CCD size                                       \n",
        "AMPSEC  = '[0:4094,0:2048]'    / Amplifier section                              \n",
        "DETSEC  = '[0:4094,0:2048]'    / Detector section                               \n",
        "CCDSEC  = '[0:4094,0:2048]'    / CCD section                                    \n",
        "CCDSEC1 = '[1:682,1:683]'      / CCD section with binning                       \n",
        "OVRSCAN1=                   20 / Overscan on axis 1                             \n",
        "OVRSCAN2=                    0 / Overscan on axis 2                             \n",
        "PRESCAN1=                    0 / Underscan on axis 1                            \n",
        "PRESCAN2=                    0 / Underscan on axis 2                            \n",
        "ATM1_1  =                    1 / CCD to amplifier transformation                \n",
        "ATM2_2  =                    1 / CCD to amplifier transformation                \n",
        "ATV1    =                    0 / CCD to amplifier transformation                \n",
        "ATV2    =                    0 / CCD to amplifier transformation                \n",
        "LTM1_1  =    0.333333343267441 / CCD to image transformation                    \n",
        "LTM2_2  =    0.333333343267441 / CCD to image transformation                    \n",
        "LTV1    =    0.666666686534882 / CCD to image transformation                    \n",
        "LTV2    =    0.666666686534882 / CCD to image transformation                    \n",
        "DTM1_1  =                    1 / CCD to detector transformation                 \n",
        "DTM2_2  =                    1 / CCD to detector transformation                 \n",
        "DTV1    =                    0 / CCD to detector transformation                 \n",
        "DTV2    =                    0 / CCD to detector transformation                 \n",
        "COMMENT WCS                                                                     \n",
        "EQUINOX =                 2000 / Equinox of WCS                                 \n",
        "WCSDIM  =                    2 / WCS Dimensionality                             \n",
        "CTYPE1  = 'RA---TNX'           / Coordinate type                                \n",
        "CTYPE2  = 'DEC--TNX'           / Coordinate type                                \n",
        "CRPIX1  =     682.333353668451 / Coordinate reference pixel                     \n",
        "CRPIX2  =     342.000010192394 / Coordinate reference pixel                     \n",
        "CD1_1   =  1.49999995529652E-4 / Coordinate matrix                              \n",
        "CD2_2   =  1.49999995529652E-4 / Coordinate matrix                              \n",
        "AMP-CFG =                    0 / Amplifier configuration                        \n",
        "DET-NUM =                    1 / Detector number                                \n",
        "EXT-NUM =                    1 / Extension number                               \n",
        "JPG-EXT =                    1 / Image section                                  \n",
        "DET-POSX=                    1 / Detector position in X                         \n",
        "DET-POSY=                    1 / Detector position in Y                         \n",
        "AMP-POSX=                    1 / Amplifier position in X                        \n",
        "AMP-POSY=                    1 / Amplifier position in Y                        \n",
        "AMP-PIX1=                    1 / Amplifier pixel position in X                  \n",
        "AMP-PIX2=                    1 / Amplifier pixel position in Y                  \n",
        "CDELT1  =  1.49999995529652E-4                                                  \n",
        "CDELT2  =  1.49999995529652E-4                                                  \n",
        "WAT0_001= 'system=image'                                                        \n",
        "WAT1_001= 'wtype=tnx axtype=ra'                                                 \n",
        "WAT2_001= 'wtype=tnx axtype=dec'                                                \n",
        "TRIM    = '[1:682,1:683]'                                                       \n",
        "OVERSCAN= '[688:702,1:683]'                                                     \n",
        "OVSCMED1=             926.0311                                                  \n",
        "OVSCMED2=             919.9296                                                  \n",
        "                                                                                \n",
        "                                                                                \n",
        "                                                                                \n",
        "                                                                                \n",
        "                                                                                \n",
        "                                                                                \n",
        "                                                                                \n",
        "                                                                                \n",
        "                                                                                \n",
        "                                                                                \n",
        "                                                                                \n",
        "                                                                                \n",
        "                                                                                \n",
        "                                                                                \n",
        "                                                                                \n",
        "                                                                                \n",
        "                                                                                \n",
        "                                                                                \n",
        "                                                                                \n",
        "                                                                                \n",
        "                                                                                \n",
        "                                                                                \n",
        "                                                                                \n",
        "                                                                                \n",
        "                                                                                \n",
        "                                                                                "
       ]
      }
     ],
     "prompt_number": 104
    },
    {
     "cell_type": "code",
     "collapsed": false,
     "input": [],
     "language": "python",
     "metadata": {},
     "outputs": []
    }
   ],
   "metadata": {}
  }
 ]
}