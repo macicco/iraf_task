{
 "cells": [
  {
   "cell_type": "code",
   "execution_count": 1,
   "metadata": {
    "collapsed": false
   },
   "outputs": [
    {
     "name": "stdout",
     "output_type": "stream",
     "text": [
      "\n",
      " Including time information in the header \n",
      "\n",
      "\n",
      " Loading packages .... \n",
      "\n",
      "\n",
      "\n",
      "      +------------------------------------------------------------+\n",
      "      |       Space Telescope Science Data Analysis System         |    \n",
      "      |                   STSDAS Version 3.17                      |\n",
      "      |                                                            |\n",
      "      |   Space Telescope Science Institute, Baltimore, Maryland   |\n",
      "      |   Copyright (C) 2014 Association of Universities for       |\n",
      "      |            Research in Astronomy, Inc.(AURA)               |\n",
      "      |       See stsdas$copyright.stsdas for terms of use.        |\n",
      "      |         For help, send e-mail to help@stsci.edu            |\n",
      "      |                                                            |\n",
      "      +------------------------------------------------------------+\n",
      "stsdas/:\n",
      " analysis/      examples        hst_calib/      sobsolete/\n",
      " contrib/       fitsio/         playpen/        toolbox/\n",
      " describe       graphics/       problems\n",
      "imred/:\n",
      " argus/         ctioslit/       hydra/          kpnocoude/      vtel/\n",
      " bias/          dtoi/           iids/           kpnoslit/\n",
      " ccdred/        echelle/        irred/          quadred/\n",
      " crutil/        generic/        irs/            specred/\n",
      "ccdred/:\n",
      " badpiximage    ccdlist         combine         mkillumcor      setinstrument\n",
      " ccdgroups      ccdmask         darkcombine     mkillumflat     zerocombine\n",
      " ccdhedit       ccdproc         flatcombine     mkskycor\n",
      " ccdinstrument  ccdtest         mkfringecor     mkskyflat\n",
      "crutil/:\n",
      " cosmicrays     crcombine       crfix           crmedian\n",
      " craverage      credit          crgrow          crnebula\n",
      "\n",
      ".... Done.\n"
     ]
    }
   ],
   "source": [
    "\"\"\"\n",
    "Created on Sun Feb 14 21:01:54 2016\n",
    "\n",
    "@author: Walter Martins-Filho\n",
    "e-mail: walter at on.br\n",
    "        waltersmartinsf at gmail.com\n",
    "\"\"\"\n",
    "#******************************************************************************\n",
    "#Main Goal: include the time_info in the header of the images.\n",
    "#******************************************************************************\n",
    "\n",
    "print '\\n Including time information in the header \\n'\n",
    "print '\\n Loading packages .... \\n'\n",
    "\n",
    "from pyraf import iraf #IRAF\n",
    "from login import * #IRAF configurations\n",
    "from astropy.io import fits #import and export fits images\n",
    "import glob #package for list files\n",
    "import os #package for control bash commands\n",
    "import useful_functions as use #useful functions\n",
    "import yaml #input data without any trouble\n",
    "from string import split #use to unconcanated a string in parts\n",
    "from pandas import DataFrame, read_csv #work with dataframes\n",
    "from photutils import CircularAperture, aperture_photometry,CircularAnnulus,Background #Photometry routines \n",
    "from astropy.table import hstack\n",
    "from astropy.io.misc import fnpickle, fnunpickle\n",
    "import numpy as np\n",
    "from scipy import array\n",
    "print '\\n.... Done.'"
   ]
  },
  {
   "cell_type": "code",
   "execution_count": 2,
   "metadata": {
    "collapsed": true
   },
   "outputs": [],
   "source": [
    "import time"
   ]
  },
  {
   "cell_type": "code",
   "execution_count": 3,
   "metadata": {
    "collapsed": true
   },
   "outputs": [],
   "source": [
    "%matplotlib inline\n",
    "import pylab\n",
    "\n",
    "import matplotlib.pyplot as plt #plot library\n",
    "def init_plotting():\n",
    "    \"\"\"\n",
    "    Funcao para definir uma janela grafica com parametros customizados para aptresentacoes em ppt ou latex.\n",
    "    \"\"\"\n",
    "    plt.rcParams['figure.figsize'] = (14.0,8.0)\n",
    "    plt.rcParams['font.size'] = 20\n",
    "    #plt.rcParams['font.family'] = 'Times New Roman'\n",
    "    plt.rcParams['axes.labelsize'] = plt.rcParams['font.size']\n",
    "    plt.rcParams['axes.titlesize'] = 0.75*plt.rcParams['font.size']\n",
    "    plt.rcParams['legend.fontsize'] = 0.65*plt.rcParams['font.size']\n",
    "    plt.rcParams['xtick.labelsize'] = plt.rcParams['font.size']\n",
    "    plt.rcParams['ytick.labelsize'] = plt.rcParams['font.size']\n",
    "    plt.rcParams['xtick.major.size'] = 3\n",
    "    plt.rcParams['xtick.minor.size'] = 3\n",
    "    plt.rcParams['xtick.major.width'] = 1\n",
    "    plt.rcParams['xtick.minor.width'] = 1\n",
    "    plt.rcParams['ytick.major.size'] = 3\n",
    "    plt.rcParams['ytick.minor.size'] = 3\n",
    "    plt.rcParams['ytick.major.width'] = 1\n",
    "    plt.rcParams['ytick.minor.width'] = 1\n",
    "    plt.rcParams['legend.frameon'] = True\n",
    "    plt.rcParams['legend.loc'] = 'best'\n",
    "    plt.rcParams['axes.linewidth'] = 1\n",
    "\n",
    "init_plotting()"
   ]
  },
  {
   "cell_type": "code",
   "execution_count": 4,
   "metadata": {
    "collapsed": false
   },
   "outputs": [
    {
     "name": "stdout",
     "output_type": "stream",
     "text": [
      "/home/walter/github/iraf_task\n"
     ]
    }
   ],
   "source": [
    "cd /home/walter/github/iraf_task/"
   ]
  },
  {
   "cell_type": "code",
   "execution_count": 5,
   "metadata": {
    "collapsed": false
   },
   "outputs": [
    {
     "name": "stdout",
     "output_type": "stream",
     "text": [
      "\n",
      "Reading input*.yaml file ....\n",
      "\n",
      "reading input file ... \n",
      "\n",
      "....  done! \n",
      "\n",
      "YAML information:\n",
      "{'u.DEC': 'degree', 'frame': 'fk5', 'data_path': '/home/walter/exoplanet/data/xo2b/xo2b.b', 'lat-obs': 32.4164722222, 'observatory': 'mtbigelow', 'circular_orbit': False, 'gain': 3.19, 'skysection': [526, 81], 'lon-obs': -110.734527778, 'DEC': '+50:13:32.9', 'apertures': [7, 14], 'pxpositions': [582.79, 581.76, 559.06, 512.4], 'u.RA': 'degree', 'altitude': 2510.0, 'time-obs': 'UT', 'time_zone': 7.0, 'date-obs': 'DATE-OBS', 'epoch': '2000.0', 'RA': '07:48:06.46', 'save_path': '/home/walter/exoplanet/data/xo2b/xo2b.b/iraf_task', 'time': 'ut', 'exoplanet': 'xo2b', 'scale-time': 'utc'}\n"
     ]
    }
   ],
   "source": [
    "#input data\n",
    "print '\\nReading input*.yaml file ....\\n'\n",
    "#******************************************************************************\n",
    "#**************** BEGIN INPUT PATH FILE ***************************************\n",
    "#******************************************************************************\n",
    "#path for your data directory, path for your data save, and names for the lists\n",
    "#Import with yaml file: input path and prefix information for files\n",
    "input_file = glob.glob('input*.yaml')\n",
    "if input_file:\n",
    "    if len(input_file) == 1:\n",
    "        print 'reading input file ... \\n'\n",
    "        file = yaml.load(open(input_file[0])) #creating our dictionary of input variables\n",
    "        data_path = file['data_path']\n",
    "        save_path = file['save_path']\n",
    "        planet = file['exoplanet']\n",
    "        print '....  done! \\n'\n",
    "    if len(input_file) > 1:\n",
    "        print 'reading input file ... \\n'\n",
    "        print '.... there is more than 1 input_path*.yaml.\\n \\nPlease, remove the others files that you do not need. \\n'\n",
    "        raise SystemExit\n",
    "else:\n",
    "    print 'There is no input_path*.yaml. \\nPlease, create a input file describe in INPUT_PARAMETERS.'\n",
    "    raise SystemExit\n",
    "#******************************************************************************\n",
    "#******************* END INPUT PATH FILE **************************************\n",
    "#******************************************************************************\n",
    "\n",
    "\n",
    "print 'YAML information:'\n",
    "input_file = file\n",
    "print input_file"
   ]
  },
  {
   "cell_type": "code",
   "execution_count": 6,
   "metadata": {
    "collapsed": true
   },
   "outputs": [],
   "source": [
    "os.chdir(save_path)"
   ]
  },
  {
   "cell_type": "code",
   "execution_count": 7,
   "metadata": {
    "collapsed": false,
    "scrolled": false
   },
   "outputs": [
    {
     "name": "stdout",
     "output_type": "stream",
     "text": [
      "ABxo2b.0002.fits  ABxo2b.0096.fits  ABxo2b.0190.fits\r\n",
      "ABxo2b.0004.fits  ABxo2b.0098.fits  ABxo2b.0192.fits\r\n",
      "ABxo2b.0006.fits  ABxo2b.0100.fits  ABxo2b.0194.fits\r\n",
      "ABxo2b.0008.fits  ABxo2b.0102.fits  ABxo2b.0196.fits\r\n",
      "ABxo2b.0010.fits  ABxo2b.0104.fits  ABxo2b.0198.fits\r\n",
      "ABxo2b.0012.fits  ABxo2b.0106.fits  ABxo2b.0200.fits\r\n",
      "ABxo2b.0014.fits  ABxo2b.0108.fits  ABxo2b.0202.fits\r\n",
      "ABxo2b.0016.fits  ABxo2b.0110.fits  ABxo2b.0204.fits\r\n",
      "ABxo2b.0018.fits  ABxo2b.0112.fits  ABxo2b.0206.fits\r\n",
      "ABxo2b.0020.fits  ABxo2b.0114.fits  ABxo2b.0208.fits\r\n",
      "ABxo2b.0022.fits  ABxo2b.0116.fits  ABxo2b.0210.fits\r\n",
      "ABxo2b.0024.fits  ABxo2b.0118.fits  ABxo2b.0212.fits\r\n",
      "ABxo2b.0026.fits  ABxo2b.0120.fits  ABxo2b.0214.fits\r\n",
      "ABxo2b.0028.fits  ABxo2b.0122.fits  ABxo2b.0216.fits\r\n",
      "ABxo2b.0030.fits  ABxo2b.0124.fits  ABxo2b.0218.fits\r\n",
      "ABxo2b.0032.fits  ABxo2b.0126.fits  ABxo2b.0220.fits\r\n",
      "ABxo2b.0034.fits  ABxo2b.0128.fits  ABxo2b.0222.fits\r\n",
      "ABxo2b.0036.fits  ABxo2b.0130.fits  ABxo2b.0224.fits\r\n",
      "ABxo2b.0038.fits  ABxo2b.0132.fits  ABxo2b.0226.fits\r\n",
      "ABxo2b.0040.fits  ABxo2b.0134.fits  ABxo2b.0228.fits\r\n",
      "ABxo2b.0042.fits  ABxo2b.0136.fits  ABxo2b.0230.fits\r\n",
      "ABxo2b.0044.fits  ABxo2b.0138.fits  ABxo2b.0232.fits\r\n",
      "ABxo2b.0046.fits  ABxo2b.0140.fits  ABxo2b.0234.fits\r\n",
      "ABxo2b.0048.fits  ABxo2b.0142.fits  ABxo2b.0236.fits\r\n",
      "ABxo2b.0050.fits  ABxo2b.0144.fits  ABxo2b.0238.fits\r\n",
      "ABxo2b.0052.fits  ABxo2b.0146.fits  ABxo2b.0240.fits\r\n",
      "ABxo2b.0054.fits  ABxo2b.0148.fits  ABxo2b.0242.fits\r\n",
      "ABxo2b.0056.fits  ABxo2b.0150.fits  ABxo2b.0244.fits\r\n",
      "ABxo2b.0058.fits  ABxo2b.0152.fits  ABxo2b.0246.fits\r\n",
      "ABxo2b.0060.fits  ABxo2b.0154.fits  ABxo2b.0248.fits\r\n",
      "ABxo2b.0062.fits  ABxo2b.0156.fits  ABxo2b.0250.fits\r\n",
      "ABxo2b.0064.fits  ABxo2b.0158.fits  ABxo2b.0252.fits\r\n",
      "ABxo2b.0066.fits  ABxo2b.0160.fits  ABxo2b.0254.fits\r\n",
      "ABxo2b.0068.fits  ABxo2b.0162.fits  ABxo2b.0256.fits\r\n",
      "ABxo2b.0070.fits  ABxo2b.0164.fits  ABxo2b.0258.fits\r\n",
      "ABxo2b.0072.fits  ABxo2b.0166.fits  ABxo2b.0260.fits\r\n",
      "ABxo2b.0074.fits  ABxo2b.0168.fits  ABxo2b.0262.fits\r\n",
      "ABxo2b.0076.fits  ABxo2b.0170.fits  ABxo2b.0264.fits\r\n",
      "ABxo2b.0078.fits  ABxo2b.0172.fits  ABxo2b.0266.fits\r\n",
      "ABxo2b.0080.fits  ABxo2b.0174.fits  \u001b[0m\u001b[01;34mbackground\u001b[0m/\r\n",
      "ABxo2b.0082.fits  ABxo2b.0176.fits  \u001b[01;34mphot_results\u001b[0m/\r\n",
      "ABxo2b.0084.fits  ABxo2b.0178.fits  \u001b[01;35mraw_data.png\u001b[0m\r\n",
      "ABxo2b.0086.fits  ABxo2b.0180.fits  results.csv\r\n",
      "ABxo2b.0088.fits  ABxo2b.0182.fits  results_iraf_calibrations.csv\r\n",
      "ABxo2b.0090.fits  ABxo2b.0184.fits  superbias.fits\r\n",
      "ABxo2b.0092.fits  ABxo2b.0186.fits  superflat.fits\r\n",
      "ABxo2b.0094.fits  ABxo2b.0188.fits\r\n"
     ]
    }
   ],
   "source": [
    "ls"
   ]
  },
  {
   "cell_type": "code",
   "execution_count": 8,
   "metadata": {
    "collapsed": true
   },
   "outputs": [],
   "source": [
    "def bkg_info(data_path,save_path,input_file):\n",
    "    \"\"\"\n",
    "    Obtain the sky backgound for each science image.\n",
    "    \n",
    "    More in: http://photutils.readthedocs.io/en/latest/api/photutils.background.Background.html#photutils.background.Background\n",
    "    \n",
    "    WARNING:\n",
    "    \n",
    "    This routine only need to be run one time for the same set of images.\n",
    "    ___\n",
    "    \n",
    "\n",
    "    INPUT:\n",
    "    For obtain this parameters, use the input_info function.\n",
    "\n",
    "    data_path: string, path where are the images data.\n",
    "    save_path: string, path where will save all reduced images.\n",
    "    input_file: dict, with information describe in the YAML file.\n",
    "    \"\"\"\n",
    "    #set the original directory\n",
    "    original_path = os.getcwd()\n",
    "    os.chdir(save_path)\n",
    "    planet = input_file['exoplanet']\n",
    "    tempo = time.time()\n",
    "    print 'Obtain background data for each image ... \\n'\n",
    "    if not os.path.exists('background'): #if background does not exist, create!\n",
    "        os.makedirs('background')\n",
    "    \n",
    "    images = sorted(glob.glob('AB'+planet+'*.fits'))\n",
    "    #if background exist, check if files bkg_data_image_name_.pik exist\n",
    "    #if not exist, then create, else: get out of here! XD\n",
    "    if os.path.exists('background') == True : \n",
    "        value = [] \n",
    "        for i in images:\n",
    "            value.append(os.path.isfile('./background/'+'bkg_data_'+i+'_.pik'))\n",
    "    if (False in value) == True:\n",
    "        print 'Does not exist all files to all images in the sample.'\n",
    "        print 'Calculating ...'\n",
    "        print 'This will take some time... go drink some coffe'\n",
    "        print ' while you wait for the routine finish \\n'\n",
    "        for i in images:\n",
    "            im = fits.getdata(i,header=False)\n",
    "            im = np.array(im,dtype='Float64')\n",
    "            bkg = Background(im,tuple(input_file['skysection'])) #estimating the background using a boxpixel\n",
    "            fnpickle(bkg,'./background/'+'bkg_data_'+i+'_.pik')\n",
    "            use.update_progress((float(images.index(i))+1.)/len(images))\n",
    "    else:\n",
    "        print 'The sky background files *.pik exist. \\n'\n",
    "    print 'Sky backgound obtained.'\n",
    "    print 'Total time = ',abs(time.time()-tempo)/60.,' minutes'\n",
    "    os.chdir(original_path)\n",
    "    return "
   ]
  },
  {
   "cell_type": "code",
   "execution_count": 9,
   "metadata": {
    "collapsed": false
   },
   "outputs": [
    {
     "name": "stdout",
     "output_type": "stream",
     "text": [
      "Obtain background data for each image ... \n",
      "\n",
      "The sky background files *.pik exist. \n",
      "\n",
      "Sky backgound obtained.\n",
      "Total time =  0.000246600310008  minutes\n"
     ]
    }
   ],
   "source": [
    "bkg_info(data_path,save_path,input_file)"
   ]
  },
  {
   "cell_type": "code",
   "execution_count": 10,
   "metadata": {
    "collapsed": true
   },
   "outputs": [],
   "source": [
    "# from numba import jit"
   ]
  },
  {
   "cell_type": "code",
   "execution_count": 11,
   "metadata": {
    "collapsed": true
   },
   "outputs": [],
   "source": [
    "def bkg_read(data_path,save_path, input_file):\n",
    "    \"\"\"\n",
    "    Read the sky backgound files obtained by bkg_info routine and return the background mask and noise data.\n",
    "    \"\"\"\n",
    "    #set the original directory\n",
    "    tempo = time.time()\n",
    "    original_path = os.getcwd()\n",
    "    planet = input_file['exoplanet']\n",
    "    #change to save data reduction directory\n",
    "    os.chdir(save_path)\n",
    "    print 'Reading sky backgound files ...'\n",
    "    images = sorted(glob.glob('AB'+planet+'*.fits'))\n",
    "    bkg_data = []\n",
    "    bkg_rms = []\n",
    "    for i in range(len(images)):\n",
    "        bkg = fnunpickle('./background/'+'bkg_data_'+images[i]+'_.pik')\n",
    "        bkg_data.append(bkg.background)\n",
    "        bkg_rms.append(bkg.background_rms)\n",
    "        use.update_progress((i+1.)/len(images))\n",
    "    os.chdir(original_path)\n",
    "    print 'total time = ',abs(time.time()-tempo)/60.\n",
    "    return bkg_data, bkg_rms"
   ]
  },
  {
   "cell_type": "code",
   "execution_count": 12,
   "metadata": {
    "collapsed": false
   },
   "outputs": [
    {
     "name": "stdout",
     "output_type": "stream",
     "text": [
      "Reading sky backgound files ...\n",
      "Percent: [##########] 100% Done...\n",
      "total time =  3.78022879759\n"
     ]
    }
   ],
   "source": [
    "bkg_data, bkg_rms = bkg_read(data_path,save_path, input_file)"
   ]
  },
  {
   "cell_type": "code",
   "execution_count": 13,
   "metadata": {
    "collapsed": true
   },
   "outputs": [],
   "source": [
    "def phot_aperture(data_path,save_path,input_file,bkg_data,bkg_rms):\n",
    "    \"\"\"\n",
    "    Obtain the aperture photometry to the list of apertures in the input_file dictionary.\n",
    "    ___\n",
    "    INPUT:\n",
    "    For obtain this parameters, use the input_info function.\n",
    "\n",
    "    data_path: string, path where are the images data.\n",
    "    save_path: string, path where will save all reduced images.\n",
    "    input_file: dict, with information describe in the YAML file.\n",
    "    bkg_data: sky background mask from bkg_info routine\n",
    "    bkg_rms: sky background noise from bkg_info routine\n",
    "\n",
    "    \"\"\"\n",
    "    #set the original directory\n",
    "    original_path = os.getcwd()\n",
    "    planet = input_file['exoplanet']\n",
    "    radii = np.arange(input_file['apertures'][0],input_file['apertures'][1],0.1)\n",
    "    #change to save data reduction directory\n",
    "    os.chdir(save_path)\n",
    "    if not os.path.exists('phot_results'):\n",
    "        os.makedirs('phot_results')\n",
    "    tempo = time.time()\n",
    "    print 'Starting aperture photometry'\n",
    "    print 'Saving results on: '+save_path+'/phot_results/'\n",
    "    #check the number of objects to make the photometry\n",
    "    N_obj = len(input_file['pxpositions'])/2.\n",
    "    print 'Number of objects = ',N_obj\n",
    "    positions = [] #create the positions variable (X,Y) in pixels unit on the CCD\n",
    "    for i in range(len(input_file['pxpositions'])):\n",
    "        if i % 2 == 0: #if the number is a even (or not a odd), the turple is created\n",
    "            positions.append((input_file['pxpositions'][i],input_file['pxpositions'][i+1]))\n",
    "    print 'Radius from ',radii[0],' to ',radii[-1],'\\n'\n",
    "    images = sorted(glob.glob('AB'+planet+'*.fits'))\n",
    "    for radius in radii:\n",
    "        flux_data = []\n",
    "        for i in range(len(images)):\n",
    "            im = fits.getdata(images[i],header=False)\n",
    "            im = array(im,dtype='Float64')\n",
    "            phot_table = aperture_photometry(im - bkg_data[i], CircularAperture(positions, radius),\n",
    "                                             error=bkg_rms[i], effective_gain=float(input_file['gain']))\n",
    "            flux = [phot_table['aperture_sum'][0], phot_table['aperture_sum'][1],phot_table['aperture_sum_err'][0],\n",
    "                    phot_table['aperture_sum_err'][1],images[i]]\n",
    "            flux_data.append(flux)\n",
    "        flux_data = DataFrame(flux_data,columns=['hoststar','refstar','hoststar_err','refstar_err','image'])\n",
    "        flux_data.to_csv('./phot_results/'+planet+'_flux_radius_'+str(radius)+'.csv')\n",
    "        use.update_progress((float(np.where(radii == radius)[0])+1.)/len(radii))\n",
    "    print 'Time total = ',abs(time.time()-tempo)/60.,' minutes'\n",
    "    os.chdir(original_path)"
   ]
  },
  {
   "cell_type": "code",
   "execution_count": 14,
   "metadata": {
    "collapsed": false
   },
   "outputs": [
    {
     "name": "stdout",
     "output_type": "stream",
     "text": [
      "Starting aperture photometry\n",
      "Saving results on: /home/walter/exoplanet/data/xo2b/xo2b.b/iraf_task/phot_results/\n",
      "Number of objects =  2.0\n",
      "Radius from  7.0  to  13.9 \n",
      "\n",
      "Percent: [##########] 100% Done...\n",
      "Time total =  3.45870695114  minutes\n"
     ]
    }
   ],
   "source": [
    "phot_aperture(data_path,save_path,input_file,bkg_data,bkg_rms)"
   ]
  },
  {
   "cell_type": "code",
   "execution_count": null,
   "metadata": {
    "collapsed": true
   },
   "outputs": [],
   "source": []
  }
 ],
 "metadata": {
  "kernelspec": {
   "display_name": "Python 2",
   "language": "python",
   "name": "python2"
  },
  "language_info": {
   "codemirror_mode": {
    "name": "ipython",
    "version": 2
   },
   "file_extension": ".py",
   "mimetype": "text/x-python",
   "name": "python",
   "nbconvert_exporter": "python",
   "pygments_lexer": "ipython2",
   "version": "2.7.11"
  }
 },
 "nbformat": 4,
 "nbformat_minor": 0
}
