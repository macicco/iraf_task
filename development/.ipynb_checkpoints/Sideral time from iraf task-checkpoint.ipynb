{
 "metadata": {
  "name": "",
  "signature": "sha256:854876e83cf7c4e5e2e59065fd6827cab063cbb7ec45f1563ad85651b8c59dfc"
 },
 "nbformat": 3,
 "nbformat_minor": 0,
 "worksheets": []
}