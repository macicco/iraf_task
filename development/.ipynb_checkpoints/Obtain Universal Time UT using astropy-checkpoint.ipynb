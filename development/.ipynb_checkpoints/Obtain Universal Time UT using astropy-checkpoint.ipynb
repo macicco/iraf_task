{
 "cells": [
  {
   "cell_type": "code",
   "execution_count": 1,
   "metadata": {
    "collapsed": true
   },
   "outputs": [],
   "source": [
    "#Goal: obtain a universal time, in Julian Date from a local time in the header of the fits images\n",
    "\n",
    "from astropy.io import fits #work with fits images\n",
    "from astropy.time import Time #work with time in header\n",
    "import glob #work with files in the directory\n",
    "import yaml #work with yaml files\n",
    "import numpy as np\n",
    "import sys\n",
    "import os"
   ]
  },
  {
   "cell_type": "code",
   "execution_count": 2,
   "metadata": {
    "collapsed": true
   },
   "outputs": [],
   "source": [
    "%matplotlib inline\n",
    "\n",
    "import matplotlib.pyplot as plt #plot library\n",
    "\n",
    "def init_plotting():\n",
    "    plt.rcParams['figure.figsize'] = (14.0,8.0)\n",
    "    plt.rcParams['font.size'] = 10\n",
    "    #plt.rcParams['font.family'] = 'Times New Roman'\n",
    "    plt.rcParams['axes.labelsize'] = plt.rcParams['font.size']\n",
    "    plt.rcParams['axes.titlesize'] = 2*plt.rcParams['font.size']\n",
    "    plt.rcParams['legend.fontsize'] = 0.65*plt.rcParams['font.size']\n",
    "    plt.rcParams['xtick.labelsize'] = plt.rcParams['font.size']\n",
    "    plt.rcParams['ytick.labelsize'] = plt.rcParams['font.size']\n",
    "    plt.rcParams['xtick.major.size'] = 3\n",
    "    plt.rcParams['xtick.minor.size'] = 3\n",
    "    plt.rcParams['xtick.major.width'] = 1\n",
    "    plt.rcParams['xtick.minor.width'] = 1\n",
    "    plt.rcParams['ytick.major.size'] = 3\n",
    "    plt.rcParams['ytick.minor.size'] = 3\n",
    "    plt.rcParams['ytick.major.width'] = 1\n",
    "    plt.rcParams['ytick.minor.width'] = 1\n",
    "    plt.rcParams['legend.frameon'] = True\n",
    "    plt.rcParams['legend.loc'] = 'best'\n",
    "    plt.rcParams['axes.linewidth'] = 1\n",
    "\n",
    "init_plotting()"
   ]
  },
  {
   "cell_type": "code",
   "execution_count": 3,
   "metadata": {
    "collapsed": true
   },
   "outputs": [],
   "source": [
    "#BAR Progress function to visualize the progress status:\n",
    "def update_progress(progress):\n",
    "    \"\"\"\n",
    "    Progress Bar to visualize the status of a procedure\n",
    "    ___\n",
    "    INPUT:\n",
    "    progress: percent of the data\n",
    "\n",
    "    ___\n",
    "    Example:\n",
    "    print \"\"\n",
    "    print \"progress : 0->1\"\n",
    "    for i in range(100):\n",
    "        time.sleep(0.1)\n",
    "        update_progress(i/100.0)\n",
    "    \"\"\"\n",
    "    barLength = 10 # Modify this to change the length of the progress bar\n",
    "    status = \"\"\n",
    "    if isinstance(progress, int):\n",
    "        progress = float(progress)\n",
    "    if not isinstance(progress, float):\n",
    "        progress = 0\n",
    "        status = \"error: progress var must be float\\r\\n\"\n",
    "    if progress < 0:\n",
    "        progress = 0\n",
    "        status = \"Halt...\\r\\n\"\n",
    "    if progress >= 1:\n",
    "        progress = 1\n",
    "        status = \"Done...\\r\\n\"\n",
    "    block = int(round(barLength*progress))\n",
    "    text = \"\\rPercent: [{0}] {1}% {2}\".format( \"#\"*block + \"-\"*(barLength-block), progress*100, status)\n",
    "    sys.stdout.write(text)\n",
    "    sys.stdout.flush()"
   ]
  },
  {
   "cell_type": "code",
   "execution_count": 36,
   "metadata": {
    "collapsed": true
   },
   "outputs": [],
   "source": [
    "save_path = u'C:\\\\Users\\\\walte\\\\Desktop\\\\exoplanet\\\\data\\\\xo2b\\\\xo2b.b\\\\teste_pyraf'\n",
    "data_path = u'C:\\\\Users\\\\walte\\\\Desktop\\\\exoplanet\\\\data\\\\xo2b\\\\xo2b.b'"
   ]
  },
  {
   "cell_type": "code",
   "execution_count": 4,
   "metadata": {
    "collapsed": false
   },
   "outputs": [
    {
     "data": {
      "text/plain": [
       "u'C:\\\\Users\\\\walte\\\\MEGA\\\\work\\\\codes\\\\iraf_task'"
      ]
     },
     "execution_count": 4,
     "metadata": {},
     "output_type": "execute_result"
    }
   ],
   "source": [
    "pwd"
   ]
  },
  {
   "cell_type": "code",
   "execution_count": 5,
   "metadata": {
    "collapsed": false
   },
   "outputs": [
    {
     "name": "stdout",
     "output_type": "stream",
     "text": [
      "C:\\Users\\walte\\Desktop\\exoplanet\\data\\xo2b\\xo2b.b\\teste_pyraf\n"
     ]
    }
   ],
   "source": [
    "cd C:/Users/walte/Desktop/exoplanet/data/xo2b/xo2b.b/teste_pyraf/"
   ]
  },
  {
   "cell_type": "code",
   "execution_count": 6,
   "metadata": {
    "collapsed": false,
    "scrolled": true
   },
   "outputs": [],
   "source": [
    "images = glob.glob('ABxo2b*.fits')"
   ]
  },
  {
   "cell_type": "code",
   "execution_count": 7,
   "metadata": {
    "collapsed": false,
    "scrolled": true
   },
   "outputs": [
    {
     "name": "stdout",
     "output_type": "stream",
     "text": [
      "['ABxo2b.0002.fits', 'ABxo2b.0004.fits', 'ABxo2b.0006.fits', 'ABxo2b.0008.fits', 'ABxo2b.0010.fits', 'ABxo2b.0012.fits', 'ABxo2b.0014.fits', 'ABxo2b.0016.fits', 'ABxo2b.0018.fits', 'ABxo2b.0020.fits', 'ABxo2b.0022.fits', 'ABxo2b.0024.fits', 'ABxo2b.0026.fits', 'ABxo2b.0028.fits', 'ABxo2b.0030.fits', 'ABxo2b.0032.fits', 'ABxo2b.0034.fits', 'ABxo2b.0036.fits', 'ABxo2b.0038.fits', 'ABxo2b.0040.fits', 'ABxo2b.0042.fits', 'ABxo2b.0044.fits', 'ABxo2b.0046.fits', 'ABxo2b.0048.fits', 'ABxo2b.0050.fits', 'ABxo2b.0052.fits', 'ABxo2b.0054.fits', 'ABxo2b.0056.fits', 'ABxo2b.0058.fits', 'ABxo2b.0060.fits', 'ABxo2b.0062.fits', 'ABxo2b.0064.fits', 'ABxo2b.0066.fits', 'ABxo2b.0068.fits', 'ABxo2b.0070.fits', 'ABxo2b.0072.fits', 'ABxo2b.0074.fits', 'ABxo2b.0076.fits', 'ABxo2b.0078.fits', 'ABxo2b.0080.fits', 'ABxo2b.0082.fits', 'ABxo2b.0084.fits', 'ABxo2b.0086.fits', 'ABxo2b.0088.fits', 'ABxo2b.0090.fits', 'ABxo2b.0092.fits', 'ABxo2b.0094.fits', 'ABxo2b.0096.fits', 'ABxo2b.0098.fits', 'ABxo2b.0100.fits', 'ABxo2b.0102.fits', 'ABxo2b.0104.fits', 'ABxo2b.0106.fits', 'ABxo2b.0108.fits', 'ABxo2b.0110.fits', 'ABxo2b.0112.fits', 'ABxo2b.0114.fits', 'ABxo2b.0116.fits', 'ABxo2b.0118.fits', 'ABxo2b.0120.fits', 'ABxo2b.0122.fits', 'ABxo2b.0124.fits', 'ABxo2b.0126.fits', 'ABxo2b.0128.fits', 'ABxo2b.0130.fits', 'ABxo2b.0132.fits', 'ABxo2b.0134.fits', 'ABxo2b.0136.fits', 'ABxo2b.0138.fits', 'ABxo2b.0140.fits', 'ABxo2b.0142.fits', 'ABxo2b.0144.fits', 'ABxo2b.0146.fits', 'ABxo2b.0148.fits', 'ABxo2b.0150.fits', 'ABxo2b.0152.fits', 'ABxo2b.0154.fits', 'ABxo2b.0156.fits', 'ABxo2b.0158.fits', 'ABxo2b.0160.fits', 'ABxo2b.0162.fits', 'ABxo2b.0164.fits', 'ABxo2b.0166.fits', 'ABxo2b.0168.fits', 'ABxo2b.0170.fits', 'ABxo2b.0172.fits', 'ABxo2b.0174.fits', 'ABxo2b.0176.fits', 'ABxo2b.0178.fits', 'ABxo2b.0180.fits', 'ABxo2b.0182.fits', 'ABxo2b.0184.fits', 'ABxo2b.0186.fits', 'ABxo2b.0188.fits', 'ABxo2b.0190.fits', 'ABxo2b.0192.fits', 'ABxo2b.0194.fits', 'ABxo2b.0196.fits', 'ABxo2b.0198.fits', 'ABxo2b.0200.fits', 'ABxo2b.0202.fits', 'ABxo2b.0204.fits', 'ABxo2b.0206.fits', 'ABxo2b.0208.fits', 'ABxo2b.0210.fits', 'ABxo2b.0212.fits', 'ABxo2b.0214.fits', 'ABxo2b.0216.fits', 'ABxo2b.0218.fits', 'ABxo2b.0220.fits', 'ABxo2b.0222.fits', 'ABxo2b.0224.fits', 'ABxo2b.0226.fits', 'ABxo2b.0228.fits', 'ABxo2b.0230.fits', 'ABxo2b.0232.fits', 'ABxo2b.0234.fits', 'ABxo2b.0236.fits', 'ABxo2b.0238.fits', 'ABxo2b.0240.fits', 'ABxo2b.0242.fits', 'ABxo2b.0244.fits', 'ABxo2b.0246.fits', 'ABxo2b.0248.fits', 'ABxo2b.0250.fits', 'ABxo2b.0252.fits', 'ABxo2b.0254.fits', 'ABxo2b.0256.fits', 'ABxo2b.0258.fits', 'ABxo2b.0260.fits', 'ABxo2b.0262.fits', 'ABxo2b.0264.fits', 'ABxo2b.0266.fits']\n"
     ]
    }
   ],
   "source": [
    "print images"
   ]
  },
  {
   "cell_type": "code",
   "execution_count": 8,
   "metadata": {
    "collapsed": false
   },
   "outputs": [
    {
     "name": "stdout",
     "output_type": "stream",
     "text": [
      "133\n"
     ]
    }
   ],
   "source": [
    "print len(images)"
   ]
  },
  {
   "cell_type": "code",
   "execution_count": 9,
   "metadata": {
    "collapsed": false
   },
   "outputs": [],
   "source": [
    "im,hdr = fits.getdata(images[0],header=True) #reading the fits image (data + header)"
   ]
  },
  {
   "cell_type": "code",
   "execution_count": 10,
   "metadata": {
    "collapsed": false,
    "scrolled": true
   },
   "outputs": [
    {
     "data": {
      "text/plain": [
       "SIMPLE  =                    T / Fits standard                                  \n",
       "BITPIX  =                  -32 / Bits per pixel                                 \n",
       "NAXIS   =                    2 / Number of axes                                 \n",
       "NAXIS1  =                 1365 / Axis length                                    \n",
       "NAXIS2  =                 1365 / Axis length                                    \n",
       "EXTEND  =                    F / File may contain extensions                    \n",
       "ORIGIN  = 'NOAO-IRAF FITS Image Kernel July 2003' / FITS file originator        \n",
       "DATE    = '2016-02-08T17:01:06' / Date FITS file was generated                  \n",
       "IRAF-TLM= '2016-02-08T17:01:06' / Time of last modification                     \n",
       "OBJECT  = 'XO-2b   '           / Name of the object observed                    \n",
       "DETSIZE = '[1:4096,1:4096]'    / Detector size                                  \n",
       "CCDSUM  = '3 3     '           / CCD pixel summing                              \n",
       "CCDBIN1 =                    3 / Binning factor along axis 1                    \n",
       "CCDBIN2 =                    3 / Binning factor along axis 2                    \n",
       "FILENAME= 'xo2b.0002.fits'     / base filename at acquisition                   \n",
       "NCCDS   =                    1 / Number of CCDs                                 \n",
       "NAMPS   =                    2 / Number of amplifiers                           \n",
       "DARKCUR = '0.0     '           / Average dark current (e-/pixel/hour)           \n",
       "DARKTIME=               25.101 / Dark time (seconds)                            \n",
       "DATE-OBS= '2012-12-10'         / UTC shutter opened                             \n",
       "DETECTOR= 'mont4k sn3088'      / Detector name                                  \n",
       "DETGAIN =                    5 / Video gain setting                             \n",
       "EXPREQ  =                 25.0 / Exposure time requested (seconds)              \n",
       "EXPTIME =                 25.0 / Exposure time (seconds)                        \n",
       "GAIN1   = '3.19    '           / Conversion gain (e-/DN) for amp 1              \n",
       "GAIN2   = '3.08    '           / Conversion gain (e-/DN) for amp 2              \n",
       "IMAGETYP= 'object  '           / Image type                                     \n",
       "INSTRUME= 'mont4k  '           / Instrument name                                \n",
       "LOCTIME = '22:29:57'           / Local time at start of exposure                \n",
       "OBSERVAT= 'mtbigelow'          / Observatory                                    \n",
       "OBSERVER= 'Turner Teske'                                                        \n",
       "PCIFILE = 'pci2.lod'           / PCI board DSP code filename                    \n",
       "PIXSCAL1= '0.15    '           / Pixel scale for axis 1 (arcsec/unbinned pixel) \n",
       "PIXSCAL2= '0.15    '           / Pixel scale for axis 2 (arcsec/unbinned pixel) \n",
       "PIXSIZE1= '15.0    '           / Pixel size for axis 1 (microns)                \n",
       "PIXSIZE2= '15.0    '           / Pixel size for axis 2 (microns)                \n",
       "RDNOISE1= '6.3     '           / Read noise (electrons) for amp 1               \n",
       "RDNOISE2= '6.7     '           / Read noise (electrons) for amp 2               \n",
       "SITEELEV= '2510    '           / Altitude (meters)                              \n",
       "SITELAT = '32:24:59.3'         / Latitude (DD:MM:SS.S North)                    \n",
       "SITELONG= '110:44:04.3'        / Longitude (DD:MM:SS.S West)                    \n",
       "TELESCOP= 'bigelow-1.55m'      / Telescope name                                 \n",
       "TIME-OBS= '05:29:57.274'       / UTC at start of exposure                       \n",
       "TIMESYS = 'UTC     '           / Time system                                    \n",
       "TIMEZONE=                    7 / Local time zone                                \n",
       "TIMFILE = 'tim2_split.lod'     / Timing board DSP code filename                 \n",
       "UT      = '05:29:57.274'       / UTC at start of exposure                       \n",
       "UTC-OBS = '05:29:57.274'       / UTC at start of exposure                       \n",
       "UTILFILE= 'util2.lod'          / Utility board DSP code filename                \n",
       "VIDGAIN =                    5 / Video gain setting                             \n",
       "VIDSPEED=                    1 / Video speed setting                            \n",
       "ITL-HEAD= 'OK      '           / ITL Header flag                                \n",
       "N-AMPS-X=                    2 / Number of amplifiers in X                      \n",
       "N-AMPS-Y=                    1 / Number of amplifiers in Y                      \n",
       "N-DET-X =                    1 / Number of detectors in X                       \n",
       "N-DET-Y =                    1 / Number of detectors in Y                       \n",
       "NUM-AMPX=                    2 / Number of amplifiers in X                      \n",
       "NUM-AMPY=                    1 / Number of amplifiers in Y                      \n",
       "NUM-DETX=                    1 / Number of detectors in X                       \n",
       "NUM-DETY=                    1 / Number of detectors in Y                       \n",
       "REF-PIX1=                 2048 / Reference pixel 1                              \n",
       "REF-PIX2=                 2048 / Reference pixel 2                              \n",
       "SYS-MOD = '' / System module                                                    \n",
       "CAMTEMP =               -120.0 / Camera temperature in C                        \n",
       "DEWTEMP =             -197.666 / Dewar temperature in C                         \n",
       "XTKCOEF =          2.600000E-4                                                  \n",
       "BUNIT   = 'ADU     '           / Physical unit of array values                  \n",
       "COMMENT Image                                                                   \n",
       "CCDSIZE = '[1:4096,1:4096]'    / CCD size                                       \n",
       "AMPSEC  = '[1:4095,1:4095]'    / Amplifier section                              \n",
       "DETSEC  = '[1:4095,1:4095]'    / Detector section                               \n",
       "CCDSEC  = '[1:4095,1:4095]'    / CCD section                                    \n",
       "CCDSEC1 = '[1:683,1:1366]'     / CCD section with binning                       \n",
       "OVRSCAN1=                   20 / Overscan on axis 1                             \n",
       "OVRSCAN2=                    0 / Overscan on axis 2                             \n",
       "PRESCAN1=                    0 / Underscan on axis 1                            \n",
       "PRESCAN2=                    0 / Underscan on axis 2                            \n",
       "LTM1_1  =   0.3333333432674408 / CCD to image transformation                    \n",
       "LTM2_2  =   0.3333333432674408 / CCD to image transformation                    \n",
       "LTV1    =    0.333333343267441 / CCD to image transformation                    \n",
       "LTV2    =    0.333333313465118 / CCD to image transformation                    \n",
       "ATM1_1  =                    1 / CCD to amplifier transformation                \n",
       "ATM2_2  =                    1 / CCD to amplifier transformation                \n",
       "ATV1    =                    0 / CCD to amplifier transformation                \n",
       "ATV2    =                    0 / CCD to amplifier transformation                \n",
       "DTM1_1  =                    1 / CCD to detector transformation                 \n",
       "DTM2_2  =                    1 / CCD to detector transformation                 \n",
       "DTV1    =                    0 / CCD to detector transformation                 \n",
       "DTV2    =                    0 / CCD to detector transformation                 \n",
       "COMMENT WCS                                                                     \n",
       "EQUINOX =                 2000 / Equinox of WCS                                 \n",
       "WCSDIM  =                    2 / WCS Dimensionality                             \n",
       "CTYPE1  = 'RA---TNX'           / Coordinate type                                \n",
       "CTYPE2  = 'DEC--TNX'           / Coordinate type                                \n",
       "CRPIX1  =     682.333333343267 / Coordinate reference pixel                     \n",
       "CRPIX2  =     682.333333313465 / Coordinate reference pixel                     \n",
       "CD1_1   =          0.000119166 / Coordinate matrix                              \n",
       "CD2_2   =          0.000119166 / Coordinate matrix                              \n",
       "AMP-CFG =                    0 / Amplifier configuration                        \n",
       "DET-NUM =                    1 / Detector number                                \n",
       "EXT-NUM =                    1 / Extension number                               \n",
       "JPG-EXT =                    1 / Image section                                  \n",
       "DET-POSX=                    1 / Detector position in X                         \n",
       "DET-POSY=                    1 / Detector position in Y                         \n",
       "EXT-POSX=                    1 / Amplifier position in X                        \n",
       "EXT-POSY=                    1 / Amplifier position in Y                        \n",
       "AMP-PIX1=                    1 / Amplifier pixel position in X                  \n",
       "AMP-PIX2=                    1 / Amplifier pixel position in Y                  \n",
       "CDELT1  =  1.19166000000000E-4                                                  \n",
       "CDELT2  =  1.19166000000000E-4                                                  \n",
       "WAT0_001= 'system=image'                                                        \n",
       "WAT1_001= 'wtype=tnx axtype=ra'                                                 \n",
       "WAT2_001= 'wtype=tnx axtype=dec'                                                \n",
       "TRIM    = '[1:682,1:1365]'                                                      \n",
       "OVERSCAN= '[688:702,1:1365]'                                                    \n",
       "OVSCMED1=             928.2615                                                  \n",
       "OVSCMED2=             916.6032                                                  \n",
       "                                                                                \n",
       "                                                                                \n",
       "                                                                                \n",
       "                                                                                \n",
       "                                                                                \n",
       "                                                                                \n",
       "                                                                                \n",
       "                                                                                \n",
       "                                                                                \n",
       "                                                                                \n",
       "                                                                                \n",
       "                                                                                \n",
       "                                                                                \n",
       "                                                                                \n",
       "                                                                                \n",
       "                                                                                \n",
       "                                                                                \n",
       "                                                                                \n",
       "                                                                                \n",
       "                                                                                \n",
       "                                                                                \n",
       "                                                                                \n",
       "                                                                                \n",
       "                                                                                \n",
       "                                                                                \n",
       "                                                                                "
      ]
     },
     "execution_count": 10,
     "metadata": {},
     "output_type": "execute_result"
    }
   ],
   "source": [
    "hdr"
   ]
  },
  {
   "cell_type": "markdown",
   "metadata": {},
   "source": [
    "# Local Time"
   ]
  },
  {
   "cell_type": "code",
   "execution_count": 11,
   "metadata": {
    "collapsed": false
   },
   "outputs": [
    {
     "data": {
      "text/plain": [
       "'22:29:57'"
      ]
     },
     "execution_count": 11,
     "metadata": {},
     "output_type": "execute_result"
    }
   ],
   "source": [
    "hdr['LOCTIME'] #local time at start of exposure in header"
   ]
  },
  {
   "cell_type": "code",
   "execution_count": 12,
   "metadata": {
    "collapsed": false
   },
   "outputs": [
    {
     "name": "stdout",
     "output_type": "stream",
     "text": [
      "Percent: [##########] 100% Done...\n"
     ]
    }
   ],
   "source": [
    "images_time = []\n",
    "for i in range(len(images)):\n",
    "    im,hdr = fits.getdata(images[i],header=True) #reading the fits image (data + header)\n",
    "    images_time.append(hdr['LOCTIME'])\n",
    "    update_progress((i+1.)/len(images))"
   ]
  },
  {
   "cell_type": "code",
   "execution_count": 13,
   "metadata": {
    "collapsed": false
   },
   "outputs": [
    {
     "name": "stdout",
     "output_type": "stream",
     "text": [
      "['22:29:57', '22:32:14', '22:34:31', '22:36:48', '22:39:05', '22:41:22', '22:43:39', '22:45:57', '22:48:14', '22:50:31', '22:52:48', '22:55:06', '22:57:23', '22:59:40', '23:01:57', '23:04:14', '23:06:31', '23:08:48', '23:11:05', '23:13:23', '23:15:40', '23:17:57', '23:20:14', '23:22:31', '23:24:48', '23:27:05', '23:29:22', '23:31:40', '23:33:57', '23:36:14', '23:38:31', '23:40:48', '23:43:05', '23:45:22', '23:47:40', '23:49:57', '23:52:14', '23:54:31', '23:56:48', '23:59:05', '00:01:22', '00:03:39', '00:05:57', '00:08:14', '00:10:31', '00:12:48', '00:15:05', '00:17:22', '00:19:39', '00:21:56', '00:24:13', '00:26:31', '00:28:48', '00:31:05', '00:33:22', '00:35:39', '00:37:56', '00:40:13', '00:42:30', '00:44:48', '00:47:05', '00:49:22', '00:51:39', '00:53:56', '00:56:13', '00:58:30', '01:00:47', '01:03:04', '01:05:22', '01:07:39', '01:09:56', '01:12:13', '01:14:30', '01:16:47', '01:19:04', '01:21:22', '01:23:39', '01:25:56', '01:28:13', '01:30:30', '01:32:47', '01:35:04', '01:37:21', '01:39:38', '01:41:56', '01:44:13', '01:46:30', '01:48:47', '01:51:04', '01:58:51', '02:01:08', '02:03:25', '02:05:42', '02:07:59', '02:10:16', '02:12:33', '02:14:50', '02:17:08', '02:19:25', '02:21:42', '02:23:59', '02:26:16', '02:28:33', '02:30:50', '02:33:07', '02:35:24', '02:37:42', '02:39:59', '02:42:16', '02:44:33', '02:46:50', '02:49:07', '02:51:24', '02:53:41', '02:55:59', '02:58:16', '03:00:33', '03:02:50', '03:05:07', '03:07:24', '03:09:41', '03:11:59', '03:14:16', '03:16:33', '03:18:50', '03:21:07', '03:23:24', '03:25:41', '03:27:58', '03:30:16', '03:32:33', '03:34:50', '03:37:07']\n"
     ]
    }
   ],
   "source": [
    "print images_time #our local time series"
   ]
  },
  {
   "cell_type": "markdown",
   "metadata": {},
   "source": [
    "# FITS Time"
   ]
  },
  {
   "cell_type": "code",
   "execution_count": 14,
   "metadata": {
    "collapsed": false
   },
   "outputs": [
    {
     "name": "stdout",
     "output_type": "stream",
     "text": [
      "Percent: [##########] 100% Done...\n"
     ]
    }
   ],
   "source": [
    "fits_time = []\n",
    "for i in range(len(images)):\n",
    "    im,hdr = fits.getdata(images[i],header=True) #reading the fits image (data + header)\n",
    "    fits_time.append(hdr['DATE'])\n",
    "    update_progress((i+1.)/len(images))"
   ]
  },
  {
   "cell_type": "code",
   "execution_count": 15,
   "metadata": {
    "collapsed": false
   },
   "outputs": [
    {
     "name": "stdout",
     "output_type": "stream",
     "text": [
      "['2016-02-08T17:01:06', '2016-02-08T17:01:07', '2016-02-08T17:01:07', '2016-02-08T17:01:07', '2016-02-08T17:01:08', '2016-02-08T17:01:09', '2016-02-08T17:01:10', '2016-02-08T17:01:10', '2016-02-08T17:01:10', '2016-02-08T17:01:11', '2016-02-08T17:01:11', '2016-02-08T17:01:12', '2016-02-08T17:01:12', '2016-02-08T17:01:14', '2016-02-08T17:01:15', '2016-02-08T17:01:16', '2016-02-08T17:01:16', '2016-02-08T17:01:16', '2016-02-08T17:01:17', '2016-02-08T17:01:18', '2016-02-08T17:01:18', '2016-02-08T17:01:18', '2016-02-08T17:01:19', '2016-02-08T17:01:19', '2016-02-08T17:01:20', '2016-02-08T17:01:20', '2016-02-08T17:01:21', '2016-02-08T17:01:21', '2016-02-08T17:01:21', '2016-02-08T17:01:22', '2016-02-08T17:01:22', '2016-02-08T17:01:22', '2016-02-08T17:01:23', '2016-02-08T17:01:23', '2016-02-08T17:01:24', '2016-02-08T17:01:24', '2016-02-08T17:01:25', '2016-02-08T17:01:25', '2016-02-08T17:01:25', '2016-02-08T17:01:26', '2016-02-08T17:01:26', '2016-02-08T17:01:27', '2016-02-08T17:01:27', '2016-02-08T17:01:28', '2016-02-08T17:01:30', '2016-02-08T17:01:30', '2016-02-08T17:01:31', '2016-02-08T17:01:31', '2016-02-08T17:01:31', '2016-02-08T17:01:32', '2016-02-08T17:01:32', '2016-02-08T17:01:33', '2016-02-08T17:01:33', '2016-02-08T17:01:35', '2016-02-08T17:01:36', '2016-02-08T17:01:38', '2016-02-08T17:01:39', '2016-02-08T17:01:41', '2016-02-08T17:01:42', '2016-02-08T17:01:43', '2016-02-08T17:01:44', '2016-02-08T17:01:44', '2016-02-08T17:01:46', '2016-02-08T17:01:47', '2016-02-08T17:01:49', '2016-02-08T17:01:50', '2016-02-08T17:01:50', '2016-02-08T17:01:51', '2016-02-08T17:01:52', '2016-02-08T17:01:53', '2016-02-08T17:01:54', '2016-02-08T17:01:55', '2016-02-08T17:01:56', '2016-02-08T17:01:58', '2016-02-08T17:01:58', '2016-02-08T17:01:59', '2016-02-08T17:01:59', '2016-02-08T17:02:00', '2016-02-08T17:02:00', '2016-02-08T17:02:00', '2016-02-08T17:02:01', '2016-02-08T17:02:01', '2016-02-08T17:02:02', '2016-02-08T17:02:02', '2016-02-08T17:02:02', '2016-02-08T17:02:03', '2016-02-08T17:02:03', '2016-02-08T17:02:04', '2016-02-08T17:02:04', '2016-02-08T17:02:05', '2016-02-08T17:02:05', '2016-02-08T17:02:06', '2016-02-08T17:02:06', '2016-02-08T17:02:06', '2016-02-08T17:02:07', '2016-02-08T17:02:07', '2016-02-08T17:02:08', '2016-02-08T17:02:08', '2016-02-08T17:02:09', '2016-02-08T17:02:09', '2016-02-08T17:02:09', '2016-02-08T17:02:10', '2016-02-08T17:02:10', '2016-02-08T17:02:11', '2016-02-08T17:02:11', '2016-02-08T17:02:12', '2016-02-08T17:02:12', '2016-02-08T17:02:13', '2016-02-08T17:02:13', '2016-02-08T17:02:13', '2016-02-08T17:02:14', '2016-02-08T17:02:14', '2016-02-08T17:00:55', '2016-02-08T17:00:55', '2016-02-08T17:00:56', '2016-02-08T17:00:56', '2016-02-08T17:00:56', '2016-02-08T17:00:57', '2016-02-08T17:00:57', '2016-02-08T17:00:57', '2016-02-08T17:00:58', '2016-02-08T17:00:58', '2016-02-08T17:00:58', '2016-02-08T17:00:59', '2016-02-08T17:01:00', '2016-02-08T17:01:01', '2016-02-08T17:01:03', '2016-02-08T17:01:04', '2016-02-08T17:01:04', '2016-02-08T17:01:05', '2016-02-08T17:01:05', '2016-02-08T17:01:06', '2016-02-08T17:01:06']\n"
     ]
    }
   ],
   "source": [
    "print fits_time"
   ]
  },
  {
   "cell_type": "markdown",
   "metadata": {},
   "source": [
    "# Observatory (location)"
   ]
  },
  {
   "cell_type": "code",
   "execution_count": 16,
   "metadata": {
    "collapsed": true
   },
   "outputs": [],
   "source": [
    "#geting the observatory\n",
    "im,hdr = fits.getdata(images[0],header=True) #reading the fits image (data + header)"
   ]
  },
  {
   "cell_type": "code",
   "execution_count": 17,
   "metadata": {
    "collapsed": false
   },
   "outputs": [
    {
     "name": "stdout",
     "output_type": "stream",
     "text": [
      "mtbigelow\n"
     ]
    }
   ],
   "source": [
    "observatory_loc = hdr['OBSERVAT']\n",
    "print observatory_loc"
   ]
  },
  {
   "cell_type": "markdown",
   "metadata": {},
   "source": [
    "# Obtain UT using local time and observatory"
   ]
  },
  {
   "cell_type": "code",
   "execution_count": 18,
   "metadata": {
    "collapsed": false
   },
   "outputs": [
    {
     "name": "stdout",
     "output_type": "stream",
     "text": [
      "[u'jd', u'mjd', u'decimalyear', u'unix', u'cxcsec', u'gps', u'plot_date', u'datetime', u'iso', u'isot', u'yday', u'fits', u'byear', u'jyear', u'byear_str', u'jyear_str']\n"
     ]
    }
   ],
   "source": [
    "#time formats\n",
    "print list(Time.FORMATS)"
   ]
  },
  {
   "cell_type": "code",
   "execution_count": 19,
   "metadata": {
    "collapsed": false
   },
   "outputs": [],
   "source": [
    "#Let's using fits time\n",
    "teste = Time(fits_time[0],format=u'fits')"
   ]
  },
  {
   "cell_type": "code",
   "execution_count": 20,
   "metadata": {
    "collapsed": false
   },
   "outputs": [
    {
     "data": {
      "text/plain": [
       "<Time object: scale='utc' format='fits' value=2016-02-08T17:01:06.000(UTC)>"
      ]
     },
     "execution_count": 20,
     "metadata": {},
     "output_type": "execute_result"
    }
   ],
   "source": [
    "teste"
   ]
  },
  {
   "cell_type": "code",
   "execution_count": 21,
   "metadata": {
    "collapsed": false
   },
   "outputs": [
    {
     "data": {
      "text/plain": [
       "2457427.2090972224"
      ]
     },
     "execution_count": 21,
     "metadata": {},
     "output_type": "execute_result"
    }
   ],
   "source": [
    "teste.jd #convert my object test in fits date to julian date"
   ]
  },
  {
   "cell_type": "code",
   "execution_count": 22,
   "metadata": {
    "collapsed": false
   },
   "outputs": [],
   "source": [
    "#Let's make to all time series\n",
    "serie = np.zeros(len(fits_time))\n",
    "for i in range(len(fits_time)):\n",
    "    serie[i] = Time(fits_time[i],format=u'fits').jd"
   ]
  },
  {
   "cell_type": "code",
   "execution_count": 23,
   "metadata": {
    "collapsed": false,
    "scrolled": true
   },
   "outputs": [
    {
     "data": {
      "text/plain": [
       "array([ 2457427.20909722,  2457427.2091088 ,  2457427.2091088 ,\n",
       "        2457427.2091088 ,  2457427.20912037,  2457427.20913194,\n",
       "        2457427.20914352,  2457427.20914352,  2457427.20914352,\n",
       "        2457427.20915509,  2457427.20915509,  2457427.20916667,\n",
       "        2457427.20916667,  2457427.20918981,  2457427.20920139,\n",
       "        2457427.20921296,  2457427.20921296,  2457427.20921296,\n",
       "        2457427.20922454,  2457427.20923611,  2457427.20923611,\n",
       "        2457427.20923611,  2457427.20924769,  2457427.20924769,\n",
       "        2457427.20925926,  2457427.20925926,  2457427.20927083,\n",
       "        2457427.20927083,  2457427.20927083,  2457427.20928241,\n",
       "        2457427.20928241,  2457427.20928241,  2457427.20929398,\n",
       "        2457427.20929398,  2457427.20930556,  2457427.20930556,\n",
       "        2457427.20931713,  2457427.20931713,  2457427.20931713,\n",
       "        2457427.2093287 ,  2457427.2093287 ,  2457427.20934028,\n",
       "        2457427.20934028,  2457427.20935185,  2457427.209375  ,\n",
       "        2457427.209375  ,  2457427.20938657,  2457427.20938657,\n",
       "        2457427.20938657,  2457427.20939815,  2457427.20939815,\n",
       "        2457427.20940972,  2457427.20940972,  2457427.20943287,\n",
       "        2457427.20944444,  2457427.20946759,  2457427.20947917,\n",
       "        2457427.20950231,  2457427.20951389,  2457427.20952546,\n",
       "        2457427.20953704,  2457427.20953704,  2457427.20956019,\n",
       "        2457427.20957176,  2457427.20959491,  2457427.20960648,\n",
       "        2457427.20960648,  2457427.20961806,  2457427.20962963,\n",
       "        2457427.2096412 ,  2457427.20965278,  2457427.20966435,\n",
       "        2457427.20967593,  2457427.20969907,  2457427.20969907,\n",
       "        2457427.20971065,  2457427.20971065,  2457427.20972222,\n",
       "        2457427.20972222,  2457427.20972222,  2457427.2097338 ,\n",
       "        2457427.2097338 ,  2457427.20974537,  2457427.20974537,\n",
       "        2457427.20974537,  2457427.20975694,  2457427.20975694,\n",
       "        2457427.20976852,  2457427.20976852,  2457427.20978009,\n",
       "        2457427.20978009,  2457427.20979167,  2457427.20979167,\n",
       "        2457427.20979167,  2457427.20980324,  2457427.20980324,\n",
       "        2457427.20981481,  2457427.20981481,  2457427.20982639,\n",
       "        2457427.20982639,  2457427.20982639,  2457427.20983796,\n",
       "        2457427.20983796,  2457427.20984954,  2457427.20984954,\n",
       "        2457427.20986111,  2457427.20986111,  2457427.20987269,\n",
       "        2457427.20987269,  2457427.20987269,  2457427.20988426,\n",
       "        2457427.20988426,  2457427.20896991,  2457427.20896991,\n",
       "        2457427.20898148,  2457427.20898148,  2457427.20898148,\n",
       "        2457427.20899306,  2457427.20899306,  2457427.20899306,\n",
       "        2457427.20900463,  2457427.20900463,  2457427.20900463,\n",
       "        2457427.2090162 ,  2457427.20902778,  2457427.20903935,\n",
       "        2457427.2090625 ,  2457427.20907407,  2457427.20907407,\n",
       "        2457427.20908565,  2457427.20908565,  2457427.20909722,\n",
       "        2457427.20909722])"
      ]
     },
     "execution_count": 23,
     "metadata": {},
     "output_type": "execute_result"
    }
   ],
   "source": [
    "serie"
   ]
  },
  {
   "cell_type": "code",
   "execution_count": 24,
   "metadata": {
    "collapsed": true
   },
   "outputs": [],
   "source": [
    "#Let's confirm our serie\n",
    "\n",
    "hjd = np.loadtxt('../Results/hjd') #original data"
   ]
  },
  {
   "cell_type": "code",
   "execution_count": 25,
   "metadata": {
    "collapsed": false,
    "scrolled": true
   },
   "outputs": [
    {
     "data": {
      "text/plain": [
       "array([ 2456271.73341416,  2456271.73500032,  2456271.73658732,\n",
       "        2456271.73817571,  2456271.73976282,  2456271.74134749,\n",
       "        2456271.74293369,  2456271.74452332,  2456271.74611159,\n",
       "        2456271.74770068,  2456271.74928778,  2456271.75087894,\n",
       "        2456271.75246511,  2456271.75405489,  2456271.75564094,\n",
       "        2456271.75722936,  2456271.75881575,  2456271.76040088,\n",
       "        2456271.76198718,  2456271.76357476,  2456271.76516428,\n",
       "        2456271.76675049,  2456271.76834025,  2456271.76992679,\n",
       "        2456271.77151205,  2456271.77309939,  2456271.77468441,\n",
       "        2456271.77627288,  2456271.77785921,  2456271.77944909,\n",
       "        2456271.78103771,  2456271.78262386,  2456271.78420996,\n",
       "        2456271.78579646,  2456271.78738357,  2456271.78896966,\n",
       "        2456271.79055909,  2456271.79214536,  2456271.79373366,\n",
       "        2456271.79532109,  2456271.79690739,  2456271.79849393,\n",
       "        2456271.80008127,  2456271.80166733,  2456271.80325306,\n",
       "        2456271.80484315,  2456271.80642912,  2456271.80801634,\n",
       "        2456271.80960357,  2456271.81119091,  2456271.81277593,\n",
       "        2456271.81436548,  2456271.8159527 ,  2456271.81753909,\n",
       "        2456271.81912679,  2456271.82071402,  2456271.82229999,\n",
       "        2456271.82388638,  2456271.82547464,  2456271.82706315,\n",
       "        2456271.82864829,  2456271.83023819,  2456271.83182643,\n",
       "        2456271.83341008,  2456271.83499799,  2456271.83658381,\n",
       "        2456271.83817187,  2456271.83975802,  2456271.84134736,\n",
       "        2456271.84293386,  2456271.84452121,  2456271.84610843,\n",
       "        2456271.84769682,  2456271.849283  ,  2456271.8508693 ,\n",
       "        2456271.85245628,  2456271.85404375,  2456271.85563019,\n",
       "        2456271.85721971,  2456271.85880518,  2456271.86039368,\n",
       "        2456271.8619779 ,  2456271.86356643,  2456271.8651513 ,\n",
       "        2456271.86674106,  2456271.86832703,  2456271.86991574,\n",
       "        2456271.87150067,  2456271.87308906,  2456271.87848769,\n",
       "        2456271.88007492,  2456271.88166315,  2456271.88324924,\n",
       "        2456271.88483852,  2456271.88642321,  2456271.88801139,\n",
       "        2456271.88959721,  2456271.89118444,  2456271.89277038,\n",
       "        2456271.89435829,  2456271.89594644,  2456271.89753378,\n",
       "        2456271.89912207,  2456271.90070671,  2456271.90229289,\n",
       "        2456271.90387957,  2456271.90546757,  2456271.90705724,\n",
       "        2456271.90864318,  2456271.91023169,  2456271.91181903,\n",
       "        2456271.91340613,  2456271.91499207,  2456271.9165776 ,\n",
       "        2456271.91816572,  2456271.91975503,  2456271.92134332,\n",
       "        2456271.92292995,  2456271.92451706,  2456271.92610264,\n",
       "        2456271.92768953,  2456271.92927628,  2456271.93086279,\n",
       "        2456271.93245109,  2456271.93404028,  2456271.93562798,\n",
       "        2456271.93721368,  2456271.93880043,  2456271.94038732,\n",
       "        2456271.94197407,  2456271.9435607 ,  2456271.94514786,\n",
       "        2456271.94673473])"
      ]
     },
     "execution_count": 25,
     "metadata": {},
     "output_type": "execute_result"
    }
   ],
   "source": [
    "hjd"
   ]
  },
  {
   "cell_type": "markdown",
   "metadata": {},
   "source": [
    "# Error 404: Date don't found!\n",
    "\n",
    "Yes, and I know why! THe date in abxo2b*.fits images are the date from when it were created. Because of that, we need to extract the date from original images!"
   ]
  },
  {
   "cell_type": "code",
   "execution_count": 30,
   "metadata": {
    "collapsed": true
   },
   "outputs": [],
   "source": [
    "os.chdir('../')\n",
    "images = glob.glob('xo2b*.fits')\n",
    "os.chdir(save_path)"
   ]
  },
  {
   "cell_type": "code",
   "execution_count": 33,
   "metadata": {
    "collapsed": false
   },
   "outputs": [
    {
     "name": "stdout",
     "output_type": "stream",
     "text": [
      "['xo2b.0002.fits', 'xo2b.0004.fits', 'xo2b.0006.fits', 'xo2b.0008.fits', 'xo2b.0010.fits', 'xo2b.0012.fits', 'xo2b.0014.fits', 'xo2b.0016.fits', 'xo2b.0018.fits', 'xo2b.0020.fits', 'xo2b.0022.fits', 'xo2b.0024.fits', 'xo2b.0026.fits', 'xo2b.0028.fits', 'xo2b.0030.fits', 'xo2b.0032.fits', 'xo2b.0034.fits', 'xo2b.0036.fits', 'xo2b.0038.fits', 'xo2b.0040.fits', 'xo2b.0042.fits', 'xo2b.0044.fits', 'xo2b.0046.fits', 'xo2b.0048.fits', 'xo2b.0050.fits', 'xo2b.0052.fits', 'xo2b.0054.fits', 'xo2b.0056.fits', 'xo2b.0058.fits', 'xo2b.0060.fits', 'xo2b.0062.fits', 'xo2b.0064.fits', 'xo2b.0066.fits', 'xo2b.0068.fits', 'xo2b.0070.fits', 'xo2b.0072.fits', 'xo2b.0074.fits', 'xo2b.0076.fits', 'xo2b.0078.fits', 'xo2b.0080.fits', 'xo2b.0082.fits', 'xo2b.0084.fits', 'xo2b.0086.fits', 'xo2b.0088.fits', 'xo2b.0090.fits', 'xo2b.0092.fits', 'xo2b.0094.fits', 'xo2b.0096.fits', 'xo2b.0098.fits', 'xo2b.0100.fits', 'xo2b.0102.fits', 'xo2b.0104.fits', 'xo2b.0106.fits', 'xo2b.0108.fits', 'xo2b.0110.fits', 'xo2b.0112.fits', 'xo2b.0114.fits', 'xo2b.0116.fits', 'xo2b.0118.fits', 'xo2b.0120.fits', 'xo2b.0122.fits', 'xo2b.0124.fits', 'xo2b.0126.fits', 'xo2b.0128.fits', 'xo2b.0130.fits', 'xo2b.0132.fits', 'xo2b.0134.fits', 'xo2b.0136.fits', 'xo2b.0138.fits', 'xo2b.0140.fits', 'xo2b.0142.fits', 'xo2b.0144.fits', 'xo2b.0146.fits', 'xo2b.0148.fits', 'xo2b.0150.fits', 'xo2b.0152.fits', 'xo2b.0154.fits', 'xo2b.0156.fits', 'xo2b.0158.fits', 'xo2b.0160.fits', 'xo2b.0162.fits', 'xo2b.0164.fits', 'xo2b.0166.fits', 'xo2b.0168.fits', 'xo2b.0170.fits', 'xo2b.0172.fits', 'xo2b.0174.fits', 'xo2b.0176.fits', 'xo2b.0178.fits', 'xo2b.0180.fits', 'xo2b.0182.fits', 'xo2b.0184.fits', 'xo2b.0186.fits', 'xo2b.0188.fits', 'xo2b.0190.fits', 'xo2b.0192.fits', 'xo2b.0194.fits', 'xo2b.0196.fits', 'xo2b.0198.fits', 'xo2b.0200.fits', 'xo2b.0202.fits', 'xo2b.0204.fits', 'xo2b.0206.fits', 'xo2b.0208.fits', 'xo2b.0210.fits', 'xo2b.0212.fits', 'xo2b.0214.fits', 'xo2b.0216.fits', 'xo2b.0218.fits', 'xo2b.0220.fits', 'xo2b.0222.fits', 'xo2b.0224.fits', 'xo2b.0226.fits', 'xo2b.0228.fits', 'xo2b.0230.fits', 'xo2b.0232.fits', 'xo2b.0234.fits', 'xo2b.0236.fits', 'xo2b.0238.fits', 'xo2b.0240.fits', 'xo2b.0242.fits', 'xo2b.0244.fits', 'xo2b.0246.fits', 'xo2b.0248.fits', 'xo2b.0250.fits', 'xo2b.0252.fits', 'xo2b.0254.fits', 'xo2b.0256.fits', 'xo2b.0258.fits', 'xo2b.0260.fits', 'xo2b.0262.fits', 'xo2b.0264.fits', 'xo2b.0266.fits']\n"
     ]
    }
   ],
   "source": [
    "print images"
   ]
  },
  {
   "cell_type": "code",
   "execution_count": 37,
   "metadata": {
    "collapsed": false
   },
   "outputs": [
    {
     "name": "stdout",
     "output_type": "stream",
     "text": [
      "Percent: [##########] 100% Done...\n"
     ]
    }
   ],
   "source": [
    "fits_time = []\n",
    "os.chdir(data_path)\n",
    "for i in range(len(images)):\n",
    "    im,hdr = fits.getdata(images[i],header=True) #reading the fits image (data + header)\n",
    "    fits_time.append(hdr['DATE'])\n",
    "    update_progress((i+1.)/len(images))\n",
    "os.chdir(save_path)"
   ]
  },
  {
   "cell_type": "code",
   "execution_count": 39,
   "metadata": {
    "collapsed": false
   },
   "outputs": [
    {
     "name": "stdout",
     "output_type": "stream",
     "text": [
      "['2012-12-10T05:30:40', '2012-12-10T05:32:57', '2012-12-10T05:35:14', '2012-12-10T05:37:31', '2012-12-10T05:39:48', '2012-12-10T05:42:05', '2012-12-10T05:44:22', '2012-12-10T05:46:39', '2012-12-10T05:48:56', '2012-12-10T05:51:13', '2012-12-10T05:53:30', '2012-12-10T05:55:49', '2012-12-10T05:58:06', '2012-12-10T06:00:23', '2012-12-10T06:02:40', '2012-12-10T06:04:57', '2012-12-10T06:07:14', '2012-12-10T06:09:31', '2012-12-10T06:11:48', '2012-12-10T06:14:05', '2012-12-10T06:16:22', '2012-12-10T06:18:39', '2012-12-10T06:20:56', '2012-12-10T06:23:14', '2012-12-10T06:25:31', '2012-12-10T06:27:48', '2012-12-10T06:30:05', '2012-12-10T06:32:22', '2012-12-10T06:34:39', '2012-12-10T06:36:56', '2012-12-10T06:39:15', '2012-12-10T06:41:31', '2012-12-10T06:43:48', '2012-12-10T06:46:06', '2012-12-10T06:48:23', '2012-12-10T06:50:38', '2012-12-10T06:52:57', '2012-12-10T06:55:14', '2012-12-10T06:57:29', '2012-12-10T06:59:47', '2012-12-10T07:02:04', '2012-12-10T07:04:21', '2012-12-10T07:06:38', '2012-12-10T07:08:55', '2012-12-10T07:11:12', '2012-12-10T07:13:31', '2012-12-10T07:15:47', '2012-12-10T07:18:04', '2012-12-10T07:20:21', '2012-12-10T07:22:38', '2012-12-10T07:24:55', '2012-12-10T07:27:12', '2012-12-10T07:29:29', '2012-12-10T07:31:46', '2012-12-10T07:34:05', '2012-12-10T07:36:22', '2012-12-10T07:38:39', '2012-12-10T07:40:56', '2012-12-10T07:43:13', '2012-12-10T07:45:30', '2012-12-10T07:47:48', '2012-12-10T07:50:05', '2012-12-10T07:52:22', '2012-12-10T07:54:39', '2012-12-10T07:56:56', '2012-12-10T07:59:12', '2012-12-10T08:01:29', '2012-12-10T08:03:46', '2012-12-10T08:06:04', '2012-12-10T08:08:21', '2012-12-10T08:10:38', '2012-12-10T08:12:55', '2012-12-10T08:15:13', '2012-12-10T08:17:29', '2012-12-10T08:19:46', '2012-12-10T08:22:03', '2012-12-10T08:24:22', '2012-12-10T08:26:38', '2012-12-10T08:28:55', '2012-12-10T08:31:12', '2012-12-10T08:33:30', '2012-12-10T08:35:46', '2012-12-10T08:38:03', '2012-12-10T08:40:21', '2012-12-10T08:42:38', '2012-12-10T08:44:54', '2012-12-10T08:47:11', '2012-12-10T08:49:29', '2012-12-10T08:51:45', '2012-12-10T08:59:33', '2012-12-10T09:01:50', '2012-12-10T09:04:07', '2012-12-10T09:06:24', '2012-12-10T09:08:41', '2012-12-10T09:10:58', '2012-12-10T09:13:15', '2012-12-10T09:15:32', '2012-12-10T09:17:51', '2012-12-10T09:20:06', '2012-12-10T09:22:25', '2012-12-10T09:24:42', '2012-12-10T09:26:59', '2012-12-10T09:29:17', '2012-12-10T09:31:32', '2012-12-10T09:33:49', '2012-12-10T09:36:06', '2012-12-10T09:38:23', '2012-12-10T09:40:42', '2012-12-10T09:42:57', '2012-12-10T09:45:14', '2012-12-10T09:47:34', '2012-12-10T09:49:51', '2012-12-10T09:52:06', '2012-12-10T09:54:23', '2012-12-10T09:56:42', '2012-12-10T09:58:59', '2012-12-10T10:01:16', '2012-12-10T10:03:33', '2012-12-10T10:05:50', '2012-12-10T10:08:07', '2012-12-10T10:10:24', '2012-12-10T10:12:41', '2012-12-10T10:14:58', '2012-12-10T10:17:15', '2012-12-10T10:19:32', '2012-12-10T10:21:49', '2012-12-10T10:24:06', '2012-12-10T10:26:24', '2012-12-10T10:28:41', '2012-12-10T10:30:58', '2012-12-10T10:33:15', '2012-12-10T10:35:32', '2012-12-10T10:37:49']\n"
     ]
    }
   ],
   "source": [
    "print fits_time"
   ]
  },
  {
   "cell_type": "code",
   "execution_count": 40,
   "metadata": {
    "collapsed": true
   },
   "outputs": [],
   "source": [
    "#Let's make to all time series\n",
    "serie = np.zeros(len(fits_time))\n",
    "for i in range(len(fits_time)):\n",
    "    serie[i] = Time(fits_time[i],format=u'fits').jd"
   ]
  },
  {
   "cell_type": "code",
   "execution_count": 41,
   "metadata": {
    "collapsed": false,
    "scrolled": true
   },
   "outputs": [
    {
     "data": {
      "text/plain": [
       "array([ 2456271.72962963,  2456271.73121528,  2456271.73280093,\n",
       "        2456271.73438657,  2456271.73597222,  2456271.73755787,\n",
       "        2456271.73914352,  2456271.74072917,  2456271.74231481,\n",
       "        2456271.74390046,  2456271.74548611,  2456271.74709491,\n",
       "        2456271.74868056,  2456271.7502662 ,  2456271.75185185,\n",
       "        2456271.7534375 ,  2456271.75502315,  2456271.7566088 ,\n",
       "        2456271.75819444,  2456271.75978009,  2456271.76136574,\n",
       "        2456271.76295139,  2456271.76453704,  2456271.76613426,\n",
       "        2456271.76771991,  2456271.76930556,  2456271.7708912 ,\n",
       "        2456271.77247685,  2456271.7740625 ,  2456271.77564815,\n",
       "        2456271.77725694,  2456271.77883102,  2456271.78041667,\n",
       "        2456271.78201389,  2456271.78359954,  2456271.78516204,\n",
       "        2456271.78677083,  2456271.78835648,  2456271.78991898,\n",
       "        2456271.7915162 ,  2456271.79310185,  2456271.7946875 ,\n",
       "        2456271.79627315,  2456271.7978588 ,  2456271.79944444,\n",
       "        2456271.80105324,  2456271.80262731,  2456271.80421296,\n",
       "        2456271.80579861,  2456271.80738426,  2456271.80896991,\n",
       "        2456271.81055556,  2456271.8121412 ,  2456271.81372685,\n",
       "        2456271.81533565,  2456271.8169213 ,  2456271.81850694,\n",
       "        2456271.82009259,  2456271.82167824,  2456271.82326389,\n",
       "        2456271.82486111,  2456271.82644676,  2456271.82803241,\n",
       "        2456271.82961806,  2456271.8312037 ,  2456271.83277778,\n",
       "        2456271.83436343,  2456271.83594907,  2456271.8375463 ,\n",
       "        2456271.83913194,  2456271.84071759,  2456271.84230324,\n",
       "        2456271.84390046,  2456271.84547454,  2456271.84706019,\n",
       "        2456271.84864583,  2456271.85025463,  2456271.8518287 ,\n",
       "        2456271.85341435,  2456271.855     ,  2456271.85659722,\n",
       "        2456271.8581713 ,  2456271.85975694,  2456271.86135417,\n",
       "        2456271.86293982,  2456271.86451389,  2456271.86609954,\n",
       "        2456271.86769676,  2456271.86927083,  2456271.8746875 ,\n",
       "        2456271.87627315,  2456271.8778588 ,  2456271.87944444,\n",
       "        2456271.88103009,  2456271.88261574,  2456271.88420139,\n",
       "        2456271.88578704,  2456271.88739583,  2456271.88895833,\n",
       "        2456271.89056713,  2456271.89215278,  2456271.89373843,\n",
       "        2456271.89533565,  2456271.89689815,  2456271.8984838 ,\n",
       "        2456271.90006944,  2456271.90165509,  2456271.90326389,\n",
       "        2456271.90482639,  2456271.90641204,  2456271.90803241,\n",
       "        2456271.90961806,  2456271.91118056,  2456271.9127662 ,\n",
       "        2456271.914375  ,  2456271.91596065,  2456271.9175463 ,\n",
       "        2456271.91913194,  2456271.92071759,  2456271.92230324,\n",
       "        2456271.92388889,  2456271.92547454,  2456271.92706019,\n",
       "        2456271.92864583,  2456271.93023148,  2456271.93181713,\n",
       "        2456271.93340278,  2456271.935     ,  2456271.93658565,\n",
       "        2456271.9381713 ,  2456271.93975694,  2456271.94134259,\n",
       "        2456271.94292824])"
      ]
     },
     "execution_count": 41,
     "metadata": {},
     "output_type": "execute_result"
    }
   ],
   "source": [
    "serie"
   ]
  },
  {
   "cell_type": "code",
   "execution_count": 42,
   "metadata": {
    "collapsed": false,
    "scrolled": true
   },
   "outputs": [
    {
     "data": {
      "text/plain": [
       "array([ 2456271.73341416,  2456271.73500032,  2456271.73658732,\n",
       "        2456271.73817571,  2456271.73976282,  2456271.74134749,\n",
       "        2456271.74293369,  2456271.74452332,  2456271.74611159,\n",
       "        2456271.74770068,  2456271.74928778,  2456271.75087894,\n",
       "        2456271.75246511,  2456271.75405489,  2456271.75564094,\n",
       "        2456271.75722936,  2456271.75881575,  2456271.76040088,\n",
       "        2456271.76198718,  2456271.76357476,  2456271.76516428,\n",
       "        2456271.76675049,  2456271.76834025,  2456271.76992679,\n",
       "        2456271.77151205,  2456271.77309939,  2456271.77468441,\n",
       "        2456271.77627288,  2456271.77785921,  2456271.77944909,\n",
       "        2456271.78103771,  2456271.78262386,  2456271.78420996,\n",
       "        2456271.78579646,  2456271.78738357,  2456271.78896966,\n",
       "        2456271.79055909,  2456271.79214536,  2456271.79373366,\n",
       "        2456271.79532109,  2456271.79690739,  2456271.79849393,\n",
       "        2456271.80008127,  2456271.80166733,  2456271.80325306,\n",
       "        2456271.80484315,  2456271.80642912,  2456271.80801634,\n",
       "        2456271.80960357,  2456271.81119091,  2456271.81277593,\n",
       "        2456271.81436548,  2456271.8159527 ,  2456271.81753909,\n",
       "        2456271.81912679,  2456271.82071402,  2456271.82229999,\n",
       "        2456271.82388638,  2456271.82547464,  2456271.82706315,\n",
       "        2456271.82864829,  2456271.83023819,  2456271.83182643,\n",
       "        2456271.83341008,  2456271.83499799,  2456271.83658381,\n",
       "        2456271.83817187,  2456271.83975802,  2456271.84134736,\n",
       "        2456271.84293386,  2456271.84452121,  2456271.84610843,\n",
       "        2456271.84769682,  2456271.849283  ,  2456271.8508693 ,\n",
       "        2456271.85245628,  2456271.85404375,  2456271.85563019,\n",
       "        2456271.85721971,  2456271.85880518,  2456271.86039368,\n",
       "        2456271.8619779 ,  2456271.86356643,  2456271.8651513 ,\n",
       "        2456271.86674106,  2456271.86832703,  2456271.86991574,\n",
       "        2456271.87150067,  2456271.87308906,  2456271.87848769,\n",
       "        2456271.88007492,  2456271.88166315,  2456271.88324924,\n",
       "        2456271.88483852,  2456271.88642321,  2456271.88801139,\n",
       "        2456271.88959721,  2456271.89118444,  2456271.89277038,\n",
       "        2456271.89435829,  2456271.89594644,  2456271.89753378,\n",
       "        2456271.89912207,  2456271.90070671,  2456271.90229289,\n",
       "        2456271.90387957,  2456271.90546757,  2456271.90705724,\n",
       "        2456271.90864318,  2456271.91023169,  2456271.91181903,\n",
       "        2456271.91340613,  2456271.91499207,  2456271.9165776 ,\n",
       "        2456271.91816572,  2456271.91975503,  2456271.92134332,\n",
       "        2456271.92292995,  2456271.92451706,  2456271.92610264,\n",
       "        2456271.92768953,  2456271.92927628,  2456271.93086279,\n",
       "        2456271.93245109,  2456271.93404028,  2456271.93562798,\n",
       "        2456271.93721368,  2456271.93880043,  2456271.94038732,\n",
       "        2456271.94197407,  2456271.9435607 ,  2456271.94514786,\n",
       "        2456271.94673473])"
      ]
     },
     "execution_count": 42,
     "metadata": {},
     "output_type": "execute_result"
    }
   ],
   "source": [
    "hjd"
   ]
  },
  {
   "cell_type": "code",
   "execution_count": 44,
   "metadata": {
    "collapsed": false
   },
   "outputs": [],
   "source": [
    "diff = serie-hjd"
   ]
  },
  {
   "cell_type": "code",
   "execution_count": 46,
   "metadata": {
    "collapsed": false
   },
   "outputs": [
    {
     "data": {
      "text/plain": [
       "(-0.003819652833044529, -0.003780765924602747)"
      ]
     },
     "execution_count": 46,
     "metadata": {},
     "output_type": "execute_result"
    },
    {
     "data": {
      "image/png": "[encoded data removed]",
      "text/plain": [
       "<matplotlib.figure.Figure at 0x6226b38>"
      ]
     },
     "metadata": {},
     "output_type": "display_data"
    }
   ],
   "source": [
    "plt.figure()\n",
    "plt.grid()\n",
    "plt.scatter(hjd,diff)\n",
    "plt.ylim(min(diff),max(diff))"
   ]
  },
  {
   "cell_type": "code",
   "execution_count": 48,
   "metadata": {
    "collapsed": false
   },
   "outputs": [],
   "source": [
    "im,hdr = fits.getdata('../'+images[0],header=True)"
   ]
  },
  {
   "cell_type": "code",
   "execution_count": 49,
   "metadata": {
    "collapsed": false
   },
   "outputs": [
    {
     "data": {
      "text/plain": [
       "SIMPLE  =                    T / Fits standard                                  \n",
       "BITPIX  =                  -32 / Bits per pixel                                 \n",
       "NAXIS   =                    2 / Number of axes                                 \n",
       "NAXIS1  =                 1365 / Axis length                                    \n",
       "NAXIS2  =                 1365 / Axis length                                    \n",
       "EXTEND  =                    F / File may contain extensions                    \n",
       "ORIGIN  = 'NOAO-IRAF FITS Image Kernel July 2003' / FITS file originator        \n",
       "DATE    = '2012-12-10T05:30:40' / Date FITS file was generated                  \n",
       "IRAF-TLM= '2012-12-10T05:31:44' / Time of last modification                     \n",
       "OBJECT  = 'XO-2b   '           / Name of the object observed                    \n",
       "DETSIZE = '[1:4096,1:4096]'    / Detector size                                  \n",
       "CCDSUM  = '3 3     '           / CCD pixel summing                              \n",
       "CCDBIN1 =                    3 / Binning factor along axis 1                    \n",
       "CCDBIN2 =                    3 / Binning factor along axis 2                    \n",
       "FILENAME= 'xo2b.0002.fits'     / base filename at acquisition                   \n",
       "NCCDS   =                    1 / Number of CCDs                                 \n",
       "NAMPS   =                    2 / Number of amplifiers                           \n",
       "DARKCUR = '0.0     '           / Average dark current (e-/pixel/hour)           \n",
       "DARKTIME=               25.101 / Dark time (seconds)                            \n",
       "DATE-OBS= '2012-12-10'         / UTC shutter opened                             \n",
       "DETECTOR= 'mont4k sn3088'      / Detector name                                  \n",
       "DETGAIN =                    5 / Video gain setting                             \n",
       "EXPREQ  =                 25.0 / Exposure time requested (seconds)              \n",
       "EXPTIME =                 25.0 / Exposure time (seconds)                        \n",
       "GAIN1   = '3.19    '           / Conversion gain (e-/DN) for amp 1              \n",
       "GAIN2   = '3.08    '           / Conversion gain (e-/DN) for amp 2              \n",
       "IMAGETYP= 'object  '           / Image type                                     \n",
       "INSTRUME= 'mont4k  '           / Instrument name                                \n",
       "LOCTIME = '22:29:57'           / Local time at start of exposure                \n",
       "OBSERVAT= 'mtbigelow'          / Observatory                                    \n",
       "OBSERVER= 'Turner Teske'                                                        \n",
       "PCIFILE = 'pci2.lod'           / PCI board DSP code filename                    \n",
       "PIXSCAL1= '0.15    '           / Pixel scale for axis 1 (arcsec/unbinned pixel) \n",
       "PIXSCAL2= '0.15    '           / Pixel scale for axis 2 (arcsec/unbinned pixel) \n",
       "PIXSIZE1= '15.0    '           / Pixel size for axis 1 (microns)                \n",
       "PIXSIZE2= '15.0    '           / Pixel size for axis 2 (microns)                \n",
       "RDNOISE1= '6.3     '           / Read noise (electrons) for amp 1               \n",
       "RDNOISE2= '6.7     '           / Read noise (electrons) for amp 2               \n",
       "SITEELEV= '2510    '           / Altitude (meters)                              \n",
       "SITELAT = '32:24:59.3'         / Latitude (DD:MM:SS.S North)                    \n",
       "SITELONG= '110:44:04.3'        / Longitude (DD:MM:SS.S West)                    \n",
       "TELESCOP= 'bigelow-1.55m'      / Telescope name                                 \n",
       "TIME-OBS= '05:29:57.274'       / UTC at start of exposure                       \n",
       "TIMESYS = 'UTC     '           / Time system                                    \n",
       "TIMEZONE=                    7 / Local time zone                                \n",
       "TIMFILE = 'tim2_split.lod'     / Timing board DSP code filename                 \n",
       "UT      = '05:29:57.274'       / UTC at start of exposure                       \n",
       "UTC-OBS = '05:29:57.274'       / UTC at start of exposure                       \n",
       "UTILFILE= 'util2.lod'          / Utility board DSP code filename                \n",
       "VIDGAIN =                    5 / Video gain setting                             \n",
       "VIDSPEED=                    1 / Video speed setting                            \n",
       "ITL-HEAD= 'OK      '           / ITL Header flag                                \n",
       "N-AMPS-X=                    2 / Number of amplifiers in X                      \n",
       "N-AMPS-Y=                    1 / Number of amplifiers in Y                      \n",
       "N-DET-X =                    1 / Number of detectors in X                       \n",
       "N-DET-Y =                    1 / Number of detectors in Y                       \n",
       "NUM-AMPX=                    2 / Number of amplifiers in X                      \n",
       "NUM-AMPY=                    1 / Number of amplifiers in Y                      \n",
       "NUM-DETX=                    1 / Number of detectors in X                       \n",
       "NUM-DETY=                    1 / Number of detectors in Y                       \n",
       "REF-PIX1=                 2048 / Reference pixel 1                              \n",
       "REF-PIX2=                 2048 / Reference pixel 2                              \n",
       "SYS-MOD = '' / System module                                                    \n",
       "CAMTEMP =               -120.0 / Camera temperature in C                        \n",
       "DEWTEMP =             -197.666 / Dewar temperature in C                         \n",
       "XTKCOEF =          2.600000E-4                                                  \n",
       "BUNIT   = 'ADU     '           / Physical unit of array values                  \n",
       "COMMENT Image                                                                   \n",
       "CCDSIZE = '[1:4096,1:4096]'    / CCD size                                       \n",
       "AMPSEC  = '[1:4095,1:4095]'    / Amplifier section                              \n",
       "DETSEC  = '[1:4095,1:4095]'    / Detector section                               \n",
       "CCDSEC  = '[1:4095,1:4095]'    / CCD section                                    \n",
       "CCDSEC1 = '[1:683,1:1366]'     / CCD section with binning                       \n",
       "OVRSCAN1=                   20 / Overscan on axis 1                             \n",
       "OVRSCAN2=                    0 / Overscan on axis 2                             \n",
       "PRESCAN1=                    0 / Underscan on axis 1                            \n",
       "PRESCAN2=                    0 / Underscan on axis 2                            \n",
       "LTM1_1  =   0.3333333432674408 / CCD to image transformation                    \n",
       "LTM2_2  =   0.3333333432674408 / CCD to image transformation                    \n",
       "LTV1    =    0.333333343267441 / CCD to image transformation                    \n",
       "LTV2    =    0.333333313465118 / CCD to image transformation                    \n",
       "ATM1_1  =                    1 / CCD to amplifier transformation                \n",
       "ATM2_2  =                    1 / CCD to amplifier transformation                \n",
       "ATV1    =                    0 / CCD to amplifier transformation                \n",
       "ATV2    =                    0 / CCD to amplifier transformation                \n",
       "DTM1_1  =                    1 / CCD to detector transformation                 \n",
       "DTM2_2  =                    1 / CCD to detector transformation                 \n",
       "DTV1    =                    0 / CCD to detector transformation                 \n",
       "DTV2    =                    0 / CCD to detector transformation                 \n",
       "COMMENT WCS                                                                     \n",
       "EQUINOX =                 2000 / Equinox of WCS                                 \n",
       "WCSDIM  =                    2 / WCS Dimensionality                             \n",
       "CTYPE1  = 'RA---TNX'           / Coordinate type                                \n",
       "CTYPE2  = 'DEC--TNX'           / Coordinate type                                \n",
       "CRPIX1  =     682.333333343267 / Coordinate reference pixel                     \n",
       "CRPIX2  =     682.333333313465 / Coordinate reference pixel                     \n",
       "CD1_1   =          0.000119166 / Coordinate matrix                              \n",
       "CD2_2   =          0.000119166 / Coordinate matrix                              \n",
       "AMP-CFG =                    0 / Amplifier configuration                        \n",
       "DET-NUM =                    1 / Detector number                                \n",
       "EXT-NUM =                    1 / Extension number                               \n",
       "JPG-EXT =                    1 / Image section                                  \n",
       "DET-POSX=                    1 / Detector position in X                         \n",
       "DET-POSY=                    1 / Detector position in Y                         \n",
       "EXT-POSX=                    1 / Amplifier position in X                        \n",
       "EXT-POSY=                    1 / Amplifier position in Y                        \n",
       "AMP-PIX1=                    1 / Amplifier pixel position in X                  \n",
       "AMP-PIX2=                    1 / Amplifier pixel position in Y                  \n",
       "CDELT1  =  1.19166000000000E-4                                                  \n",
       "CDELT2  =  1.19166000000000E-4                                                  \n",
       "WAT0_001= 'system=image'                                                        \n",
       "WAT1_001= 'wtype=tnx axtype=ra'                                                 \n",
       "WAT2_001= 'wtype=tnx axtype=dec'                                                \n",
       "TRIM    = '[1:682,1:1365]'                                                      \n",
       "OVERSCAN= '[688:702,1:1365]'                                                    \n",
       "OVSCMED1=             928.2615                                                  \n",
       "OVSCMED2=             916.6032                                                  \n",
       "                                                                                \n",
       "                                                                                \n",
       "                                                                                \n",
       "                                                                                \n",
       "                                                                                \n",
       "                                                                                \n",
       "                                                                                \n",
       "                                                                                \n",
       "                                                                                \n",
       "                                                                                \n",
       "                                                                                \n",
       "                                                                                \n",
       "                                                                                \n",
       "                                                                                \n",
       "                                                                                \n",
       "                                                                                \n",
       "                                                                                \n",
       "                                                                                \n",
       "                                                                                \n",
       "                                                                                \n",
       "                                                                                \n",
       "                                                                                \n",
       "                                                                                \n",
       "                                                                                \n",
       "                                                                                \n",
       "                                                                                "
      ]
     },
     "execution_count": 49,
     "metadata": {},
     "output_type": "execute_result"
    }
   ],
   "source": [
    "hdr"
   ]
  },
  {
   "cell_type": "code",
   "execution_count": 51,
   "metadata": {
    "collapsed": false
   },
   "outputs": [
    {
     "data": {
      "text/plain": [
       "('22:29:57', '2012-12-10')"
      ]
     },
     "execution_count": 51,
     "metadata": {},
     "output_type": "execute_result"
    }
   ],
   "source": [
    "hdr['LOCTIME'],hdr['DATE-OBS']"
   ]
  },
  {
   "cell_type": "code",
   "execution_count": 54,
   "metadata": {
    "collapsed": true
   },
   "outputs": [],
   "source": [
    "tempo_imagem = hdr['DATE-OBS']+' '+hdr['LOCTIME']"
   ]
  },
  {
   "cell_type": "code",
   "execution_count": 55,
   "metadata": {
    "collapsed": false
   },
   "outputs": [
    {
     "name": "stdout",
     "output_type": "stream",
     "text": [
      "2012-12-10 22:29:57\n"
     ]
    }
   ],
   "source": [
    "print tempo_imagem"
   ]
  },
  {
   "cell_type": "code",
   "execution_count": 58,
   "metadata": {
    "collapsed": false
   },
   "outputs": [],
   "source": [
    "teste = Time(tempo_imagem,format=u'iso')"
   ]
  },
  {
   "cell_type": "code",
   "execution_count": 59,
   "metadata": {
    "collapsed": false
   },
   "outputs": [
    {
     "data": {
      "text/plain": [
       "2456272.437465278"
      ]
     },
     "execution_count": 59,
     "metadata": {},
     "output_type": "execute_result"
    }
   ],
   "source": [
    "teste.jd #Nope"
   ]
  },
  {
   "cell_type": "code",
   "execution_count": 60,
   "metadata": {
    "collapsed": false
   },
   "outputs": [
    {
     "data": {
      "text/plain": [
       "2456271.7334141601"
      ]
     },
     "execution_count": 60,
     "metadata": {},
     "output_type": "execute_result"
    }
   ],
   "source": [
    "hjd[0]"
   ]
  },
  {
   "cell_type": "code",
   "execution_count": 61,
   "metadata": {
    "collapsed": false
   },
   "outputs": [
    {
     "data": {
      "text/plain": [
       "'05:29:57.274'"
      ]
     },
     "execution_count": 61,
     "metadata": {},
     "output_type": "execute_result"
    }
   ],
   "source": [
    "#****** change time\n",
    "hdr['UT']"
   ]
  },
  {
   "cell_type": "code",
   "execution_count": 69,
   "metadata": {
    "collapsed": true
   },
   "outputs": [],
   "source": [
    "location = '+32:24:59.3 110:44:04.3'"
   ]
  },
  {
   "cell_type": "code",
   "execution_count": 75,
   "metadata": {
    "collapsed": false
   },
   "outputs": [],
   "source": [
    "teste = Time(hdr['DATE-OBS']+'T'+hdr['UT'],format='isot',scale='utc')"
   ]
  },
  {
   "cell_type": "code",
   "execution_count": 76,
   "metadata": {
    "collapsed": false
   },
   "outputs": [
    {
     "data": {
      "text/plain": [
       "<Time object: scale='utc' format='isot' value=2012-12-10T05:29:57.274>"
      ]
     },
     "execution_count": 76,
     "metadata": {},
     "output_type": "execute_result"
    }
   ],
   "source": [
    "teste"
   ]
  },
  {
   "cell_type": "code",
   "execution_count": 77,
   "metadata": {
    "collapsed": false
   },
   "outputs": [
    {
     "data": {
      "text/plain": [
       "2456271.7291351156"
      ]
     },
     "execution_count": 77,
     "metadata": {},
     "output_type": "execute_result"
    }
   ],
   "source": [
    "teste.jd"
   ]
  },
  {
   "cell_type": "code",
   "execution_count": 78,
   "metadata": {
    "collapsed": false
   },
   "outputs": [
    {
     "data": {
      "text/plain": [
       "2456271.7334141601"
      ]
     },
     "execution_count": 78,
     "metadata": {},
     "output_type": "execute_result"
    }
   ],
   "source": [
    "hjd[0]"
   ]
  },
  {
   "cell_type": "code",
   "execution_count": null,
   "metadata": {
    "collapsed": true
   },
   "outputs": [],
   "source": []
  }
 ],
 "metadata": {
  "kernelspec": {
   "display_name": "Python 2",
   "language": "python",
   "name": "python2"
  },
  "language_info": {
   "codemirror_mode": {
    "name": "ipython",
    "version": 2
   },
   "file_extension": ".py",
   "mimetype": "text/x-python",
   "name": "python",
   "nbconvert_exporter": "python",
   "pygments_lexer": "ipython2",
   "version": "2.7.11"
  }
 },
 "nbformat": 4,
 "nbformat_minor": 0
}
