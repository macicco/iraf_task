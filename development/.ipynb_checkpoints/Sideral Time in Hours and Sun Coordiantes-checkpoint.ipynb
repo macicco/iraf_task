{
 "metadata": {
  "name": "",
  "signature": "sha256:754d40c1dd95342bd0dce7a3744485130e01c10d32b3713c2b648c4002ea1bbd"
 },
 "nbformat": 3,
 "nbformat_minor": 0,
 "worksheets": [
  {
   "cells": [
    {
     "cell_type": "code",
     "collapsed": false,
     "input": [
      "from astropy.io import fits #import and export fits images\n",
      "from astropy.time import Time #control time in fits images\n",
      "import glob #package for list files\n",
      "import os #package for control bash commands\n",
      "import yaml #input data without any trouble\n",
      "#import string #transform a list in a string of caracters\n",
      "import useful_functions as use\n",
      "import numpy as np\n",
      "#from pandas import HDFStore #save data in a database"
     ],
     "language": "python",
     "metadata": {},
     "outputs": [],
     "prompt_number": 1
    },
    {
     "cell_type": "code",
     "collapsed": false,
     "input": [
      "pwd"
     ],
     "language": "python",
     "metadata": {},
     "outputs": [
      {
       "metadata": {},
       "output_type": "pyout",
       "prompt_number": 2,
       "text": [
        "u'/home/walter/MEGA/work/codes/iraf_task'"
       ]
      }
     ],
     "prompt_number": 2
    },
    {
     "cell_type": "code",
     "collapsed": false,
     "input": [
      "ls"
     ],
     "language": "python",
     "metadata": {},
     "outputs": [
      {
       "output_type": "stream",
       "stream": "stdout",
       "text": [
        "calibrations.py             masterflat.py\r\n",
        "ExoSetupTaskParameters.py   Obtain Universal Time UT using astropy.ipynb\r\n",
        "ExoSetupTaskParameters.pyc  \u001b[0m\u001b[38;5;27mold_input\u001b[0m/\r\n",
        "imstatistics.py             README.md\r\n",
        "input_05jan12.yaml          run.log\r\n",
        "INPUT_PARAMETERS            science.py\r\n",
        "legalcode                   Sideral Time DDMMYY.ipynb\r\n",
        "license                     Sideral Time in Hours.ipynb\r\n",
        "login.py                    time_info.py\r\n",
        "login.pyc                   useful_functions.py\r\n",
        "masterbias.py               useful_functions.pyc\r\n"
       ]
      }
     ],
     "prompt_number": 3
    },
    {
     "cell_type": "code",
     "collapsed": false,
     "input": [
      "input_data = yaml.load(open('./input_05jan12.yaml'))"
     ],
     "language": "python",
     "metadata": {},
     "outputs": [],
     "prompt_number": 4
    },
    {
     "cell_type": "code",
     "collapsed": false,
     "input": [
      "input_data"
     ],
     "language": "python",
     "metadata": {},
     "outputs": [
      {
       "metadata": {},
       "output_type": "pyout",
       "prompt_number": 5,
       "text": [
        "{'DEC': '+50:13:32.9',\n",
        " 'RA': '07:48:06.46',\n",
        " 'altitude': 2510.0,\n",
        " 'data_path': '/home/walter/exoplanet/xo2b/xo2b_wsmf/05jan12/xo2b.u/',\n",
        " 'date-obs': 'DATE-OBS',\n",
        " 'epoch': '2000.0',\n",
        " 'exoplanet': 'XO2b',\n",
        " 'frame': 'fk5',\n",
        " 'lat-obs': 32.4164722222,\n",
        " 'lon-obs': -110.734527778,\n",
        " 'observatory': 'mtbigelow',\n",
        " 'save_path': '/home/walter/exoplanet/xo2b/xo2b_wsmf/05jan12/xo2b.u/iraf_task/',\n",
        " 'scale-time': 'utc',\n",
        " 'time': 'ut',\n",
        " 'time-obs': 'UT',\n",
        " 'time_zone': 7.0,\n",
        " 'u.DEC': 'degree',\n",
        " 'u.RA': 'degree'}"
       ]
      }
     ],
     "prompt_number": 5
    },
    {
     "cell_type": "code",
     "collapsed": false,
     "input": [
      "os.chdir(input_data['save_path'])"
     ],
     "language": "python",
     "metadata": {},
     "outputs": [],
     "prompt_number": 6
    },
    {
     "cell_type": "code",
     "collapsed": false,
     "input": [
      "ls"
     ],
     "language": "python",
     "metadata": {},
     "outputs": [
      {
       "output_type": "stream",
       "stream": "stdout",
       "text": [
        "ABXO2b.0001.fits  ABXO2b.0089.fits  ABXO2b.0175.fits  ABXO2b.0263.fits\r\n",
        "ABXO2b.0003.fits  ABXO2b.0091.fits  ABXO2b.0179.fits  ABXO2b.0265.fits\r\n",
        "ABXO2b.0005.fits  ABXO2b.0093.fits  ABXO2b.0181.fits  ABXO2b.0269.fits\r\n",
        "ABXO2b.0009.fits  ABXO2b.0095.fits  ABXO2b.0183.fits  ABXO2b.0271.fits\r\n",
        "ABXO2b.0011.fits  ABXO2b.0099.fits  ABXO2b.0185.fits  ABXO2b.0273.fits\r\n",
        "ABXO2b.0013.fits  ABXO2b.0101.fits  ABXO2b.0189.fits  ABXO2b.0275.fits\r\n",
        "ABXO2b.0015.fits  ABXO2b.0103.fits  ABXO2b.0191.fits  ABXO2b.0279.fits\r\n",
        "ABXO2b.0019.fits  ABXO2b.0105.fits  ABXO2b.0193.fits  ABXO2b.0281.fits\r\n",
        "ABXO2b.0021.fits  ABXO2b.0109.fits  ABXO2b.0195.fits  ABXO2b.0283.fits\r\n",
        "ABXO2b.0023.fits  ABXO2b.0111.fits  ABXO2b.0199.fits  ABXO2b.0285.fits\r\n",
        "ABXO2b.0025.fits  ABXO2b.0113.fits  ABXO2b.0201.fits  ABXO2b.0289.fits\r\n",
        "ABXO2b.0029.fits  ABXO2b.0115.fits  ABXO2b.0203.fits  ABXO2b.0291.fits\r\n",
        "ABXO2b.0031.fits  ABXO2b.0119.fits  ABXO2b.0205.fits  ABXO2b.0293.fits\r\n",
        "ABXO2b.0033.fits  ABXO2b.0121.fits  ABXO2b.0209.fits  ABXO2b.0295.fits\r\n",
        "ABXO2b.0035.fits  ABXO2b.0123.fits  ABXO2b.0211.fits  ABXO2b.0299.fits\r\n",
        "ABXO2b.0039.fits  ABXO2b.0125.fits  ABXO2b.0213.fits  ABXO2b.0301.fits\r\n",
        "ABXO2b.0041.fits  ABXO2b.0129.fits  ABXO2b.0215.fits  ABXO2b.0303.fits\r\n",
        "ABXO2b.0043.fits  ABXO2b.0131.fits  ABXO2b.0219.fits  ABXO2b.0305.fits\r\n",
        "ABXO2b.0045.fits  ABXO2b.0133.fits  ABXO2b.0221.fits  ABXO2b.0309.fits\r\n",
        "ABXO2b.0049.fits  ABXO2b.0135.fits  ABXO2b.0223.fits  ABXO2b.0311.fits\r\n",
        "ABXO2b.0051.fits  ABXO2b.0139.fits  ABXO2b.0225.fits  ABXO2b.0313.fits\r\n",
        "ABXO2b.0053.fits  ABXO2b.0141.fits  ABXO2b.0229.fits  ABXO2b.0315.fits\r\n",
        "ABXO2b.0055.fits  ABXO2b.0143.fits  ABXO2b.0231.fits  ABXO2b.0319.fits\r\n",
        "ABXO2b.0059.fits  ABXO2b.0145.fits  ABXO2b.0233.fits  ABXO2b.0321.fits\r\n",
        "ABXO2b.0061.fits  ABXO2b.0149.fits  ABXO2b.0235.fits  ABXO2b.0323.fits\r\n",
        "ABXO2b.0063.fits  ABXO2b.0151.fits  ABXO2b.0239.fits  ABXO2b.0325.fits\r\n",
        "ABXO2b.0065.fits  ABXO2b.0153.fits  ABXO2b.0241.fits  ABXO2b.0329.fits\r\n",
        "ABXO2b.0069.fits  ABXO2b.0155.fits  ABXO2b.0243.fits  ABXO2b.0331.fits\r\n",
        "ABXO2b.0071.fits  ABXO2b.0159.fits  ABXO2b.0245.fits  ABXO2b.0333.fits\r\n",
        "ABXO2b.0073.fits  ABXO2b.0161.fits  ABXO2b.0249.fits  ABXO2b.0335.fits\r\n",
        "ABXO2b.0075.fits  ABXO2b.0163.fits  ABXO2b.0251.fits  ABXO2b.0339.fits\r\n",
        "ABXO2b.0079.fits  ABXO2b.0165.fits  ABXO2b.0253.fits  ABXO2b.0341.fits\r\n",
        "ABXO2b.0081.fits  ABXO2b.0169.fits  ABXO2b.0255.fits  superbias.fits\r\n",
        "ABXO2b.0083.fits  ABXO2b.0171.fits  ABXO2b.0259.fits  superflat.fits\r\n",
        "ABXO2b.0085.fits  ABXO2b.0173.fits  ABXO2b.0261.fits\r\n"
       ]
      }
     ],
     "prompt_number": 7
    },
    {
     "cell_type": "code",
     "collapsed": false,
     "input": [
      "images = sorted(glob.glob('AB'+input_data['exoplanet']+'*.fits'))"
     ],
     "language": "python",
     "metadata": {},
     "outputs": [],
     "prompt_number": 8
    },
    {
     "cell_type": "code",
     "collapsed": false,
     "input": [
      "tempo_loc = [] #time object\n",
      "JD = np.zeros(len(images)) #julian date from time object\n",
      "ST = np.zeros(len(images))"
     ],
     "language": "python",
     "metadata": {},
     "outputs": [],
     "prompt_number": 9
    },
    {
     "cell_type": "code",
     "collapsed": false,
     "input": [
      "#teste para uma imagem\n",
      "\n",
      "hdr = fits.getheader(images[0])\n",
      "UTC = hdr['date-obs']+'T'+hdr['UT'] #string that contain the time in UTC in isot format"
     ],
     "language": "python",
     "metadata": {},
     "outputs": [],
     "prompt_number": 10
    },
    {
     "cell_type": "code",
     "collapsed": false,
     "input": [
      "tempo = Time(UTC,scale=input_data['scale-time'],format='isot',location=(input_data['lon-obs'],input_data['lat-obs']))#,input_data['altitude']))\n"
     ],
     "language": "python",
     "metadata": {},
     "outputs": [],
     "prompt_number": 20
    },
    {
     "cell_type": "code",
     "collapsed": false,
     "input": [
      "print tempo"
     ],
     "language": "python",
     "metadata": {},
     "outputs": [
      {
       "output_type": "stream",
       "stream": "stdout",
       "text": [
        "2012-01-05T03:48:01.246\n"
       ]
      }
     ],
     "prompt_number": 21
    },
    {
     "cell_type": "code",
     "collapsed": false,
     "input": [
      "tempo.sidereal_time('apparent').hour"
     ],
     "language": "python",
     "metadata": {},
     "outputs": [
      {
       "metadata": {},
       "output_type": "pyout",
       "prompt_number": 22,
       "text": [
        "3.362139459283867"
       ]
      }
     ],
     "prompt_number": 22
    },
    {
     "cell_type": "code",
     "collapsed": false,
     "input": [
      "tempo.jd"
     ],
     "language": "python",
     "metadata": {},
     "outputs": [
      {
       "metadata": {},
       "output_type": "pyout",
       "prompt_number": 23,
       "text": [
        "2455931.6583477547"
       ]
      }
     ],
     "prompt_number": 23
    },
    {
     "cell_type": "code",
     "collapsed": false,
     "input": [
      "tempo.jyear_str"
     ],
     "language": "python",
     "metadata": {},
     "outputs": [
      {
       "metadata": {},
       "output_type": "pyout",
       "prompt_number": 24,
       "text": [
        "u'J2012.010'"
       ]
      }
     ],
     "prompt_number": 24
    },
    {
     "cell_type": "code",
     "collapsed": false,
     "input": [
      "tempo.jyear"
     ],
     "language": "python",
     "metadata": {},
     "outputs": [
      {
       "metadata": {},
       "output_type": "pyout",
       "prompt_number": 25,
       "text": [
        "2012.0100160102795"
       ]
      }
     ],
     "prompt_number": 25
    },
    {
     "cell_type": "code",
     "collapsed": false,
     "input": [
      "tempo.location"
     ],
     "language": "python",
     "metadata": {},
     "outputs": [
      {
       "metadata": {},
       "output_type": "pyout",
       "prompt_number": 26,
       "text": [
        "<EarthLocation (-1908070.2937185066, -5040373.293137356, 3399507.3765300848) m>"
       ]
      }
     ],
     "prompt_number": 26
    },
    {
     "cell_type": "markdown",
     "metadata": {},
     "source": [
      "# Get Sun Coordiantes"
     ]
    },
    {
     "cell_type": "code",
     "collapsed": false,
     "input": [
      ">>> from astropy import units as u\n",
      ">>> from astropy.coordinates import SkyCoord, get_sun"
     ],
     "language": "python",
     "metadata": {},
     "outputs": [],
     "prompt_number": 27
    },
    {
     "cell_type": "code",
     "collapsed": false,
     "input": [
      "sun_loc = get_sun(tempo)"
     ],
     "language": "python",
     "metadata": {},
     "outputs": [],
     "prompt_number": 32
    },
    {
     "cell_type": "code",
     "collapsed": false,
     "input": [
      "sun_loc"
     ],
     "language": "python",
     "metadata": {},
     "outputs": [
      {
       "metadata": {},
       "output_type": "pyout",
       "prompt_number": 33,
       "text": [
        "<SkyCoord (GCRS: obstime=J2000.000, obsgeoloc=[ 0.  0.  0.] m, obsgeovel=[ 0.  0.  0.] m / s): (ra, dec, distance) in (deg, deg, AU)\n",
        "    (285.23387558, -22.69881501, 0.98328416)>"
       ]
      }
     ],
     "prompt_number": 33
    },
    {
     "cell_type": "code",
     "collapsed": false,
     "input": [
      "sun_loc"
     ],
     "language": "python",
     "metadata": {},
     "outputs": [
      {
       "metadata": {},
       "output_type": "pyout",
       "prompt_number": 34,
       "text": [
        "<CartesianRepresentation (x, y, z) in AU\n",
        "    (0.23835587, -0.87524976, -0.37943654)>"
       ]
      }
     ],
     "prompt_number": 34
    },
    {
     "cell_type": "code",
     "collapsed": false,
     "input": [
      "sun_loc.dec"
     ],
     "language": "python",
     "metadata": {},
     "outputs": [
      {
       "latex": [
        "$-22^\\circ41{}^\\prime55.734{}^{\\prime\\prime}$"
       ],
       "metadata": {},
       "output_type": "pyout",
       "prompt_number": 35,
       "text": [
        "<Latitude -22.69881500765943 deg>"
       ]
      }
     ],
     "prompt_number": 35
    },
    {
     "cell_type": "code",
     "collapsed": false,
     "input": [
      "sun_loc.frame"
     ],
     "language": "python",
     "metadata": {},
     "outputs": [
      {
       "metadata": {},
       "output_type": "pyout",
       "prompt_number": 48,
       "text": [
        "<GCRS Coordinate (obstime=J2000.000, obsgeoloc=[ 0.  0.  0.] m, obsgeovel=[ 0.  0.  0.] m / s): (ra, dec, distance) in (deg, deg, AU)\n",
        "    (285.23387558, -22.69881501, 0.98328416)>"
       ]
      }
     ],
     "prompt_number": 48
    },
    {
     "cell_type": "code",
     "collapsed": false,
     "input": [
      "sun_loc.frame.ra"
     ],
     "language": "python",
     "metadata": {},
     "outputs": [
      {
       "latex": [
        "$285^\\circ14{}^\\prime01.9521{}^{\\prime\\prime}$"
       ],
       "metadata": {},
       "output_type": "pyout",
       "prompt_number": 49,
       "text": [
        "<Longitude 285.23387557679666 deg>"
       ]
      }
     ],
     "prompt_number": 49
    },
    {
     "cell_type": "code",
     "collapsed": false,
     "input": [
      "sun_loc.frame.dec"
     ],
     "language": "python",
     "metadata": {},
     "outputs": [
      {
       "latex": [
        "$-22^\\circ41{}^\\prime55.734{}^{\\prime\\prime}$"
       ],
       "metadata": {},
       "output_type": "pyout",
       "prompt_number": 50,
       "text": [
        "<Latitude -22.69881500765943 deg>"
       ]
      }
     ],
     "prompt_number": 50
    },
    {
     "cell_type": "code",
     "collapsed": false,
     "input": [
      "sun_loc.frame.distance"
     ],
     "language": "python",
     "metadata": {},
     "outputs": [
      {
       "latex": [
        "$0.98328416 \\; \\mathrm{AU}$"
       ],
       "metadata": {},
       "output_type": "pyout",
       "prompt_number": 51,
       "text": [
        "<Distance 0.983284161333394 AU>"
       ]
      }
     ],
     "prompt_number": 51
    },
    {
     "cell_type": "code",
     "collapsed": false,
     "input": [
      "sun_loc.obstime.value"
     ],
     "language": "python",
     "metadata": {},
     "outputs": [
      {
       "metadata": {},
       "output_type": "pyout",
       "prompt_number": 57,
       "text": [
        "u'J2000.000'"
       ]
      }
     ],
     "prompt_number": 57
    },
    {
     "cell_type": "code",
     "collapsed": false,
     "input": [
      "sun_loc.frame.ra.deg, sun_loc.frame.dec.deg,sun_loc.frame.distance.value"
     ],
     "language": "python",
     "metadata": {},
     "outputs": [
      {
       "metadata": {},
       "output_type": "pyout",
       "prompt_number": 52,
       "text": [
        "(285.23387557679666, -22.69881500765943, 0.983284161333394)"
       ]
      }
     ],
     "prompt_number": 52
    },
    {
     "cell_type": "code",
     "collapsed": false,
     "input": [
      "tempo.value"
     ],
     "language": "python",
     "metadata": {},
     "outputs": [
      {
       "metadata": {},
       "output_type": "pyout",
       "prompt_number": 58,
       "text": [
        "'2012-01-05T03:48:01.246'"
       ]
      }
     ],
     "prompt_number": 58
    },
    {
     "cell_type": "code",
     "collapsed": false,
     "input": [
      "xyz = [(sun_loc.frame.ra.deg,sun_loc.frame.dec.deg,sun_loc.frame.distance.value),(sun_loc.frame.ra.deg,sun_loc.frame.dec.deg,sun_loc.frame.distance.value)]"
     ],
     "language": "python",
     "metadata": {},
     "outputs": [],
     "prompt_number": 63
    },
    {
     "cell_type": "code",
     "collapsed": false,
     "input": [
      "xyz"
     ],
     "language": "python",
     "metadata": {},
     "outputs": [
      {
       "metadata": {},
       "output_type": "pyout",
       "prompt_number": 64,
       "text": [
        "[(285.23387557679666, -22.69881500765943, 0.983284161333394),\n",
        " (285.23387557679666, -22.69881500765943, 0.983284161333394)]"
       ]
      }
     ],
     "prompt_number": 64
    },
    {
     "cell_type": "code",
     "collapsed": false,
     "input": [
      "pos = (sun_loc.frame.ra.deg,sun_loc.frame.dec.deg,sun_loc.frame.distance.value)\n",
      "pos[0],pos[1]"
     ],
     "language": "python",
     "metadata": {},
     "outputs": [
      {
       "metadata": {},
       "output_type": "pyout",
       "prompt_number": 105,
       "text": [
        "(285.23387557679666, -22.69881500765943)"
       ]
      }
     ],
     "prompt_number": 105
    },
    {
     "cell_type": "code",
     "collapsed": false,
     "input": [
      "from pandas import DataFrame"
     ],
     "language": "python",
     "metadata": {},
     "outputs": [],
     "prompt_number": 66
    },
    {
     "cell_type": "code",
     "collapsed": false,
     "input": [
      "DataFrame(xyz,columns=['SUN-RA','SUN-DEC','SUN-Distance'])"
     ],
     "language": "python",
     "metadata": {},
     "outputs": [
      {
       "html": [
        "<div style=\"max-height:1000px;max-width:1500px;overflow:auto;\">\n",
        "<table border=\"1\" class=\"dataframe\">\n",
        "  <thead>\n",
        "    <tr style=\"text-align: right;\">\n",
        "      <th></th>\n",
        "      <th>SUN-RA</th>\n",
        "      <th>SUN-DEC</th>\n",
        "      <th>SUN-Distance</th>\n",
        "    </tr>\n",
        "  </thead>\n",
        "  <tbody>\n",
        "    <tr>\n",
        "      <th>0</th>\n",
        "      <td> 285.233876</td>\n",
        "      <td>-22.698815</td>\n",
        "      <td> 0.983284</td>\n",
        "    </tr>\n",
        "    <tr>\n",
        "      <th>1</th>\n",
        "      <td> 285.233876</td>\n",
        "      <td>-22.698815</td>\n",
        "      <td> 0.983284</td>\n",
        "    </tr>\n",
        "  </tbody>\n",
        "</table>\n",
        "</div>"
       ],
       "metadata": {},
       "output_type": "pyout",
       "prompt_number": 69,
       "text": [
        "       SUN-RA    SUN-DEC  SUN-Distance\n",
        "0  285.233876 -22.698815      0.983284\n",
        "1  285.233876 -22.698815      0.983284"
       ]
      }
     ],
     "prompt_number": 69
    },
    {
     "cell_type": "code",
     "collapsed": false,
     "input": [
      "from astropy.constants import c, au\n",
      "import numpy as np"
     ],
     "language": "python",
     "metadata": {},
     "outputs": [],
     "prompt_number": 77
    },
    {
     "cell_type": "code",
     "collapsed": false,
     "input": [
      "c"
     ],
     "language": "python",
     "metadata": {},
     "outputs": [
      {
       "latex": [
        "$2.9979246 \\times 10^{8} \\; \\mathrm{\\frac{m}{s}}$"
       ],
       "metadata": {},
       "output_type": "pyout",
       "prompt_number": 71,
       "text": [
        "<Constant name=u'Speed of light in vacuum' value=299792458.0 error=0.0 units='m / s' reference=u'CODATA 2010'>"
       ]
      }
     ],
     "prompt_number": 71
    },
    {
     "cell_type": "code",
     "collapsed": false,
     "input": [
      "c.value, au.value"
     ],
     "language": "python",
     "metadata": {},
     "outputs": [
      {
       "metadata": {},
       "output_type": "pyout",
       "prompt_number": 79,
       "text": [
        "(299792458.0, 149597870700.0)"
       ]
      }
     ],
     "prompt_number": 79
    },
    {
     "cell_type": "code",
     "collapsed": false,
     "input": [
      "au"
     ],
     "language": "python",
     "metadata": {},
     "outputs": [
      {
       "latex": [
        "$1.4959787 \\times 10^{11} \\; \\mathrm{m}$"
       ],
       "metadata": {},
       "output_type": "pyout",
       "prompt_number": 75,
       "text": [
        "<Constant name=u'Astronomical Unit' value=1.495978707e+11 error=0.0 units='m' reference=u'IAU 2012 Resolution B2'>"
       ]
      }
     ],
     "prompt_number": 75
    },
    {
     "cell_type": "code",
     "collapsed": false,
     "input": [
      "tempo.jd"
     ],
     "language": "python",
     "metadata": {},
     "outputs": [
      {
       "metadata": {},
       "output_type": "pyout",
       "prompt_number": 72,
       "text": [
        "2455931.6583477547"
       ]
      }
     ],
     "prompt_number": 72
    },
    {
     "cell_type": "code",
     "collapsed": false,
     "input": [
      "sun_loc.frame.distance"
     ],
     "language": "python",
     "metadata": {},
     "outputs": [
      {
       "latex": [
        "$0.98328416 \\; \\mathrm{AU}$"
       ],
       "metadata": {},
       "output_type": "pyout",
       "prompt_number": 76,
       "text": [
        "<Distance 0.983284161333394 AU>"
       ]
      }
     ],
     "prompt_number": 76
    },
    {
     "cell_type": "code",
     "collapsed": false,
     "input": [
      "from astropy.coordinates import Angle"
     ],
     "language": "python",
     "metadata": {},
     "outputs": [],
     "prompt_number": 80
    },
    {
     "cell_type": "code",
     "collapsed": false,
     "input": [
      "sun_loc.ra.deg"
     ],
     "language": "python",
     "metadata": {},
     "outputs": [
      {
       "metadata": {},
       "output_type": "pyout",
       "prompt_number": 83,
       "text": [
        "285.23387557679666"
       ]
      }
     ],
     "prompt_number": 83
    },
    {
     "cell_type": "code",
     "collapsed": false,
     "input": [
      "Angle(sun_loc.ra.deg * u.deg)"
     ],
     "language": "python",
     "metadata": {},
     "outputs": [
      {
       "latex": [
        "$285^\\circ14{}^\\prime01.9521{}^{\\prime\\prime}$"
       ],
       "metadata": {},
       "output_type": "pyout",
       "prompt_number": 82,
       "text": [
        "<Angle 285.23387557679666 deg>"
       ]
      }
     ],
     "prompt_number": 82
    },
    {
     "cell_type": "code",
     "collapsed": false,
     "input": [
      "Angle(sun_loc.ra.deg * u.deg).rad"
     ],
     "language": "python",
     "metadata": {},
     "outputs": [
      {
       "metadata": {},
       "output_type": "pyout",
       "prompt_number": 84,
       "text": [
        "4.978270267038942"
       ]
      }
     ],
     "prompt_number": 84
    },
    {
     "cell_type": "code",
     "collapsed": false,
     "input": [
      "def hjd_date(JD,distance_sun,declination_sun,right_ascention_sun,declination_obj,right_ascention_obj):\n",
      "    \"\"\"\n",
      "    Return the Heliocentric Julian Date from a given Julian Date]\n",
      "    ___\n",
      "    INPUT:\n",
      "    JD :  Julian Date, type: float\n",
      "    distance_sun :  distance of observer from the Sun, unit: astronomical unit (AU), type: float\n",
      "    declination_sun: declination of the Sun from the specific Julian Date input, unit:degrees, type:float\n",
      "    right_ascention: right ascention of the Sun from the specific Julian Date input, unit:degrees, type:float\n",
      "    declination_obj: declination of the extrasolar object, unit:degrees, type:float\n",
      "    right-ascention: right ascention of the extrasolar objet, unit:degrees, type:float\n",
      "    \n",
      "    OUTPUT:\n",
      "    date_hjd: heliocentric julian date, type:float\n",
      "    \"\"\"\n",
      "    from astropy.constants import c, au\n",
      "    from astropy import units as u\n",
      "    from astropy.coordinates import Angle\n",
      "    #Convert degrees in radians and astronomical unit to meters\n",
      "    declination_sun,right_ascention_sun = Angle(declination_sun *u.deg).rad, Angle(right_ascention_sun *u.deg).rad\n",
      "    declination_obj,right_ascention_obj = Angle(declination_obj *u.deg).rad, Angle(right_ascention_obj *u.deg).rad\n",
      "    distance_sun = distance_sun * au.value\n",
      "    # obtain the heliocentric julian date\n",
      "    delta_alpha = np.cos(right_ascention_obj - right_ascention_sun)\n",
      "    delta = (np.sin(declination_sun)*np.sin(declination_obj)) + (np.cos(declination_sun) *np.cos(declination_obj)*delta_alpha)\n",
      "    print ((distance_sun)/c.value)*delta\n",
      "    date_hjd = JD - ((distance_sun*au.value)/c.value)*delta\n",
      "    return date_hjd"
     ],
     "language": "python",
     "metadata": {},
     "outputs": [],
     "prompt_number": 157
    },
    {
     "cell_type": "code",
     "collapsed": false,
     "input": [
      "print tempo.jd,sun_loc.distance.value,sun_loc.dec.deg,sun_loc.ra.deg,input_data['DEC'],input_data['RA']"
     ],
     "language": "python",
     "metadata": {},
     "outputs": [
      {
       "output_type": "stream",
       "stream": "stdout",
       "text": [
        "2455931.65835 0.983284161333 -22.6988150077 285.233875577 +50:13:32.9 07:48:06.46\n"
       ]
      }
     ],
     "prompt_number": 120
    },
    {
     "cell_type": "code",
     "collapsed": false,
     "input": [
      "SkyCoord(dec=input_data['DEC'],ra=input_data['RA'],unit=('deg','deg'))"
     ],
     "language": "python",
     "metadata": {},
     "outputs": [
      {
       "metadata": {},
       "output_type": "pyout",
       "prompt_number": 121,
       "text": [
        "<SkyCoord (ICRS): (ra, dec) in deg\n",
        "    (7.80179444, 50.22580556)>"
       ]
      }
     ],
     "prompt_number": 121
    },
    {
     "cell_type": "code",
     "collapsed": false,
     "input": [
      "exoplanet = SkyCoord(dec=input_data['DEC'],ra=input_data['RA'],unit=('deg','deg'),frame=input_data['frame'])"
     ],
     "language": "python",
     "metadata": {},
     "outputs": [],
     "prompt_number": 122
    },
    {
     "cell_type": "code",
     "collapsed": false,
     "input": [
      "exoplanet.icrs"
     ],
     "language": "python",
     "metadata": {},
     "outputs": [
      {
       "metadata": {},
       "output_type": "pyout",
       "prompt_number": 148,
       "text": [
        "<SkyCoord (ICRS): (ra, dec) in deg\n",
        "    (7.80178109, 50.2258038)>"
       ]
      }
     ],
     "prompt_number": 148
    },
    {
     "cell_type": "code",
     "collapsed": false,
     "input": [
      "exoplanet.ra"
     ],
     "language": "python",
     "metadata": {},
     "outputs": [
      {
       "latex": [
        "$7^\\circ48{}^\\prime06.46{}^{\\prime\\prime}$"
       ],
       "metadata": {},
       "output_type": "pyout",
       "prompt_number": 151,
       "text": [
        "<Longitude 7.801794444444444 deg>"
       ]
      }
     ],
     "prompt_number": 151
    },
    {
     "cell_type": "code",
     "collapsed": false,
     "input": [
      "exoplanet.dec"
     ],
     "language": "python",
     "metadata": {},
     "outputs": [
      {
       "latex": [
        "$50^\\circ13{}^\\prime32.9{}^{\\prime\\prime}$"
       ],
       "metadata": {},
       "output_type": "pyout",
       "prompt_number": 152,
       "text": [
        "<Latitude 50.22580555555556 deg>"
       ]
      }
     ],
     "prompt_number": 152
    },
    {
     "cell_type": "code",
     "collapsed": false,
     "input": [
      "exoplanet.ra.deg, exoplanet.dec.deg"
     ],
     "language": "python",
     "metadata": {},
     "outputs": [
      {
       "metadata": {},
       "output_type": "pyout",
       "prompt_number": 124,
       "text": [
        "(7.801794444444444, 50.22580555555556)"
       ]
      }
     ],
     "prompt_number": 124
    },
    {
     "cell_type": "code",
     "collapsed": false,
     "input": [
      "hjd_date(float(tempo.jd),float(sun_loc.distance.value),float(sun_loc.dec.deg),\n",
      "         float(sun_loc.ra.deg),float(exoplanet.dec.deg),float(exoplanet.ra.deg))"
     ],
     "language": "python",
     "metadata": {},
     "outputs": [
      {
       "metadata": {},
       "output_type": "pyout",
       "prompt_number": 132,
       "text": [
        "16165921234485.707"
       ]
      }
     ],
     "prompt_number": 132
    },
    {
     "cell_type": "code",
     "collapsed": false,
     "input": [
      "print float(tempo.jd),float(sun_loc.distance.value),float(sun_loc.dec.deg),float(sun_loc.ra.deg),float(exoplanet.dec.deg),float(exoplanet.ra.deg)"
     ],
     "language": "python",
     "metadata": {},
     "outputs": [
      {
       "output_type": "stream",
       "stream": "stdout",
       "text": [
        "2455931.65835 0.983284161333 -22.6988150077 285.233875577 50.2258055556 7.80179444444\n"
       ]
      }
     ],
     "prompt_number": 135
    },
    {
     "cell_type": "code",
     "collapsed": false,
     "input": [
      "from astropy.constants import c, au\n",
      "from astropy import units as u\n",
      "from astropy.coordinates import Angle\n"
     ],
     "language": "python",
     "metadata": {},
     "outputs": [],
     "prompt_number": 136
    },
    {
     "cell_type": "code",
     "collapsed": false,
     "input": [
      "#Convert degrees in radians and astronomical unit to meters\n",
      "\n",
      "distance_sun = float(sun_loc.distance.value) * au.value"
     ],
     "language": "python",
     "metadata": {},
     "outputs": [],
     "prompt_number": 139
    },
    {
     "cell_type": "code",
     "collapsed": false,
     "input": [
      "distance_sun"
     ],
     "language": "python",
     "metadata": {},
     "outputs": [
      {
       "metadata": {},
       "output_type": "pyout",
       "prompt_number": 140,
       "text": [
        "147097216828.51102"
       ]
      }
     ],
     "prompt_number": 140
    },
    {
     "cell_type": "code",
     "collapsed": false,
     "input": [
      "declination_sun,right_ascention_sun = Angle(float(sun_loc.dec.deg) *u.deg).rad, Angle(float(sun_loc.ra.deg) *u.deg).rad"
     ],
     "language": "python",
     "metadata": {},
     "outputs": [],
     "prompt_number": 142
    },
    {
     "cell_type": "code",
     "collapsed": false,
     "input": [
      "declination_sun, right_ascention_sun"
     ],
     "language": "python",
     "metadata": {},
     "outputs": [
      {
       "metadata": {},
       "output_type": "pyout",
       "prompt_number": 143,
       "text": [
        "(-0.39616905818475895, 4.978270267038942)"
       ]
      }
     ],
     "prompt_number": 143
    },
    {
     "cell_type": "code",
     "collapsed": false,
     "input": [
      "declination_obj,right_ascention_obj = Angle(exoplanet.dec.deg *u.deg).rad, Angle(exoplanet.ra.deg *u.deg).rad"
     ],
     "language": "python",
     "metadata": {},
     "outputs": [],
     "prompt_number": 144
    },
    {
     "cell_type": "code",
     "collapsed": false,
     "input": [
      "declination_obj, right_ascention_obj"
     ],
     "language": "python",
     "metadata": {},
     "outputs": [
      {
       "metadata": {},
       "output_type": "pyout",
       "prompt_number": 145,
       "text": [
        "(0.8766056764109043, 0.13616700061935738)"
       ]
      }
     ],
     "prompt_number": 145
    },
    {
     "cell_type": "code",
     "collapsed": false,
     "input": [
      "Angle(exoplanet.ra).rad"
     ],
     "language": "python",
     "metadata": {},
     "outputs": [
      {
       "metadata": {},
       "output_type": "pyout",
       "prompt_number": 154,
       "text": [
        "0.13616700061935738"
       ]
      }
     ],
     "prompt_number": 154
    },
    {
     "cell_type": "code",
     "collapsed": false,
     "input": [
      "Angle(exoplanet.dec).rad"
     ],
     "language": "python",
     "metadata": {},
     "outputs": [
      {
       "metadata": {},
       "output_type": "pyout",
       "prompt_number": 156,
       "text": [
        "0.8766056764109043"
       ]
      }
     ],
     "prompt_number": 156
    },
    {
     "cell_type": "code",
     "collapsed": false,
     "input": [
      "hjd_date(float(tempo.jd),float(sun_loc.distance.value),float(sun_loc.dec.deg),\n",
      "         float(sun_loc.ra.deg),float(exoplanet.dec.deg),float(exoplanet.ra.deg))"
     ],
     "language": "python",
     "metadata": {},
     "outputs": [
      {
       "output_type": "stream",
       "stream": "stdout",
       "text": [
        "-1.61659187786e+13\n"
       ]
      },
      {
       "metadata": {},
       "output_type": "pyout",
       "prompt_number": 158,
       "text": [
        "16165921234485.707"
       ]
      }
     ],
     "prompt_number": 158
    },
    {
     "cell_type": "code",
     "collapsed": false,
     "input": [
      "tempo.jd"
     ],
     "language": "python",
     "metadata": {},
     "outputs": [
      {
       "metadata": {},
       "output_type": "pyout",
       "prompt_number": 159,
       "text": [
        "2455931.6583477547"
       ]
      }
     ],
     "prompt_number": 159
    },
    {
     "cell_type": "code",
     "collapsed": false,
     "input": [
      "delta_alpha = np.cos(right_ascention_obj - right_ascention_sun)"
     ],
     "language": "python",
     "metadata": {},
     "outputs": [],
     "prompt_number": 160
    },
    {
     "cell_type": "code",
     "collapsed": false,
     "input": [
      "delta_alpha"
     ],
     "language": "python",
     "metadata": {},
     "outputs": [
      {
       "metadata": {},
       "output_type": "pyout",
       "prompt_number": 161,
       "text": [
        "0.12935083425207147"
       ]
      }
     ],
     "prompt_number": 161
    },
    {
     "cell_type": "code",
     "collapsed": false,
     "input": [
      "delta = (np.sin(declination_sun)*np.sin(declination_obj)) + (np.cos(declination_sun) *np.cos(declination_obj)*delta_alpha)"
     ],
     "language": "python",
     "metadata": {},
     "outputs": [],
     "prompt_number": 162
    },
    {
     "cell_type": "code",
     "collapsed": false,
     "input": [
      "delta"
     ],
     "language": "python",
     "metadata": {},
     "outputs": [
      {
       "metadata": {},
       "output_type": "pyout",
       "prompt_number": 163,
       "text": [
        "-0.2202374792582284"
       ]
      }
     ],
     "prompt_number": 163
    },
    {
     "cell_type": "code",
     "collapsed": false,
     "input": [
      "tempo.jd-(sun_loc.distance.meter/c.value)*delta"
     ],
     "language": "python",
     "metadata": {},
     "outputs": [
      {
       "metadata": {},
       "output_type": "pyout",
       "prompt_number": 171,
       "text": [
        "2456039.7208402413"
       ]
      }
     ],
     "prompt_number": 171
    },
    {
     "cell_type": "code",
     "collapsed": false,
     "input": [
      "sun_loc.distance.value*au.value"
     ],
     "language": "python",
     "metadata": {},
     "outputs": [
      {
       "metadata": {},
       "output_type": "pyout",
       "prompt_number": 175,
       "text": [
        "147097216828.51102"
       ]
      }
     ],
     "prompt_number": 175
    },
    {
     "cell_type": "code",
     "collapsed": false,
     "input": [
      "sun_loc.distance.meter"
     ],
     "language": "python",
     "metadata": {},
     "outputs": [
      {
       "metadata": {},
       "output_type": "pyout",
       "prompt_number": 176,
       "text": [
        "147097216828.51102"
       ]
      }
     ],
     "prompt_number": 176
    },
    {
     "cell_type": "markdown",
     "metadata": {},
     "source": [
      "# Obtain mean time of the exposure"
     ]
    },
    {
     "cell_type": "code",
     "collapsed": false,
     "input": [
      "new_time = hdr['DAte-obs']+'T'+hdr['UT']"
     ],
     "language": "python",
     "metadata": {},
     "outputs": [],
     "prompt_number": 178
    },
    {
     "cell_type": "code",
     "collapsed": false,
     "input": [
      "print new_time"
     ],
     "language": "python",
     "metadata": {},
     "outputs": [
      {
       "output_type": "stream",
       "stream": "stdout",
       "text": [
        "2012-01-05T03:48:01.246\n"
       ]
      }
     ],
     "prompt_number": 183
    },
    {
     "cell_type": "code",
     "collapsed": false,
     "input": [
      "new_time = Time(new_time,scale=input_data['scale-time'],format='isot',location=(input_data['lon-obs'],input_data['lat-obs']))"
     ],
     "language": "python",
     "metadata": {},
     "outputs": [],
     "prompt_number": 184
    },
    {
     "cell_type": "code",
     "collapsed": false,
     "input": [
      "new_time"
     ],
     "language": "python",
     "metadata": {},
     "outputs": [
      {
       "metadata": {},
       "output_type": "pyout",
       "prompt_number": 185,
       "text": [
        "<Time object: scale='utc' format='isot' value=2012-01-05T03:48:01.246>"
       ]
      }
     ],
     "prompt_number": 185
    },
    {
     "cell_type": "code",
     "collapsed": false,
     "input": [
      "hdr['EXPTIME']/2."
     ],
     "language": "python",
     "metadata": {},
     "outputs": [
      {
       "metadata": {},
       "output_type": "pyout",
       "prompt_number": 182,
       "text": [
        "30.0"
       ]
      }
     ],
     "prompt_number": 182
    },
    {
     "cell_type": "code",
     "collapsed": false,
     "input": [
      "import string"
     ],
     "language": "python",
     "metadata": {},
     "outputs": [],
     "prompt_number": 190
    },
    {
     "cell_type": "code",
     "collapsed": false,
     "input": [
      "def delta_exp(exptime, time,date):\n",
      "    \"\"\"\n",
      "    obtain the mean time of the exposure when the exposure is less than 1 minute\n",
      "    ____\n",
      "    INPUT:\n",
      "    EXPTIME: the exposure time from the header of the image, string or float\n",
      "    time: UT time from the exposure from header\n",
      "    date: UT date of the exposure from header\n",
      "    \n",
      "    OUTPUT:\n",
      "    mean_time: mean time of the exposure in isot format (YYYY-MM-DDTHH:MM:SS)\n",
      "    \"\"\"\n",
      "    from string import split\n",
      "    from numpy import zeros\n",
      "    \n",
      "    time = split(time,':') #split the time in hours, minutes and seconds in each value of a array\n",
      "    new_time = zeros(len(time)) #create our new time\n",
      "    new_time[0],new_time[1] = time[0], time[1]"
     ],
     "language": "python",
     "metadata": {},
     "outputs": []
    },
    {
     "cell_type": "code",
     "collapsed": false,
     "input": [
      "from string import split"
     ],
     "language": "python",
     "metadata": {},
     "outputs": [],
     "prompt_number": 191
    },
    {
     "cell_type": "code",
     "collapsed": false,
     "input": [
      "split(hdr['UT'],':')"
     ],
     "language": "python",
     "metadata": {},
     "outputs": [
      {
       "metadata": {},
       "output_type": "pyout",
       "prompt_number": 192,
       "text": [
        "['03', '48', '01.246']"
       ]
      }
     ],
     "prompt_number": 192
    },
    {
     "cell_type": "code",
     "collapsed": false,
     "input": [],
     "language": "python",
     "metadata": {},
     "outputs": []
    }
   ],
   "metadata": {}
  }
 ]
}