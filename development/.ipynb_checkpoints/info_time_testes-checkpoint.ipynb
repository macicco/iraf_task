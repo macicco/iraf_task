{
 "metadata": {
  "name": "",
  "signature": "sha256:76ce65f6b67b747dc551726dde16a960bfebb93fb4843b1f6473e2f289391323"
 },
 "nbformat": 3,
 "nbformat_minor": 0,
 "worksheets": [
  {
   "cells": [
    {
     "cell_type": "code",
     "collapsed": false,
     "input": [
      "# -*- coding: utf-8 -*-\n",
      "\"\"\"\n",
      "Created on Sun Feb 14 21:01:54 2016\n",
      "\n",
      "@author: Walter Martins-Filho\n",
      "e-mail: walter at on.br\n",
      "        waltersmartinsf at gmail.com\n",
      "\n",
      "#******************************************************************************\n",
      "Main Goal:\n",
      "            Obtain the Sideral Time and the Heliocentric Jullian Date from the\n",
      "            header of the image\n",
      "#******************************************************************************\n",
      "\"\"\"\n",
      "print 'Obtain the Sideral Time(ST) and Heliocentric Julian Date(HJD) \\n'\n",
      "print '\\nLoading packages ....\\n'\n",
      "\n",
      "\n",
      "#from pyraf import iraf #IRAF\n",
      "#from login import * #IRAF configurations\n",
      "from astropy.io import fits #import and export fits images\n",
      "from astropy.time import Time #control time in fits images\n",
      "import glob #package for list files\n",
      "import os #package for control bash commands\n",
      "import yaml #input data without any trouble\n",
      "#import string #transform a list in a string of caracters\n",
      "import useful_functions as use\n",
      "import numpy as np\n",
      "from astropy.coordinates import SkyCoord,get_sun,ICRS #get the Sun position from a instant of time\n",
      "from pandas import DataFrame\n",
      "#from pandas import HDFStore #save data in a database\n",
      "print '\\n.... Done.'\n"
     ],
     "language": "python",
     "metadata": {},
     "outputs": [
      {
       "output_type": "stream",
       "stream": "stdout",
       "text": [
        "Obtain the Sideral Time(ST) and Heliocentric Julian Date(HJD) \n",
        "\n",
        "\n",
        "Loading packages ....\n",
        "\n",
        "\n",
        ".... Done.\n"
       ]
      }
     ],
     "prompt_number": 13
    },
    {
     "cell_type": "code",
     "collapsed": false,
     "input": [
      "cd /home/walter/work/codes/iraf_task/"
     ],
     "language": "python",
     "metadata": {},
     "outputs": [
      {
       "output_type": "stream",
       "stream": "stdout",
       "text": [
        "/home/walter/MEGA/work/codes/iraf_task\n"
       ]
      }
     ],
     "prompt_number": 19
    },
    {
     "cell_type": "code",
     "collapsed": false,
     "input": [
      "#******************************************************************************\n",
      "#**************** BEGIN INPUT PATH FILE ***************************************\n",
      "#******************************************************************************\n",
      "#path for your data directory, path for your data save, and names for the lists\n",
      "#Import with yaml file: input path and prefix information for files\n",
      "input_file = glob.glob('input*.yaml')\n",
      "print '\\nInput file = ',input_file\n",
      "original_path = os.getcwd()\n",
      "\n",
      "if input_file:\n",
      "    if len(input_file) == 1:\n",
      "        print '\\n reading input file ... \\n'\n",
      "        input_data  =    yaml.load(open(input_file[0])) #creating our dictionary of input variables\n",
      "        data_path   =    input_data['data_path']\n",
      "        save_path   =    input_data['save_path']\n",
      "        planet      =    input_data['exoplanet']\n",
      "        print '\\n....  done! \\n'\n",
      "    if len(input_file) > 1:\n",
      "        print '\\nreading input file ... \\n'\n",
      "        print '\\n.... there is more than 1 input*.yaml.\\n \\nPlease, remove the others files that you do not need. \\n'\n",
      "        raise SystemExit\n",
      "else:\n",
      "    print '\\nThere is no input*.yaml. \\nPlease, create a input file describe in INPUT_PARAMETERS.'\n",
      "    raise SystemExit\n",
      "#******************************************************************************\n",
      "#******************* END INPUT PATH FILE **************************************\n",
      "#******************************************************************************"
     ],
     "language": "python",
     "metadata": {},
     "outputs": [
      {
       "output_type": "stream",
       "stream": "stdout",
       "text": [
        "\n",
        "Input file =  ['input_05jan12.yaml']\n",
        "\n",
        " reading input file ... \n",
        "\n",
        "\n",
        "....  done! \n",
        "\n"
       ]
      }
     ],
     "prompt_number": 20
    },
    {
     "cell_type": "code",
     "collapsed": false,
     "input": [
      "print '\\nObtain the images .... \\n'\n",
      "\n",
      "print 'Change to ', save_path\n",
      "os.chdir(save_path) #change to save directory where is our scvience images\n",
      "\n",
      "images = sorted(glob.glob('AB'+input_data['exoplanet']+'*.fits'))\n",
      "print '\\nImages = \\n',images\n",
      "\n",
      "tempo_loc = [] #time object\n",
      "SUN = [] #Sun coordinate object\n",
      "ra_sun, dec_sun, dsun = np.zeros(len(images)),np.zeros(len(images)),np.zeros(len(images)) #sun coordinates\n",
      "JD = np.zeros(len(images)) #julian date from time object\n",
      "ST = np.zeros(len(images))\n",
      "HJD = np.zeros(len(images))\n",
      "#create the exoplanet object coordianate\n",
      "exoplanet = SkyCoord(dec=input_data['DEC'],ra=input_data['RA'],unit=('deg','deg'),frame=input_data['frame'])\n"
     ],
     "language": "python",
     "metadata": {},
     "outputs": [
      {
       "output_type": "stream",
       "stream": "stdout",
       "text": [
        "\n",
        "Obtain the images .... \n",
        "\n",
        "Change to  /home/walter/exoplanet/xo2b/xo2b_wsmf/05jan12/xo2b.u/iraf_task/\n",
        "\n",
        "Images = \n",
        "['ABXO2b.0001.fits', 'ABXO2b.0003.fits', 'ABXO2b.0005.fits', 'ABXO2b.0009.fits', 'ABXO2b.0011.fits', 'ABXO2b.0013.fits', 'ABXO2b.0015.fits', 'ABXO2b.0019.fits', 'ABXO2b.0021.fits', 'ABXO2b.0023.fits', 'ABXO2b.0025.fits', 'ABXO2b.0029.fits', 'ABXO2b.0031.fits', 'ABXO2b.0033.fits', 'ABXO2b.0035.fits', 'ABXO2b.0039.fits', 'ABXO2b.0041.fits', 'ABXO2b.0043.fits', 'ABXO2b.0045.fits', 'ABXO2b.0049.fits', 'ABXO2b.0051.fits', 'ABXO2b.0053.fits', 'ABXO2b.0055.fits', 'ABXO2b.0059.fits', 'ABXO2b.0061.fits', 'ABXO2b.0063.fits', 'ABXO2b.0065.fits', 'ABXO2b.0069.fits', 'ABXO2b.0071.fits', 'ABXO2b.0073.fits', 'ABXO2b.0075.fits', 'ABXO2b.0079.fits', 'ABXO2b.0081.fits', 'ABXO2b.0083.fits', 'ABXO2b.0085.fits', 'ABXO2b.0089.fits', 'ABXO2b.0091.fits', 'ABXO2b.0093.fits', 'ABXO2b.0095.fits', 'ABXO2b.0099.fits', 'ABXO2b.0101.fits', 'ABXO2b.0103.fits', 'ABXO2b.0105.fits', 'ABXO2b.0109.fits', 'ABXO2b.0111.fits', 'ABXO2b.0113.fits', 'ABXO2b.0115.fits', 'ABXO2b.0119.fits', 'ABXO2b.0121.fits', 'ABXO2b.0123.fits', 'ABXO2b.0125.fits', 'ABXO2b.0129.fits', 'ABXO2b.0131.fits', 'ABXO2b.0133.fits', 'ABXO2b.0135.fits', 'ABXO2b.0139.fits', 'ABXO2b.0141.fits', 'ABXO2b.0143.fits', 'ABXO2b.0145.fits', 'ABXO2b.0149.fits', 'ABXO2b.0151.fits', 'ABXO2b.0153.fits', 'ABXO2b.0155.fits', 'ABXO2b.0159.fits', 'ABXO2b.0161.fits', 'ABXO2b.0163.fits', 'ABXO2b.0165.fits', 'ABXO2b.0169.fits', 'ABXO2b.0171.fits', 'ABXO2b.0173.fits', 'ABXO2b.0175.fits', 'ABXO2b.0179.fits', 'ABXO2b.0181.fits', 'ABXO2b.0183.fits', 'ABXO2b.0185.fits', 'ABXO2b.0189.fits', 'ABXO2b.0191.fits', 'ABXO2b.0193.fits', 'ABXO2b.0195.fits', 'ABXO2b.0199.fits', 'ABXO2b.0201.fits', 'ABXO2b.0203.fits', 'ABXO2b.0205.fits', 'ABXO2b.0209.fits', 'ABXO2b.0211.fits', 'ABXO2b.0213.fits', 'ABXO2b.0215.fits', 'ABXO2b.0219.fits', 'ABXO2b.0221.fits', 'ABXO2b.0223.fits', 'ABXO2b.0225.fits', 'ABXO2b.0229.fits', 'ABXO2b.0231.fits', 'ABXO2b.0233.fits', 'ABXO2b.0235.fits', 'ABXO2b.0239.fits', 'ABXO2b.0241.fits', 'ABXO2b.0243.fits', 'ABXO2b.0245.fits', 'ABXO2b.0249.fits', 'ABXO2b.0251.fits', 'ABXO2b.0253.fits', 'ABXO2b.0255.fits', 'ABXO2b.0259.fits', 'ABXO2b.0261.fits', 'ABXO2b.0263.fits', 'ABXO2b.0265.fits', 'ABXO2b.0269.fits', 'ABXO2b.0271.fits', 'ABXO2b.0273.fits', 'ABXO2b.0275.fits', 'ABXO2b.0279.fits', 'ABXO2b.0281.fits', 'ABXO2b.0283.fits', 'ABXO2b.0285.fits', 'ABXO2b.0289.fits', 'ABXO2b.0291.fits', 'ABXO2b.0293.fits', 'ABXO2b.0295.fits', 'ABXO2b.0299.fits', 'ABXO2b.0301.fits', 'ABXO2b.0303.fits', 'ABXO2b.0305.fits', 'ABXO2b.0309.fits', 'ABXO2b.0311.fits', 'ABXO2b.0313.fits', 'ABXO2b.0315.fits', 'ABXO2b.0319.fits', 'ABXO2b.0321.fits', 'ABXO2b.0323.fits', 'ABXO2b.0325.fits', 'ABXO2b.0329.fits', 'ABXO2b.0331.fits', 'ABXO2b.0333.fits', 'ABXO2b.0335.fits', 'ABXO2b.0339.fits', 'ABXO2b.0341.fits']\n"
       ]
      }
     ],
     "prompt_number": 21
    },
    {
     "cell_type": "code",
     "collapsed": false,
     "input": [
      "\n",
      "print '\\nObtain data info from header ....\\n'\n",
      "for i in range(len(images)):\n",
      "    hdr = fits.getheader(images[i])\n",
      "    UTC = hdr['date-obs']+'T'+hdr['UT'] #string that contain the time in UTC in isot format\n",
      "    tempo_loc.append(Time(UTC,scale=input_data['scale-time'],format='isot',location=(input_data['lon-obs'],input_data['lat-obs'])))#,input_data['altitude'])))\n",
      "    JD[i] = tempo_loc[i].jd\n",
      "    ST[i] = tempo_loc[i].sidereal_time('apparent').hour\n",
      "    SUN.append(get_sun(tempo_loc[i]))\n",
      "    ra_sun[i],dec_sun[i] = SUN[i].ra.deg, SUN[i].dec.deg\n",
      "    dsun[i] = SUN[i].distance.value\n",
      "    HJD[i] = use.hjd_date(JD[i],dsun[i],dec_sun[i],ra_sun[i],exoplanet.dec.deg,exoplanet.ra.deg)\n",
      "    use.update_progress((i+1.)/len(images))\n",
      "print '\\n.... done.\\n'\n",
      "\n"
     ],
     "language": "python",
     "metadata": {},
     "outputs": [
      {
       "output_type": "stream",
       "stream": "stdout",
       "text": [
        "\n",
        "Obtain data info from header ....\n",
        "\n",
        "\r",
        "Percent: [----------] 0.729927007299% "
       ]
      },
      {
       "output_type": "stream",
       "stream": "stdout",
       "text": [
        "\r",
        "Percent: [----------] 1.4598540146% "
       ]
      },
      {
       "output_type": "stream",
       "stream": "stdout",
       "text": [
        "\r",
        "Percent: [----------] 2.1897810219% "
       ]
      },
      {
       "output_type": "stream",
       "stream": "stdout",
       "text": [
        "\r",
        "Percent: [----------] 2.9197080292% "
       ]
      },
      {
       "output_type": "stream",
       "stream": "stdout",
       "text": [
        "\r",
        "Percent: [----------] 3.6496350365% "
       ]
      },
      {
       "output_type": "stream",
       "stream": "stdout",
       "text": [
        "\r",
        "Percent: [----------] 4.3795620438% "
       ]
      },
      {
       "output_type": "stream",
       "stream": "stdout",
       "text": [
        "\r",
        "Percent: [#---------] 5.10948905109% "
       ]
      },
      {
       "output_type": "stream",
       "stream": "stdout",
       "text": [
        "\r",
        "Percent: [#---------] 5.83941605839% "
       ]
      },
      {
       "output_type": "stream",
       "stream": "stdout",
       "text": [
        "\r",
        "Percent: [#---------] 6.56934306569% "
       ]
      },
      {
       "output_type": "stream",
       "stream": "stdout",
       "text": [
        "\r",
        "Percent: [#---------] 7.29927007299% "
       ]
      },
      {
       "output_type": "stream",
       "stream": "stdout",
       "text": [
        "\r",
        "Percent: [#---------] 8.02919708029% "
       ]
      },
      {
       "output_type": "stream",
       "stream": "stdout",
       "text": [
        "\r",
        "Percent: [#---------] 8.75912408759% "
       ]
      },
      {
       "output_type": "stream",
       "stream": "stdout",
       "text": [
        "\r",
        "Percent: [#---------] 9.48905109489% "
       ]
      },
      {
       "output_type": "stream",
       "stream": "stdout",
       "text": [
        "\r",
        "Percent: [#---------] 10.2189781022% "
       ]
      },
      {
       "output_type": "stream",
       "stream": "stdout",
       "text": [
        "\r",
        "Percent: [#---------] 10.9489051095% "
       ]
      },
      {
       "output_type": "stream",
       "stream": "stdout",
       "text": [
        "\r",
        "Percent: [#---------] 11.6788321168% "
       ]
      },
      {
       "output_type": "stream",
       "stream": "stdout",
       "text": [
        "\r",
        "Percent: [#---------] 12.4087591241% "
       ]
      },
      {
       "output_type": "stream",
       "stream": "stdout",
       "text": [
        "\r",
        "Percent: [#---------] 13.1386861314% "
       ]
      },
      {
       "output_type": "stream",
       "stream": "stdout",
       "text": [
        "\r",
        "Percent: [#---------] 13.8686131387% "
       ]
      },
      {
       "output_type": "stream",
       "stream": "stdout",
       "text": [
        "\r",
        "Percent: [#---------] 14.598540146% "
       ]
      },
      {
       "output_type": "stream",
       "stream": "stdout",
       "text": [
        "\r",
        "Percent: [##--------] 15.3284671533% "
       ]
      },
      {
       "output_type": "stream",
       "stream": "stdout",
       "text": [
        "\r",
        "Percent: [##--------] 16.0583941606% "
       ]
      },
      {
       "output_type": "stream",
       "stream": "stdout",
       "text": [
        "\r",
        "Percent: [##--------] 16.7883211679% "
       ]
      },
      {
       "output_type": "stream",
       "stream": "stdout",
       "text": [
        "\r",
        "Percent: [##--------] 17.5182481752% "
       ]
      },
      {
       "output_type": "stream",
       "stream": "stdout",
       "text": [
        "\r",
        "Percent: [##--------] 18.2481751825% "
       ]
      },
      {
       "output_type": "stream",
       "stream": "stdout",
       "text": [
        "\r",
        "Percent: [##--------] 18.9781021898% "
       ]
      },
      {
       "output_type": "stream",
       "stream": "stdout",
       "text": [
        "\r",
        "Percent: [##--------] 19.7080291971% "
       ]
      },
      {
       "output_type": "stream",
       "stream": "stdout",
       "text": [
        "\r",
        "Percent: [##--------] 20.4379562044% "
       ]
      },
      {
       "output_type": "stream",
       "stream": "stdout",
       "text": [
        "\r",
        "Percent: [##--------] 21.1678832117% "
       ]
      },
      {
       "output_type": "stream",
       "stream": "stdout",
       "text": [
        "\r",
        "Percent: [##--------] 21.897810219% "
       ]
      },
      {
       "output_type": "stream",
       "stream": "stdout",
       "text": [
        "\r",
        "Percent: [##--------] 22.6277372263% "
       ]
      },
      {
       "output_type": "stream",
       "stream": "stdout",
       "text": [
        "\r",
        "Percent: [##--------] 23.3576642336% "
       ]
      },
      {
       "output_type": "stream",
       "stream": "stdout",
       "text": [
        "\r",
        "Percent: [##--------] 24.0875912409% "
       ]
      },
      {
       "output_type": "stream",
       "stream": "stdout",
       "text": [
        "\r",
        "Percent: [##--------] 24.8175182482% "
       ]
      },
      {
       "output_type": "stream",
       "stream": "stdout",
       "text": [
        "\r",
        "Percent: [###-------] 25.5474452555% "
       ]
      },
      {
       "output_type": "stream",
       "stream": "stdout",
       "text": [
        "\r",
        "Percent: [###-------] 26.2773722628% "
       ]
      },
      {
       "output_type": "stream",
       "stream": "stdout",
       "text": [
        "\r",
        "Percent: [###-------] 27.0072992701% "
       ]
      },
      {
       "output_type": "stream",
       "stream": "stdout",
       "text": [
        "\r",
        "Percent: [###-------] 27.7372262774% "
       ]
      },
      {
       "output_type": "stream",
       "stream": "stdout",
       "text": [
        "\r",
        "Percent: [###-------] 28.4671532847% "
       ]
      },
      {
       "output_type": "stream",
       "stream": "stdout",
       "text": [
        "\r",
        "Percent: [###-------] 29.197080292% "
       ]
      },
      {
       "output_type": "stream",
       "stream": "stdout",
       "text": [
        "\r",
        "Percent: [###-------] 29.9270072993% "
       ]
      },
      {
       "output_type": "stream",
       "stream": "stdout",
       "text": [
        "\r",
        "Percent: [###-------] 30.6569343066% "
       ]
      },
      {
       "output_type": "stream",
       "stream": "stdout",
       "text": [
        "\r",
        "Percent: [###-------] 31.3868613139% "
       ]
      },
      {
       "output_type": "stream",
       "stream": "stdout",
       "text": [
        "\r",
        "Percent: [###-------] 32.1167883212% "
       ]
      },
      {
       "output_type": "stream",
       "stream": "stdout",
       "text": [
        "\r",
        "Percent: [###-------] 32.8467153285% "
       ]
      },
      {
       "output_type": "stream",
       "stream": "stdout",
       "text": [
        "\r",
        "Percent: [###-------] 33.5766423358% "
       ]
      },
      {
       "output_type": "stream",
       "stream": "stdout",
       "text": [
        "\r",
        "Percent: [###-------] 34.3065693431% "
       ]
      },
      {
       "output_type": "stream",
       "stream": "stdout",
       "text": [
        "\r",
        "Percent: [####------] 35.0364963504% "
       ]
      },
      {
       "output_type": "stream",
       "stream": "stdout",
       "text": [
        "\r",
        "Percent: [####------] 35.7664233577% "
       ]
      },
      {
       "output_type": "stream",
       "stream": "stdout",
       "text": [
        "\r",
        "Percent: [####------] 36.496350365% "
       ]
      },
      {
       "output_type": "stream",
       "stream": "stdout",
       "text": [
        "\r",
        "Percent: [####------] 37.2262773723% "
       ]
      },
      {
       "output_type": "stream",
       "stream": "stdout",
       "text": [
        "\r",
        "Percent: [####------] 37.9562043796% "
       ]
      },
      {
       "output_type": "stream",
       "stream": "stdout",
       "text": [
        "\r",
        "Percent: [####------] 38.6861313869% "
       ]
      },
      {
       "output_type": "stream",
       "stream": "stdout",
       "text": [
        "\r",
        "Percent: [####------] 39.4160583942% "
       ]
      },
      {
       "output_type": "stream",
       "stream": "stdout",
       "text": [
        "\r",
        "Percent: [####------] 40.1459854015% "
       ]
      },
      {
       "output_type": "stream",
       "stream": "stdout",
       "text": [
        "\r",
        "Percent: [####------] 40.8759124088% "
       ]
      },
      {
       "output_type": "stream",
       "stream": "stdout",
       "text": [
        "\r",
        "Percent: [####------] 41.6058394161% "
       ]
      },
      {
       "output_type": "stream",
       "stream": "stdout",
       "text": [
        "\r",
        "Percent: [####------] 42.3357664234% "
       ]
      },
      {
       "output_type": "stream",
       "stream": "stdout",
       "text": [
        "\r",
        "Percent: [####------] 43.0656934307% "
       ]
      },
      {
       "output_type": "stream",
       "stream": "stdout",
       "text": [
        "\r",
        "Percent: [####------] 43.795620438% "
       ]
      },
      {
       "output_type": "stream",
       "stream": "stdout",
       "text": [
        "\r",
        "Percent: [####------] 44.5255474453% "
       ]
      },
      {
       "output_type": "stream",
       "stream": "stdout",
       "text": [
        "\r",
        "Percent: [#####-----] 45.2554744526% "
       ]
      },
      {
       "output_type": "stream",
       "stream": "stdout",
       "text": [
        "\r",
        "Percent: [#####-----] 45.9854014599% "
       ]
      },
      {
       "output_type": "stream",
       "stream": "stdout",
       "text": [
        "\r",
        "Percent: [#####-----] 46.7153284672% "
       ]
      },
      {
       "output_type": "stream",
       "stream": "stdout",
       "text": [
        "\r",
        "Percent: [#####-----] 47.4452554745% "
       ]
      },
      {
       "output_type": "stream",
       "stream": "stdout",
       "text": [
        "\r",
        "Percent: [#####-----] 48.1751824818% "
       ]
      },
      {
       "output_type": "stream",
       "stream": "stdout",
       "text": [
        "\r",
        "Percent: [#####-----] 48.9051094891% "
       ]
      },
      {
       "output_type": "stream",
       "stream": "stdout",
       "text": [
        "\r",
        "Percent: [#####-----] 49.6350364964% "
       ]
      },
      {
       "output_type": "stream",
       "stream": "stdout",
       "text": [
        "\r",
        "Percent: [#####-----] 50.3649635036% "
       ]
      },
      {
       "output_type": "stream",
       "stream": "stdout",
       "text": [
        "\r",
        "Percent: [#####-----] 51.0948905109% "
       ]
      },
      {
       "output_type": "stream",
       "stream": "stdout",
       "text": [
        "\r",
        "Percent: [#####-----] 51.8248175182% "
       ]
      },
      {
       "output_type": "stream",
       "stream": "stdout",
       "text": [
        "\r",
        "Percent: [#####-----] 52.5547445255% "
       ]
      },
      {
       "output_type": "stream",
       "stream": "stdout",
       "text": [
        "\r",
        "Percent: [#####-----] 53.2846715328% "
       ]
      },
      {
       "output_type": "stream",
       "stream": "stdout",
       "text": [
        "\r",
        "Percent: [#####-----] 54.0145985401% "
       ]
      },
      {
       "output_type": "stream",
       "stream": "stdout",
       "text": [
        "\r",
        "Percent: [#####-----] 54.7445255474% "
       ]
      },
      {
       "output_type": "stream",
       "stream": "stdout",
       "text": [
        "\r",
        "Percent: [######----] 55.4744525547% "
       ]
      },
      {
       "output_type": "stream",
       "stream": "stdout",
       "text": [
        "\r",
        "Percent: [######----] 56.204379562% "
       ]
      },
      {
       "output_type": "stream",
       "stream": "stdout",
       "text": [
        "\r",
        "Percent: [######----] 56.9343065693% "
       ]
      },
      {
       "output_type": "stream",
       "stream": "stdout",
       "text": [
        "\r",
        "Percent: [######----] 57.6642335766% "
       ]
      },
      {
       "output_type": "stream",
       "stream": "stdout",
       "text": [
        "\r",
        "Percent: [######----] 58.3941605839% "
       ]
      },
      {
       "output_type": "stream",
       "stream": "stdout",
       "text": [
        "\r",
        "Percent: [######----] 59.1240875912% "
       ]
      },
      {
       "output_type": "stream",
       "stream": "stdout",
       "text": [
        "\r",
        "Percent: [######----] 59.8540145985% "
       ]
      },
      {
       "output_type": "stream",
       "stream": "stdout",
       "text": [
        "\r",
        "Percent: [######----] 60.5839416058% "
       ]
      },
      {
       "output_type": "stream",
       "stream": "stdout",
       "text": [
        "\r",
        "Percent: [######----] 61.3138686131% "
       ]
      },
      {
       "output_type": "stream",
       "stream": "stdout",
       "text": [
        "\r",
        "Percent: [######----] 62.0437956204% "
       ]
      },
      {
       "output_type": "stream",
       "stream": "stdout",
       "text": [
        "\r",
        "Percent: [######----] 62.7737226277% "
       ]
      },
      {
       "output_type": "stream",
       "stream": "stdout",
       "text": [
        "\r",
        "Percent: [######----] 63.503649635% "
       ]
      },
      {
       "output_type": "stream",
       "stream": "stdout",
       "text": [
        "\r",
        "Percent: [######----] 64.2335766423% "
       ]
      },
      {
       "output_type": "stream",
       "stream": "stdout",
       "text": [
        "\r",
        "Percent: [######----] 64.9635036496% "
       ]
      },
      {
       "output_type": "stream",
       "stream": "stdout",
       "text": [
        "\r",
        "Percent: [#######---] 65.6934306569% "
       ]
      },
      {
       "output_type": "stream",
       "stream": "stdout",
       "text": [
        "\r",
        "Percent: [#######---] 66.4233576642% "
       ]
      },
      {
       "output_type": "stream",
       "stream": "stdout",
       "text": [
        "\r",
        "Percent: [#######---] 67.1532846715% "
       ]
      },
      {
       "output_type": "stream",
       "stream": "stdout",
       "text": [
        "\r",
        "Percent: [#######---] 67.8832116788% "
       ]
      },
      {
       "output_type": "stream",
       "stream": "stdout",
       "text": [
        "\r",
        "Percent: [#######---] 68.6131386861% "
       ]
      },
      {
       "output_type": "stream",
       "stream": "stdout",
       "text": [
        "\r",
        "Percent: [#######---] 69.3430656934% "
       ]
      },
      {
       "output_type": "stream",
       "stream": "stdout",
       "text": [
        "\r",
        "Percent: [#######---] 70.0729927007% "
       ]
      },
      {
       "output_type": "stream",
       "stream": "stdout",
       "text": [
        "\r",
        "Percent: [#######---] 70.802919708% "
       ]
      },
      {
       "output_type": "stream",
       "stream": "stdout",
       "text": [
        "\r",
        "Percent: [#######---] 71.5328467153% "
       ]
      },
      {
       "output_type": "stream",
       "stream": "stdout",
       "text": [
        "\r",
        "Percent: [#######---] 72.2627737226% "
       ]
      },
      {
       "output_type": "stream",
       "stream": "stdout",
       "text": [
        "\r",
        "Percent: [#######---] 72.9927007299% "
       ]
      },
      {
       "output_type": "stream",
       "stream": "stdout",
       "text": [
        "\r",
        "Percent: [#######---] 73.7226277372% "
       ]
      },
      {
       "output_type": "stream",
       "stream": "stdout",
       "text": [
        "\r",
        "Percent: [#######---] 74.4525547445% "
       ]
      },
      {
       "output_type": "stream",
       "stream": "stdout",
       "text": [
        "\r",
        "Percent: [########--] 75.1824817518% "
       ]
      },
      {
       "output_type": "stream",
       "stream": "stdout",
       "text": [
        "\r",
        "Percent: [########--] 75.9124087591% "
       ]
      },
      {
       "output_type": "stream",
       "stream": "stdout",
       "text": [
        "\r",
        "Percent: [########--] 76.6423357664% "
       ]
      },
      {
       "output_type": "stream",
       "stream": "stdout",
       "text": [
        "\r",
        "Percent: [########--] 77.3722627737% "
       ]
      },
      {
       "output_type": "stream",
       "stream": "stdout",
       "text": [
        "\r",
        "Percent: [########--] 78.102189781% "
       ]
      },
      {
       "output_type": "stream",
       "stream": "stdout",
       "text": [
        "\r",
        "Percent: [########--] 78.8321167883% "
       ]
      },
      {
       "output_type": "stream",
       "stream": "stdout",
       "text": [
        "\r",
        "Percent: [########--] 79.5620437956% "
       ]
      },
      {
       "output_type": "stream",
       "stream": "stdout",
       "text": [
        "\r",
        "Percent: [########--] 80.2919708029% "
       ]
      },
      {
       "output_type": "stream",
       "stream": "stdout",
       "text": [
        "\r",
        "Percent: [########--] 81.0218978102% "
       ]
      },
      {
       "output_type": "stream",
       "stream": "stdout",
       "text": [
        "\r",
        "Percent: [########--] 81.7518248175% "
       ]
      },
      {
       "output_type": "stream",
       "stream": "stdout",
       "text": [
        "\r",
        "Percent: [########--] 82.4817518248% "
       ]
      },
      {
       "output_type": "stream",
       "stream": "stdout",
       "text": [
        "\r",
        "Percent: [########--] 83.2116788321% "
       ]
      },
      {
       "output_type": "stream",
       "stream": "stdout",
       "text": [
        "\r",
        "Percent: [########--] 83.9416058394% "
       ]
      },
      {
       "output_type": "stream",
       "stream": "stdout",
       "text": [
        "\r",
        "Percent: [########--] 84.6715328467% "
       ]
      },
      {
       "output_type": "stream",
       "stream": "stdout",
       "text": [
        "\r",
        "Percent: [#########-] 85.401459854% "
       ]
      },
      {
       "output_type": "stream",
       "stream": "stdout",
       "text": [
        "\r",
        "Percent: [#########-] 86.1313868613% "
       ]
      },
      {
       "output_type": "stream",
       "stream": "stdout",
       "text": [
        "\r",
        "Percent: [#########-] 86.8613138686% "
       ]
      },
      {
       "output_type": "stream",
       "stream": "stdout",
       "text": [
        "\r",
        "Percent: [#########-] 87.5912408759% "
       ]
      },
      {
       "output_type": "stream",
       "stream": "stdout",
       "text": [
        "\r",
        "Percent: [#########-] 88.3211678832% "
       ]
      },
      {
       "output_type": "stream",
       "stream": "stdout",
       "text": [
        "\r",
        "Percent: [#########-] 89.0510948905% "
       ]
      },
      {
       "output_type": "stream",
       "stream": "stdout",
       "text": [
        "\r",
        "Percent: [#########-] 89.7810218978% "
       ]
      },
      {
       "output_type": "stream",
       "stream": "stdout",
       "text": [
        "\r",
        "Percent: [#########-] 90.5109489051% "
       ]
      },
      {
       "output_type": "stream",
       "stream": "stdout",
       "text": [
        "\r",
        "Percent: [#########-] 91.2408759124% "
       ]
      },
      {
       "output_type": "stream",
       "stream": "stdout",
       "text": [
        "\r",
        "Percent: [#########-] 91.9708029197% "
       ]
      },
      {
       "output_type": "stream",
       "stream": "stdout",
       "text": [
        "\r",
        "Percent: [#########-] 92.700729927% "
       ]
      },
      {
       "output_type": "stream",
       "stream": "stdout",
       "text": [
        "\r",
        "Percent: [#########-] 93.4306569343% "
       ]
      },
      {
       "output_type": "stream",
       "stream": "stdout",
       "text": [
        "\r",
        "Percent: [#########-] 94.1605839416% "
       ]
      },
      {
       "output_type": "stream",
       "stream": "stdout",
       "text": [
        "\r",
        "Percent: [#########-] 94.8905109489% "
       ]
      },
      {
       "output_type": "stream",
       "stream": "stdout",
       "text": [
        "\r",
        "Percent: [##########] 95.6204379562% "
       ]
      },
      {
       "output_type": "stream",
       "stream": "stdout",
       "text": [
        "\r",
        "Percent: [##########] 96.3503649635% "
       ]
      },
      {
       "output_type": "stream",
       "stream": "stdout",
       "text": [
        "\r",
        "Percent: [##########] 97.0802919708% "
       ]
      },
      {
       "output_type": "stream",
       "stream": "stdout",
       "text": [
        "\r",
        "Percent: [##########] 97.8102189781% "
       ]
      },
      {
       "output_type": "stream",
       "stream": "stdout",
       "text": [
        "\r",
        "Percent: [##########] 98.5401459854% "
       ]
      },
      {
       "output_type": "stream",
       "stream": "stdout",
       "text": [
        "\r",
        "Percent: [##########] 99.2700729927% "
       ]
      },
      {
       "output_type": "stream",
       "stream": "stdout",
       "text": [
        "\r",
        "Percent: [##########] 100% Done...\r\n"
       ]
      },
      {
       "output_type": "stream",
       "stream": "stdout",
       "text": [
        "\n",
        ".... done.\n",
        "\n"
       ]
      }
     ],
     "prompt_number": 22
    },
    {
     "cell_type": "code",
     "collapsed": false,
     "input": [
      "print '\\n Time from header = \\n'\n",
      "#print '\\nImages ** UTC (YYYY-MM-DDTHH:MM:SS) ** JD (7d.5d) ** ST (hours) ** ST (HH:MM:SS) ** Sun Coordinate (epoch,RA,DEC,Distance) (deg,deg,AU) \\n'\n",
      "ST_string = []\n",
      "for i in range(len(images)):\n",
      "    ST1 = int(ST[i])\n",
      "    ST2 = int((ST[i]-ST1)*60.)\n",
      "    ST3 = (((ST[i]-ST1)*60.)-ST2)*60\n",
      "    ST_string.append(str(ST1)+':'+str(ST2)+':'+str(ST3))\n",
      "    tempo_loc[i] = tempo_loc[i].value\n",
      "    use.update_progress((i+1.)/len(images))\n",
      "    #print images[i], ' ** ',tempo_loc[i], ' ** ', JD[i], ' ** ', ST[i],' ** ',ST_string[i],' ** ',sun_loc[i],' ** ',HJD[i]\n"
     ],
     "language": "python",
     "metadata": {},
     "outputs": [
      {
       "output_type": "stream",
       "stream": "stdout",
       "text": [
        "\n",
        " Time from header = \n",
        "\n",
        "\r",
        "Percent: [----------] 0.729927007299% "
       ]
      },
      {
       "output_type": "stream",
       "stream": "stdout",
       "text": [
        "\r",
        "Percent: [----------] 1.4598540146% "
       ]
      },
      {
       "output_type": "stream",
       "stream": "stdout",
       "text": [
        "\r",
        "Percent: [----------] 2.1897810219% "
       ]
      },
      {
       "output_type": "stream",
       "stream": "stdout",
       "text": [
        "\r",
        "Percent: [----------] 2.9197080292% "
       ]
      },
      {
       "output_type": "stream",
       "stream": "stdout",
       "text": [
        "\r",
        "Percent: [----------] 3.6496350365% "
       ]
      },
      {
       "output_type": "stream",
       "stream": "stdout",
       "text": [
        "\r",
        "Percent: [----------] 4.3795620438% "
       ]
      },
      {
       "output_type": "stream",
       "stream": "stdout",
       "text": [
        "\r",
        "Percent: [#---------] 5.10948905109% "
       ]
      },
      {
       "output_type": "stream",
       "stream": "stdout",
       "text": [
        "\r",
        "Percent: [#---------] 5.83941605839% "
       ]
      },
      {
       "output_type": "stream",
       "stream": "stdout",
       "text": [
        "\r",
        "Percent: [#---------] 6.56934306569% "
       ]
      },
      {
       "output_type": "stream",
       "stream": "stdout",
       "text": [
        "\r",
        "Percent: [#---------] 7.29927007299% "
       ]
      },
      {
       "output_type": "stream",
       "stream": "stdout",
       "text": [
        "\r",
        "Percent: [#---------] 8.02919708029% "
       ]
      },
      {
       "output_type": "stream",
       "stream": "stdout",
       "text": [
        "\r",
        "Percent: [#---------] 8.75912408759% "
       ]
      },
      {
       "output_type": "stream",
       "stream": "stdout",
       "text": [
        "\r",
        "Percent: [#---------] 9.48905109489% "
       ]
      },
      {
       "output_type": "stream",
       "stream": "stdout",
       "text": [
        "\r",
        "Percent: [#---------] 10.2189781022% "
       ]
      },
      {
       "output_type": "stream",
       "stream": "stdout",
       "text": [
        "\r",
        "Percent: [#---------] 10.9489051095% "
       ]
      },
      {
       "output_type": "stream",
       "stream": "stdout",
       "text": [
        "\r",
        "Percent: [#---------] 11.6788321168% "
       ]
      },
      {
       "output_type": "stream",
       "stream": "stdout",
       "text": [
        "\r",
        "Percent: [#---------] 12.4087591241% "
       ]
      },
      {
       "output_type": "stream",
       "stream": "stdout",
       "text": [
        "\r",
        "Percent: [#---------] 13.1386861314% "
       ]
      },
      {
       "output_type": "stream",
       "stream": "stdout",
       "text": [
        "\r",
        "Percent: [#---------] 13.8686131387% "
       ]
      },
      {
       "output_type": "stream",
       "stream": "stdout",
       "text": [
        "\r",
        "Percent: [#---------] 14.598540146% "
       ]
      },
      {
       "output_type": "stream",
       "stream": "stdout",
       "text": [
        "\r",
        "Percent: [##--------] 15.3284671533% "
       ]
      },
      {
       "output_type": "stream",
       "stream": "stdout",
       "text": [
        "\r",
        "Percent: [##--------] 16.0583941606% "
       ]
      },
      {
       "output_type": "stream",
       "stream": "stdout",
       "text": [
        "\r",
        "Percent: [##--------] 16.7883211679% "
       ]
      },
      {
       "output_type": "stream",
       "stream": "stdout",
       "text": [
        "\r",
        "Percent: [##--------] 17.5182481752% "
       ]
      },
      {
       "output_type": "stream",
       "stream": "stdout",
       "text": [
        "\r",
        "Percent: [##--------] 18.2481751825% "
       ]
      },
      {
       "output_type": "stream",
       "stream": "stdout",
       "text": [
        "\r",
        "Percent: [##--------] 18.9781021898% "
       ]
      },
      {
       "output_type": "stream",
       "stream": "stdout",
       "text": [
        "\r",
        "Percent: [##--------] 19.7080291971% "
       ]
      },
      {
       "output_type": "stream",
       "stream": "stdout",
       "text": [
        "\r",
        "Percent: [##--------] 20.4379562044% "
       ]
      },
      {
       "output_type": "stream",
       "stream": "stdout",
       "text": [
        "\r",
        "Percent: [##--------] 21.1678832117% "
       ]
      },
      {
       "output_type": "stream",
       "stream": "stdout",
       "text": [
        "\r",
        "Percent: [##--------] 21.897810219% "
       ]
      },
      {
       "output_type": "stream",
       "stream": "stdout",
       "text": [
        "\r",
        "Percent: [##--------] 22.6277372263% "
       ]
      },
      {
       "output_type": "stream",
       "stream": "stdout",
       "text": [
        "\r",
        "Percent: [##--------] 23.3576642336% "
       ]
      },
      {
       "output_type": "stream",
       "stream": "stdout",
       "text": [
        "\r",
        "Percent: [##--------] 24.0875912409% "
       ]
      },
      {
       "output_type": "stream",
       "stream": "stdout",
       "text": [
        "\r",
        "Percent: [##--------] 24.8175182482% "
       ]
      },
      {
       "output_type": "stream",
       "stream": "stdout",
       "text": [
        "\r",
        "Percent: [###-------] 25.5474452555% "
       ]
      },
      {
       "output_type": "stream",
       "stream": "stdout",
       "text": [
        "\r",
        "Percent: [###-------] 26.2773722628% "
       ]
      },
      {
       "output_type": "stream",
       "stream": "stdout",
       "text": [
        "\r",
        "Percent: [###-------] 27.0072992701% "
       ]
      },
      {
       "output_type": "stream",
       "stream": "stdout",
       "text": [
        "\r",
        "Percent: [###-------] 27.7372262774% "
       ]
      },
      {
       "output_type": "stream",
       "stream": "stdout",
       "text": [
        "\r",
        "Percent: [###-------] 28.4671532847% "
       ]
      },
      {
       "output_type": "stream",
       "stream": "stdout",
       "text": [
        "\r",
        "Percent: [###-------] 29.197080292% "
       ]
      },
      {
       "output_type": "stream",
       "stream": "stdout",
       "text": [
        "\r",
        "Percent: [###-------] 29.9270072993% "
       ]
      },
      {
       "output_type": "stream",
       "stream": "stdout",
       "text": [
        "\r",
        "Percent: [###-------] 30.6569343066% "
       ]
      },
      {
       "output_type": "stream",
       "stream": "stdout",
       "text": [
        "\r",
        "Percent: [###-------] 31.3868613139% "
       ]
      },
      {
       "output_type": "stream",
       "stream": "stdout",
       "text": [
        "\r",
        "Percent: [###-------] 32.1167883212% "
       ]
      },
      {
       "output_type": "stream",
       "stream": "stdout",
       "text": [
        "\r",
        "Percent: [###-------] 32.8467153285% "
       ]
      },
      {
       "output_type": "stream",
       "stream": "stdout",
       "text": [
        "\r",
        "Percent: [###-------] 33.5766423358% "
       ]
      },
      {
       "output_type": "stream",
       "stream": "stdout",
       "text": [
        "\r",
        "Percent: [###-------] 34.3065693431% "
       ]
      },
      {
       "output_type": "stream",
       "stream": "stdout",
       "text": [
        "\r",
        "Percent: [####------] 35.0364963504% "
       ]
      },
      {
       "output_type": "stream",
       "stream": "stdout",
       "text": [
        "\r",
        "Percent: [####------] 35.7664233577% "
       ]
      },
      {
       "output_type": "stream",
       "stream": "stdout",
       "text": [
        "\r",
        "Percent: [####------] 36.496350365% "
       ]
      },
      {
       "output_type": "stream",
       "stream": "stdout",
       "text": [
        "\r",
        "Percent: [####------] 37.2262773723% "
       ]
      },
      {
       "output_type": "stream",
       "stream": "stdout",
       "text": [
        "\r",
        "Percent: [####------] 37.9562043796% "
       ]
      },
      {
       "output_type": "stream",
       "stream": "stdout",
       "text": [
        "\r",
        "Percent: [####------] 38.6861313869% "
       ]
      },
      {
       "output_type": "stream",
       "stream": "stdout",
       "text": [
        "\r",
        "Percent: [####------] 39.4160583942% "
       ]
      },
      {
       "output_type": "stream",
       "stream": "stdout",
       "text": [
        "\r",
        "Percent: [####------] 40.1459854015% "
       ]
      },
      {
       "output_type": "stream",
       "stream": "stdout",
       "text": [
        "\r",
        "Percent: [####------] 40.8759124088% "
       ]
      },
      {
       "output_type": "stream",
       "stream": "stdout",
       "text": [
        "\r",
        "Percent: [####------] 41.6058394161% "
       ]
      },
      {
       "output_type": "stream",
       "stream": "stdout",
       "text": [
        "\r",
        "Percent: [####------] 42.3357664234% "
       ]
      },
      {
       "output_type": "stream",
       "stream": "stdout",
       "text": [
        "\r",
        "Percent: [####------] 43.0656934307% "
       ]
      },
      {
       "output_type": "stream",
       "stream": "stdout",
       "text": [
        "\r",
        "Percent: [####------] 43.795620438% "
       ]
      },
      {
       "output_type": "stream",
       "stream": "stdout",
       "text": [
        "\r",
        "Percent: [####------] 44.5255474453% "
       ]
      },
      {
       "output_type": "stream",
       "stream": "stdout",
       "text": [
        "\r",
        "Percent: [#####-----] 45.2554744526% "
       ]
      },
      {
       "output_type": "stream",
       "stream": "stdout",
       "text": [
        "\r",
        "Percent: [#####-----] 45.9854014599% "
       ]
      },
      {
       "output_type": "stream",
       "stream": "stdout",
       "text": [
        "\r",
        "Percent: [#####-----] 46.7153284672% "
       ]
      },
      {
       "output_type": "stream",
       "stream": "stdout",
       "text": [
        "\r",
        "Percent: [#####-----] 47.4452554745% "
       ]
      },
      {
       "output_type": "stream",
       "stream": "stdout",
       "text": [
        "\r",
        "Percent: [#####-----] 48.1751824818% "
       ]
      },
      {
       "output_type": "stream",
       "stream": "stdout",
       "text": [
        "\r",
        "Percent: [#####-----] 48.9051094891% "
       ]
      },
      {
       "output_type": "stream",
       "stream": "stdout",
       "text": [
        "\r",
        "Percent: [#####-----] 49.6350364964% "
       ]
      },
      {
       "output_type": "stream",
       "stream": "stdout",
       "text": [
        "\r",
        "Percent: [#####-----] 50.3649635036% "
       ]
      },
      {
       "output_type": "stream",
       "stream": "stdout",
       "text": [
        "\r",
        "Percent: [#####-----] 51.0948905109% "
       ]
      },
      {
       "output_type": "stream",
       "stream": "stdout",
       "text": [
        "\r",
        "Percent: [#####-----] 51.8248175182% "
       ]
      },
      {
       "output_type": "stream",
       "stream": "stdout",
       "text": [
        "\r",
        "Percent: [#####-----] 52.5547445255% "
       ]
      },
      {
       "output_type": "stream",
       "stream": "stdout",
       "text": [
        "\r",
        "Percent: [#####-----] 53.2846715328% "
       ]
      },
      {
       "output_type": "stream",
       "stream": "stdout",
       "text": [
        "\r",
        "Percent: [#####-----] 54.0145985401% "
       ]
      },
      {
       "output_type": "stream",
       "stream": "stdout",
       "text": [
        "\r",
        "Percent: [#####-----] 54.7445255474% "
       ]
      },
      {
       "output_type": "stream",
       "stream": "stdout",
       "text": [
        "\r",
        "Percent: [######----] 55.4744525547% "
       ]
      },
      {
       "output_type": "stream",
       "stream": "stdout",
       "text": [
        "\r",
        "Percent: [######----] 56.204379562% "
       ]
      },
      {
       "output_type": "stream",
       "stream": "stdout",
       "text": [
        "\r",
        "Percent: [######----] 56.9343065693% "
       ]
      },
      {
       "output_type": "stream",
       "stream": "stdout",
       "text": [
        "\r",
        "Percent: [######----] 57.6642335766% "
       ]
      },
      {
       "output_type": "stream",
       "stream": "stdout",
       "text": [
        "\r",
        "Percent: [######----] 58.3941605839% "
       ]
      },
      {
       "output_type": "stream",
       "stream": "stdout",
       "text": [
        "\r",
        "Percent: [######----] 59.1240875912% "
       ]
      },
      {
       "output_type": "stream",
       "stream": "stdout",
       "text": [
        "\r",
        "Percent: [######----] 59.8540145985% "
       ]
      },
      {
       "output_type": "stream",
       "stream": "stdout",
       "text": [
        "\r",
        "Percent: [######----] 60.5839416058% "
       ]
      },
      {
       "output_type": "stream",
       "stream": "stdout",
       "text": [
        "\r",
        "Percent: [######----] 61.3138686131% "
       ]
      },
      {
       "output_type": "stream",
       "stream": "stdout",
       "text": [
        "\r",
        "Percent: [######----] 62.0437956204% "
       ]
      },
      {
       "output_type": "stream",
       "stream": "stdout",
       "text": [
        "\r",
        "Percent: [######----] 62.7737226277% "
       ]
      },
      {
       "output_type": "stream",
       "stream": "stdout",
       "text": [
        "\r",
        "Percent: [######----] 63.503649635% "
       ]
      },
      {
       "output_type": "stream",
       "stream": "stdout",
       "text": [
        "\r",
        "Percent: [######----] 64.2335766423% "
       ]
      },
      {
       "output_type": "stream",
       "stream": "stdout",
       "text": [
        "\r",
        "Percent: [######----] 64.9635036496% "
       ]
      },
      {
       "output_type": "stream",
       "stream": "stdout",
       "text": [
        "\r",
        "Percent: [#######---] 65.6934306569% "
       ]
      },
      {
       "output_type": "stream",
       "stream": "stdout",
       "text": [
        "\r",
        "Percent: [#######---] 66.4233576642% "
       ]
      },
      {
       "output_type": "stream",
       "stream": "stdout",
       "text": [
        "\r",
        "Percent: [#######---] 67.1532846715% "
       ]
      },
      {
       "output_type": "stream",
       "stream": "stdout",
       "text": [
        "\r",
        "Percent: [#######---] 67.8832116788% "
       ]
      },
      {
       "output_type": "stream",
       "stream": "stdout",
       "text": [
        "\r",
        "Percent: [#######---] 68.6131386861% "
       ]
      },
      {
       "output_type": "stream",
       "stream": "stdout",
       "text": [
        "\r",
        "Percent: [#######---] 69.3430656934% "
       ]
      },
      {
       "output_type": "stream",
       "stream": "stdout",
       "text": [
        "\r",
        "Percent: [#######---] 70.0729927007% "
       ]
      },
      {
       "output_type": "stream",
       "stream": "stdout",
       "text": [
        "\r",
        "Percent: [#######---] 70.802919708% "
       ]
      },
      {
       "output_type": "stream",
       "stream": "stdout",
       "text": [
        "\r",
        "Percent: [#######---] 71.5328467153% "
       ]
      },
      {
       "output_type": "stream",
       "stream": "stdout",
       "text": [
        "\r",
        "Percent: [#######---] 72.2627737226% "
       ]
      },
      {
       "output_type": "stream",
       "stream": "stdout",
       "text": [
        "\r",
        "Percent: [#######---] 72.9927007299% "
       ]
      },
      {
       "output_type": "stream",
       "stream": "stdout",
       "text": [
        "\r",
        "Percent: [#######---] 73.7226277372% "
       ]
      },
      {
       "output_type": "stream",
       "stream": "stdout",
       "text": [
        "\r",
        "Percent: [#######---] 74.4525547445% "
       ]
      },
      {
       "output_type": "stream",
       "stream": "stdout",
       "text": [
        "\r",
        "Percent: [########--] 75.1824817518% "
       ]
      },
      {
       "output_type": "stream",
       "stream": "stdout",
       "text": [
        "\r",
        "Percent: [########--] 75.9124087591% "
       ]
      },
      {
       "output_type": "stream",
       "stream": "stdout",
       "text": [
        "\r",
        "Percent: [########--] 76.6423357664% "
       ]
      },
      {
       "output_type": "stream",
       "stream": "stdout",
       "text": [
        "\r",
        "Percent: [########--] 77.3722627737% "
       ]
      },
      {
       "output_type": "stream",
       "stream": "stdout",
       "text": [
        "\r",
        "Percent: [########--] 78.102189781% "
       ]
      },
      {
       "output_type": "stream",
       "stream": "stdout",
       "text": [
        "\r",
        "Percent: [########--] 78.8321167883% "
       ]
      },
      {
       "output_type": "stream",
       "stream": "stdout",
       "text": [
        "\r",
        "Percent: [########--] 79.5620437956% "
       ]
      },
      {
       "output_type": "stream",
       "stream": "stdout",
       "text": [
        "\r",
        "Percent: [########--] 80.2919708029% "
       ]
      },
      {
       "output_type": "stream",
       "stream": "stdout",
       "text": [
        "\r",
        "Percent: [########--] 81.0218978102% "
       ]
      },
      {
       "output_type": "stream",
       "stream": "stdout",
       "text": [
        "\r",
        "Percent: [########--] 81.7518248175% "
       ]
      },
      {
       "output_type": "stream",
       "stream": "stdout",
       "text": [
        "\r",
        "Percent: [########--] 82.4817518248% "
       ]
      },
      {
       "output_type": "stream",
       "stream": "stdout",
       "text": [
        "\r",
        "Percent: [########--] 83.2116788321% "
       ]
      },
      {
       "output_type": "stream",
       "stream": "stdout",
       "text": [
        "\r",
        "Percent: [########--] 83.9416058394% "
       ]
      },
      {
       "output_type": "stream",
       "stream": "stdout",
       "text": [
        "\r",
        "Percent: [########--] 84.6715328467% "
       ]
      },
      {
       "output_type": "stream",
       "stream": "stdout",
       "text": [
        "\r",
        "Percent: [#########-] 85.401459854% "
       ]
      },
      {
       "output_type": "stream",
       "stream": "stdout",
       "text": [
        "\r",
        "Percent: [#########-] 86.1313868613% "
       ]
      },
      {
       "output_type": "stream",
       "stream": "stdout",
       "text": [
        "\r",
        "Percent: [#########-] 86.8613138686% "
       ]
      },
      {
       "output_type": "stream",
       "stream": "stdout",
       "text": [
        "\r",
        "Percent: [#########-] 87.5912408759% "
       ]
      },
      {
       "output_type": "stream",
       "stream": "stdout",
       "text": [
        "\r",
        "Percent: [#########-] 88.3211678832% "
       ]
      },
      {
       "output_type": "stream",
       "stream": "stdout",
       "text": [
        "\r",
        "Percent: [#########-] 89.0510948905% "
       ]
      },
      {
       "output_type": "stream",
       "stream": "stdout",
       "text": [
        "\r",
        "Percent: [#########-] 89.7810218978% "
       ]
      },
      {
       "output_type": "stream",
       "stream": "stdout",
       "text": [
        "\r",
        "Percent: [#########-] 90.5109489051% "
       ]
      },
      {
       "output_type": "stream",
       "stream": "stdout",
       "text": [
        "\r",
        "Percent: [#########-] 91.2408759124% "
       ]
      },
      {
       "output_type": "stream",
       "stream": "stdout",
       "text": [
        "\r",
        "Percent: [#########-] 91.9708029197% "
       ]
      },
      {
       "output_type": "stream",
       "stream": "stdout",
       "text": [
        "\r",
        "Percent: [#########-] 92.700729927% "
       ]
      },
      {
       "output_type": "stream",
       "stream": "stdout",
       "text": [
        "\r",
        "Percent: [#########-] 93.4306569343% "
       ]
      },
      {
       "output_type": "stream",
       "stream": "stdout",
       "text": [
        "\r",
        "Percent: [#########-] 94.1605839416% "
       ]
      },
      {
       "output_type": "stream",
       "stream": "stdout",
       "text": [
        "\r",
        "Percent: [#########-] 94.8905109489% "
       ]
      },
      {
       "output_type": "stream",
       "stream": "stdout",
       "text": [
        "\r",
        "Percent: [##########] 95.6204379562% "
       ]
      },
      {
       "output_type": "stream",
       "stream": "stdout",
       "text": [
        "\r",
        "Percent: [##########] 96.3503649635% "
       ]
      },
      {
       "output_type": "stream",
       "stream": "stdout",
       "text": [
        "\r",
        "Percent: [##########] 97.0802919708% "
       ]
      },
      {
       "output_type": "stream",
       "stream": "stdout",
       "text": [
        "\r",
        "Percent: [##########] 97.8102189781% "
       ]
      },
      {
       "output_type": "stream",
       "stream": "stdout",
       "text": [
        "\r",
        "Percent: [##########] 98.5401459854% "
       ]
      },
      {
       "output_type": "stream",
       "stream": "stdout",
       "text": [
        "\r",
        "Percent: [##########] 99.2700729927% "
       ]
      },
      {
       "output_type": "stream",
       "stream": "stdout",
       "text": [
        "\r",
        "Percent: [##########] 100% Done...\r\n"
       ]
      }
     ],
     "prompt_number": 23
    },
    {
     "cell_type": "code",
     "collapsed": false,
     "input": [
      "print '\\nSave data file ... \\n'\n",
      "data = DataFrame([images,tempo_loc,list(JD),list(ST),list(ST_string),list(ra_sun),list(dec_sun),list(dsun),list(HJD)]).T"
     ],
     "language": "python",
     "metadata": {},
     "outputs": [
      {
       "output_type": "stream",
       "stream": "stdout",
       "text": [
        "\n",
        "Save data file ... \n",
        "\n"
       ]
      }
     ],
     "prompt_number": 33
    },
    {
     "cell_type": "code",
     "collapsed": false,
     "input": [
      "data.columns=['images','UTC','JD','ST','ST_isot','RA_SUN','DEC_SUN','D_SUN','HJD']"
     ],
     "language": "python",
     "metadata": {},
     "outputs": [],
     "prompt_number": 34
    },
    {
     "cell_type": "code",
     "collapsed": false,
     "input": [
      "print data"
     ],
     "language": "python",
     "metadata": {},
     "outputs": [
      {
       "output_type": "stream",
       "stream": "stdout",
       "text": [
        "               images                      UTC       JD        ST  \\\n",
        "0    ABXO2b.0001.fits  2012-01-05T03:48:01.246  2455932  3.362139   \n",
        "1    ABXO2b.0003.fits  2012-01-05T03:49:51.020  2455932  3.392716   \n",
        "2    ABXO2b.0005.fits  2012-01-05T03:51:43.330  2455932  3.423998   \n",
        "3    ABXO2b.0009.fits  2012-01-05T03:55:23.224  2455932  3.485247   \n",
        "4    ABXO2b.0011.fits  2012-01-05T03:57:13.321  2455932  3.515914   \n",
        "5    ABXO2b.0013.fits  2012-01-05T03:59:03.333  2455932  3.546556   \n",
        "6    ABXO2b.0015.fits  2012-01-05T04:00:53.650  2455932  3.577284   \n",
        "7    ABXO2b.0019.fits  2012-01-05T04:04:30.103  2455932  3.637574   \n",
        "8    ABXO2b.0021.fits  2012-01-05T04:06:22.504  2455932  3.668882   \n",
        "9    ABXO2b.0023.fits  2012-01-05T04:08:15.137  2455932  3.700255   \n",
        "10   ABXO2b.0025.fits  2012-01-05T04:10:32.371  2455932   3.73848   \n",
        "11   ABXO2b.0029.fits  2012-01-05T04:14:17.315  2455932  3.801135   \n",
        "12   ABXO2b.0031.fits  2012-01-05T04:16:09.935  2455932  3.832504   \n",
        "13   ABXO2b.0033.fits  2012-01-05T04:17:59.908  2455932  3.863136   \n",
        "14   ABXO2b.0035.fits  2012-01-05T04:19:52.737  2455932  3.894563   \n",
        "15   ABXO2b.0039.fits  2012-01-05T04:23:41.412  2455932  3.958258   \n",
        "16   ABXO2b.0041.fits  2012-01-05T04:25:30.357  2455932  3.988603   \n",
        "17   ABXO2b.0043.fits  2012-01-05T04:27:19.014  2455932  4.018868   \n",
        "18   ABXO2b.0045.fits  2012-01-05T04:29:07.819  2455932  4.049175   \n",
        "19   ABXO2b.0049.fits  2012-01-05T04:32:39.776  2455932  4.108213   \n",
        "20   ABXO2b.0051.fits  2012-01-05T04:34:25.912  2455932  4.137776   \n",
        "21   ABXO2b.0053.fits  2012-01-05T04:36:12.021  2455932  4.167331   \n",
        "22   ABXO2b.0055.fits  2012-01-05T04:37:57.830  2455932  4.196803   \n",
        "23   ABXO2b.0059.fits  2012-01-05T04:41:26.291  2455932  4.254867   \n",
        "24   ABXO2b.0061.fits  2012-01-05T04:43:15.000  2455932  4.285147   \n",
        "25   ABXO2b.0063.fits  2012-01-05T04:45:03.479  2455932  4.315362   \n",
        "26   ABXO2b.0065.fits  2012-01-05T04:46:49.456  2455932  4.344881   \n",
        "27   ABXO2b.0069.fits  2012-01-05T04:50:24.488  2455932  4.404776   \n",
        "28   ABXO2b.0071.fits  2012-01-05T04:52:10.620  2455932  4.434338   \n",
        "29   ABXO2b.0073.fits  2012-01-05T04:53:59.676  2455932  4.464714   \n",
        "..                ...                      ...      ...       ...   \n",
        "107  ABXO2b.0269.fits  2012-01-05T07:48:21.463  2455932  7.378722   \n",
        "108  ABXO2b.0271.fits  2012-01-05T07:49:55.409  2455932   7.40489   \n",
        "109  ABXO2b.0273.fits  2012-01-05T07:51:25.904  2455932  7.430096   \n",
        "110  ABXO2b.0275.fits  2012-01-05T07:52:59.684  2455932  7.456218   \n",
        "111  ABXO2b.0279.fits  2012-01-05T07:56:13.706  2455932   7.51026   \n",
        "112  ABXO2b.0281.fits  2012-01-05T07:57:50.621  2455932  7.537255   \n",
        "113  ABXO2b.0283.fits  2012-01-05T07:59:24.726  2455932  7.563467   \n",
        "114  ABXO2b.0285.fits  2012-01-05T08:01:01.354  2455932  7.590381   \n",
        "115  ABXO2b.0289.fits  2012-01-05T08:04:12.381  2455932   7.64359   \n",
        "116  ABXO2b.0291.fits  2012-01-05T08:05:46.235  2455932  7.669732   \n",
        "117  ABXO2b.0293.fits  2012-01-05T08:07:20.785  2455932  7.696067   \n",
        "118  ABXO2b.0295.fits  2012-01-05T08:08:57.352  2455932  7.722965   \n",
        "119  ABXO2b.0299.fits  2012-01-05T08:12:08.335  2455932  7.776161   \n",
        "120  ABXO2b.0301.fits  2012-01-05T08:13:44.807  2455932  7.803032   \n",
        "121  ABXO2b.0303.fits  2012-01-05T08:15:21.303  2455932   7.82991   \n",
        "122  ABXO2b.0305.fits  2012-01-05T08:16:55.386  2455932  7.856116   \n",
        "123  ABXO2b.0309.fits  2012-01-05T08:20:06.497  2455932  7.909347   \n",
        "124  ABXO2b.0311.fits  2012-01-05T08:21:37.092  2455932  7.934582   \n",
        "125  ABXO2b.0313.fits  2012-01-05T08:23:14.322  2455932  7.961664   \n",
        "126  ABXO2b.0315.fits  2012-01-05T08:24:48.165  2455932  7.987803   \n",
        "127  ABXO2b.0319.fits  2012-01-05T08:27:58.830  2455932   8.04091   \n",
        "128  ABXO2b.0321.fits  2012-01-05T08:29:33.169  2455932  8.067187   \n",
        "129  ABXO2b.0323.fits  2012-01-05T08:31:10.168  2455932  8.094205   \n",
        "130  ABXO2b.0325.fits  2012-01-05T08:32:44.253  2455932  8.120412   \n",
        "131  ABXO2b.0329.fits  2012-01-05T08:35:54.718  2455932  8.173463   \n",
        "132  ABXO2b.0331.fits  2012-01-05T08:37:28.511  2455932  8.199588   \n",
        "133  ABXO2b.0333.fits  2012-01-05T08:39:04.947  2455932  8.226449   \n",
        "134  ABXO2b.0335.fits  2012-01-05T08:40:38.985  2455932  8.252643   \n",
        "135  ABXO2b.0339.fits  2012-01-05T08:43:50.238  2455932  8.305914   \n",
        "136  ABXO2b.0341.fits  2012-01-05T08:45:24.373  2455932  8.332134   \n",
        "\n",
        "                 ST_isot    RA_SUN   DEC_SUN      D_SUN      HJD  \n",
        "0     3:21:43.7020534219  285.2339 -22.69882  0.9832842  2455932  \n",
        "1     3:23:33.7766096944  285.2353 -22.69868  0.9832842  2455932  \n",
        "2     3:25:26.3941094241  285.2367 -22.69854  0.9832842  2455932  \n",
        "3     3:29:6.89016931875  285.2395 -22.69827  0.9832842  2455932  \n",
        "4     3:30:57.2886099641  285.2409 -22.69813  0.9832842  2455932  \n",
        "5     3:32:47.6018178865  285.2423   -22.698  0.9832842  2455932  \n",
        "6     3:34:38.2208608886  285.2437 -22.69786  0.9832842  2455932  \n",
        "7     3:38:15.2664995119  285.2464  -22.6976  0.9832842  2455932  \n",
        "8     3:40:7.97524842316  285.2479 -22.69746  0.9832842  2455932  \n",
        "9    3:42:0.916632542897  285.2493 -22.69732  0.9832842  2455932  \n",
        "10    3:44:18.5263731061  285.2511 -22.69715  0.9832842  2455932  \n",
        "11    3:48:4.08625974312  285.2539 -22.69687  0.9832842  2455932  \n",
        "12    3:49:57.0146082844  285.2553 -22.69673  0.9832842  2455932  \n",
        "13    3:51:47.2887094608  285.2567  -22.6966  0.9832842  2455932  \n",
        "14    3:53:40.4266302417  285.2582 -22.69646  0.9832842  2455932  \n",
        "15    3:57:29.7277322255  285.2611 -22.69618  0.9832842  2455932  \n",
        "16    3:59:18.9710187971  285.2625 -22.69604  0.9832842  2455932  \n",
        "17     4:1:7.92551684082  285.2639 -22.69591  0.9832842  2455932  \n",
        "18     4:2:57.0284201051  285.2652 -22.69577  0.9832842  2455932  \n",
        "19     4:6:29.5657489799  285.2679 -22.69551  0.9832842  2455932  \n",
        "20     4:8:15.9923446499  285.2693 -22.69538  0.9832842  2455932  \n",
        "21    4:10:2.39186639809  285.2706 -22.69525  0.9832842  2455932  \n",
        "22    4:11:48.4905667626   285.272 -22.69512  0.9832842  2455932  \n",
        "23    4:15:17.5223237741  285.2746 -22.69486  0.9832842  2455932  \n",
        "24     4:17:6.5289642199   285.276 -22.69473  0.9832842  2455932  \n",
        "25    4:18:55.3049749393  285.2774 -22.69459  0.9832842  2455932  \n",
        "26    4:20:41.5721352957  285.2787 -22.69446  0.9832842  2455932  \n",
        "27    4:24:17.1928834461  285.2815  -22.6942  0.9832842  2455932  \n",
        "28    4:26:3.61546819533  285.2828 -22.69406  0.9832842  2455932  \n",
        "29    4:27:52.9700587308  285.2842 -22.69393  0.9832842  2455932  \n",
        "..                   ...       ...       ...        ...      ...  \n",
        "107   7:22:43.4009867208  285.4172 -22.68094  0.9832844  2455932  \n",
        "108   7:24:17.6042070074  285.4184 -22.68083  0.9832844  2455932  \n",
        "109   7:25:48.3469785998  285.4195 -22.68071  0.9832844  2455932  \n",
        "110   7:27:22.3837443896  285.4207  -22.6806  0.9832844  2455932  \n",
        "111    7:30:36.936968667  285.4232 -22.68035  0.9832844  2455932  \n",
        "112   7:32:14.1173179656  285.4244 -22.68023  0.9832844  2455932  \n",
        "113   7:33:48.4799736018  285.4256 -22.68012  0.9832844  2455932  \n",
        "114   7:35:25.3725371108  285.4268    -22.68  0.9832844  2455932  \n",
        "115   7:38:36.9225612254  285.4293 -22.67976  0.9832844  2455932  \n",
        "116   7:40:11.0335296431  285.4305 -22.67964  0.9832844  2455932  \n",
        "117    7:41:45.842403683  285.4317 -22.67952  0.9832844  2455932  \n",
        "118   7:43:22.6738001887  285.4329  -22.6794  0.9832844  2455932  \n",
        "119   7:46:34.1797038572  285.4353 -22.67916  0.9832844  2455932  \n",
        "120   7:48:10.9158402645  285.4365 -22.67904  0.9832844  2455932  \n",
        "121   7:49:47.6760423847  285.4378 -22.67892  0.9832844  2455932  \n",
        "122   7:51:22.0166378119   285.439  -22.6788  0.9832844  2455932  \n",
        "123   7:54:33.6508919632  285.4414 -22.67857  0.9832844  2455932  \n",
        "124   7:56:4.49393739503  285.4425 -22.67845  0.9832844  2455932  \n",
        "125   7:57:41.9901491898  285.4438 -22.67833  0.9832844  2455932  \n",
        "126   7:59:16.0900875184   285.445 -22.67821  0.9832844  2455932  \n",
        "127    8:2:27.2771205639  285.4474 -22.67798  0.9832844  2455932  \n",
        "128    8:4:1.87441692748  285.4486 -22.67786  0.9832844  2455932  \n",
        "129    8:5:39.1389962656  285.4498 -22.67774  0.9832844  2455932  \n",
        "130    8:7:13.4815971922   285.451 -22.67762  0.9832844  2455932  \n",
        "131   8:10:24.4680826698  285.4534 -22.67738  0.9832844  2455932  \n",
        "132   8:11:58.5178841193  285.4546 -22.67726  0.9832844  2455932  \n",
        "133   8:13:35.2179219983  285.4559 -22.67714  0.9832844  2455932  \n",
        "134   8:15:9.51339425257  285.4571 -22.67703  0.9832844  2455932  \n",
        "135   8:18:21.2900372662  285.4595 -22.67679  0.9832845  2455932  \n",
        "136   8:19:55.6827751095  285.4607 -22.67667  0.9832845  2455932  \n",
        "\n",
        "[137 rows x 9 columns]\n"
       ]
      }
     ],
     "prompt_number": 36
    },
    {
     "cell_type": "code",
     "collapsed": false,
     "input": [
      "data.to_csv(save_path+'results.csv')\n",
      "os.chdir(original_path)"
     ],
     "language": "python",
     "metadata": {},
     "outputs": [],
     "prompt_number": 37
    },
    {
     "cell_type": "code",
     "collapsed": false,
     "input": [
      "pwd"
     ],
     "language": "python",
     "metadata": {},
     "outputs": [
      {
       "metadata": {},
       "output_type": "pyout",
       "prompt_number": 38,
       "text": [
        "u'/home/walter/MEGA/work/codes/iraf_task'"
       ]
      }
     ],
     "prompt_number": 38
    },
    {
     "cell_type": "code",
     "collapsed": false,
     "input": [],
     "language": "python",
     "metadata": {},
     "outputs": []
    }
   ],
   "metadata": {}
  }
 ]
}