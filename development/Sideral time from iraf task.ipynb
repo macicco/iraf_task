{
 "metadata": {
  "name": "",
  "signature": "sha256:5333ebe50b51ccf5b81775dead0811ffbe227c89149a902a56abc69d19656b3f"
 },
 "nbformat": 3,
 "nbformat_minor": 0,
 "worksheets": [
  {
   "cells": [
    {
     "cell_type": "code",
     "collapsed": false,
     "input": [
      "# -*- coding: utf-8 -*-\n",
      "\"\"\"\n",
      "Created on Sun Feb 14 21:01:54 2016\n",
      "\n",
      "@author: Walter Martins-Filho\n",
      "e-mail: walter at on.br\n",
      "        waltersmartinsf at gmail.com\n",
      "\"\"\"\n",
      "#******************************************************************************\n",
      "#Main Goal: include the time_info in the header of the images.\n",
      "#******************************************************************************\n",
      "\n",
      "print '\\n Including time information in the header \\n'\n",
      "print '\\n Loading packages .... \\n'\n",
      "\n",
      "from pyraf import iraf #IRAF\n",
      "from login import * #IRAF configurations\n",
      "from astropy.io import fits #import and export fits images\n",
      "import glob #package for list files\n",
      "import os #package for control bash commands\n",
      "import useful_functions as use #useful functions\n",
      "from string import split #use to unconcanated a string in parts\n",
      "from pandas import DataFrame, read_csv #work with dataframes\n",
      "print '\\n.... Done.'"
     ],
     "language": "python",
     "metadata": {},
     "outputs": [
      {
       "output_type": "stream",
       "stream": "stdout",
       "text": [
        "\n",
        " Including time information in the header \n",
        "\n",
        "\n",
        " Loading packages .... \n",
        "\n",
        "\n",
        "\n",
        "      +------------------------------------------------------------+\n",
        "      |       Space Telescope Science Data Analysis System         |    \n",
        "      |                   STSDAS Version 3.17                      |\n",
        "      |                                                            |\n",
        "      |   Space Telescope Science Institute, Baltimore, Maryland   |\n",
        "      |   Copyright (C) 2014 Association of Universities for       |\n",
        "      |            Research in Astronomy, Inc.(AURA)               |\n",
        "      |       See stsdas$copyright.stsdas for terms of use.        |\n",
        "      |         For help, send e-mail to help@stsci.edu            |\n",
        "      |                                                            |\n",
        "      +------------------------------------------------------------+\n"
       ]
      },
      {
       "output_type": "stream",
       "stream": "stdout",
       "text": [
        "stsdas/:\n",
        " analysis/      examples        hst_calib/      sobsolete/\n",
        " contrib/       fitsio/         playpen/        toolbox/\n",
        " describe       graphics/       problems\n",
        "imred/:\n",
        " argus/         ctioslit/       hydra/          kpnocoude/      vtel/\n",
        " bias/          dtoi/           iids/           kpnoslit/\n",
        " ccdred/        echelle/        irred/          quadred/\n",
        " crutil/        generic/        irs/            specred/\n",
        "ccdred/:\n",
        " badpiximage    ccdlist         combine         mkillumcor      setinstrument\n",
        " ccdgroups      ccdmask         darkcombine     mkillumflat     zerocombine\n",
        " ccdhedit       ccdproc         flatcombine     mkskycor\n",
        " ccdinstrument  ccdtest         mkfringecor     mkskyflat\n",
        "crutil/:\n",
        " cosmicrays     crcombine       crfix           crmedian\n",
        " craverage      credit          crgrow          crnebula\n",
        "\n",
        ".... Done."
       ]
      },
      {
       "output_type": "stream",
       "stream": "stdout",
       "text": [
        "\n"
       ]
      }
     ],
     "prompt_number": 1
    },
    {
     "cell_type": "code",
     "collapsed": false,
     "input": [
      "pwd"
     ],
     "language": "python",
     "metadata": {},
     "outputs": [
      {
       "metadata": {},
       "output_type": "pyout",
       "prompt_number": 2,
       "text": [
        "u'/home/walter/MEGA/work/codes/iraf_task/development'"
       ]
      }
     ],
     "prompt_number": 2
    },
    {
     "cell_type": "code",
     "collapsed": false,
     "input": [
      "cd .."
     ],
     "language": "python",
     "metadata": {},
     "outputs": [
      {
       "output_type": "stream",
       "stream": "stdout",
       "text": [
        "/home/walter/MEGA/work/codes/iraf_task\n"
       ]
      }
     ],
     "prompt_number": 3
    },
    {
     "cell_type": "code",
     "collapsed": false,
     "input": [
      "#input data\n",
      "print '\\nReading input*.yaml file ....\\n'\n",
      "input_data, original_path, data_path, save_path, planet = use.inputdata()\n",
      "print '\\n.... done.\\n'"
     ],
     "language": "python",
     "metadata": {},
     "outputs": [
      {
       "output_type": "stream",
       "stream": "stdout",
       "text": [
        "\n",
        "Reading input*.yaml file ....\n",
        "\n",
        "\n",
        "Input file = "
       ]
      },
      {
       "output_type": "stream",
       "stream": "stdout",
       "text": [
        " ['input_05jan12.yaml']\n",
        "\n",
        " reading input file ... \n",
        "\n",
        "\n",
        "....  done! \n",
        "\n",
        "\n",
        ".... done.\n",
        "\n"
       ]
      }
     ],
     "prompt_number": 4
    },
    {
     "cell_type": "code",
     "collapsed": false,
     "input": [
      "#change to save data reduction directory\n",
      "os.chdir(save_path)\n",
      "\n",
      "print '\\n Previous results from info_time task: \\n'\n",
      "results_time = glob.glob('results*.csv')\n",
      "data_time = read_csv(results_time[0])\n",
      "#name of the columns in this data_time dataframe\n",
      "#['images','UTC','JD','ST','ST_isot','RA_SUN','DEC_SUN','D_SUN','HJD']\n",
      "#print data_time\n",
      "\n",
      "print '\\n Reading the list of images ....\\n'\n",
      "images = sorted(glob.glob('AB'+planet+'*.fits'))\n",
      "print images\n"
     ],
     "language": "python",
     "metadata": {},
     "outputs": [
      {
       "output_type": "stream",
       "stream": "stdout",
       "text": [
        "\n",
        " Previous results from info_time task: \n",
        "\n",
        "\n",
        " Reading the list of images ....\n",
        "\n",
        "['ABXO2b.0001.fits', 'ABXO2b.0003.fits', 'ABXO2b.0005.fits', 'ABXO2b.0009.fits', 'ABXO2b.0011.fits', 'ABXO2b.0013.fits', 'ABXO2b.0015.fits', 'ABXO2b.0019.fits', 'ABXO2b.0021.fits', 'ABXO2b.0023.fits', 'ABXO2b.0025.fits', 'ABXO2b.0029.fits', 'ABXO2b.0031.fits', 'ABXO2b.0033.fits', 'ABXO2b.0035.fits', 'ABXO2b.0039.fits', 'ABXO2b.0041.fits', 'ABXO2b.0043.fits', 'ABXO2b.0045.fits', 'ABXO2b.0049.fits', 'ABXO2b.0051.fits', 'ABXO2b.0053.fits', 'ABXO2b.0055.fits', 'ABXO2b.0059.fits', 'ABXO2b.0061.fits', 'ABXO2b.0063.fits', 'ABXO2b.0065.fits', 'ABXO2b.0069.fits', 'ABXO2b.0071.fits', 'ABXO2b.0073.fits', 'ABXO2b.0075.fits', 'ABXO2b.0079.fits', 'ABXO2b.0081.fits', 'ABXO2b.0083.fits', 'ABXO2b.0085.fits', 'ABXO2b.0089.fits', 'ABXO2b.0091.fits', 'ABXO2b.0093.fits', 'ABXO2b.0095.fits', 'ABXO2b.0099.fits', 'ABXO2b.0101.fits', 'ABXO2b.0103.fits', 'ABXO2b.0105.fits', 'ABXO2b.0109.fits', 'ABXO2b.0111.fits', 'ABXO2b.0113.fits', 'ABXO2b.0115.fits', 'ABXO2b.0119.fits', 'ABXO2b.0121.fits', 'ABXO2b.0123.fits', 'ABXO2b.0125.fits', 'ABXO2b.0129.fits', 'ABXO2b.0131.fits', 'ABXO2b.0133.fits', 'ABXO2b.0135.fits', 'ABXO2b.0139.fits', 'ABXO2b.0141.fits', 'ABXO2b.0143.fits', 'ABXO2b.0145.fits', 'ABXO2b.0149.fits', 'ABXO2b.0151.fits', 'ABXO2b.0153.fits', 'ABXO2b.0155.fits', 'ABXO2b.0159.fits', 'ABXO2b.0161.fits', 'ABXO2b.0163.fits', 'ABXO2b.0165.fits', 'ABXO2b.0169.fits', 'ABXO2b.0171.fits', 'ABXO2b.0173.fits', 'ABXO2b.0175.fits', 'ABXO2b.0179.fits', 'ABXO2b.0181.fits', 'ABXO2b.0183.fits', 'ABXO2b.0185.fits', 'ABXO2b.0189.fits', 'ABXO2b.0191.fits', 'ABXO2b.0193.fits', 'ABXO2b.0195.fits', 'ABXO2b.0199.fits', 'ABXO2b.0201.fits', 'ABXO2b.0203.fits', 'ABXO2b.0205.fits', 'ABXO2b.0209.fits', 'ABXO2b.0211.fits', 'ABXO2b.0213.fits', 'ABXO2b.0215.fits', 'ABXO2b.0219.fits', 'ABXO2b.0221.fits', 'ABXO2b.0223.fits', 'ABXO2b.0225.fits', 'ABXO2b.0229.fits', 'ABXO2b.0231.fits', 'ABXO2b.0233.fits', 'ABXO2b.0235.fits', 'ABXO2b.0239.fits', 'ABXO2b.0241.fits', 'ABXO2b.0243.fits', 'ABXO2b.0245.fits', 'ABXO2b.0249.fits', 'ABXO2b.0251.fits', 'ABXO2b.0253.fits', 'ABXO2b.0255.fits', 'ABXO2b.0259.fits', 'ABXO2b.0261.fits', 'ABXO2b.0263.fits', 'ABXO2b.0265.fits', 'ABXO2b.0269.fits', 'ABXO2b.0271.fits', 'ABXO2b.0273.fits', 'ABXO2b.0275.fits', 'ABXO2b.0279.fits', 'ABXO2b.0281.fits', 'ABXO2b.0283.fits', 'ABXO2b.0285.fits', 'ABXO2b.0289.fits', 'ABXO2b.0291.fits', 'ABXO2b.0293.fits', 'ABXO2b.0295.fits', 'ABXO2b.0299.fits', 'ABXO2b.0301.fits', 'ABXO2b.0303.fits', 'ABXO2b.0305.fits', 'ABXO2b.0309.fits', 'ABXO2b.0311.fits', 'ABXO2b.0313.fits', 'ABXO2b.0315.fits', 'ABXO2b.0319.fits', 'ABXO2b.0321.fits', 'ABXO2b.0323.fits', 'ABXO2b.0325.fits', 'ABXO2b.0329.fits', 'ABXO2b.0331.fits', 'ABXO2b.0333.fits', 'ABXO2b.0335.fits', 'ABXO2b.0339.fits', 'ABXO2b.0341.fits']\n"
       ]
      }
     ],
     "prompt_number": 5
    },
    {
     "cell_type": "code",
     "collapsed": false,
     "input": [
      "#include de RA,DEC and epoch of the exoplanet\n",
      "RA,DEC,epoch = input_data['RA'],input_data['DEC'],input_data['epoch']\n"
     ],
     "language": "python",
     "metadata": {},
     "outputs": [],
     "prompt_number": 6
    },
    {
     "cell_type": "code",
     "collapsed": false,
     "input": [
      "#obtain ST JD using iraf task and introduce in the header\n",
      "for i in range(len(images)):\n",
      "    hdr = fits.getheader(images[i])\n",
      "    if int(split(hdr['UT'],':')[0]) < int(hdr['timezone']):\n",
      "        new_date = use.yesterday(hdr['date-obs'])\n",
      "        #print images[i], new_date\n",
      "    else:\n",
      "        new_date = hdr['date-obs']\n",
      "    year,month,day = split(new_date,'-')\n",
      "    iraf.asttimes(year=year,month=month,day=day,time=hdr['loctime'],obs=input_data['observatory'])\n"
     ],
     "language": "python",
     "metadata": {},
     "outputs": [
      {
       "output_type": "stream",
       "stream": "stdout",
       "text": [
        "# ASTTIMES: Observatory parameters for Catalina Observatory: 61 inch telescope\n",
        "#\ttimezone = 7\n",
        "#\tlongitude = 110:43.9\n"
       ]
      },
      {
       "output_type": "stream",
       "stream": "stdout",
       "text": [
        "##YR MON   DAY          ZT         UT      EPOCH           JD       LMST\n",
        "2012   1  4 WED 20:48:01.0  3:48:01.0 2012.01002 2455931.6583  3:21:43.5\n"
       ]
      },
      {
       "output_type": "stream",
       "stream": "stdout",
       "text": [
        "# ASTTIMES: Observatory parameters for Catalina Observatory: 61 inch telescope\n",
        "#\ttimezone = 7\n",
        "#\tlongitude = 110:43.9\n"
       ]
      },
      {
       "output_type": "stream",
       "stream": "stdout",
       "text": [
        "##YR MON   DAY          ZT         UT      EPOCH           JD       LMST\n",
        "2012   1  4 WED 20:49:51.0  3:49:51.0 2012.01002 2455931.6596  3:23:33.8\n"
       ]
      },
      {
       "output_type": "stream",
       "stream": "stdout",
       "text": [
        "# ASTTIMES: Observatory parameters for Catalina Observatory: 61 inch telescope\n",
        "#\ttimezone = 7\n",
        "#\tlongitude = 110:43.9\n"
       ]
      },
      {
       "output_type": "stream",
       "stream": "stdout",
       "text": [
        "##YR MON   DAY          ZT         UT      EPOCH           JD       LMST\n",
        "2012   1  4 WED 20:51:43.0  3:51:43.0 2012.01002 2455931.6609  3:25:26.1\n"
       ]
      },
      {
       "output_type": "stream",
       "stream": "stdout",
       "text": [
        "# ASTTIMES: Observatory parameters for Catalina Observatory: 61 inch telescope\n",
        "#\ttimezone = 7\n",
        "#\tlongitude = 110:43.9\n"
       ]
      },
      {
       "output_type": "stream",
       "stream": "stdout",
       "text": [
        "##YR MON   DAY          ZT         UT      EPOCH           JD       LMST\n",
        "2012   1  4 WED 20:55:23.0  3:55:23.0 2012.01003 2455931.6635  3:29:06.7\n"
       ]
      },
      {
       "output_type": "stream",
       "stream": "stdout",
       "text": [
        "# ASTTIMES: Observatory parameters for Catalina Observatory: 61 inch telescope\n",
        "#\ttimezone = 7\n",
        "#\tlongitude = 110:43.9\n"
       ]
      },
      {
       "output_type": "stream",
       "stream": "stdout",
       "text": [
        "##YR MON   DAY          ZT         UT      EPOCH           JD       LMST\n",
        "2012   1  4 WED 20:57:13.0  3:57:13.0 2012.01003 2455931.6647  3:30:57.0\n"
       ]
      },
      {
       "output_type": "stream",
       "stream": "stdout",
       "text": [
        "# ASTTIMES: Observatory parameters for Catalina Observatory: 61 inch telescope\n",
        "#\ttimezone = 7\n",
        "#\tlongitude = 110:43.9\n"
       ]
      },
      {
       "output_type": "stream",
       "stream": "stdout",
       "text": [
        "##YR MON   DAY          ZT         UT      EPOCH           JD       LMST\n",
        "2012   1  4 WED 20:59:03.0  3:59:03.0 2012.01004 2455931.6660  3:32:47.3\n"
       ]
      },
      {
       "output_type": "stream",
       "stream": "stdout",
       "text": [
        "# ASTTIMES: Observatory parameters for Catalina Observatory: 61 inch telescope\n",
        "#\ttimezone = 7\n",
        "#\tlongitude = 110:43.9\n"
       ]
      },
      {
       "output_type": "stream",
       "stream": "stdout",
       "text": [
        "##YR MON   DAY          ZT         UT      EPOCH           JD       LMST\n",
        "2012   1  4 WED 21:00:53.0  4:00:53.0 2012.01004 2455931.6673  3:34:37.6\n"
       ]
      },
      {
       "output_type": "stream",
       "stream": "stdout",
       "text": [
        "# ASTTIMES: Observatory parameters for Catalina Observatory: 61 inch telescope\n",
        "#\ttimezone = 7\n",
        "#\tlongitude = 110:43.9\n"
       ]
      },
      {
       "output_type": "stream",
       "stream": "stdout",
       "text": [
        "##YR MON   DAY          ZT         UT      EPOCH           JD       LMST\n",
        "2012   1  4 WED 21:04:30.0  4:04:30.0 2012.01005 2455931.6698  3:38:15.2\n"
       ]
      },
      {
       "output_type": "stream",
       "stream": "stdout",
       "text": [
        "# ASTTIMES: Observatory parameters for Catalina Observatory: 61 inch telescope\n",
        "#\ttimezone = 7\n",
        "#\tlongitude = 110:43.9\n"
       ]
      },
      {
       "output_type": "stream",
       "stream": "stdout",
       "text": [
        "##YR MON   DAY          ZT         UT      EPOCH           JD       LMST\n",
        "2012   1  4 WED 21:06:22.0  4:06:22.0 2012.01005 2455931.6711  3:40:07.5\n"
       ]
      },
      {
       "output_type": "stream",
       "stream": "stdout",
       "text": [
        "# ASTTIMES: Observatory parameters for Catalina Observatory: 61 inch telescope\n",
        "#\ttimezone = 7\n",
        "#\tlongitude = 110:43.9\n"
       ]
      },
      {
       "output_type": "stream",
       "stream": "stdout",
       "text": [
        "##YR MON   DAY          ZT         UT      EPOCH           JD       LMST\n",
        "2012   1  4 WED 21:08:15.0  4:08:15.0 2012.01005 2455931.6724  3:42:00.9\n"
       ]
      },
      {
       "output_type": "stream",
       "stream": "stdout",
       "text": [
        "# ASTTIMES: Observatory parameters for Catalina Observatory: 61 inch telescope\n",
        "#\ttimezone = 7\n",
        "#\tlongitude = 110:43.9\n"
       ]
      },
      {
       "output_type": "stream",
       "stream": "stdout",
       "text": [
        "##YR MON   DAY          ZT         UT      EPOCH           JD       LMST\n",
        "2012   1  4 WED 21:10:32.0  4:10:32.0 2012.01006 2455931.6740  3:44:18.2\n"
       ]
      },
      {
       "output_type": "stream",
       "stream": "stdout",
       "text": [
        "# ASTTIMES: Observatory parameters for Catalina Observatory: 61 inch telescope\n",
        "#\ttimezone = 7\n",
        "#\tlongitude = 110:43.9\n"
       ]
      },
      {
       "output_type": "stream",
       "stream": "stdout",
       "text": [
        "##YR MON   DAY          ZT         UT      EPOCH           JD       LMST\n",
        "2012   1  4 WED 21:14:17.0  4:14:17.0 2012.01007 2455931.6766  3:48:03.8\n"
       ]
      },
      {
       "output_type": "stream",
       "stream": "stdout",
       "text": [
        "# ASTTIMES: Observatory parameters for Catalina Observatory: 61 inch telescope\n",
        "#\ttimezone = 7\n",
        "#\tlongitude = 110:43.9\n"
       ]
      },
      {
       "output_type": "stream",
       "stream": "stdout",
       "text": [
        "##YR MON   DAY          ZT         UT      EPOCH           JD       LMST\n",
        "2012   1  4 WED 21:16:09.0  4:16:09.0 2012.01007 2455931.6779  3:49:56.2\n"
       ]
      },
      {
       "output_type": "stream",
       "stream": "stdout",
       "text": [
        "# ASTTIMES: Observatory parameters for Catalina Observatory: 61 inch telescope\n",
        "#\ttimezone = 7\n",
        "#\tlongitude = 110:43.9\n"
       ]
      },
      {
       "output_type": "stream",
       "stream": "stdout",
       "text": [
        "##YR MON   DAY          ZT         UT      EPOCH           JD       LMST\n",
        "2012   1  4 WED 21:17:59.0  4:17:59.0 2012.01007 2455931.6792  3:51:46.5\n"
       ]
      },
      {
       "output_type": "stream",
       "stream": "stdout",
       "text": [
        "# ASTTIMES: Observatory parameters for Catalina Observatory: 61 inch telescope\n",
        "#\ttimezone = 7\n",
        "#\tlongitude = 110:43.9\n"
       ]
      },
      {
       "output_type": "stream",
       "stream": "stdout",
       "text": [
        "##YR MON   DAY          ZT         UT      EPOCH           JD       LMST\n",
        "2012   1  4 WED 21:19:52.0  4:19:52.0 2012.01008 2455931.6805  3:53:39.8\n"
       ]
      },
      {
       "output_type": "stream",
       "stream": "stdout",
       "text": [
        "# ASTTIMES: Observatory parameters for Catalina Observatory: 61 inch telescope\n",
        "#\ttimezone = 7\n",
        "#\tlongitude = 110:43.9\n"
       ]
      },
      {
       "output_type": "stream",
       "stream": "stdout",
       "text": [
        "##YR MON   DAY          ZT         UT      EPOCH           JD       LMST\n",
        "2012   1  4 WED 21:23:41.0  4:23:41.0 2012.01008 2455931.6831  3:57:29.4\n"
       ]
      },
      {
       "output_type": "stream",
       "stream": "stdout",
       "text": [
        "# ASTTIMES: Observatory parameters for Catalina Observatory: 61 inch telescope\n",
        "#\ttimezone = 7\n",
        "#\tlongitude = 110:43.9\n"
       ]
      },
      {
       "output_type": "stream",
       "stream": "stdout",
       "text": [
        "##YR MON   DAY          ZT         UT      EPOCH           JD       LMST\n",
        "2012   1  4 WED 21:25:30.0  4:25:30.0 2012.01009 2455931.6844  3:59:18.7\n"
       ]
      },
      {
       "output_type": "stream",
       "stream": "stdout",
       "text": [
        "# ASTTIMES: Observatory parameters for Catalina Observatory: 61 inch telescope\n",
        "#\ttimezone = 7\n",
        "#\tlongitude = 110:43.9\n"
       ]
      },
      {
       "output_type": "stream",
       "stream": "stdout",
       "text": [
        "##YR MON   DAY          ZT         UT      EPOCH           JD       LMST\n",
        "2012   1  4 WED 21:27:19.0  4:27:19.0 2012.01009 2455931.6856  4:01:08.0\n"
       ]
      },
      {
       "output_type": "stream",
       "stream": "stdout",
       "text": [
        "# ASTTIMES: Observatory parameters for Catalina Observatory: 61 inch telescope\n",
        "#\ttimezone = 7\n",
        "#\tlongitude = 110:43.9\n"
       ]
      },
      {
       "output_type": "stream",
       "stream": "stdout",
       "text": [
        "##YR MON   DAY          ZT         UT      EPOCH           JD       LMST\n",
        "2012   1  4 WED 21:29:07.0  4:29:07.0 2012.01009 2455931.6869  4:02:56.3\n"
       ]
      },
      {
       "output_type": "stream",
       "stream": "stdout",
       "text": [
        "# ASTTIMES: Observatory parameters for Catalina Observatory: 61 inch telescope\n",
        "#\ttimezone = 7\n",
        "#\tlongitude = 110:43.9\n"
       ]
      },
      {
       "output_type": "stream",
       "stream": "stdout",
       "text": [
        "##YR MON   DAY          ZT         UT      EPOCH           JD       LMST\n",
        "2012   1  4 WED 21:32:39.0  4:32:39.0 2012.01010 2455931.6893  4:06:28.9\n"
       ]
      },
      {
       "output_type": "stream",
       "stream": "stdout",
       "text": [
        "# ASTTIMES: Observatory parameters for Catalina Observatory: 61 inch telescope\n",
        "#\ttimezone = 7\n",
        "#\tlongitude = 110:43.9\n"
       ]
      },
      {
       "output_type": "stream",
       "stream": "stdout",
       "text": [
        "##YR MON   DAY          ZT         UT      EPOCH           JD       LMST\n",
        "2012   1  4 WED 21:34:25.0  4:34:25.0 2012.01010 2455931.6906  4:08:15.2\n"
       ]
      },
      {
       "output_type": "stream",
       "stream": "stdout",
       "text": [
        "# ASTTIMES: Observatory parameters for Catalina Observatory: 61 inch telescope\n",
        "#\ttimezone = 7\n",
        "#\tlongitude = 110:43.9\n"
       ]
      },
      {
       "output_type": "stream",
       "stream": "stdout",
       "text": [
        "##YR MON   DAY          ZT         UT      EPOCH           JD       LMST\n",
        "2012   1  4 WED 21:36:12.0  4:36:12.0 2012.01011 2455931.6918  4:10:02.4\n"
       ]
      },
      {
       "output_type": "stream",
       "stream": "stdout",
       "text": [
        "# ASTTIMES: Observatory parameters for Catalina Observatory: 61 inch telescope\n",
        "#\ttimezone = 7\n",
        "#\tlongitude = 110:43.9\n"
       ]
      },
      {
       "output_type": "stream",
       "stream": "stdout",
       "text": [
        "##YR MON   DAY          ZT         UT      EPOCH           JD       LMST\n",
        "2012   1  4 WED 21:37:57.0  4:37:57.0 2012.01011 2455931.6930  4:11:47.7\n"
       ]
      },
      {
       "output_type": "stream",
       "stream": "stdout",
       "text": [
        "# ASTTIMES: Observatory parameters for Catalina Observatory: 61 inch telescope\n",
        "#\ttimezone = 7\n",
        "#\tlongitude = 110:43.9\n"
       ]
      },
      {
       "output_type": "stream",
       "stream": "stdout",
       "text": [
        "##YR MON   DAY          ZT         UT      EPOCH           JD       LMST\n",
        "2012   1  4 WED 21:41:26.0  4:41:26.0 2012.01012 2455931.6954  4:15:17.3\n"
       ]
      },
      {
       "output_type": "stream",
       "stream": "stdout",
       "text": [
        "# ASTTIMES: Observatory parameters for Catalina Observatory: 61 inch telescope\n",
        "#\ttimezone = 7\n",
        "#\tlongitude = 110:43.9\n"
       ]
      },
      {
       "output_type": "stream",
       "stream": "stdout",
       "text": [
        "##YR MON   DAY          ZT         UT      EPOCH           JD       LMST\n",
        "2012   1  4 WED 21:43:15.0  4:43:15.0 2012.01012 2455931.6967  4:17:06.6\n"
       ]
      },
      {
       "output_type": "stream",
       "stream": "stdout",
       "text": [
        "# ASTTIMES: Observatory parameters for Catalina Observatory: 61 inch telescope\n",
        "#\ttimezone = 7\n",
        "#\tlongitude = 110:43.9\n"
       ]
      },
      {
       "output_type": "stream",
       "stream": "stdout",
       "text": [
        "##YR MON   DAY          ZT         UT      EPOCH           JD       LMST\n",
        "2012   1  4 WED 21:45:03.0  4:45:03.0 2012.01012 2455931.6980  4:18:54.9\n"
       ]
      },
      {
       "output_type": "stream",
       "stream": "stdout",
       "text": [
        "# ASTTIMES: Observatory parameters for Catalina Observatory: 61 inch telescope\n",
        "#\ttimezone = 7\n",
        "#\tlongitude = 110:43.9\n"
       ]
      },
      {
       "output_type": "stream",
       "stream": "stdout",
       "text": [
        "##YR MON   DAY          ZT         UT      EPOCH           JD       LMST\n",
        "2012   1  4 WED 21:46:49.0  4:46:49.0 2012.01013 2455931.6992  4:20:41.2\n"
       ]
      },
      {
       "output_type": "stream",
       "stream": "stdout",
       "text": [
        "# ASTTIMES: Observatory parameters for Catalina Observatory: 61 inch telescope\n",
        "#\ttimezone = 7\n",
        "#\tlongitude = 110:43.9\n"
       ]
      },
      {
       "output_type": "stream",
       "stream": "stdout",
       "text": [
        "##YR MON   DAY          ZT         UT      EPOCH           JD       LMST\n",
        "2012   1  4 WED 21:50:24.0  4:50:24.0 2012.01013 2455931.7017  4:24:16.8\n"
       ]
      },
      {
       "output_type": "stream",
       "stream": "stdout",
       "text": [
        "# ASTTIMES: Observatory parameters for Catalina Observatory: 61 inch telescope\n",
        "#\ttimezone = 7\n",
        "#\tlongitude = 110:43.9\n"
       ]
      },
      {
       "output_type": "stream",
       "stream": "stdout",
       "text": [
        "##YR MON   DAY          ZT         UT      EPOCH           JD       LMST\n",
        "2012   1  4 WED 21:52:10.0  4:52:10.0 2012.01014 2455931.7029  4:26:03.1\n"
       ]
      },
      {
       "output_type": "stream",
       "stream": "stdout",
       "text": [
        "# ASTTIMES: Observatory parameters for Catalina Observatory: 61 inch telescope\n",
        "#\ttimezone = 7\n",
        "#\tlongitude = 110:43.9\n"
       ]
      },
      {
       "output_type": "stream",
       "stream": "stdout",
       "text": [
        "##YR MON   DAY          ZT         UT      EPOCH           JD       LMST\n",
        "2012   1  4 WED 21:53:59.0  4:53:59.0 2012.01014 2455931.7042  4:27:52.4\n"
       ]
      },
      {
       "output_type": "stream",
       "stream": "stdout",
       "text": [
        "# ASTTIMES: Observatory parameters for Catalina Observatory: 61 inch telescope\n",
        "#\ttimezone = 7\n",
        "#\tlongitude = 110:43.9\n"
       ]
      },
      {
       "output_type": "stream",
       "stream": "stdout",
       "text": [
        "##YR MON   DAY          ZT         UT      EPOCH           JD       LMST\n",
        "2012   1  4 WED 21:55:44.0  4:55:44.0 2012.01014 2455931.7054  4:29:37.7\n"
       ]
      },
      {
       "output_type": "stream",
       "stream": "stdout",
       "text": [
        "# ASTTIMES: Observatory parameters for Catalina Observatory: 61 inch telescope\n",
        "#\ttimezone = 7\n",
        "#\tlongitude = 110:43.9\n"
       ]
      },
      {
       "output_type": "stream",
       "stream": "stdout",
       "text": [
        "##YR MON   DAY          ZT         UT      EPOCH           JD       LMST\n",
        "2012   1  4 WED 21:59:22.0  4:59:22.0 2012.01015 2455931.7079  4:33:16.2\n"
       ]
      },
      {
       "output_type": "stream",
       "stream": "stdout",
       "text": [
        "# ASTTIMES: Observatory parameters for Catalina Observatory: 61 inch telescope\n",
        "#\ttimezone = 7\n",
        "#\tlongitude = 110:43.9\n"
       ]
      },
      {
       "output_type": "stream",
       "stream": "stdout",
       "text": [
        "##YR MON   DAY          ZT         UT      EPOCH           JD       LMST\n",
        "2012   1  4 WED 22:01:08.0  5:01:08.0 2012.01016 2455931.7091  4:35:02.5\n"
       ]
      },
      {
       "output_type": "stream",
       "stream": "stdout",
       "text": [
        "# ASTTIMES: Observatory parameters for Catalina Observatory: 61 inch telescope\n",
        "#\ttimezone = 7\n",
        "#\tlongitude = 110:43.9\n"
       ]
      },
      {
       "output_type": "stream",
       "stream": "stdout",
       "text": [
        "##YR MON   DAY          ZT         UT      EPOCH           JD       LMST\n",
        "2012   1  4 WED 22:02:54.0  5:02:54.0 2012.01016 2455931.7103  4:36:48.8\n"
       ]
      },
      {
       "output_type": "stream",
       "stream": "stdout",
       "text": [
        "# ASTTIMES: Observatory parameters for Catalina Observatory: 61 inch telescope\n",
        "#\ttimezone = 7\n",
        "#\tlongitude = 110:43.9\n"
       ]
      },
      {
       "output_type": "stream",
       "stream": "stdout",
       "text": [
        "##YR MON   DAY          ZT         UT      EPOCH           JD       LMST\n",
        "2012   1  4 WED 22:04:40.0  5:04:40.0 2012.01016 2455931.7116  4:38:35.1\n"
       ]
      },
      {
       "output_type": "stream",
       "stream": "stdout",
       "text": [
        "# ASTTIMES: Observatory parameters for Catalina Observatory: 61 inch telescope\n",
        "#\ttimezone = 7\n",
        "#\tlongitude = 110:43.9\n"
       ]
      },
      {
       "output_type": "stream",
       "stream": "stdout",
       "text": [
        "##YR MON   DAY          ZT         UT      EPOCH           JD       LMST\n",
        "2012   1  4 WED 22:08:12.0  5:08:12.0 2012.01017 2455931.7140  4:42:07.7\n"
       ]
      },
      {
       "output_type": "stream",
       "stream": "stdout",
       "text": [
        "# ASTTIMES: Observatory parameters for Catalina Observatory: 61 inch telescope\n",
        "#\ttimezone = 7\n",
        "#\tlongitude = 110:43.9\n"
       ]
      },
      {
       "output_type": "stream",
       "stream": "stdout",
       "text": [
        "##YR MON   DAY          ZT         UT      EPOCH           JD       LMST\n",
        "2012   1  4 WED 22:10:01.0  5:10:01.0 2012.01017 2455931.7153  4:43:57.0\n"
       ]
      },
      {
       "output_type": "stream",
       "stream": "stdout",
       "text": [
        "# ASTTIMES: Observatory parameters for Catalina Observatory: 61 inch telescope\n",
        "#\ttimezone = 7\n",
        "#\tlongitude = 110:43.9\n"
       ]
      },
      {
       "output_type": "stream",
       "stream": "stdout",
       "text": [
        "##YR MON   DAY          ZT         UT      EPOCH           JD       LMST\n",
        "2012   1  4 WED 22:11:47.0  5:11:47.0 2012.01018 2455931.7165  4:45:43.3\n"
       ]
      },
      {
       "output_type": "stream",
       "stream": "stdout",
       "text": [
        "# ASTTIMES: Observatory parameters for Catalina Observatory: 61 inch telescope\n",
        "#\ttimezone = 7\n",
        "#\tlongitude = 110:43.9\n"
       ]
      },
      {
       "output_type": "stream",
       "stream": "stdout",
       "text": [
        "##YR MON   DAY          ZT         UT      EPOCH           JD       LMST\n",
        "2012   1  4 WED 22:13:33.0  5:13:33.0 2012.01018 2455931.7177  4:47:29.6\n"
       ]
      },
      {
       "output_type": "stream",
       "stream": "stdout",
       "text": [
        "# ASTTIMES: Observatory parameters for Catalina Observatory: 61 inch telescope\n",
        "#\ttimezone = 7\n",
        "#\tlongitude = 110:43.9\n"
       ]
      },
      {
       "output_type": "stream",
       "stream": "stdout",
       "text": [
        "##YR MON   DAY          ZT         UT      EPOCH           JD       LMST\n",
        "2012   1  4 WED 22:17:07.0  5:17:07.0 2012.01019 2455931.7202  4:51:04.2\n"
       ]
      },
      {
       "output_type": "stream",
       "stream": "stdout",
       "text": [
        "# ASTTIMES: Observatory parameters for Catalina Observatory: 61 inch telescope\n",
        "#\ttimezone = 7\n",
        "#\tlongitude = 110:43.9\n"
       ]
      },
      {
       "output_type": "stream",
       "stream": "stdout",
       "text": [
        "##YR MON   DAY          ZT         UT      EPOCH           JD       LMST\n",
        "2012   1  4 WED 22:18:53.0  5:18:53.0 2012.01019 2455931.7214  4:52:50.5\n"
       ]
      },
      {
       "output_type": "stream",
       "stream": "stdout",
       "text": [
        "# ASTTIMES: Observatory parameters for Catalina Observatory: 61 inch telescope\n",
        "#\ttimezone = 7\n",
        "#\tlongitude = 110:43.9\n"
       ]
      },
      {
       "output_type": "stream",
       "stream": "stdout",
       "text": [
        "##YR MON   DAY          ZT         UT      EPOCH           JD       LMST\n",
        "2012   1  4 WED 22:20:42.0  5:20:42.0 2012.01019 2455931.7227  4:54:39.8\n"
       ]
      },
      {
       "output_type": "stream",
       "stream": "stdout",
       "text": [
        "# ASTTIMES: Observatory parameters for Catalina Observatory: 61 inch telescope\n",
        "#\ttimezone = 7\n",
        "#\tlongitude = 110:43.9\n"
       ]
      },
      {
       "output_type": "stream",
       "stream": "stdout",
       "text": [
        "##YR MON   DAY          ZT         UT      EPOCH           JD       LMST\n",
        "2012   1  4 WED 22:22:31.0  5:22:31.0 2012.01020 2455931.7240  4:56:29.1\n"
       ]
      },
      {
       "output_type": "stream",
       "stream": "stdout",
       "text": [
        "# ASTTIMES: Observatory parameters for Catalina Observatory: 61 inch telescope\n",
        "#\ttimezone = 7\n",
        "#\tlongitude = 110:43.9\n"
       ]
      },
      {
       "output_type": "stream",
       "stream": "stdout",
       "text": [
        "##YR MON   DAY          ZT         UT      EPOCH           JD       LMST\n",
        "2012   1  4 WED 22:26:00.0  5:26:00.0 2012.01020 2455931.7264  4:59:58.6\n"
       ]
      },
      {
       "output_type": "stream",
       "stream": "stdout",
       "text": [
        "# ASTTIMES: Observatory parameters for Catalina Observatory: 61 inch telescope\n",
        "#\ttimezone = 7\n",
        "#\tlongitude = 110:43.9\n"
       ]
      },
      {
       "output_type": "stream",
       "stream": "stdout",
       "text": [
        "##YR MON   DAY          ZT         UT      EPOCH           JD       LMST\n",
        "2012   1  4 WED 22:27:34.0  5:27:34.0 2012.01021 2455931.7275  5:01:32.9\n"
       ]
      },
      {
       "output_type": "stream",
       "stream": "stdout",
       "text": [
        "# ASTTIMES: Observatory parameters for Catalina Observatory: 61 inch telescope\n",
        "#\ttimezone = 7\n",
        "#\tlongitude = 110:43.9\n"
       ]
      },
      {
       "output_type": "stream",
       "stream": "stdout",
       "text": [
        "##YR MON   DAY          ZT         UT      EPOCH           JD       LMST\n",
        "2012   1  4 WED 22:29:11.0  5:29:11.0 2012.01021 2455931.7286  5:03:10.1\n"
       ]
      },
      {
       "output_type": "stream",
       "stream": "stdout",
       "text": [
        "# ASTTIMES: Observatory parameters for Catalina Observatory: 61 inch telescope\n",
        "#\ttimezone = 7\n",
        "#\tlongitude = 110:43.9\n"
       ]
      },
      {
       "output_type": "stream",
       "stream": "stdout",
       "text": [
        "##YR MON   DAY          ZT         UT      EPOCH           JD       LMST\n",
        "2012   1  4 WED 22:30:45.0  5:30:45.0 2012.01021 2455931.7297  5:04:44.4\n"
       ]
      },
      {
       "output_type": "stream",
       "stream": "stdout",
       "text": [
        "# ASTTIMES: Observatory parameters for Catalina Observatory: 61 inch telescope\n",
        "#\ttimezone = 7\n",
        "#\tlongitude = 110:43.9\n"
       ]
      },
      {
       "output_type": "stream",
       "stream": "stdout",
       "text": [
        "##YR MON   DAY          ZT         UT      EPOCH           JD       LMST\n",
        "2012   1  4 WED 22:33:53.0  5:33:53.0 2012.01022 2455931.7319  5:07:52.9\n"
       ]
      },
      {
       "output_type": "stream",
       "stream": "stdout",
       "text": [
        "# ASTTIMES: Observatory parameters for Catalina Observatory: 61 inch telescope\n",
        "#\ttimezone = 7\n",
        "#\tlongitude = 110:43.9\n"
       ]
      },
      {
       "output_type": "stream",
       "stream": "stdout",
       "text": [
        "##YR MON   DAY          ZT         UT      EPOCH           JD       LMST\n",
        "2012   1  4 WED 22:35:30.0  5:35:30.0 2012.01022 2455931.7330  5:09:30.2\n"
       ]
      },
      {
       "output_type": "stream",
       "stream": "stdout",
       "text": [
        "# ASTTIMES: Observatory parameters for Catalina Observatory: 61 inch telescope\n",
        "#\ttimezone = 7\n",
        "#\tlongitude = 110:43.9\n"
       ]
      },
      {
       "output_type": "stream",
       "stream": "stdout",
       "text": [
        "##YR MON   DAY          ZT         UT      EPOCH           JD       LMST\n",
        "2012   1  4 WED 22:37:06.0  5:37:06.0 2012.01022 2455931.7341  5:11:06.4\n"
       ]
      },
      {
       "output_type": "stream",
       "stream": "stdout",
       "text": [
        "# ASTTIMES: Observatory parameters for Catalina Observatory: 61 inch telescope\n",
        "#\ttimezone = 7\n",
        "#\tlongitude = 110:43.9\n"
       ]
      },
      {
       "output_type": "stream",
       "stream": "stdout",
       "text": [
        "##YR MON   DAY          ZT         UT      EPOCH           JD       LMST\n",
        "2012   1  4 WED 22:38:41.0  5:38:41.0 2012.01023 2455931.7352  5:12:41.7\n"
       ]
      },
      {
       "output_type": "stream",
       "stream": "stdout",
       "text": [
        "# ASTTIMES: Observatory parameters for Catalina Observatory: 61 inch telescope\n",
        "#\ttimezone = 7\n",
        "#\tlongitude = 110:43.9\n"
       ]
      },
      {
       "output_type": "stream",
       "stream": "stdout",
       "text": [
        "##YR MON   DAY          ZT         UT      EPOCH           JD       LMST\n",
        "2012   1  4 WED 22:41:49.0  5:41:49.0 2012.01023 2455931.7374  5:15:50.2\n"
       ]
      },
      {
       "output_type": "stream",
       "stream": "stdout",
       "text": [
        "# ASTTIMES: Observatory parameters for Catalina Observatory: 61 inch telescope\n",
        "#\ttimezone = 7\n",
        "#\tlongitude = 110:43.9\n"
       ]
      },
      {
       "output_type": "stream",
       "stream": "stdout",
       "text": [
        "##YR MON   DAY          ZT         UT      EPOCH           JD       LMST\n",
        "2012   1  4 WED 22:43:25.0  5:43:25.0 2012.01024 2455931.7385  5:17:26.5\n"
       ]
      },
      {
       "output_type": "stream",
       "stream": "stdout",
       "text": [
        "# ASTTIMES: Observatory parameters for Catalina Observatory: 61 inch telescope\n",
        "#\ttimezone = 7\n",
        "#\tlongitude = 110:43.9\n"
       ]
      },
      {
       "output_type": "stream",
       "stream": "stdout",
       "text": [
        "##YR MON   DAY          ZT         UT      EPOCH           JD       LMST\n",
        "2012   1  4 WED 22:44:59.0  5:44:59.0 2012.01024 2455931.7396  5:19:00.7\n"
       ]
      },
      {
       "output_type": "stream",
       "stream": "stdout",
       "text": [
        "# ASTTIMES: Observatory parameters for Catalina Observatory: 61 inch telescope\n",
        "#\ttimezone = 7\n",
        "#\tlongitude = 110:43.9\n"
       ]
      },
      {
       "output_type": "stream",
       "stream": "stdout",
       "text": [
        "##YR MON   DAY          ZT         UT      EPOCH           JD       LMST\n",
        "2012   1  4 WED 22:46:33.0  5:46:33.0 2012.01024 2455931.7407  5:20:35.0\n"
       ]
      },
      {
       "output_type": "stream",
       "stream": "stdout",
       "text": [
        "# ASTTIMES: Observatory parameters for Catalina Observatory: 61 inch telescope\n",
        "#\ttimezone = 7\n",
        "#\tlongitude = 110:43.9\n"
       ]
      },
      {
       "output_type": "stream",
       "stream": "stdout",
       "text": [
        "##YR MON   DAY          ZT         UT      EPOCH           JD       LMST\n",
        "2012   1  4 WED 22:49:44.0  5:49:44.0 2012.01025 2455931.7429  5:23:46.5\n"
       ]
      },
      {
       "output_type": "stream",
       "stream": "stdout",
       "text": [
        "# ASTTIMES: Observatory parameters for Catalina Observatory: 61 inch telescope\n",
        "#\ttimezone = 7\n",
        "#\tlongitude = 110:43.9\n"
       ]
      },
      {
       "output_type": "stream",
       "stream": "stdout",
       "text": [
        "##YR MON   DAY          ZT         UT      EPOCH           JD       LMST\n",
        "2012   1  4 WED 22:51:18.0  5:51:18.0 2012.01025 2455931.7440  5:25:20.8\n"
       ]
      },
      {
       "output_type": "stream",
       "stream": "stdout",
       "text": [
        "# ASTTIMES: Observatory parameters for Catalina Observatory: 61 inch telescope\n",
        "#\ttimezone = 7\n",
        "#\tlongitude = 110:43.9\n"
       ]
      },
      {
       "output_type": "stream",
       "stream": "stdout",
       "text": [
        "##YR MON   DAY          ZT         UT      EPOCH           JD       LMST\n",
        "2012   1  4 WED 22:52:54.0  5:52:54.0 2012.01025 2455931.7451  5:26:57.0\n"
       ]
      },
      {
       "output_type": "stream",
       "stream": "stdout",
       "text": [
        "# ASTTIMES: Observatory parameters for Catalina Observatory: 61 inch telescope\n",
        "#\ttimezone = 7\n",
        "#\tlongitude = 110:43.9\n"
       ]
      },
      {
       "output_type": "stream",
       "stream": "stdout",
       "text": [
        "##YR MON   DAY          ZT         UT      EPOCH           JD       LMST\n",
        "2012   1  4 WED 22:54:31.0  5:54:31.0 2012.01026 2455931.7462  5:28:34.3\n"
       ]
      },
      {
       "output_type": "stream",
       "stream": "stdout",
       "text": [
        "# ASTTIMES: Observatory parameters for Catalina Observatory: 61 inch telescope\n",
        "#\ttimezone = 7\n",
        "#\tlongitude = 110:43.9\n"
       ]
      },
      {
       "output_type": "stream",
       "stream": "stdout",
       "text": [
        "##YR MON   DAY          ZT         UT      EPOCH           JD       LMST\n",
        "2012   1  4 WED 22:57:42.0  5:57:42.0 2012.01026 2455931.7484  5:31:45.8\n"
       ]
      },
      {
       "output_type": "stream",
       "stream": "stdout",
       "text": [
        "# ASTTIMES: Observatory parameters for Catalina Observatory: 61 inch telescope\n",
        "#\ttimezone = 7\n",
        "#\tlongitude = 110:43.9\n"
       ]
      },
      {
       "output_type": "stream",
       "stream": "stdout",
       "text": [
        "##YR MON   DAY          ZT         UT      EPOCH           JD       LMST\n",
        "2012   1  4 WED 23:14:51.0  6:14:51.0 2012.01030 2455931.7603  5:48:57.6\n"
       ]
      },
      {
       "output_type": "stream",
       "stream": "stdout",
       "text": [
        "# ASTTIMES: Observatory parameters for Catalina Observatory: 61 inch telescope\n",
        "#\ttimezone = 7\n",
        "#\tlongitude = 110:43.9\n"
       ]
      },
      {
       "output_type": "stream",
       "stream": "stdout",
       "text": [
        "##YR MON   DAY          ZT         UT      EPOCH           JD       LMST\n",
        "2012   1  4 WED 23:16:27.0  6:16:27.0 2012.01030 2455931.7614  5:50:33.9\n"
       ]
      },
      {
       "output_type": "stream",
       "stream": "stdout",
       "text": [
        "# ASTTIMES: Observatory parameters for Catalina Observatory: 61 inch telescope\n",
        "#\ttimezone = 7\n",
        "#\tlongitude = 110:43.9\n"
       ]
      },
      {
       "output_type": "stream",
       "stream": "stdout",
       "text": [
        "##YR MON   DAY          ZT         UT      EPOCH           JD       LMST\n",
        "2012   1  4 WED 23:18:02.0  6:18:02.0 2012.01030 2455931.7625  5:52:09.2\n"
       ]
      },
      {
       "output_type": "stream",
       "stream": "stdout",
       "text": [
        "# ASTTIMES: Observatory parameters for Catalina Observatory: 61 inch telescope\n",
        "#\ttimezone = 7\n",
        "#\tlongitude = 110:43.9\n"
       ]
      },
      {
       "output_type": "stream",
       "stream": "stdout",
       "text": [
        "##YR MON   DAY          ZT         UT      EPOCH           JD       LMST\n",
        "2012   1  4 WED 23:21:13.0  6:21:13.0 2012.01031 2455931.7647  5:55:20.7\n"
       ]
      },
      {
       "output_type": "stream",
       "stream": "stdout",
       "text": [
        "# ASTTIMES: Observatory parameters for Catalina Observatory: 61 inch telescope\n",
        "#\ttimezone = 7\n",
        "#\tlongitude = 110:43.9\n"
       ]
      },
      {
       "output_type": "stream",
       "stream": "stdout",
       "text": [
        "##YR MON   DAY          ZT         UT      EPOCH           JD       LMST\n",
        "2012   1  4 WED 23:22:44.0  6:22:44.0 2012.01031 2455931.7658  5:56:51.9\n"
       ]
      },
      {
       "output_type": "stream",
       "stream": "stdout",
       "text": [
        "# ASTTIMES: Observatory parameters for Catalina Observatory: 61 inch telescope\n",
        "#\ttimezone = 7\n",
        "#\tlongitude = 110:43.9\n"
       ]
      },
      {
       "output_type": "stream",
       "stream": "stdout",
       "text": [
        "##YR MON   DAY          ZT         UT      EPOCH           JD       LMST\n",
        "2012   1  4 WED 23:24:18.0  6:24:18.0 2012.01031 2455931.7669  5:58:26.2\n"
       ]
      },
      {
       "output_type": "stream",
       "stream": "stdout",
       "text": [
        "# ASTTIMES: Observatory parameters for Catalina Observatory: 61 inch telescope\n",
        "#\ttimezone = 7\n",
        "#\tlongitude = 110:43.9\n"
       ]
      },
      {
       "output_type": "stream",
       "stream": "stdout",
       "text": [
        "##YR MON   DAY          ZT         UT      EPOCH           JD       LMST\n",
        "2012   1  4 WED 23:25:48.0  6:25:48.0 2012.01032 2455931.7679  5:59:56.4\n"
       ]
      },
      {
       "output_type": "stream",
       "stream": "stdout",
       "text": [
        "# ASTTIMES: Observatory parameters for Catalina Observatory: 61 inch telescope\n",
        "#\ttimezone = 7\n",
        "#\tlongitude = 110:43.9\n"
       ]
      },
      {
       "output_type": "stream",
       "stream": "stdout",
       "text": [
        "##YR MON   DAY          ZT         UT      EPOCH           JD       LMST\n",
        "2012   1  4 WED 23:28:53.0  6:28:53.0 2012.01032 2455931.7701  6:03:02.0\n"
       ]
      },
      {
       "output_type": "stream",
       "stream": "stdout",
       "text": [
        "# ASTTIMES: Observatory parameters for Catalina Observatory: 61 inch telescope\n",
        "#\ttimezone = 7\n",
        "#\tlongitude = 110:43.9\n"
       ]
      },
      {
       "output_type": "stream",
       "stream": "stdout",
       "text": [
        "##YR MON   DAY          ZT         UT      EPOCH           JD       LMST\n",
        "2012   1  4 WED 23:30:27.0  6:30:27.0 2012.01032 2455931.7711  6:04:36.2\n"
       ]
      },
      {
       "output_type": "stream",
       "stream": "stdout",
       "text": [
        "# ASTTIMES: Observatory parameters for Catalina Observatory: 61 inch telescope\n",
        "#\ttimezone = 7\n",
        "#\tlongitude = 110:43.9\n"
       ]
      },
      {
       "output_type": "stream",
       "stream": "stdout",
       "text": [
        "##YR MON   DAY          ZT         UT      EPOCH           JD       LMST\n",
        "2012   1  4 WED 23:32:01.0  6:32:01.0 2012.01033 2455931.7722  6:06:10.5\n"
       ]
      },
      {
       "output_type": "stream",
       "stream": "stdout",
       "text": [
        "# ASTTIMES: Observatory parameters for Catalina Observatory: 61 inch telescope\n",
        "#\ttimezone = 7\n",
        "#\tlongitude = 110:43.9\n"
       ]
      },
      {
       "output_type": "stream",
       "stream": "stdout",
       "text": [
        "##YR MON   DAY          ZT         UT      EPOCH           JD       LMST\n",
        "2012   1  4 WED 23:33:35.0  6:33:35.0 2012.01033 2455931.7733  6:07:44.7\n"
       ]
      },
      {
       "output_type": "stream",
       "stream": "stdout",
       "text": [
        "# ASTTIMES: Observatory parameters for Catalina Observatory: 61 inch telescope\n",
        "#\ttimezone = 7\n",
        "#\tlongitude = 110:43.9\n"
       ]
      },
      {
       "output_type": "stream",
       "stream": "stdout",
       "text": [
        "##YR MON   DAY          ZT         UT      EPOCH           JD       LMST\n",
        "2012   1  4 WED 23:36:49.0  6:36:49.0 2012.01034 2455931.7756  6:10:59.3\n"
       ]
      },
      {
       "output_type": "stream",
       "stream": "stdout",
       "text": [
        "# ASTTIMES: Observatory parameters for Catalina Observatory: 61 inch telescope\n",
        "#\ttimezone = 7\n",
        "#\tlongitude = 110:43.9\n"
       ]
      },
      {
       "output_type": "stream",
       "stream": "stdout",
       "text": [
        "##YR MON   DAY          ZT         UT      EPOCH           JD       LMST\n",
        "2012   1  4 WED 23:38:26.0  6:38:26.0 2012.01034 2455931.7767  6:12:36.5\n"
       ]
      },
      {
       "output_type": "stream",
       "stream": "stdout",
       "text": [
        "# ASTTIMES: Observatory parameters for Catalina Observatory: 61 inch telescope\n",
        "#\ttimezone = 7\n",
        "#\tlongitude = 110:43.9\n"
       ]
      },
      {
       "output_type": "stream",
       "stream": "stdout",
       "text": [
        "##YR MON   DAY          ZT         UT      EPOCH           JD       LMST\n",
        "2012   1  4 WED 23:40:00.0  6:40:00.0 2012.01034 2455931.7778  6:14:10.8\n"
       ]
      },
      {
       "output_type": "stream",
       "stream": "stdout",
       "text": [
        "# ASTTIMES: Observatory parameters for Catalina Observatory: 61 inch telescope\n",
        "#\ttimezone = 7\n",
        "#\tlongitude = 110:43.9\n"
       ]
      },
      {
       "output_type": "stream",
       "stream": "stdout",
       "text": [
        "##YR MON   DAY          ZT         UT      EPOCH           JD       LMST\n",
        "2012   1  4 WED 23:41:34.0  6:41:34.0 2012.01035 2455931.7789  6:15:45.0\n"
       ]
      },
      {
       "output_type": "stream",
       "stream": "stdout",
       "text": [
        "# ASTTIMES: Observatory parameters for Catalina Observatory: 61 inch telescope\n",
        "#\ttimezone = 7\n",
        "#\tlongitude = 110:43.9\n"
       ]
      },
      {
       "output_type": "stream",
       "stream": "stdout",
       "text": [
        "##YR MON   DAY          ZT         UT      EPOCH           JD       LMST\n",
        "2012   1  4 WED 23:44:48.0  6:44:48.0 2012.01035 2455931.7811  6:18:59.6\n"
       ]
      },
      {
       "output_type": "stream",
       "stream": "stdout",
       "text": [
        "# ASTTIMES: Observatory parameters for Catalina Observatory: 61 inch telescope\n",
        "#\ttimezone = 7\n",
        "#\tlongitude = 110:43.9\n"
       ]
      },
      {
       "output_type": "stream",
       "stream": "stdout",
       "text": [
        "##YR MON   DAY          ZT         UT      EPOCH           JD       LMST\n",
        "2012   1  4 WED 23:46:22.0  6:46:22.0 2012.01036 2455931.7822  6:20:33.8\n"
       ]
      },
      {
       "output_type": "stream",
       "stream": "stdout",
       "text": [
        "# ASTTIMES: Observatory parameters for Catalina Observatory: 61 inch telescope\n",
        "#\ttimezone = 7\n",
        "#\tlongitude = 110:43.9\n"
       ]
      },
      {
       "output_type": "stream",
       "stream": "stdout",
       "text": [
        "##YR MON   DAY          ZT         UT      EPOCH           JD       LMST\n",
        "2012   1  4 WED 23:47:58.0  6:47:58.0 2012.01036 2455931.7833  6:22:10.1\n"
       ]
      },
      {
       "output_type": "stream",
       "stream": "stdout",
       "text": [
        "# ASTTIMES: Observatory parameters for Catalina Observatory: 61 inch telescope\n",
        "#\ttimezone = 7\n",
        "#\tlongitude = 110:43.9\n"
       ]
      },
      {
       "output_type": "stream",
       "stream": "stdout",
       "text": [
        "##YR MON   DAY          ZT         UT      EPOCH           JD       LMST\n",
        "2012   1  4 WED 23:49:32.0  6:49:32.0 2012.01036 2455931.7844  6:23:44.3\n"
       ]
      },
      {
       "output_type": "stream",
       "stream": "stdout",
       "text": [
        "# ASTTIMES: Observatory parameters for Catalina Observatory: 61 inch telescope\n",
        "#\ttimezone = 7\n",
        "#\tlongitude = 110:43.9\n"
       ]
      },
      {
       "output_type": "stream",
       "stream": "stdout",
       "text": [
        "##YR MON   DAY          ZT         UT      EPOCH           JD       LMST\n",
        "2012   1  4 WED 23:52:46.0  6:52:46.0 2012.01037 2455931.7866  6:26:58.9\n"
       ]
      },
      {
       "output_type": "stream",
       "stream": "stdout",
       "text": [
        "# ASTTIMES: Observatory parameters for Catalina Observatory: 61 inch telescope\n",
        "#\ttimezone = 7\n",
        "#\tlongitude = 110:43.9\n"
       ]
      },
      {
       "output_type": "stream",
       "stream": "stdout",
       "text": [
        "##YR MON   DAY          ZT         UT      EPOCH           JD       LMST\n",
        "2012   1  4 WED 23:54:23.0  6:54:23.0 2012.01037 2455931.7878  6:28:36.1\n"
       ]
      },
      {
       "output_type": "stream",
       "stream": "stdout",
       "text": [
        "# ASTTIMES: Observatory parameters for Catalina Observatory: 61 inch telescope\n",
        "#\ttimezone = 7\n",
        "#\tlongitude = 110:43.9\n"
       ]
      },
      {
       "output_type": "stream",
       "stream": "stdout",
       "text": [
        "##YR MON   DAY          ZT         UT      EPOCH           JD       LMST\n",
        "2012   1  4 WED 23:55:56.0  6:55:56.0 2012.01037 2455931.7888  6:30:09.4\n"
       ]
      },
      {
       "output_type": "stream",
       "stream": "stdout",
       "text": [
        "# ASTTIMES: Observatory parameters for Catalina Observatory: 61 inch telescope\n",
        "#\ttimezone = 7\n",
        "#\tlongitude = 110:43.9\n"
       ]
      },
      {
       "output_type": "stream",
       "stream": "stdout",
       "text": [
        "##YR MON   DAY          ZT         UT      EPOCH           JD       LMST\n",
        "2012   1  4 WED 23:57:33.0  6:57:33.0 2012.01038 2455931.7900  6:31:46.7\n"
       ]
      },
      {
       "output_type": "stream",
       "stream": "stdout",
       "text": [
        "# ASTTIMES: Observatory parameters for Catalina Observatory: 61 inch telescope\n",
        "#\ttimezone = 7\n",
        "#\tlongitude = 110:43.9\n"
       ]
      },
      {
       "output_type": "stream",
       "stream": "stdout",
       "text": [
        "##YR MON   DAY          ZT         UT      EPOCH           JD       LMST\n",
        "2012   1  5 THU  0:00:44.0  7:00:44.0 2012.01038 2455931.7922  6:34:58.2\n"
       ]
      },
      {
       "output_type": "stream",
       "stream": "stdout",
       "text": [
        "# ASTTIMES: Observatory parameters for Catalina Observatory: 61 inch telescope\n",
        "#\ttimezone = 7\n",
        "#\tlongitude = 110:43.9\n"
       ]
      },
      {
       "output_type": "stream",
       "stream": "stdout",
       "text": [
        "##YR MON   DAY          ZT         UT      EPOCH           JD       LMST\n",
        "2012   1  5 THU  0:02:19.0  7:02:19.0 2012.01039 2455931.7933  6:36:33.4\n"
       ]
      },
      {
       "output_type": "stream",
       "stream": "stdout",
       "text": [
        "# ASTTIMES: Observatory parameters for Catalina Observatory: 61 inch telescope\n",
        "#\ttimezone = 7\n",
        "#\tlongitude = 110:43.9\n"
       ]
      },
      {
       "output_type": "stream",
       "stream": "stdout",
       "text": [
        "##YR MON   DAY          ZT         UT      EPOCH           JD       LMST\n",
        "2012   1  5 THU  0:03:53.0  7:03:53.0 2012.01039 2455931.7944  6:38:07.7\n"
       ]
      },
      {
       "output_type": "stream",
       "stream": "stdout",
       "text": [
        "# ASTTIMES: Observatory parameters for Catalina Observatory: 61 inch telescope\n",
        "#\ttimezone = 7\n",
        "#\tlongitude = 110:43.9\n"
       ]
      },
      {
       "output_type": "stream",
       "stream": "stdout",
       "text": [
        "##YR MON   DAY          ZT         UT      EPOCH           JD       LMST\n",
        "2012   1  5 THU  0:05:27.0  7:05:27.0 2012.01039 2455931.7955  6:39:42.0\n"
       ]
      },
      {
       "output_type": "stream",
       "stream": "stdout",
       "text": [
        "# ASTTIMES: Observatory parameters for Catalina Observatory: 61 inch telescope\n",
        "#\ttimezone = 7\n",
        "#\tlongitude = 110:43.9\n"
       ]
      },
      {
       "output_type": "stream",
       "stream": "stdout",
       "text": [
        "##YR MON   DAY          ZT         UT      EPOCH           JD       LMST\n",
        "2012   1  5 THU  0:08:41.0  7:08:41.0 2012.01040 2455931.7977  6:42:56.5\n"
       ]
      },
      {
       "output_type": "stream",
       "stream": "stdout",
       "text": [
        "# ASTTIMES: Observatory parameters for Catalina Observatory: 61 inch telescope\n",
        "#\ttimezone = 7\n",
        "#\tlongitude = 110:43.9\n"
       ]
      },
      {
       "output_type": "stream",
       "stream": "stdout",
       "text": [
        "##YR MON   DAY          ZT         UT      EPOCH           JD       LMST\n",
        "2012   1  5 THU  0:10:15.0  7:10:15.0 2012.01040 2455931.7988  6:44:30.8\n"
       ]
      },
      {
       "output_type": "stream",
       "stream": "stdout",
       "text": [
        "# ASTTIMES: Observatory parameters for Catalina Observatory: 61 inch telescope\n",
        "#\ttimezone = 7\n",
        "#\tlongitude = 110:43.9\n"
       ]
      },
      {
       "output_type": "stream",
       "stream": "stdout",
       "text": [
        "##YR MON   DAY          ZT         UT      EPOCH           JD       LMST\n",
        "2012   1  5 THU  0:11:49.0  7:11:49.0 2012.01040 2455931.7999  6:46:05.0\n"
       ]
      },
      {
       "output_type": "stream",
       "stream": "stdout",
       "text": [
        "# ASTTIMES: Observatory parameters for Catalina Observatory: 61 inch telescope\n",
        "#\ttimezone = 7\n",
        "#\tlongitude = 110:43.9\n"
       ]
      },
      {
       "output_type": "stream",
       "stream": "stdout",
       "text": [
        "##YR MON   DAY          ZT         UT      EPOCH           JD       LMST\n",
        "2012   1  5 THU  0:13:23.0  7:13:23.0 2012.01041 2455931.8010  6:47:39.3\n"
       ]
      },
      {
       "output_type": "stream",
       "stream": "stdout",
       "text": [
        "# ASTTIMES: Observatory parameters for Catalina Observatory: 61 inch telescope\n",
        "#\ttimezone = 7\n",
        "#\tlongitude = 110:43.9\n"
       ]
      },
      {
       "output_type": "stream",
       "stream": "stdout",
       "text": [
        "##YR MON   DAY          ZT         UT      EPOCH           JD       LMST\n",
        "2012   1  5 THU  0:16:28.0  7:16:28.0 2012.01041 2455931.8031  6:50:44.8\n"
       ]
      },
      {
       "output_type": "stream",
       "stream": "stdout",
       "text": [
        "# ASTTIMES: Observatory parameters for Catalina Observatory: 61 inch telescope\n",
        "#\ttimezone = 7\n",
        "#\tlongitude = 110:43.9\n"
       ]
      },
      {
       "output_type": "stream",
       "stream": "stdout",
       "text": [
        "##YR MON   DAY          ZT         UT      EPOCH           JD       LMST\n",
        "2012   1  5 THU  0:18:02.0  7:18:02.0 2012.01042 2455931.8042  6:52:19.0\n"
       ]
      },
      {
       "output_type": "stream",
       "stream": "stdout",
       "text": [
        "# ASTTIMES: Observatory parameters for Catalina Observatory: 61 inch telescope\n",
        "#\ttimezone = 7\n",
        "#\tlongitude = 110:43.9\n"
       ]
      },
      {
       "output_type": "stream",
       "stream": "stdout",
       "text": [
        "##YR MON   DAY          ZT         UT      EPOCH           JD       LMST\n",
        "2012   1  5 THU  0:19:39.0  7:19:39.0 2012.01042 2455931.8053  6:53:56.3\n"
       ]
      },
      {
       "output_type": "stream",
       "stream": "stdout",
       "text": [
        "# ASTTIMES: Observatory parameters for Catalina Observatory: 61 inch telescope\n",
        "#\ttimezone = 7\n",
        "#\tlongitude = 110:43.9\n"
       ]
      },
      {
       "output_type": "stream",
       "stream": "stdout",
       "text": [
        "##YR MON   DAY          ZT         UT      EPOCH           JD       LMST\n",
        "2012   1  5 THU  0:21:16.0  7:21:16.0 2012.01042 2455931.8064  6:55:33.6\n"
       ]
      },
      {
       "output_type": "stream",
       "stream": "stdout",
       "text": [
        "# ASTTIMES: Observatory parameters for Catalina Observatory: 61 inch telescope\n",
        "#\ttimezone = 7\n",
        "#\tlongitude = 110:43.9\n"
       ]
      },
      {
       "output_type": "stream",
       "stream": "stdout",
       "text": [
        "##YR MON   DAY          ZT         UT      EPOCH           JD       LMST\n",
        "2012   1  5 THU  0:24:27.0  7:24:27.0 2012.01043 2455931.8086  6:58:45.1\n"
       ]
      },
      {
       "output_type": "stream",
       "stream": "stdout",
       "text": [
        "# ASTTIMES: Observatory parameters for Catalina Observatory: 61 inch telescope\n",
        "#\ttimezone = 7\n",
        "#\tlongitude = 110:43.9\n"
       ]
      },
      {
       "output_type": "stream",
       "stream": "stdout",
       "text": [
        "##YR MON   DAY          ZT         UT      EPOCH           JD       LMST\n",
        "2012   1  5 THU  0:26:03.0  7:26:03.0 2012.01043 2455931.8098  7:00:21.3\n"
       ]
      },
      {
       "output_type": "stream",
       "stream": "stdout",
       "text": [
        "# ASTTIMES: Observatory parameters for Catalina Observatory: 61 inch telescope\n",
        "#\ttimezone = 7\n",
        "#\tlongitude = 110:43.9\n"
       ]
      },
      {
       "output_type": "stream",
       "stream": "stdout",
       "text": [
        "##YR MON   DAY          ZT         UT      EPOCH           JD       LMST\n",
        "2012   1  5 THU  0:27:37.0  7:27:37.0 2012.01043 2455931.8108  7:01:55.6\n"
       ]
      },
      {
       "output_type": "stream",
       "stream": "stdout",
       "text": [
        "# ASTTIMES: Observatory parameters for Catalina Observatory: 61 inch telescope\n",
        "#\ttimezone = 7\n",
        "#\tlongitude = 110:43.9\n"
       ]
      },
      {
       "output_type": "stream",
       "stream": "stdout",
       "text": [
        "##YR MON   DAY          ZT         UT      EPOCH           JD       LMST\n",
        "2012   1  5 THU  0:29:14.0  7:29:14.0 2012.01044 2455931.8120  7:03:32.9\n"
       ]
      },
      {
       "output_type": "stream",
       "stream": "stdout",
       "text": [
        "# ASTTIMES: Observatory parameters for Catalina Observatory: 61 inch telescope\n",
        "#\ttimezone = 7\n",
        "#\tlongitude = 110:43.9\n"
       ]
      },
      {
       "output_type": "stream",
       "stream": "stdout",
       "text": [
        "##YR MON   DAY          ZT         UT      EPOCH           JD       LMST\n",
        "2012   1  5 THU  0:32:22.0  7:32:22.0 2012.01044 2455931.8141  7:06:41.4\n"
       ]
      },
      {
       "output_type": "stream",
       "stream": "stdout",
       "text": [
        "# ASTTIMES: Observatory parameters for Catalina Observatory: 61 inch telescope\n",
        "#\ttimezone = 7\n",
        "#\tlongitude = 110:43.9\n"
       ]
      },
      {
       "output_type": "stream",
       "stream": "stdout",
       "text": [
        "##YR MON   DAY          ZT         UT      EPOCH           JD       LMST\n",
        "2012   1  5 THU  0:33:59.0  7:33:59.0 2012.01045 2455931.8153  7:08:18.6\n"
       ]
      },
      {
       "output_type": "stream",
       "stream": "stdout",
       "text": [
        "# ASTTIMES: Observatory parameters for Catalina Observatory: 61 inch telescope\n",
        "#\ttimezone = 7\n",
        "#\tlongitude = 110:43.9\n"
       ]
      },
      {
       "output_type": "stream",
       "stream": "stdout",
       "text": [
        "##YR MON   DAY          ZT         UT      EPOCH           JD       LMST\n",
        "2012   1  5 THU  0:35:33.0  7:35:33.0 2012.01045 2455931.8164  7:09:52.9\n"
       ]
      },
      {
       "output_type": "stream",
       "stream": "stdout",
       "text": [
        "# ASTTIMES: Observatory parameters for Catalina Observatory: 61 inch telescope\n",
        "#\ttimezone = 7\n",
        "#\tlongitude = 110:43.9\n"
       ]
      },
      {
       "output_type": "stream",
       "stream": "stdout",
       "text": [
        "##YR MON   DAY          ZT         UT      EPOCH           JD       LMST\n",
        "2012   1  5 THU  0:37:06.0  7:37:06.0 2012.01045 2455931.8174  7:11:26.2\n"
       ]
      },
      {
       "output_type": "stream",
       "stream": "stdout",
       "text": [
        "# ASTTIMES: Observatory parameters for Catalina Observatory: 61 inch telescope\n",
        "#\ttimezone = 7\n",
        "#\tlongitude = 110:43.9\n"
       ]
      },
      {
       "output_type": "stream",
       "stream": "stdout",
       "text": [
        "##YR MON   DAY          ZT         UT      EPOCH           JD       LMST\n",
        "2012   1  5 THU  0:40:17.0  7:40:17.0 2012.01046 2455931.8196  7:14:37.7\n"
       ]
      },
      {
       "output_type": "stream",
       "stream": "stdout",
       "text": [
        "# ASTTIMES: Observatory parameters for Catalina Observatory: 61 inch telescope\n",
        "#\ttimezone = 7\n",
        "#\tlongitude = 110:43.9\n"
       ]
      },
      {
       "output_type": "stream",
       "stream": "stdout",
       "text": [
        "##YR MON   DAY          ZT         UT      EPOCH           JD       LMST\n",
        "2012   1  5 THU  0:41:54.0  7:41:54.0 2012.01046 2455931.8208  7:16:14.9\n"
       ]
      },
      {
       "output_type": "stream",
       "stream": "stdout",
       "text": [
        "# ASTTIMES: Observatory parameters for Catalina Observatory: 61 inch telescope\n",
        "#\ttimezone = 7\n",
        "#\tlongitude = 110:43.9\n"
       ]
      },
      {
       "output_type": "stream",
       "stream": "stdout",
       "text": [
        "##YR MON   DAY          ZT         UT      EPOCH           JD       LMST\n",
        "2012   1  5 THU  0:43:31.0  7:43:31.0 2012.01046 2455931.8219  7:17:52.2\n"
       ]
      },
      {
       "output_type": "stream",
       "stream": "stdout",
       "text": [
        "# ASTTIMES: Observatory parameters for Catalina Observatory: 61 inch telescope\n",
        "#\ttimezone = 7\n",
        "#\tlongitude = 110:43.9\n"
       ]
      },
      {
       "output_type": "stream",
       "stream": "stdout",
       "text": [
        "##YR MON   DAY          ZT         UT      EPOCH           JD       LMST\n",
        "2012   1  5 THU  0:45:08.0  7:45:08.0 2012.01047 2455931.8230  7:19:29.5\n"
       ]
      },
      {
       "output_type": "stream",
       "stream": "stdout",
       "text": [
        "# ASTTIMES: Observatory parameters for Catalina Observatory: 61 inch telescope\n",
        "#\ttimezone = 7\n",
        "#\tlongitude = 110:43.9\n"
       ]
      },
      {
       "output_type": "stream",
       "stream": "stdout",
       "text": [
        "##YR MON   DAY          ZT         UT      EPOCH           JD       LMST\n",
        "2012   1  5 THU  0:48:21.0  7:48:21.0 2012.01047 2455931.8252  7:22:43.0\n"
       ]
      },
      {
       "output_type": "stream",
       "stream": "stdout",
       "text": [
        "# ASTTIMES: Observatory parameters for Catalina Observatory: 61 inch telescope\n",
        "#\ttimezone = 7\n",
        "#\tlongitude = 110:43.9\n"
       ]
      },
      {
       "output_type": "stream",
       "stream": "stdout",
       "text": [
        "##YR MON   DAY          ZT         UT      EPOCH           JD       LMST\n",
        "2012   1  5 THU  0:49:55.0  7:49:55.0 2012.01048 2455931.8263  7:24:17.3\n"
       ]
      },
      {
       "output_type": "stream",
       "stream": "stdout",
       "text": [
        "# ASTTIMES: Observatory parameters for Catalina Observatory: 61 inch telescope\n",
        "#\ttimezone = 7\n",
        "#\tlongitude = 110:43.9\n"
       ]
      },
      {
       "output_type": "stream",
       "stream": "stdout",
       "text": [
        "##YR MON   DAY          ZT         UT      EPOCH           JD       LMST\n",
        "2012   1  5 THU  0:51:25.0  7:51:25.0 2012.01048 2455931.8274  7:25:47.5\n"
       ]
      },
      {
       "output_type": "stream",
       "stream": "stdout",
       "text": [
        "# ASTTIMES: Observatory parameters for Catalina Observatory: 61 inch telescope\n",
        "#\ttimezone = 7\n",
        "#\tlongitude = 110:43.9\n"
       ]
      },
      {
       "output_type": "stream",
       "stream": "stdout",
       "text": [
        "##YR MON   DAY          ZT         UT      EPOCH           JD       LMST\n",
        "2012   1  5 THU  0:52:59.0  7:52:59.0 2012.01048 2455931.8285  7:27:21.8\n"
       ]
      },
      {
       "output_type": "stream",
       "stream": "stdout",
       "text": [
        "# ASTTIMES: Observatory parameters for Catalina Observatory: 61 inch telescope\n",
        "#\ttimezone = 7\n",
        "#\tlongitude = 110:43.9\n"
       ]
      },
      {
       "output_type": "stream",
       "stream": "stdout",
       "text": [
        "##YR MON   DAY          ZT         UT      EPOCH           JD       LMST\n",
        "2012   1  5 THU  0:56:13.0  7:56:13.0 2012.01049 2455931.8307  7:30:36.3\n"
       ]
      },
      {
       "output_type": "stream",
       "stream": "stdout",
       "text": [
        "# ASTTIMES: Observatory parameters for Catalina Observatory: 61 inch telescope\n",
        "#\ttimezone = 7\n",
        "#\tlongitude = 110:43.9\n"
       ]
      },
      {
       "output_type": "stream",
       "stream": "stdout",
       "text": [
        "##YR MON   DAY          ZT         UT      EPOCH           JD       LMST\n",
        "2012   1  5 THU  0:57:50.0  7:57:50.0 2012.01049 2455931.8318  7:32:13.6\n"
       ]
      },
      {
       "output_type": "stream",
       "stream": "stdout",
       "text": [
        "# ASTTIMES: Observatory parameters for Catalina Observatory: 61 inch telescope\n",
        "#\ttimezone = 7\n",
        "#\tlongitude = 110:43.9\n"
       ]
      },
      {
       "output_type": "stream",
       "stream": "stdout",
       "text": [
        "##YR MON   DAY          ZT         UT      EPOCH           JD       LMST\n",
        "2012   1  5 THU  0:59:24.0  7:59:24.0 2012.01049 2455931.8329  7:33:47.8\n"
       ]
      },
      {
       "output_type": "stream",
       "stream": "stdout",
       "text": [
        "# ASTTIMES: Observatory parameters for Catalina Observatory: 61 inch telescope\n",
        "#\ttimezone = 7\n",
        "#\tlongitude = 110:43.9\n"
       ]
      },
      {
       "output_type": "stream",
       "stream": "stdout",
       "text": [
        "##YR MON   DAY          ZT         UT      EPOCH           JD       LMST\n",
        "2012   1  5 THU  1:01:01.0  8:01:01.0 2012.01050 2455931.8340  7:35:25.1\n"
       ]
      },
      {
       "output_type": "stream",
       "stream": "stdout",
       "text": [
        "# ASTTIMES: Observatory parameters for Catalina Observatory: 61 inch telescope\n",
        "#\ttimezone = 7\n",
        "#\tlongitude = 110:43.9\n"
       ]
      },
      {
       "output_type": "stream",
       "stream": "stdout",
       "text": [
        "##YR MON   DAY          ZT         UT      EPOCH           JD       LMST\n",
        "2012   1  5 THU  1:04:12.0  8:04:12.0 2012.01050 2455931.8362  7:38:36.6\n"
       ]
      },
      {
       "output_type": "stream",
       "stream": "stdout",
       "text": [
        "# ASTTIMES: Observatory parameters for Catalina Observatory: 61 inch telescope\n",
        "#\ttimezone = 7\n",
        "#\tlongitude = 110:43.9\n"
       ]
      },
      {
       "output_type": "stream",
       "stream": "stdout",
       "text": [
        "##YR MON   DAY          ZT         UT      EPOCH           JD       LMST\n",
        "2012   1  5 THU  1:05:46.0  8:05:46.0 2012.01051 2455931.8373  7:40:10.9\n"
       ]
      },
      {
       "output_type": "stream",
       "stream": "stdout",
       "text": [
        "# ASTTIMES: Observatory parameters for Catalina Observatory: 61 inch telescope\n",
        "#\ttimezone = 7\n",
        "#\tlongitude = 110:43.9\n"
       ]
      },
      {
       "output_type": "stream",
       "stream": "stdout",
       "text": [
        "##YR MON   DAY          ZT         UT      EPOCH           JD       LMST\n",
        "2012   1  5 THU  1:07:20.0  8:07:20.0 2012.01051 2455931.8384  7:41:45.1\n"
       ]
      },
      {
       "output_type": "stream",
       "stream": "stdout",
       "text": [
        "# ASTTIMES: Observatory parameters for Catalina Observatory: 61 inch telescope\n",
        "#\ttimezone = 7\n",
        "#\tlongitude = 110:43.9\n"
       ]
      },
      {
       "output_type": "stream",
       "stream": "stdout",
       "text": [
        "##YR MON   DAY          ZT         UT      EPOCH           JD       LMST\n",
        "2012   1  5 THU  1:08:57.0  8:08:57.0 2012.01051 2455931.8395  7:43:22.4\n"
       ]
      },
      {
       "output_type": "stream",
       "stream": "stdout",
       "text": [
        "# ASTTIMES: Observatory parameters for Catalina Observatory: 61 inch telescope\n",
        "#\ttimezone = 7\n",
        "#\tlongitude = 110:43.9\n"
       ]
      },
      {
       "output_type": "stream",
       "stream": "stdout",
       "text": [
        "##YR MON   DAY          ZT         UT      EPOCH           JD       LMST\n",
        "2012   1  5 THU  1:12:08.0  8:12:08.0 2012.01052 2455931.8418  7:46:33.9\n"
       ]
      },
      {
       "output_type": "stream",
       "stream": "stdout",
       "text": [
        "# ASTTIMES: Observatory parameters for Catalina Observatory: 61 inch telescope\n",
        "#\ttimezone = 7\n",
        "#\tlongitude = 110:43.9\n"
       ]
      },
      {
       "output_type": "stream",
       "stream": "stdout",
       "text": [
        "##YR MON   DAY          ZT         UT      EPOCH           JD       LMST\n",
        "2012   1  5 THU  1:13:44.0  8:13:44.0 2012.01052 2455931.8429  7:48:10.2\n"
       ]
      },
      {
       "output_type": "stream",
       "stream": "stdout",
       "text": [
        "# ASTTIMES: Observatory parameters for Catalina Observatory: 61 inch telescope\n",
        "#\ttimezone = 7\n",
        "#\tlongitude = 110:43.9\n"
       ]
      },
      {
       "output_type": "stream",
       "stream": "stdout",
       "text": [
        "##YR MON   DAY          ZT         UT      EPOCH           JD       LMST\n",
        "2012   1  5 THU  1:15:21.0  8:15:21.0 2012.01052 2455931.8440  7:49:47.4\n"
       ]
      },
      {
       "output_type": "stream",
       "stream": "stdout",
       "text": [
        "# ASTTIMES: Observatory parameters for Catalina Observatory: 61 inch telescope\n",
        "#\ttimezone = 7\n",
        "#\tlongitude = 110:43.9\n"
       ]
      },
      {
       "output_type": "stream",
       "stream": "stdout",
       "text": [
        "##YR MON   DAY          ZT         UT      EPOCH           JD       LMST\n",
        "2012   1  5 THU  1:16:55.0  8:16:55.0 2012.01053 2455931.8451  7:51:21.7\n"
       ]
      },
      {
       "output_type": "stream",
       "stream": "stdout",
       "text": [
        "# ASTTIMES: Observatory parameters for Catalina Observatory: 61 inch telescope\n",
        "#\ttimezone = 7\n",
        "#\tlongitude = 110:43.9\n"
       ]
      },
      {
       "output_type": "stream",
       "stream": "stdout",
       "text": [
        "##YR MON   DAY          ZT         UT      EPOCH           JD       LMST\n",
        "2012   1  5 THU  1:20:06.0  8:20:06.0 2012.01053 2455931.8473  7:54:33.2\n"
       ]
      },
      {
       "output_type": "stream",
       "stream": "stdout",
       "text": [
        "# ASTTIMES: Observatory parameters for Catalina Observatory: 61 inch telescope\n",
        "#\ttimezone = 7\n",
        "#\tlongitude = 110:43.9\n"
       ]
      },
      {
       "output_type": "stream",
       "stream": "stdout",
       "text": [
        "##YR MON   DAY          ZT         UT      EPOCH           JD       LMST\n",
        "2012   1  5 THU  1:21:37.0  8:21:37.0 2012.01054 2455931.8483  7:56:04.5\n"
       ]
      },
      {
       "output_type": "stream",
       "stream": "stdout",
       "text": [
        "# ASTTIMES: Observatory parameters for Catalina Observatory: 61 inch telescope\n",
        "#\ttimezone = 7\n",
        "#\tlongitude = 110:43.9\n"
       ]
      },
      {
       "output_type": "stream",
       "stream": "stdout",
       "text": [
        "##YR MON   DAY          ZT         UT      EPOCH           JD       LMST\n",
        "2012   1  5 THU  1:23:14.0  8:23:14.0 2012.01054 2455931.8495  7:57:41.7\n"
       ]
      },
      {
       "output_type": "stream",
       "stream": "stdout",
       "text": [
        "# ASTTIMES: Observatory parameters for Catalina Observatory: 61 inch telescope\n",
        "#\ttimezone = 7\n",
        "#\tlongitude = 110:43.9\n"
       ]
      },
      {
       "output_type": "stream",
       "stream": "stdout",
       "text": [
        "##YR MON   DAY          ZT         UT      EPOCH           JD       LMST\n",
        "2012   1  5 THU  1:24:48.0  8:24:48.0 2012.01054 2455931.8506  7:59:16.0\n"
       ]
      },
      {
       "output_type": "stream",
       "stream": "stdout",
       "text": [
        "# ASTTIMES: Observatory parameters for Catalina Observatory: 61 inch telescope\n",
        "#\ttimezone = 7\n",
        "#\tlongitude = 110:43.9\n"
       ]
      },
      {
       "output_type": "stream",
       "stream": "stdout",
       "text": [
        "##YR MON   DAY          ZT         UT      EPOCH           JD       LMST\n",
        "2012   1  5 THU  1:27:58.0  8:27:58.0 2012.01055 2455931.8528  8:02:26.5\n"
       ]
      },
      {
       "output_type": "stream",
       "stream": "stdout",
       "text": [
        "# ASTTIMES: Observatory parameters for Catalina Observatory: 61 inch telescope\n",
        "#\ttimezone = 7\n",
        "#\tlongitude = 110:43.9\n"
       ]
      },
      {
       "output_type": "stream",
       "stream": "stdout",
       "text": [
        "##YR MON   DAY          ZT         UT      EPOCH           JD       LMST\n",
        "2012   1  5 THU  1:29:33.0  8:29:33.0 2012.01055 2455931.8539  8:04:01.8\n"
       ]
      },
      {
       "output_type": "stream",
       "stream": "stdout",
       "text": [
        "# ASTTIMES: Observatory parameters for Catalina Observatory: 61 inch telescope\n",
        "#\ttimezone = 7\n",
        "#\tlongitude = 110:43.9\n"
       ]
      },
      {
       "output_type": "stream",
       "stream": "stdout",
       "text": [
        "##YR MON   DAY          ZT         UT      EPOCH           JD       LMST\n",
        "2012   1  5 THU  1:31:10.0  8:31:10.0 2012.01055 2455931.8550  8:05:39.0\n"
       ]
      },
      {
       "output_type": "stream",
       "stream": "stdout",
       "text": [
        "# ASTTIMES: Observatory parameters for Catalina Observatory: 61 inch telescope\n",
        "#\ttimezone = 7\n",
        "#\tlongitude = 110:43.9\n"
       ]
      },
      {
       "output_type": "stream",
       "stream": "stdout",
       "text": [
        "##YR MON   DAY          ZT         UT      EPOCH           JD       LMST\n",
        "2012   1  5 THU  1:32:44.0  8:32:44.0 2012.01056 2455931.8561  8:07:13.3\n"
       ]
      },
      {
       "output_type": "stream",
       "stream": "stdout",
       "text": [
        "# ASTTIMES: Observatory parameters for Catalina Observatory: 61 inch telescope\n",
        "#\ttimezone = 7\n",
        "#\tlongitude = 110:43.9\n"
       ]
      },
      {
       "output_type": "stream",
       "stream": "stdout",
       "text": [
        "##YR MON   DAY          ZT         UT      EPOCH           JD       LMST\n",
        "2012   1  5 THU  1:35:54.0  8:35:54.0 2012.01056 2455931.8583  8:10:23.8\n"
       ]
      },
      {
       "output_type": "stream",
       "stream": "stdout",
       "text": [
        "# ASTTIMES: Observatory parameters for Catalina Observatory: 61 inch telescope\n",
        "#\ttimezone = 7\n",
        "#\tlongitude = 110:43.9\n"
       ]
      },
      {
       "output_type": "stream",
       "stream": "stdout",
       "text": [
        "##YR MON   DAY          ZT         UT      EPOCH           JD       LMST\n",
        "2012   1  5 THU  1:37:28.0  8:37:28.0 2012.01057 2455931.8594  8:11:58.1\n"
       ]
      },
      {
       "output_type": "stream",
       "stream": "stdout",
       "text": [
        "# ASTTIMES: Observatory parameters for Catalina Observatory: 61 inch telescope\n",
        "#\ttimezone = 7\n",
        "#\tlongitude = 110:43.9\n"
       ]
      },
      {
       "output_type": "stream",
       "stream": "stdout",
       "text": [
        "##YR MON   DAY          ZT         UT      EPOCH           JD       LMST\n",
        "2012   1  5 THU  1:39:04.0  8:39:04.0 2012.01057 2455931.8605  8:13:34.3\n"
       ]
      },
      {
       "output_type": "stream",
       "stream": "stdout",
       "text": [
        "# ASTTIMES: Observatory parameters for Catalina Observatory: 61 inch telescope\n",
        "#\ttimezone = 7\n",
        "#\tlongitude = 110:43.9\n"
       ]
      },
      {
       "output_type": "stream",
       "stream": "stdout",
       "text": [
        "##YR MON   DAY          ZT         UT      EPOCH           JD       LMST\n",
        "2012   1  5 THU  1:40:38.0  8:40:38.0 2012.01057 2455931.8616  8:15:08.6\n"
       ]
      },
      {
       "output_type": "stream",
       "stream": "stdout",
       "text": [
        "# ASTTIMES: Observatory parameters for Catalina Observatory: 61 inch telescope\n",
        "#\ttimezone = 7\n",
        "#\tlongitude = 110:43.9\n"
       ]
      },
      {
       "output_type": "stream",
       "stream": "stdout",
       "text": [
        "##YR MON   DAY          ZT         UT      EPOCH           JD       LMST\n",
        "2012   1  5 THU  1:43:50.0  8:43:50.0 2012.01058 2455931.8638  8:18:21.1\n"
       ]
      },
      {
       "output_type": "stream",
       "stream": "stdout",
       "text": [
        "# ASTTIMES: Observatory parameters for Catalina Observatory: 61 inch telescope\n",
        "#\ttimezone = 7\n",
        "#\tlongitude = 110:43.9\n"
       ]
      },
      {
       "output_type": "stream",
       "stream": "stdout",
       "text": [
        "##YR MON   DAY          ZT         UT      EPOCH           JD       LMST\n",
        "2012   1  5 THU  1:45:24.0  8:45:24.0 2012.01058 2455931.8649  8:19:55.4\n"
       ]
      }
     ],
     "prompt_number": 9
    },
    {
     "cell_type": "code",
     "collapsed": false,
     "input": [
      "iraf.asttimes.jd"
     ],
     "language": "python",
     "metadata": {},
     "outputs": [
      {
       "metadata": {},
       "output_type": "pyout",
       "prompt_number": 10,
       "text": [
        "2455931.864861111"
       ]
      }
     ],
     "prompt_number": 10
    },
    {
     "cell_type": "code",
     "collapsed": false,
     "input": [
      "iraf.asttimes.lmst"
     ],
     "language": "python",
     "metadata": {},
     "outputs": [
      {
       "metadata": {},
       "output_type": "pyout",
       "prompt_number": 15,
       "text": [
        "8.332050261936672"
       ]
      }
     ],
     "prompt_number": 15
    },
    {
     "cell_type": "code",
     "collapsed": false,
     "input": [
      "iraf.setairmass(images[0])"
     ],
     "language": "python",
     "metadata": {},
     "outputs": [
      {
       "output_type": "stream",
       "stream": "stdout",
       "text": [
        "#              Image    UT middle  effective  begin   middle     end   updated\n",
        "# SETAIRMASS: Observatory parameters for Catalina Observatory: 61 inch telescope\n",
        "#\tlatitude = 32:25.0\n"
       ]
      },
      {
       "output_type": "stream",
       "stream": "stdout",
       "text": [
        "    ABXO2b.0001.fits    3:48:31.2   1.5968   1.5995   1.5967   1.5940  yes\n"
       ]
      }
     ],
     "prompt_number": 16
    },
    {
     "cell_type": "code",
     "collapsed": false,
     "input": [
      "iraf.setjd(images[0])"
     ],
     "language": "python",
     "metadata": {},
     "outputs": [
      {
       "output_type": "stream",
       "stream": "stdout",
       "text": [
        "#              Image             jd            hjd       ljd\n",
        "# SETJD: Observatory parameters for Catalina Observatory: 61 inch telescope\n",
        "#\ttimezone = 7\n"
       ]
      },
      {
       "output_type": "stream",
       "stream": "stdout",
       "text": [
        "    ABXO2b.0001.fits  2456015.33368  2456015.33464   2456015\n"
       ]
      }
     ],
     "prompt_number": 18
    },
    {
     "cell_type": "code",
     "collapsed": false,
     "input": [
      "iraf.setjd.time = \"ut\""
     ],
     "language": "python",
     "metadata": {},
     "outputs": [],
     "prompt_number": 20
    },
    {
     "cell_type": "code",
     "collapsed": false,
     "input": [
      "iraf.setjd(images[0])"
     ],
     "language": "python",
     "metadata": {},
     "outputs": [
      {
       "output_type": "stream",
       "stream": "stdout",
       "text": [
        "#              Image             jd            hjd       ljd\n",
        "# SETJD: Observatory parameters for Catalina Observatory: 61 inch telescope\n",
        "#\ttimezone = 7\n"
       ]
      },
      {
       "output_type": "stream",
       "stream": "stdout",
       "text": [
        "    ABXO2b.0001.fits  2455931.65870  2455931.66366   2455931\n"
       ]
      }
     ],
     "prompt_number": 21
    },
    {
     "cell_type": "code",
     "collapsed": false,
     "input": [
      "hdr = fits.getheader(images[0])"
     ],
     "language": "python",
     "metadata": {},
     "outputs": [],
     "prompt_number": 22
    },
    {
     "cell_type": "code",
     "collapsed": false,
     "input": [
      "hdr"
     ],
     "language": "python",
     "metadata": {},
     "outputs": [
      {
       "output_type": "stream",
       "stream": "stderr",
       "text": [
        "WARNING: VerifyWarning: Verification reported errors: [astropy.io.fits.verify]\n",
        "WARNING: VerifyWarning: Card 'ST' is not FITS standard (invalid value string: '3:21:43.5284061576').  Fixed 'ST' card to meet the FITS standard. [astropy.io.fits.verify]\n",
        "WARNING: VerifyWarning: Note: PyFITS uses zero-based indexing.\n",
        " [astropy.io.fits.verify]\n"
       ]
      },
      {
       "metadata": {},
       "output_type": "pyout",
       "prompt_number": 23,
       "text": [
        "SIMPLE  =                    T / Fits standard                                  \n",
        "BITPIX  =                  -32 / Bits per pixel                                 \n",
        "NAXIS   =                    2 / Number of axes                                 \n",
        "NAXIS1  =                 1365 / Axis length                                    \n",
        "NAXIS2  =                  683 / Axis length                                    \n",
        "EXTEND  =                    F / File may contain extensions                    \n",
        "ORIGIN  = 'NOAO-IRAF FITS Image Kernel July 2003' / FITS file originator        \n",
        "DATE    = '2016-02-15T18:42:23' / Date FITS file was generated                  \n",
        "IRAF-TLM= '2016-02-15T19:11:50' / Time of last modification                     \n",
        "OBJECT  = 'XO-2b   '           / Name of the object observed                    \n",
        "CCDSUM  = '3 3     '           / CCD pixel summing                              \n",
        "CCDBIN1 =                    3 / Binning factor along axis 1                    \n",
        "CCDBIN2 =                    3 / Binning factor along axis 2                    \n",
        "FILENAME= 'XO2b.0001.fits'     / base filename at acquisition                   \n",
        "NCCDS   =                    1 / Number of CCDs                                 \n",
        "NAMPS   =                    2 / Number of amplifiers                           \n",
        "DARKCUR = '0.0     '           / Average dark current (e-/pixel/hour)           \n",
        "DARKTIME=               60.157 / Dark time (seconds)                            \n",
        "DATE-OBS= '2012-01-05'         / UTC shutter opened                             \n",
        "DETECTOR= 'mont4k sn3088'      / Detector name                                  \n",
        "DETGAIN =                    5 / Video gain setting                             \n",
        "EXPREQ  =                 60.0 / Exposure time requested (seconds)              \n",
        "EXPTIME =                 60.0 / Exposure time (seconds)                        \n",
        "GAIN1   = '3.14    '           / Conversion gain (e-/DN) for amp 1              \n",
        "GAIN2   = '3.08    '           / Conversion gain (e-/DN) for amp 2              \n",
        "IMAGETYP= 'object  '           / Image type                                     \n",
        "INSTRUME= 'mont4k  '           / Instrument name                                \n",
        "LOCTIME = '20:48:01'           / Local time at start of exposure                \n",
        "OBSERVAT= 'mtbigelow'          / Observatory                                    \n",
        "OBSERVER= 'Turner  '                                                            \n",
        "PCIFILE = 'pci2.lod'           / PCI board DSP code filename                    \n",
        "PIXSCAL1= '0.15    '           / Pixel scale for axis 1 (arcsec/unbinned pixel) \n",
        "PIXSCAL2= '0.15    '           / Pixel scale for axis 2 (arcsec/unbinned pixel) \n",
        "PIXSIZE1= '15.0    '           / Pixel size for axis 1 (microns)                \n",
        "PIXSIZE2= '15.0    '           / Pixel size for axis 2 (microns)                \n",
        "RDNOISE1= '6.3     '           / Read noise (electrons) for amp 1               \n",
        "RDNOISE2= '6.7     '           / Read noise (electrons) for amp 2               \n",
        "SITEELEV= '2510    '           / Altitude (meters)                              \n",
        "SITELAT = '32:24:59.3'         / Latitude (DD:MM:SS.S North)                    \n",
        "SITELONG= '110:44:04.3'        / Longitude (DD:MM:SS.S West)                    \n",
        "TELESCOP= 'bigelow-1.55m'      / Telescope name                                 \n",
        "TIME-OBS= '03:48:01.246'       / UTC at start of exposure                       \n",
        "TIMESYS = 'UTC     '           / Time system                                    \n",
        "TIMEZONE=                    7 / Local time zone                                \n",
        "TIMFILE = 'tim2_split.lod'     / Timing board DSP code filename                 \n",
        "UT      = '03:48:01.246'       / UTC at start of exposure                       \n",
        "UTC-OBS = '03:48:01.246'       / UTC at start of exposure                       \n",
        "UTILFILE= 'util2.lod'          / Utility board DSP code filename                \n",
        "VIDGAIN =                    5 / Video gain setting                             \n",
        "VIDSPEED=                    1 / Video speed setting                            \n",
        "ITL-HEAD= 'OK      '           / ITL Header flag                                \n",
        "N-AMPS-X=                    2 / Number of amplifiers in X                      \n",
        "N-AMPS-Y=                    1 / Number of amplifiers in Y                      \n",
        "N-DET-X =                    1 / Number of detectors in X                       \n",
        "N-DET-Y =                    1 / Number of detectors in Y                       \n",
        "NUM-AMPX=                    2 / Number of amplifiers in X                      \n",
        "NUM-AMPY=                    1 / Number of amplifiers in Y                      \n",
        "NUM-DETX=                    1 / Number of detectors in X                       \n",
        "NUM-DETY=                    1 / Number of detectors in Y                       \n",
        "REF-PIX1=                 2048 / Reference pixel 1                              \n",
        "REF-PIX2=                 2048 / Reference pixel 2                              \n",
        "SYS-MOD = 'Mont4k  '           / System module                                  \n",
        "CAMTEMP =               -116.0 / Camera temperature in C                        \n",
        "DEWTEMP =             -184.666 / Dewar temperature in C                         \n",
        "XTKCOEF =          2.600000E-4                                                  \n",
        "BUNIT   = 'ADU     '           / Physical unit of array values                  \n",
        "COMMENT Image                                                                   \n",
        "DETSIZE = '[1:4092,1:2049]'    / Detector size                                  \n",
        "CCDSIZE = '[1:4092,1:2049]'    / CCD size                                       \n",
        "AMPSEC  = '[0:4094,0:2048]'    / Amplifier section                              \n",
        "DETSEC  = '[0:4094,0:2048]'    / Detector section                               \n",
        "CCDSEC  = '[0:4094,0:2048]'    / CCD section                                    \n",
        "CCDSEC1 = '[1:682,1:683]'      / CCD section with binning                       \n",
        "OVRSCAN1=                   20 / Overscan on axis 1                             \n",
        "OVRSCAN2=                    0 / Overscan on axis 2                             \n",
        "PRESCAN1=                    0 / Underscan on axis 1                            \n",
        "PRESCAN2=                    0 / Underscan on axis 2                            \n",
        "ATM1_1  =                    1 / CCD to amplifier transformation                \n",
        "ATM2_2  =                    1 / CCD to amplifier transformation                \n",
        "ATV1    =                    0 / CCD to amplifier transformation                \n",
        "ATV2    =                    0 / CCD to amplifier transformation                \n",
        "LTM1_1  =    0.333333343267441 / CCD to image transformation                    \n",
        "LTM2_2  =    0.333333343267441 / CCD to image transformation                    \n",
        "LTV1    =    0.666666686534882 / CCD to image transformation                    \n",
        "LTV2    =    0.666666686534882 / CCD to image transformation                    \n",
        "DTM1_1  =                    1 / CCD to detector transformation                 \n",
        "DTM2_2  =                    1 / CCD to detector transformation                 \n",
        "DTV1    =                    0 / CCD to detector transformation                 \n",
        "DTV2    =                    0 / CCD to detector transformation                 \n",
        "COMMENT WCS                                                                     \n",
        "EQUINOX =                 2000 / Equinox of WCS                                 \n",
        "WCSDIM  =                    2 / WCS Dimensionality                             \n",
        "CTYPE1  = 'RA---TNX'           / Coordinate type                                \n",
        "CTYPE2  = 'DEC--TNX'           / Coordinate type                                \n",
        "CRPIX1  =     682.333353668451 / Coordinate reference pixel                     \n",
        "CRPIX2  =     342.000010192394 / Coordinate reference pixel                     \n",
        "CD1_1   =  1.49999995529652E-4 / Coordinate matrix                              \n",
        "CD2_2   =  1.49999995529652E-4 / Coordinate matrix                              \n",
        "AMP-CFG =                    0 / Amplifier configuration                        \n",
        "DET-NUM =                    1 / Detector number                                \n",
        "EXT-NUM =                    1 / Extension number                               \n",
        "JPG-EXT =                    1 / Image section                                  \n",
        "DET-POSX=                    1 / Detector position in X                         \n",
        "DET-POSY=                    1 / Detector position in Y                         \n",
        "AMP-POSX=                    1 / Amplifier position in X                        \n",
        "AMP-POSY=                    1 / Amplifier position in Y                        \n",
        "AMP-PIX1=                    1 / Amplifier pixel position in X                  \n",
        "AMP-PIX2=                    1 / Amplifier pixel position in Y                  \n",
        "CDELT1  =  1.49999995529652E-4                                                  \n",
        "CDELT2  =  1.49999995529652E-4                                                  \n",
        "WAT0_001= 'system=image'                                                        \n",
        "WAT1_001= 'wtype=tnx axtype=ra'                                                 \n",
        "WAT2_001= 'wtype=tnx axtype=dec'                                                \n",
        "TRIM    = '[1:682,1:683]'                                                       \n",
        "OVERSCAN= '[688:702,1:683]'                                                     \n",
        "OVSCMED1=             926.0311                                                  \n",
        "OVSCMED2=             919.9296                                                  \n",
        "ST      = '3:21:43.5284061576'                                                  \n",
        "LMST    = '3:21:43.5284061576'                                                  \n",
        "JD      = '2455931.65869502'                                                    \n",
        "RA      = '07:48:06.46'                                                         \n",
        "DEC     = '+50:13:32.9'                                                         \n",
        "EPOCH   = '2000.0  '                                                            \n",
        "AIRMASS =             1.596752                                                  \n",
        "UTMIDDLE= '2012-01-05T03:48:31.25'                                              \n",
        "HJD     =     2455931.66365571                                                  \n",
        "LJD     =             2455931.                                                  \n",
        "                                                                                \n",
        "                                                                                \n",
        "                                                                                \n",
        "                                                                                \n",
        "                                                                                \n",
        "                                                                                \n",
        "                                                                                \n",
        "                                                                                \n",
        "                                                                                \n",
        "                                                                                \n",
        "                                                                                \n",
        "                                                                                \n",
        "                                                                                \n",
        "                                                                                \n",
        "                                                                                \n",
        "                                                                                "
       ]
      }
     ],
     "prompt_number": 23
    },
    {
     "cell_type": "code",
     "collapsed": false,
     "input": [
      "hdr['HJD']"
     ],
     "language": "python",
     "metadata": {},
     "outputs": [
      {
       "metadata": {},
       "output_type": "pyout",
       "prompt_number": 24,
       "text": [
        "2455931.66365571"
       ]
      }
     ],
     "prompt_number": 24
    },
    {
     "cell_type": "code",
     "collapsed": false,
     "input": [],
     "language": "python",
     "metadata": {},
     "outputs": []
    }
   ],
   "metadata": {}
  }
 ]
}