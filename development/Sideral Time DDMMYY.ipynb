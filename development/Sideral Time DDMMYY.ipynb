{
 "metadata": {
  "name": "",
  "signature": "sha256:72d7c8fa9208a2d8051e6ecfcb5488023cc0c04f07daeda09a1857af24604d75"
 },
 "nbformat": 3,
 "nbformat_minor": 0,
 "worksheets": [
  {
   "cells": [
    {
     "cell_type": "code",
     "collapsed": false,
     "input": [
      "# Main Goal: How to get a sideral time from header of image\n",
      "\n",
      "%matplotlib inline\n",
      "\n",
      "import os\n",
      "import numpy as np\n",
      "\n",
      "import matplotlib.pyplot as plt #plot library\n",
      "def init_plotting():\n",
      "    plt.rcParams['figure.figsize'] = (14.0,8.0)\n",
      "    plt.rcParams['font.size'] = 10\n",
      "    #plt.rcParams['font.family'] = 'Times New Roman'\n",
      "    plt.rcParams['axes.labelsize'] = plt.rcParams['font.size']\n",
      "    plt.rcParams['axes.titlesize'] = 2*plt.rcParams['font.size']\n",
      "    plt.rcParams['legend.fontsize'] = 0.65*plt.rcParams['font.size']\n",
      "    plt.rcParams['xtick.labelsize'] = plt.rcParams['font.size']\n",
      "    plt.rcParams['ytick.labelsize'] = plt.rcParams['font.size']\n",
      "    plt.rcParams['xtick.major.size'] = 3\n",
      "    plt.rcParams['xtick.minor.size'] = 3\n",
      "    plt.rcParams['xtick.major.width'] = 1\n",
      "    plt.rcParams['xtick.minor.width'] = 1\n",
      "    plt.rcParams['ytick.major.size'] = 3\n",
      "    plt.rcParams['ytick.minor.size'] = 3\n",
      "    plt.rcParams['ytick.major.width'] = 1\n",
      "    plt.rcParams['ytick.minor.width'] = 1\n",
      "    plt.rcParams['legend.frameon'] = True\n",
      "    plt.rcParams['legend.loc'] = 'best'\n",
      "    plt.rcParams['axes.linewidth'] = 1\n",
      "\n",
      "init_plotting()"
     ],
     "language": "python",
     "metadata": {},
     "outputs": [],
     "prompt_number": 1
    },
    {
     "cell_type": "code",
     "collapsed": false,
     "input": [
      "from astropy.io import fits\n",
      "from astropy.time import Time"
     ],
     "language": "python",
     "metadata": {},
     "outputs": [],
     "prompt_number": 2
    },
    {
     "cell_type": "code",
     "collapsed": false,
     "input": [
      "os.getcwd()"
     ],
     "language": "python",
     "metadata": {},
     "outputs": [
      {
       "metadata": {},
       "output_type": "pyout",
       "prompt_number": 3,
       "text": [
        "'/media/sf_windows/MEGA/work/codes/iraf_task'"
       ]
      }
     ],
     "prompt_number": 3
    },
    {
     "cell_type": "code",
     "collapsed": false,
     "input": [
      "os.chdir('/home/walter/workspace/exoplanet/data/xo2b/xo2b.b/')\n",
      "#os.chdir('/home/walter/exoplanet/xo2b/xo2b_wsmf/05jan12/xo2b.u/')"
     ],
     "language": "python",
     "metadata": {},
     "outputs": [],
     "prompt_number": 4
    },
    {
     "cell_type": "code",
     "collapsed": false,
     "input": [
      "ls"
     ],
     "language": "python",
     "metadata": {},
     "outputs": [
      {
       "output_type": "stream",
       "stream": "stdout",
       "text": [
        "\u001b[0m\u001b[38;5;34mAfterAnalyze.cl\u001b[0m*             \u001b[38;5;27mmag_12.7\u001b[0m/         \u001b[38;5;34mxo2b.0018.fits\u001b[0m*  \u001b[38;5;34mxo2b.0146.fits\u001b[0m*\r\n",
        "\u001b[38;5;27mAllfluxFiles\u001b[0m/                \u001b[38;5;27mmag_12.8\u001b[0m/         \u001b[38;5;34mxo2b.0020.fits\u001b[0m*  \u001b[38;5;34mxo2b.0148.fits\u001b[0m*\r\n",
        "\u001b[38;5;34mbflat_list\u001b[0m*                  \u001b[38;5;27mmag_12.9\u001b[0m/         \u001b[38;5;34mxo2b.0022.fits\u001b[0m*  \u001b[38;5;34mxo2b.0150.fits\u001b[0m*\r\n",
        "\u001b[38;5;27mbias\u001b[0m/                        \u001b[38;5;27mmag_13.0\u001b[0m/         \u001b[38;5;34mxo2b.0024.fits\u001b[0m*  \u001b[38;5;34mxo2b.0152.fits\u001b[0m*\r\n",
        "\u001b[38;5;34mbias.B.0001.fits\u001b[0m*            \u001b[38;5;27mmag_13.1\u001b[0m/         \u001b[38;5;34mxo2b.0026.fits\u001b[0m*  \u001b[38;5;34mxo2b.0154.fits\u001b[0m*\r\n",
        "\u001b[38;5;34mbias.B.0002.fits\u001b[0m*            \u001b[38;5;27mmag_13.2\u001b[0m/         \u001b[38;5;34mxo2b.0028.fits\u001b[0m*  \u001b[38;5;34mxo2b.0156.fits\u001b[0m*\r\n",
        "\u001b[38;5;34mbias.B.0003.fits\u001b[0m*            \u001b[38;5;27mmag_13.3\u001b[0m/         \u001b[38;5;34mxo2b.0030.fits\u001b[0m*  \u001b[38;5;34mxo2b.0158.fits\u001b[0m*\r\n",
        "\u001b[38;5;34mbias.B.0004.fits\u001b[0m*            \u001b[38;5;27mmag_13.4\u001b[0m/         \u001b[38;5;34mxo2b.0032.fits\u001b[0m*  \u001b[38;5;34mxo2b.0160.fits\u001b[0m*\r\n",
        "\u001b[38;5;34mbias.B.0005.fits\u001b[0m*            \u001b[38;5;27mmag_13.5\u001b[0m/         \u001b[38;5;34mxo2b.0034.fits\u001b[0m*  \u001b[38;5;34mxo2b.0162.fits\u001b[0m*\r\n",
        "\u001b[38;5;34mbias.B.0006.fits\u001b[0m*            \u001b[38;5;27mmag_13.6\u001b[0m/         \u001b[38;5;34mxo2b.0036.fits\u001b[0m*  \u001b[38;5;34mxo2b.0164.fits\u001b[0m*\r\n",
        "\u001b[38;5;34mbias.B.0007.fits\u001b[0m*            \u001b[38;5;27mmag_13.7\u001b[0m/         \u001b[38;5;34mxo2b.0038.fits\u001b[0m*  \u001b[38;5;34mxo2b.0166.fits\u001b[0m*\r\n",
        "\u001b[38;5;34mbias.B.0008.fits\u001b[0m*            \u001b[38;5;27mmag_13.8\u001b[0m/         \u001b[38;5;34mxo2b.0040.fits\u001b[0m*  \u001b[38;5;34mxo2b.0168.fits\u001b[0m*\r\n",
        "\u001b[38;5;34mbias.B.0009.fits\u001b[0m*            \u001b[38;5;27mmag_13.9\u001b[0m/         \u001b[38;5;34mxo2b.0042.fits\u001b[0m*  \u001b[38;5;34mxo2b.0170.fits\u001b[0m*\r\n",
        "\u001b[38;5;34mbias.B.0010.fits\u001b[0m*            \u001b[38;5;27mmag_7.0\u001b[0m/          \u001b[38;5;34mxo2b.0044.fits\u001b[0m*  \u001b[38;5;34mxo2b.0172.fits\u001b[0m*\r\n",
        "\u001b[38;5;34mbias_list\u001b[0m*                   \u001b[38;5;27mmag_7.1\u001b[0m/          \u001b[38;5;34mxo2b.0046.fits\u001b[0m*  \u001b[38;5;34mxo2b.0174.fits\u001b[0m*\r\n",
        "\u001b[38;5;34mbias_list_teste\u001b[0m*             \u001b[38;5;27mmag_7.2\u001b[0m/          \u001b[38;5;34mxo2b.0048.fits\u001b[0m*  \u001b[38;5;34mxo2b.0176.fits\u001b[0m*\r\n",
        "\u001b[38;5;27mB-images\u001b[0m/                    \u001b[38;5;27mmag_7.3\u001b[0m/          \u001b[38;5;34mxo2b.0050.fits\u001b[0m*  \u001b[38;5;34mxo2b.0178.fits\u001b[0m*\r\n",
        "\u001b[38;5;34mcompile+run\u001b[0m*                 \u001b[38;5;27mmag_7.4\u001b[0m/          \u001b[38;5;34mxo2b.0052.fits\u001b[0m*  \u001b[38;5;34mxo2b.0180.fits\u001b[0m*\r\n",
        "\u001b[38;5;27mExoDRPL\u001b[0m/                     \u001b[38;5;27mmag_7.5\u001b[0m/          \u001b[38;5;34mxo2b.0054.fits\u001b[0m*  \u001b[38;5;34mxo2b.0182.fits\u001b[0m*\r\n",
        "\u001b[38;5;34mExo_DRPL.tar.gz\u001b[0m*             \u001b[38;5;27mmag_7.6\u001b[0m/          \u001b[38;5;34mxo2b.0056.fits\u001b[0m*  \u001b[38;5;34mxo2b.0184.fits\u001b[0m*\r\n",
        "\u001b[38;5;34mExoFunction\u001b[0m*                 \u001b[38;5;27mmag_7.7\u001b[0m/          \u001b[38;5;34mxo2b.0058.fits\u001b[0m*  \u001b[38;5;34mxo2b.0186.fits\u001b[0m*\r\n",
        "\u001b[38;5;34mExoMainAPS.cl\u001b[0m*               \u001b[38;5;27mmag_7.8\u001b[0m/          \u001b[38;5;34mxo2b.0060.fits\u001b[0m*  \u001b[38;5;34mxo2b.0188.fits\u001b[0m*\r\n",
        "\u001b[38;5;27mExoStuff\u001b[0m/                    \u001b[38;5;27mmag_7.9\u001b[0m/          \u001b[38;5;34mxo2b.0062.fits\u001b[0m*  \u001b[38;5;34mxo2b.0190.fits\u001b[0m*\r\n",
        "\u001b[38;5;27mFB-images\u001b[0m/                   \u001b[38;5;27mmag_8.0\u001b[0m/          \u001b[38;5;34mxo2b.0064.fits\u001b[0m*  \u001b[38;5;34mxo2b.0192.fits\u001b[0m*\r\n",
        "\u001b[38;5;34mflat.B.0001.fits\u001b[0m*            \u001b[38;5;27mmag_8.1\u001b[0m/          \u001b[38;5;34mxo2b.0066.fits\u001b[0m*  \u001b[38;5;34mxo2b.0194.fits\u001b[0m*\r\n",
        "\u001b[38;5;34mflat.B.0002.fits\u001b[0m*            \u001b[38;5;27mmag_8.2\u001b[0m/          \u001b[38;5;34mxo2b.0068.fits\u001b[0m*  \u001b[38;5;34mxo2b.0196.fits\u001b[0m*\r\n",
        "\u001b[38;5;34mflat.B.0003.fits\u001b[0m*            \u001b[38;5;27mmag_8.3\u001b[0m/          \u001b[38;5;34mxo2b.0070.fits\u001b[0m*  \u001b[38;5;34mxo2b.0198.fits\u001b[0m*\r\n",
        "\u001b[38;5;34mflat.B.0004.fits\u001b[0m*            \u001b[38;5;27mmag_8.4\u001b[0m/          \u001b[38;5;34mxo2b.0072.fits\u001b[0m*  \u001b[38;5;34mxo2b.0200.fits\u001b[0m*\r\n",
        "\u001b[38;5;34mflat.B.0005.fits\u001b[0m*            \u001b[38;5;27mmag_8.5\u001b[0m/          \u001b[38;5;34mxo2b.0074.fits\u001b[0m*  \u001b[38;5;34mxo2b.0202.fits\u001b[0m*\r\n",
        "\u001b[38;5;34mflat.B.0006.fits\u001b[0m*            \u001b[38;5;27mmag_8.6\u001b[0m/          \u001b[38;5;34mxo2b.0076.fits\u001b[0m*  \u001b[38;5;34mxo2b.0204.fits\u001b[0m*\r\n",
        "\u001b[38;5;34mflat.B.0007.fits\u001b[0m*            \u001b[38;5;27mmag_8.7\u001b[0m/          \u001b[38;5;34mxo2b.0078.fits\u001b[0m*  \u001b[38;5;34mxo2b.0206.fits\u001b[0m*\r\n",
        "\u001b[38;5;34mflat.B.0008.fits\u001b[0m*            \u001b[38;5;27mmag_8.8\u001b[0m/          \u001b[38;5;34mxo2b.0080.fits\u001b[0m*  \u001b[38;5;34mxo2b.0208.fits\u001b[0m*\r\n",
        "\u001b[38;5;34mflat.B.0009.fits\u001b[0m*            \u001b[38;5;27mmag_8.9\u001b[0m/          \u001b[38;5;34mxo2b.0082.fits\u001b[0m*  \u001b[38;5;34mxo2b.0210.fits\u001b[0m*\r\n",
        "\u001b[38;5;34mflat.B.0010.fits\u001b[0m*            \u001b[38;5;27mmag_9.0\u001b[0m/          \u001b[38;5;34mxo2b.0084.fits\u001b[0m*  \u001b[38;5;34mxo2b.0212.fits\u001b[0m*\r\n",
        "\u001b[38;5;34mflat_list\u001b[0m*                   \u001b[38;5;27mmag_9.1\u001b[0m/          \u001b[38;5;34mxo2b.0086.fits\u001b[0m*  \u001b[38;5;34mxo2b.0214.fits\u001b[0m*\r\n",
        "\u001b[38;5;27mflats\u001b[0m/                       \u001b[38;5;27mmag_9.2\u001b[0m/          \u001b[38;5;34mxo2b.0088.fits\u001b[0m*  \u001b[38;5;34mxo2b.0216.fits\u001b[0m*\r\n",
        "\u001b[38;5;34mIraf basic reduction.ipynb\u001b[0m*  \u001b[38;5;27mmag_9.3\u001b[0m/          \u001b[38;5;34mxo2b.0090.fits\u001b[0m*  \u001b[38;5;34mxo2b.0218.fits\u001b[0m*\r\n",
        "\u001b[38;5;27mmag_10.0\u001b[0m/                    \u001b[38;5;27mmag_9.4\u001b[0m/          \u001b[38;5;34mxo2b.0092.fits\u001b[0m*  \u001b[38;5;34mxo2b.0220.fits\u001b[0m*\r\n",
        "\u001b[38;5;27mmag_10.1\u001b[0m/                    \u001b[38;5;27mmag_9.5\u001b[0m/          \u001b[38;5;34mxo2b.0094.fits\u001b[0m*  \u001b[38;5;34mxo2b.0222.fits\u001b[0m*\r\n",
        "\u001b[38;5;27mmag_10.2\u001b[0m/                    \u001b[38;5;27mmag_9.6\u001b[0m/          \u001b[38;5;34mxo2b.0096.fits\u001b[0m*  \u001b[38;5;34mxo2b.0224.fits\u001b[0m*\r\n",
        "\u001b[38;5;27mmag_10.3\u001b[0m/                    \u001b[38;5;27mmag_9.7\u001b[0m/          \u001b[38;5;34mxo2b.0098.fits\u001b[0m*  \u001b[38;5;34mxo2b.0226.fits\u001b[0m*\r\n",
        "\u001b[38;5;27mmag_10.4\u001b[0m/                    \u001b[38;5;27mmag_9.8\u001b[0m/          \u001b[38;5;34mxo2b.0100.fits\u001b[0m*  \u001b[38;5;34mxo2b.0228.fits\u001b[0m*\r\n",
        "\u001b[38;5;27mmag_10.5\u001b[0m/                    \u001b[38;5;27mmag_9.9\u001b[0m/          \u001b[38;5;34mxo2b.0102.fits\u001b[0m*  \u001b[38;5;34mxo2b.0230.fits\u001b[0m*\r\n",
        "\u001b[38;5;27mmag_10.6\u001b[0m/                    \u001b[38;5;34mMain-xo2b.cl\u001b[0m*     \u001b[38;5;34mxo2b.0104.fits\u001b[0m*  \u001b[38;5;34mxo2b.0232.fits\u001b[0m*\r\n",
        "\u001b[38;5;27mmag_10.7\u001b[0m/                    \u001b[38;5;34mNsuperflat.fits\u001b[0m*  \u001b[38;5;34mxo2b.0106.fits\u001b[0m*  \u001b[38;5;34mxo2b.0234.fits\u001b[0m*\r\n",
        "\u001b[38;5;27mmag_10.8\u001b[0m/                    \u001b[38;5;34mPlotLC1.cl\u001b[0m*       \u001b[38;5;34mxo2b.0108.fits\u001b[0m*  \u001b[38;5;34mxo2b.0236.fits\u001b[0m*\r\n",
        "\u001b[38;5;27mmag_10.9\u001b[0m/                    \u001b[38;5;34mPlotLC2.cl\u001b[0m*       \u001b[38;5;34mxo2b.0110.fits\u001b[0m*  \u001b[38;5;34mxo2b.0238.fits\u001b[0m*\r\n",
        "\u001b[38;5;27mmag_11.0\u001b[0m/                    \u001b[38;5;34mPlotLC3.cl\u001b[0m*       \u001b[38;5;34mxo2b.0112.fits\u001b[0m*  \u001b[38;5;34mxo2b.0240.fits\u001b[0m*\r\n",
        "\u001b[38;5;27mmag_11.1\u001b[0m/                    \u001b[38;5;34mPre-xo2b.cl\u001b[0m*      \u001b[38;5;34mxo2b.0114.fits\u001b[0m*  \u001b[38;5;34mxo2b.0242.fits\u001b[0m*\r\n",
        "\u001b[38;5;27mmag_11.2\u001b[0m/                    \u001b[38;5;34mREADME\u001b[0m*           \u001b[38;5;34mxo2b.0116.fits\u001b[0m*  \u001b[38;5;34mxo2b.0244.fits\u001b[0m*\r\n",
        "\u001b[38;5;27mmag_11.3\u001b[0m/                    \u001b[38;5;27mResults\u001b[0m/          \u001b[38;5;34mxo2b.0118.fits\u001b[0m*  \u001b[38;5;34mxo2b.0246.fits\u001b[0m*\r\n",
        "\u001b[38;5;27mmag_11.4\u001b[0m/                    \u001b[38;5;34mskysigma1.dat\u001b[0m*    \u001b[38;5;34mxo2b.0120.fits\u001b[0m*  \u001b[38;5;34mxo2b.0248.fits\u001b[0m*\r\n",
        "\u001b[38;5;27mmag_11.5\u001b[0m/                    \u001b[38;5;34mskysigma2.dat\u001b[0m*    \u001b[38;5;34mxo2b.0122.fits\u001b[0m*  \u001b[38;5;34mxo2b.0250.fits\u001b[0m*\r\n",
        "\u001b[38;5;27mmag_11.6\u001b[0m/                    \u001b[38;5;34mskysigma3.dat\u001b[0m*    \u001b[38;5;34mxo2b.0124.fits\u001b[0m*  \u001b[38;5;34mxo2b.0252.fits\u001b[0m*\r\n",
        "\u001b[38;5;27mmag_11.7\u001b[0m/                    \u001b[38;5;34msuperbias.fits\u001b[0m*   \u001b[38;5;34mxo2b.0126.fits\u001b[0m*  \u001b[38;5;34mxo2b.0254.fits\u001b[0m*\r\n",
        "\u001b[38;5;27mmag_11.8\u001b[0m/                    \u001b[38;5;27mteste_pyraf\u001b[0m/      \u001b[38;5;34mxo2b.0128.fits\u001b[0m*  \u001b[38;5;34mxo2b.0256.fits\u001b[0m*\r\n",
        "\u001b[38;5;27mmag_11.9\u001b[0m/                    \u001b[38;5;34mxo2b.0002.fits\u001b[0m*   \u001b[38;5;34mxo2b.0130.fits\u001b[0m*  \u001b[38;5;34mxo2b.0258.fits\u001b[0m*\r\n",
        "\u001b[38;5;27mmag_12.0\u001b[0m/                    \u001b[38;5;34mxo2b.0004.fits\u001b[0m*   \u001b[38;5;34mxo2b.0132.fits\u001b[0m*  \u001b[38;5;34mxo2b.0260.fits\u001b[0m*\r\n",
        "\u001b[38;5;27mmag_12.1\u001b[0m/                    \u001b[38;5;34mxo2b.0006.fits\u001b[0m*   \u001b[38;5;34mxo2b.0134.fits\u001b[0m*  \u001b[38;5;34mxo2b.0262.fits\u001b[0m*\r\n",
        "\u001b[38;5;27mmag_12.2\u001b[0m/                    \u001b[38;5;34mxo2b.0008.fits\u001b[0m*   \u001b[38;5;34mxo2b.0136.fits\u001b[0m*  \u001b[38;5;34mxo2b.0264.fits\u001b[0m*\r\n",
        "\u001b[38;5;27mmag_12.3\u001b[0m/                    \u001b[38;5;34mxo2b.0010.fits\u001b[0m*   \u001b[38;5;34mxo2b.0138.fits\u001b[0m*  \u001b[38;5;34mxo2b.0266.fits\u001b[0m*\r\n",
        "\u001b[38;5;27mmag_12.4\u001b[0m/                    \u001b[38;5;34mxo2b.0012.fits\u001b[0m*   \u001b[38;5;34mxo2b.0140.fits\u001b[0m*  \u001b[38;5;34mxyfile\u001b[0m*\r\n",
        "\u001b[38;5;27mmag_12.5\u001b[0m/                    \u001b[38;5;34mxo2b.0014.fits\u001b[0m*   \u001b[38;5;34mxo2b.0142.fits\u001b[0m*\r\n",
        "\u001b[38;5;27mmag_12.6\u001b[0m/                    \u001b[38;5;34mxo2b.0016.fits\u001b[0m*   \u001b[38;5;34mxo2b.0144.fits\u001b[0m*\r\n"
       ]
      }
     ],
     "prompt_number": 5
    },
    {
     "cell_type": "code",
     "collapsed": false,
     "input": [
      "os.getcwd()"
     ],
     "language": "python",
     "metadata": {},
     "outputs": [
      {
       "metadata": {},
       "output_type": "pyout",
       "prompt_number": 6,
       "text": [
        "'/media/sf_windows/Desktop/exoplanet/data/xo2b/xo2b.b'"
       ]
      }
     ],
     "prompt_number": 6
    },
    {
     "cell_type": "code",
     "collapsed": false,
     "input": [
      "#hdr = fits.getheader('./XO2b.0001.fits')\n",
      "hdr = fits.getheader('./xo2b.0002.fits')"
     ],
     "language": "python",
     "metadata": {},
     "outputs": [],
     "prompt_number": 7
    },
    {
     "cell_type": "code",
     "collapsed": false,
     "input": [
      "hdr"
     ],
     "language": "python",
     "metadata": {},
     "outputs": [
      {
       "metadata": {},
       "output_type": "pyout",
       "prompt_number": 8,
       "text": [
        "SIMPLE  =                    T / Fits standard                                  \n",
        "BITPIX  =                  -32 / Bits per pixel                                 \n",
        "NAXIS   =                    2 / Number of axes                                 \n",
        "NAXIS1  =                 1365 / Axis length                                    \n",
        "NAXIS2  =                 1365 / Axis length                                    \n",
        "EXTEND  =                    F / File may contain extensions                    \n",
        "ORIGIN  = 'NOAO-IRAF FITS Image Kernel July 2003' / FITS file originator        \n",
        "DATE    = '2012-12-10T05:30:40' / Date FITS file was generated                  \n",
        "IRAF-TLM= '2012-12-10T05:31:44' / Time of last modification                     \n",
        "OBJECT  = 'XO-2b   '           / Name of the object observed                    \n",
        "DETSIZE = '[1:4096,1:4096]'    / Detector size                                  \n",
        "CCDSUM  = '3 3     '           / CCD pixel summing                              \n",
        "CCDBIN1 =                    3 / Binning factor along axis 1                    \n",
        "CCDBIN2 =                    3 / Binning factor along axis 2                    \n",
        "FILENAME= 'xo2b.0002.fits'     / base filename at acquisition                   \n",
        "NCCDS   =                    1 / Number of CCDs                                 \n",
        "NAMPS   =                    2 / Number of amplifiers                           \n",
        "DARKCUR = '0.0     '           / Average dark current (e-/pixel/hour)           \n",
        "DARKTIME=               25.101 / Dark time (seconds)                            \n",
        "DATE-OBS= '2012-12-10'         / UTC shutter opened                             \n",
        "DETECTOR= 'mont4k sn3088'      / Detector name                                  \n",
        "DETGAIN =                    5 / Video gain setting                             \n",
        "EXPREQ  =                 25.0 / Exposure time requested (seconds)              \n",
        "EXPTIME =                 25.0 / Exposure time (seconds)                        \n",
        "GAIN1   = '3.19    '           / Conversion gain (e-/DN) for amp 1              \n",
        "GAIN2   = '3.08    '           / Conversion gain (e-/DN) for amp 2              \n",
        "IMAGETYP= 'object  '           / Image type                                     \n",
        "INSTRUME= 'mont4k  '           / Instrument name                                \n",
        "LOCTIME = '22:29:57'           / Local time at start of exposure                \n",
        "OBSERVAT= 'mtbigelow'          / Observatory                                    \n",
        "OBSERVER= 'Turner Teske'                                                        \n",
        "PCIFILE = 'pci2.lod'           / PCI board DSP code filename                    \n",
        "PIXSCAL1= '0.15    '           / Pixel scale for axis 1 (arcsec/unbinned pixel) \n",
        "PIXSCAL2= '0.15    '           / Pixel scale for axis 2 (arcsec/unbinned pixel) \n",
        "PIXSIZE1= '15.0    '           / Pixel size for axis 1 (microns)                \n",
        "PIXSIZE2= '15.0    '           / Pixel size for axis 2 (microns)                \n",
        "RDNOISE1= '6.3     '           / Read noise (electrons) for amp 1               \n",
        "RDNOISE2= '6.7     '           / Read noise (electrons) for amp 2               \n",
        "SITEELEV= '2510    '           / Altitude (meters)                              \n",
        "SITELAT = '32:24:59.3'         / Latitude (DD:MM:SS.S North)                    \n",
        "SITELONG= '110:44:04.3'        / Longitude (DD:MM:SS.S West)                    \n",
        "TELESCOP= 'bigelow-1.55m'      / Telescope name                                 \n",
        "TIME-OBS= '05:29:57.274'       / UTC at start of exposure                       \n",
        "TIMESYS = 'UTC     '           / Time system                                    \n",
        "TIMEZONE=                    7 / Local time zone                                \n",
        "TIMFILE = 'tim2_split.lod'     / Timing board DSP code filename                 \n",
        "UT      = '05:29:57.274'       / UTC at start of exposure                       \n",
        "UTC-OBS = '05:29:57.274'       / UTC at start of exposure                       \n",
        "UTILFILE= 'util2.lod'          / Utility board DSP code filename                \n",
        "VIDGAIN =                    5 / Video gain setting                             \n",
        "VIDSPEED=                    1 / Video speed setting                            \n",
        "ITL-HEAD= 'OK      '           / ITL Header flag                                \n",
        "N-AMPS-X=                    2 / Number of amplifiers in X                      \n",
        "N-AMPS-Y=                    1 / Number of amplifiers in Y                      \n",
        "N-DET-X =                    1 / Number of detectors in X                       \n",
        "N-DET-Y =                    1 / Number of detectors in Y                       \n",
        "NUM-AMPX=                    2 / Number of amplifiers in X                      \n",
        "NUM-AMPY=                    1 / Number of amplifiers in Y                      \n",
        "NUM-DETX=                    1 / Number of detectors in X                       \n",
        "NUM-DETY=                    1 / Number of detectors in Y                       \n",
        "REF-PIX1=                 2048 / Reference pixel 1                              \n",
        "REF-PIX2=                 2048 / Reference pixel 2                              \n",
        "SYS-MOD = '' / System module                                                    \n",
        "CAMTEMP =               -120.0 / Camera temperature in C                        \n",
        "DEWTEMP =             -197.666 / Dewar temperature in C                         \n",
        "XTKCOEF =          2.600000E-4                                                  \n",
        "BUNIT   = 'ADU     '           / Physical unit of array values                  \n",
        "COMMENT Image                                                                   \n",
        "CCDSIZE = '[1:4096,1:4096]'    / CCD size                                       \n",
        "AMPSEC  = '[1:4095,1:4095]'    / Amplifier section                              \n",
        "DETSEC  = '[1:4095,1:4095]'    / Detector section                               \n",
        "CCDSEC  = '[1:4095,1:4095]'    / CCD section                                    \n",
        "CCDSEC1 = '[1:683,1:1366]'     / CCD section with binning                       \n",
        "OVRSCAN1=                   20 / Overscan on axis 1                             \n",
        "OVRSCAN2=                    0 / Overscan on axis 2                             \n",
        "PRESCAN1=                    0 / Underscan on axis 1                            \n",
        "PRESCAN2=                    0 / Underscan on axis 2                            \n",
        "LTM1_1  =   0.3333333432674408 / CCD to image transformation                    \n",
        "LTM2_2  =   0.3333333432674408 / CCD to image transformation                    \n",
        "LTV1    =    0.333333343267441 / CCD to image transformation                    \n",
        "LTV2    =    0.333333313465118 / CCD to image transformation                    \n",
        "ATM1_1  =                    1 / CCD to amplifier transformation                \n",
        "ATM2_2  =                    1 / CCD to amplifier transformation                \n",
        "ATV1    =                    0 / CCD to amplifier transformation                \n",
        "ATV2    =                    0 / CCD to amplifier transformation                \n",
        "DTM1_1  =                    1 / CCD to detector transformation                 \n",
        "DTM2_2  =                    1 / CCD to detector transformation                 \n",
        "DTV1    =                    0 / CCD to detector transformation                 \n",
        "DTV2    =                    0 / CCD to detector transformation                 \n",
        "COMMENT WCS                                                                     \n",
        "EQUINOX =                 2000 / Equinox of WCS                                 \n",
        "WCSDIM  =                    2 / WCS Dimensionality                             \n",
        "CTYPE1  = 'RA---TNX'           / Coordinate type                                \n",
        "CTYPE2  = 'DEC--TNX'           / Coordinate type                                \n",
        "CRPIX1  =     682.333333343267 / Coordinate reference pixel                     \n",
        "CRPIX2  =     682.333333313465 / Coordinate reference pixel                     \n",
        "CD1_1   =          0.000119166 / Coordinate matrix                              \n",
        "CD2_2   =          0.000119166 / Coordinate matrix                              \n",
        "AMP-CFG =                    0 / Amplifier configuration                        \n",
        "DET-NUM =                    1 / Detector number                                \n",
        "EXT-NUM =                    1 / Extension number                               \n",
        "JPG-EXT =                    1 / Image section                                  \n",
        "DET-POSX=                    1 / Detector position in X                         \n",
        "DET-POSY=                    1 / Detector position in Y                         \n",
        "EXT-POSX=                    1 / Amplifier position in X                        \n",
        "EXT-POSY=                    1 / Amplifier position in Y                        \n",
        "AMP-PIX1=                    1 / Amplifier pixel position in X                  \n",
        "AMP-PIX2=                    1 / Amplifier pixel position in Y                  \n",
        "CDELT1  =  1.19166000000000E-4                                                  \n",
        "CDELT2  =  1.19166000000000E-4                                                  \n",
        "WAT0_001= 'system=image'                                                        \n",
        "WAT1_001= 'wtype=tnx axtype=ra'                                                 \n",
        "WAT2_001= 'wtype=tnx axtype=dec'                                                \n",
        "TRIM    = '[1:682,1:1365]'                                                      \n",
        "OVERSCAN= '[688:702,1:1365]'                                                    \n",
        "OVSCMED1=             928.2615                                                  \n",
        "OVSCMED2=             916.6032                                                  \n",
        "                                                                                \n",
        "                                                                                \n",
        "                                                                                \n",
        "                                                                                \n",
        "                                                                                \n",
        "                                                                                \n",
        "                                                                                \n",
        "                                                                                \n",
        "                                                                                \n",
        "                                                                                \n",
        "                                                                                \n",
        "                                                                                \n",
        "                                                                                \n",
        "                                                                                \n",
        "                                                                                \n",
        "                                                                                \n",
        "                                                                                \n",
        "                                                                                \n",
        "                                                                                \n",
        "                                                                                \n",
        "                                                                                \n",
        "                                                                                \n",
        "                                                                                \n",
        "                                                                                \n",
        "                                                                                \n",
        "                                                                                "
       ]
      }
     ],
     "prompt_number": 8
    },
    {
     "cell_type": "code",
     "collapsed": false,
     "input": [
      "print hdr['DATE-OBS'] #observational date\n",
      "print hdr['loctime'] #date of local time that began the observation\n",
      "print hdr['time-obs'] #UTC at stat opf the exposure"
     ],
     "language": "python",
     "metadata": {},
     "outputs": [
      {
       "output_type": "stream",
       "stream": "stdout",
       "text": [
        "2012-12-10\n",
        "22:29:57\n",
        "05:29:57.274\n"
       ]
      }
     ],
     "prompt_number": 9
    },
    {
     "cell_type": "code",
     "collapsed": false,
     "input": [
      "hdr['date-obs']+'T'+hdr['time-obs'] #string that contain the time in UTC in isot format"
     ],
     "language": "python",
     "metadata": {},
     "outputs": [
      {
       "metadata": {},
       "output_type": "pyout",
       "prompt_number": 10,
       "text": [
        "'2012-12-10T05:29:57.274'"
       ]
      }
     ],
     "prompt_number": 10
    },
    {
     "cell_type": "code",
     "collapsed": false,
     "input": [
      "#Location info\n",
      "print hdr['sitelong'] #longitude W\n",
      "print hdr['sitelat'] #latitude N\n",
      "print hdr['siteelev'] #altitude in meters"
     ],
     "language": "python",
     "metadata": {},
     "outputs": [
      {
       "output_type": "stream",
       "stream": "stdout",
       "text": [
        "110:44:04.3\n",
        "32:24:59.3\n",
        "2510\n"
       ]
      }
     ],
     "prompt_number": 11
    },
    {
     "cell_type": "code",
     "collapsed": false,
     "input": [
      "import LatLon as latlon #library to convert lat, log string in numbers\n",
      "import string"
     ],
     "language": "python",
     "metadata": {},
     "outputs": [],
     "prompt_number": 12
    },
    {
     "cell_type": "code",
     "collapsed": false,
     "input": [
      "string.split(hdr['sitelat'],':')"
     ],
     "language": "python",
     "metadata": {},
     "outputs": [
      {
       "metadata": {},
       "output_type": "pyout",
       "prompt_number": 13,
       "text": [
        "['32', '24', '59.3']"
       ]
      }
     ],
     "prompt_number": 13
    },
    {
     "cell_type": "code",
     "collapsed": false,
     "input": [
      "range(len([1,2,3]))[1:]"
     ],
     "language": "python",
     "metadata": {},
     "outputs": [
      {
       "metadata": {},
       "output_type": "pyout",
       "prompt_number": 14,
       "text": [
        "[1, 2]"
       ]
      }
     ],
     "prompt_number": 14
    },
    {
     "cell_type": "code",
     "collapsed": false,
     "input": [
      "loc_obs = [hdr['sitelat']+':N',hdr['sitelong']+':W',hdr['siteelev']]\n",
      "for i in range(len(loc_obs)):\n",
      "    new_coord = string.split(loc_obs[i],':')\n",
      "    loc_obs[i] = new_coord[0]\n",
      "    for j in range(len(new_coord))[1:]:\n",
      "        loc_obs[i] = loc_obs[i]+' '+new_coord[j]\n",
      "print loc_obs"
     ],
     "language": "python",
     "metadata": {},
     "outputs": [
      {
       "output_type": "stream",
       "stream": "stdout",
       "text": [
        "['32 24 59.3 N', '110 44 04.3 W', '2510']\n"
       ]
      }
     ],
     "prompt_number": 15
    },
    {
     "cell_type": "code",
     "collapsed": false,
     "input": [
      "location_obs = latlon.string2latlon(loc_obs[0],loc_obs[1],'d% %m% %S% %H')"
     ],
     "language": "python",
     "metadata": {},
     "outputs": [],
     "prompt_number": 16
    },
    {
     "cell_type": "code",
     "collapsed": false,
     "input": [
      "location_obs"
     ],
     "language": "python",
     "metadata": {},
     "outputs": [
      {
       "metadata": {},
       "output_type": "pyout",
       "prompt_number": 17,
       "text": [
        "Latitude 32.4164722222, Longitude -110.734527778"
       ]
      }
     ],
     "prompt_number": 17
    },
    {
     "cell_type": "code",
     "collapsed": false,
     "input": [
      "print float(location_obs.lat),float(location_obs.lon)"
     ],
     "language": "python",
     "metadata": {},
     "outputs": [
      {
       "output_type": "stream",
       "stream": "stdout",
       "text": [
        "32.4164722222 -110.734527778\n"
       ]
      }
     ],
     "prompt_number": 18
    },
    {
     "cell_type": "code",
     "collapsed": false,
     "input": [
      "#Create the time object for our image\n",
      "tempo_loc = Time(hdr['date-obs']+'T'+hdr['time-obs'],scale='utc',format='isot',\n",
      "     location=(float(location_obs.lon),float(location_obs.lat)))"
     ],
     "language": "python",
     "metadata": {},
     "outputs": [],
     "prompt_number": 19
    },
    {
     "cell_type": "code",
     "collapsed": false,
     "input": [
      "print (float(location_obs.lon),float(location_obs.lat),float(loc_obs[2]))"
     ],
     "language": "python",
     "metadata": {},
     "outputs": [
      {
       "output_type": "stream",
       "stream": "stdout",
       "text": [
        "(-110.73452777777779, 32.41647222222222, 2510.0)\n"
       ]
      }
     ],
     "prompt_number": 20
    },
    {
     "cell_type": "code",
     "collapsed": false,
     "input": [
      "tempo_loc"
     ],
     "language": "python",
     "metadata": {},
     "outputs": [
      {
       "metadata": {},
       "output_type": "pyout",
       "prompt_number": 21,
       "text": [
        "<Time object: scale='utc' format='isot' value=2012-12-10T05:29:57.274>"
       ]
      }
     ],
     "prompt_number": 21
    },
    {
     "cell_type": "code",
     "collapsed": false,
     "input": [
      "tempo_loc.jd"
     ],
     "language": "python",
     "metadata": {},
     "outputs": [
      {
       "metadata": {},
       "output_type": "pyout",
       "prompt_number": 22,
       "text": [
        "2456271.7291351156"
       ]
      }
     ],
     "prompt_number": 22
    },
    {
     "cell_type": "code",
     "collapsed": false,
     "input": [
      "tempo_loc.sidereal_time('apparent')"
     ],
     "language": "python",
     "metadata": {},
     "outputs": [
      {
       "latex": [
        "$3^\\mathrm{h}24^\\mathrm{m}25.7991^\\mathrm{s}$"
       ],
       "metadata": {},
       "output_type": "pyout",
       "prompt_number": 23,
       "text": [
        "<Longitude 3.4071664088990827 hourangle>"
       ]
      }
     ],
     "prompt_number": 23
    },
    {
     "cell_type": "code",
     "collapsed": false,
     "input": [
      "tempo_loc.sidereal_time('mean')"
     ],
     "language": "python",
     "metadata": {},
     "outputs": [
      {
       "latex": [
        "$3^\\mathrm{h}24^\\mathrm{m}24.9811^\\mathrm{s}$"
       ],
       "metadata": {},
       "output_type": "pyout",
       "prompt_number": 24,
       "text": [
        "<Longitude 3.4069391969350677 hourangle>"
       ]
      }
     ],
     "prompt_number": 24
    },
    {
     "cell_type": "code",
     "collapsed": false,
     "input": [
      "print tempo_loc.sidereal_time('apparent').hour"
     ],
     "language": "python",
     "metadata": {},
     "outputs": [
      {
       "output_type": "stream",
       "stream": "stdout",
       "text": [
        "3.4071664089\n"
       ]
      }
     ],
     "prompt_number": 25
    },
    {
     "cell_type": "code",
     "collapsed": false,
     "input": [
      "#teste 2012-01-05T03:48:01.246\n",
      "teste_iraf = Time('2012-12-10T05:29:57.274',scale='utc',format='isot',location=(float(location_obs.lon),float(location_obs.lat)))"
     ],
     "language": "python",
     "metadata": {},
     "outputs": [],
     "prompt_number": 29
    },
    {
     "cell_type": "code",
     "collapsed": false,
     "input": [
      "teste_iraf"
     ],
     "language": "python",
     "metadata": {},
     "outputs": [
      {
       "metadata": {},
       "output_type": "pyout",
       "prompt_number": 30,
       "text": [
        "<Time object: scale='utc' format='isot' value=2012-12-10T05:29:57.274>"
       ]
      }
     ],
     "prompt_number": 30
    },
    {
     "cell_type": "code",
     "collapsed": false,
     "input": [
      "teste_iraf.sidereal_time('apparent')"
     ],
     "language": "python",
     "metadata": {},
     "outputs": [
      {
       "latex": [
        "$3^\\mathrm{h}24^\\mathrm{m}25.7991^\\mathrm{s}$"
       ],
       "metadata": {},
       "output_type": "pyout",
       "prompt_number": 31,
       "text": [
        "<Longitude 3.4071664088990827 hourangle>"
       ]
      }
     ],
     "prompt_number": 31
    },
    {
     "cell_type": "code",
     "collapsed": false,
     "input": [
      "teste_iraf.sidereal_time('mean')"
     ],
     "language": "python",
     "metadata": {},
     "outputs": [
      {
       "latex": [
        "$3^\\mathrm{h}24^\\mathrm{m}24.9811^\\mathrm{s}$"
       ],
       "metadata": {},
       "output_type": "pyout",
       "prompt_number": 32,
       "text": [
        "<Longitude 3.4069391969350677 hourangle>"
       ]
      }
     ],
     "prompt_number": 32
    },
    {
     "cell_type": "code",
     "collapsed": false,
     "input": [
      "teste_iraf.jd"
     ],
     "language": "python",
     "metadata": {},
     "outputs": [
      {
       "metadata": {},
       "output_type": "pyout",
       "prompt_number": 33,
       "text": [
        "2456271.7291351156"
       ]
      }
     ],
     "prompt_number": 33
    },
    {
     "cell_type": "code",
     "collapsed": false,
     "input": [
      "tempo_loc.jd"
     ],
     "language": "python",
     "metadata": {},
     "outputs": [
      {
       "metadata": {},
       "output_type": "pyout",
       "prompt_number": 34,
       "text": [
        "2456271.7291351156"
       ]
      }
     ],
     "prompt_number": 34
    },
    {
     "cell_type": "code",
     "collapsed": false,
     "input": [],
     "language": "python",
     "metadata": {},
     "outputs": []
    }
   ],
   "metadata": {}
  }
 ]
}