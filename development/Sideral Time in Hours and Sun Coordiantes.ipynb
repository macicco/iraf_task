{
 "metadata": {
  "name": "",
  "signature": "sha256:ce8cfb90f62dcb7594e8c4bceb6f6cccb26dbd628604535093806ce586e18ae7"
 },
 "nbformat": 3,
 "nbformat_minor": 0,
 "worksheets": [
  {
   "cells": [
    {
     "cell_type": "code",
     "collapsed": false,
     "input": [
      "from astropy.io import fits #import and export fits images\n",
      "from astropy.time import Time #control time in fits images\n",
      "import glob #package for list files\n",
      "import os #package for control bash commands\n",
      "import yaml #input data without any trouble\n",
      "#import string #transform a list in a string of caracters\n",
      "import useful_functions as use\n",
      "import numpy as np\n",
      "#from pandas import HDFStore #save data in a database"
     ],
     "language": "python",
     "metadata": {},
     "outputs": [],
     "prompt_number": 1
    },
    {
     "cell_type": "code",
     "collapsed": false,
     "input": [
      "pwd"
     ],
     "language": "python",
     "metadata": {},
     "outputs": [
      {
       "metadata": {},
       "output_type": "pyout",
       "prompt_number": 2,
       "text": [
        "u'/home/walter/MEGA/work/codes/iraf_task/development'"
       ]
      }
     ],
     "prompt_number": 2
    },
    {
     "cell_type": "code",
     "collapsed": false,
     "input": [
      "ls"
     ],
     "language": "python",
     "metadata": {},
     "outputs": [
      {
       "output_type": "stream",
       "stream": "stdout",
       "text": [
        "calibrations.py\r\n",
        "ExoSetupTaskParameters.pyc\r\n",
        "info_time_testes.ipynb\r\n",
        "login.pyc\r\n",
        "Obtain Universal Time UT using astropy.ipynb\r\n",
        "\u001b[0m\u001b[38;5;27mold_input\u001b[0m/\r\n",
        "run.log\r\n",
        "Sideral Time DDMMYY.ipynb\r\n",
        "Sideral Time in Hours and Sun Coordiantes.ipynb\r\n",
        "useful_functions.pyc\r\n"
       ]
      }
     ],
     "prompt_number": 3
    },
    {
     "cell_type": "code",
     "collapsed": false,
     "input": [
      "input_data = yaml.load(open('../input_05jan12.yaml'))"
     ],
     "language": "python",
     "metadata": {},
     "outputs": [],
     "prompt_number": 4
    },
    {
     "cell_type": "code",
     "collapsed": false,
     "input": [
      "input_data"
     ],
     "language": "python",
     "metadata": {},
     "outputs": [
      {
       "metadata": {},
       "output_type": "pyout",
       "prompt_number": 5,
       "text": [
        "{'DEC': '+50:13:32.9',\n",
        " 'RA': '07:48:06.46',\n",
        " 'altitude': 2510.0,\n",
        " 'circular_orbit': False,\n",
        " 'data_path': '/home/walter/exoplanet/xo2b/xo2b_wsmf/05jan12/xo2b.u/',\n",
        " 'date-obs': 'DATE-OBS',\n",
        " 'epoch': '2000.0',\n",
        " 'exoplanet': 'XO2b',\n",
        " 'frame': 'fk5',\n",
        " 'lat-obs': 32.4164722222,\n",
        " 'lon-obs': -110.734527778,\n",
        " 'observatory': 'mtbigelow',\n",
        " 'save_path': '/home/walter/exoplanet/xo2b/xo2b_wsmf/05jan12/xo2b.u/iraf_task/',\n",
        " 'scale-time': 'utc',\n",
        " 'time': 'ut',\n",
        " 'time-obs': 'UT',\n",
        " 'time_zone': 7.0,\n",
        " 'u.DEC': 'degree',\n",
        " 'u.RA': 'degree'}"
       ]
      }
     ],
     "prompt_number": 5
    },
    {
     "cell_type": "code",
     "collapsed": false,
     "input": [
      "os.chdir(input_data['save_path'])"
     ],
     "language": "python",
     "metadata": {},
     "outputs": [],
     "prompt_number": 6
    },
    {
     "cell_type": "code",
     "collapsed": false,
     "input": [
      "ls"
     ],
     "language": "python",
     "metadata": {},
     "outputs": [
      {
       "output_type": "stream",
       "stream": "stdout",
       "text": [
        "ABXO2b.0001.fits  ABXO2b.0089.fits  ABXO2b.0175.fits  ABXO2b.0263.fits\r\n",
        "ABXO2b.0003.fits  ABXO2b.0091.fits  ABXO2b.0179.fits  ABXO2b.0265.fits\r\n",
        "ABXO2b.0005.fits  ABXO2b.0093.fits  ABXO2b.0181.fits  ABXO2b.0269.fits\r\n",
        "ABXO2b.0009.fits  ABXO2b.0095.fits  ABXO2b.0183.fits  ABXO2b.0271.fits\r\n",
        "ABXO2b.0011.fits  ABXO2b.0099.fits  ABXO2b.0185.fits  ABXO2b.0273.fits\r\n",
        "ABXO2b.0013.fits  ABXO2b.0101.fits  ABXO2b.0189.fits  ABXO2b.0275.fits\r\n",
        "ABXO2b.0015.fits  ABXO2b.0103.fits  ABXO2b.0191.fits  ABXO2b.0279.fits\r\n",
        "ABXO2b.0019.fits  ABXO2b.0105.fits  ABXO2b.0193.fits  ABXO2b.0281.fits\r\n",
        "ABXO2b.0021.fits  ABXO2b.0109.fits  ABXO2b.0195.fits  ABXO2b.0283.fits\r\n",
        "ABXO2b.0023.fits  ABXO2b.0111.fits  ABXO2b.0199.fits  ABXO2b.0285.fits\r\n",
        "ABXO2b.0025.fits  ABXO2b.0113.fits  ABXO2b.0201.fits  ABXO2b.0289.fits\r\n",
        "ABXO2b.0029.fits  ABXO2b.0115.fits  ABXO2b.0203.fits  ABXO2b.0291.fits\r\n",
        "ABXO2b.0031.fits  ABXO2b.0119.fits  ABXO2b.0205.fits  ABXO2b.0293.fits\r\n",
        "ABXO2b.0033.fits  ABXO2b.0121.fits  ABXO2b.0209.fits  ABXO2b.0295.fits\r\n",
        "ABXO2b.0035.fits  ABXO2b.0123.fits  ABXO2b.0211.fits  ABXO2b.0299.fits\r\n",
        "ABXO2b.0039.fits  ABXO2b.0125.fits  ABXO2b.0213.fits  ABXO2b.0301.fits\r\n",
        "ABXO2b.0041.fits  ABXO2b.0129.fits  ABXO2b.0215.fits  ABXO2b.0303.fits\r\n",
        "ABXO2b.0043.fits  ABXO2b.0131.fits  ABXO2b.0219.fits  ABXO2b.0305.fits\r\n",
        "ABXO2b.0045.fits  ABXO2b.0133.fits  ABXO2b.0221.fits  ABXO2b.0309.fits\r\n",
        "ABXO2b.0049.fits  ABXO2b.0135.fits  ABXO2b.0223.fits  ABXO2b.0311.fits\r\n",
        "ABXO2b.0051.fits  ABXO2b.0139.fits  ABXO2b.0225.fits  ABXO2b.0313.fits\r\n",
        "ABXO2b.0053.fits  ABXO2b.0141.fits  ABXO2b.0229.fits  ABXO2b.0315.fits\r\n",
        "ABXO2b.0055.fits  ABXO2b.0143.fits  ABXO2b.0231.fits  ABXO2b.0319.fits\r\n",
        "ABXO2b.0059.fits  ABXO2b.0145.fits  ABXO2b.0233.fits  ABXO2b.0321.fits\r\n",
        "ABXO2b.0061.fits  ABXO2b.0149.fits  ABXO2b.0235.fits  ABXO2b.0323.fits\r\n",
        "ABXO2b.0063.fits  ABXO2b.0151.fits  ABXO2b.0239.fits  ABXO2b.0325.fits\r\n",
        "ABXO2b.0065.fits  ABXO2b.0153.fits  ABXO2b.0241.fits  ABXO2b.0329.fits\r\n",
        "ABXO2b.0069.fits  ABXO2b.0155.fits  ABXO2b.0243.fits  ABXO2b.0331.fits\r\n",
        "ABXO2b.0071.fits  ABXO2b.0159.fits  ABXO2b.0245.fits  ABXO2b.0333.fits\r\n",
        "ABXO2b.0073.fits  ABXO2b.0161.fits  ABXO2b.0249.fits  ABXO2b.0335.fits\r\n",
        "ABXO2b.0075.fits  ABXO2b.0163.fits  ABXO2b.0251.fits  ABXO2b.0339.fits\r\n",
        "ABXO2b.0079.fits  ABXO2b.0165.fits  ABXO2b.0253.fits  ABXO2b.0341.fits\r\n",
        "ABXO2b.0081.fits  ABXO2b.0169.fits  ABXO2b.0255.fits  results.csv\r\n",
        "ABXO2b.0083.fits  ABXO2b.0171.fits  ABXO2b.0259.fits  superbias.fits\r\n",
        "ABXO2b.0085.fits  ABXO2b.0173.fits  ABXO2b.0261.fits  superflat.fits\r\n"
       ]
      }
     ],
     "prompt_number": 7
    },
    {
     "cell_type": "code",
     "collapsed": false,
     "input": [
      "images = sorted(glob.glob('AB'+input_data['exoplanet']+'*.fits'))"
     ],
     "language": "python",
     "metadata": {},
     "outputs": [],
     "prompt_number": 8
    },
    {
     "cell_type": "code",
     "collapsed": false,
     "input": [
      "tempo_loc = [] #time object\n",
      "JD = np.zeros(len(images)) #julian date from time object\n",
      "ST = np.zeros(len(images))"
     ],
     "language": "python",
     "metadata": {},
     "outputs": [],
     "prompt_number": 9
    },
    {
     "cell_type": "code",
     "collapsed": false,
     "input": [
      "#teste para uma imagem\n",
      "\n",
      "hdr = fits.getheader(images[0])\n",
      "UTC = hdr['date-obs']+'T'+hdr['UT'] #string that contain the time in UTC in isot format"
     ],
     "language": "python",
     "metadata": {},
     "outputs": [],
     "prompt_number": 10
    },
    {
     "cell_type": "code",
     "collapsed": false,
     "input": [
      "tempo = Time(UTC,scale=input_data['scale-time'],format='isot',location=(input_data['lon-obs'],input_data['lat-obs']))#,input_data['altitude']))\n"
     ],
     "language": "python",
     "metadata": {},
     "outputs": [],
     "prompt_number": 11
    },
    {
     "cell_type": "code",
     "collapsed": false,
     "input": [
      "print tempo"
     ],
     "language": "python",
     "metadata": {},
     "outputs": [
      {
       "output_type": "stream",
       "stream": "stdout",
       "text": [
        "2012-01-05T03:48:01.246\n"
       ]
      }
     ],
     "prompt_number": 12
    },
    {
     "cell_type": "code",
     "collapsed": false,
     "input": [
      "tempo.sidereal_time('apparent').hour"
     ],
     "language": "python",
     "metadata": {},
     "outputs": [
      {
       "metadata": {},
       "output_type": "pyout",
       "prompt_number": 13,
       "text": [
        "3.362139459283867"
       ]
      }
     ],
     "prompt_number": 13
    },
    {
     "cell_type": "code",
     "collapsed": false,
     "input": [
      "tempo.jd"
     ],
     "language": "python",
     "metadata": {},
     "outputs": [
      {
       "metadata": {},
       "output_type": "pyout",
       "prompt_number": 14,
       "text": [
        "2455931.6583477547"
       ]
      }
     ],
     "prompt_number": 14
    },
    {
     "cell_type": "code",
     "collapsed": false,
     "input": [
      "tempo.jyear_str"
     ],
     "language": "python",
     "metadata": {},
     "outputs": [
      {
       "metadata": {},
       "output_type": "pyout",
       "prompt_number": 15,
       "text": [
        "u'J2012.010'"
       ]
      }
     ],
     "prompt_number": 15
    },
    {
     "cell_type": "code",
     "collapsed": false,
     "input": [
      "tempo.jyear"
     ],
     "language": "python",
     "metadata": {},
     "outputs": [
      {
       "metadata": {},
       "output_type": "pyout",
       "prompt_number": 16,
       "text": [
        "2012.0100160102795"
       ]
      }
     ],
     "prompt_number": 16
    },
    {
     "cell_type": "code",
     "collapsed": false,
     "input": [
      "tempo.location"
     ],
     "language": "python",
     "metadata": {},
     "outputs": [
      {
       "output_type": "stream",
       "stream": "stderr",
       "text": [
        "/home/walter/Programas/Ureka/python/lib/python2.7/site-packages/IPython/core/formatters.py:239: FormatterWarning: Exception in text/latex formatter: The truth value of an array with more than one element is ambiguous. Use a.any() or a.all()\n",
        "  FormatterWarning,\n"
       ]
      },
      {
       "metadata": {},
       "output_type": "pyout",
       "prompt_number": 17,
       "text": [
        "<EarthLocation (-1908070.2937185066, -5040373.293137356, 3399507.3765300848) m>"
       ]
      }
     ],
     "prompt_number": 17
    },
    {
     "cell_type": "markdown",
     "metadata": {},
     "source": [
      "# Get Sun Coordiantes"
     ]
    },
    {
     "cell_type": "code",
     "collapsed": false,
     "input": [
      ">>> from astropy import units as u\n",
      ">>> from astropy.coordinates import SkyCoord, get_sun"
     ],
     "language": "python",
     "metadata": {},
     "outputs": [],
     "prompt_number": 18
    },
    {
     "cell_type": "code",
     "collapsed": false,
     "input": [
      "sun_loc = get_sun(tempo)"
     ],
     "language": "python",
     "metadata": {},
     "outputs": [],
     "prompt_number": 19
    },
    {
     "cell_type": "code",
     "collapsed": false,
     "input": [
      "sun_loc"
     ],
     "language": "python",
     "metadata": {},
     "outputs": [
      {
       "metadata": {},
       "output_type": "pyout",
       "prompt_number": 20,
       "text": [
        "<SkyCoord (GCRS: obstime=J2000.000, obsgeoloc=[ 0.  0.  0.] m, obsgeovel=[ 0.  0.  0.] m / s): (ra, dec, distance) in (deg, deg, AU)\n",
        "    (285.23387558, -22.69881501, 0.98328416)>"
       ]
      }
     ],
     "prompt_number": 20
    },
    {
     "cell_type": "code",
     "collapsed": false,
     "input": [
      "sun_loc"
     ],
     "language": "python",
     "metadata": {},
     "outputs": [
      {
       "metadata": {},
       "output_type": "pyout",
       "prompt_number": 21,
       "text": [
        "<SkyCoord (GCRS: obstime=J2000.000, obsgeoloc=[ 0.  0.  0.] m, obsgeovel=[ 0.  0.  0.] m / s): (ra, dec, distance) in (deg, deg, AU)\n",
        "    (285.23387558, -22.69881501, 0.98328416)>"
       ]
      }
     ],
     "prompt_number": 21
    },
    {
     "cell_type": "code",
     "collapsed": false,
     "input": [
      "sun_loc.dec"
     ],
     "language": "python",
     "metadata": {},
     "outputs": [
      {
       "latex": [
        "$-22^\\circ41{}^\\prime55.734{}^{\\prime\\prime}$"
       ],
       "metadata": {},
       "output_type": "pyout",
       "prompt_number": 22,
       "text": [
        "<Latitude -22.69881500765943 deg>"
       ]
      }
     ],
     "prompt_number": 22
    },
    {
     "cell_type": "code",
     "collapsed": false,
     "input": [
      "sun_loc.frame"
     ],
     "language": "python",
     "metadata": {},
     "outputs": [
      {
       "metadata": {},
       "output_type": "pyout",
       "prompt_number": 23,
       "text": [
        "<GCRS Coordinate (obstime=J2000.000, obsgeoloc=[ 0.  0.  0.] m, obsgeovel=[ 0.  0.  0.] m / s): (ra, dec, distance) in (deg, deg, AU)\n",
        "    (285.23387558, -22.69881501, 0.98328416)>"
       ]
      }
     ],
     "prompt_number": 23
    },
    {
     "cell_type": "code",
     "collapsed": false,
     "input": [
      "sun_loc.frame.ra"
     ],
     "language": "python",
     "metadata": {},
     "outputs": [
      {
       "latex": [
        "$285^\\circ14{}^\\prime01.9521{}^{\\prime\\prime}$"
       ],
       "metadata": {},
       "output_type": "pyout",
       "prompt_number": 24,
       "text": [
        "<Longitude 285.23387557679666 deg>"
       ]
      }
     ],
     "prompt_number": 24
    },
    {
     "cell_type": "code",
     "collapsed": false,
     "input": [
      "sun_loc.frame.dec"
     ],
     "language": "python",
     "metadata": {},
     "outputs": [
      {
       "latex": [
        "$-22^\\circ41{}^\\prime55.734{}^{\\prime\\prime}$"
       ],
       "metadata": {},
       "output_type": "pyout",
       "prompt_number": 25,
       "text": [
        "<Latitude -22.69881500765943 deg>"
       ]
      }
     ],
     "prompt_number": 25
    },
    {
     "cell_type": "code",
     "collapsed": false,
     "input": [
      "sun_loc.frame.distance"
     ],
     "language": "python",
     "metadata": {},
     "outputs": [
      {
       "latex": [
        "$0.98328416 \\; \\mathrm{AU}$"
       ],
       "metadata": {},
       "output_type": "pyout",
       "prompt_number": 26,
       "text": [
        "<Distance 0.983284161333394 AU>"
       ]
      }
     ],
     "prompt_number": 26
    },
    {
     "cell_type": "code",
     "collapsed": false,
     "input": [
      "sun_loc.obstime.value"
     ],
     "language": "python",
     "metadata": {},
     "outputs": [
      {
       "metadata": {},
       "output_type": "pyout",
       "prompt_number": 27,
       "text": [
        "u'J2000.000'"
       ]
      }
     ],
     "prompt_number": 27
    },
    {
     "cell_type": "code",
     "collapsed": false,
     "input": [
      "sun_loc.frame.ra.deg, sun_loc.frame.dec.deg,sun_loc.frame.distance.value"
     ],
     "language": "python",
     "metadata": {},
     "outputs": [
      {
       "metadata": {},
       "output_type": "pyout",
       "prompt_number": 28,
       "text": [
        "(285.23387557679666, -22.69881500765943, 0.983284161333394)"
       ]
      }
     ],
     "prompt_number": 28
    },
    {
     "cell_type": "code",
     "collapsed": false,
     "input": [
      "tempo.value"
     ],
     "language": "python",
     "metadata": {},
     "outputs": [
      {
       "metadata": {},
       "output_type": "pyout",
       "prompt_number": 29,
       "text": [
        "'2012-01-05T03:48:01.246'"
       ]
      }
     ],
     "prompt_number": 29
    },
    {
     "cell_type": "code",
     "collapsed": false,
     "input": [
      "xyz = [(sun_loc.frame.ra.deg,sun_loc.frame.dec.deg,sun_loc.frame.distance.value),(sun_loc.frame.ra.deg,sun_loc.frame.dec.deg,sun_loc.frame.distance.value)]"
     ],
     "language": "python",
     "metadata": {},
     "outputs": [],
     "prompt_number": 30
    },
    {
     "cell_type": "code",
     "collapsed": false,
     "input": [
      "xyz"
     ],
     "language": "python",
     "metadata": {},
     "outputs": [
      {
       "metadata": {},
       "output_type": "pyout",
       "prompt_number": 31,
       "text": [
        "[(285.23387557679666, -22.69881500765943, 0.983284161333394),\n",
        " (285.23387557679666, -22.69881500765943, 0.983284161333394)]"
       ]
      }
     ],
     "prompt_number": 31
    },
    {
     "cell_type": "code",
     "collapsed": false,
     "input": [
      "pos = (sun_loc.frame.ra.deg,sun_loc.frame.dec.deg,sun_loc.frame.distance.value)\n",
      "pos[0],pos[1]"
     ],
     "language": "python",
     "metadata": {},
     "outputs": [
      {
       "metadata": {},
       "output_type": "pyout",
       "prompt_number": 32,
       "text": [
        "(285.23387557679666, -22.69881500765943)"
       ]
      }
     ],
     "prompt_number": 32
    },
    {
     "cell_type": "code",
     "collapsed": false,
     "input": [
      "from pandas import DataFrame"
     ],
     "language": "python",
     "metadata": {},
     "outputs": [],
     "prompt_number": 33
    },
    {
     "cell_type": "code",
     "collapsed": false,
     "input": [
      "DataFrame(xyz,columns=['SUN-RA','SUN-DEC','SUN-Distance'])"
     ],
     "language": "python",
     "metadata": {},
     "outputs": [
      {
       "html": [
        "<div style=\"max-height:1000px;max-width:1500px;overflow:auto;\">\n",
        "<table border=\"1\" class=\"dataframe\">\n",
        "  <thead>\n",
        "    <tr style=\"text-align: right;\">\n",
        "      <th></th>\n",
        "      <th>SUN-RA</th>\n",
        "      <th>SUN-DEC</th>\n",
        "      <th>SUN-Distance</th>\n",
        "    </tr>\n",
        "  </thead>\n",
        "  <tbody>\n",
        "    <tr>\n",
        "      <th>0</th>\n",
        "      <td> 285.233876</td>\n",
        "      <td>-22.698815</td>\n",
        "      <td> 0.983284</td>\n",
        "    </tr>\n",
        "    <tr>\n",
        "      <th>1</th>\n",
        "      <td> 285.233876</td>\n",
        "      <td>-22.698815</td>\n",
        "      <td> 0.983284</td>\n",
        "    </tr>\n",
        "  </tbody>\n",
        "</table>\n",
        "</div>"
       ],
       "metadata": {},
       "output_type": "pyout",
       "prompt_number": 34,
       "text": [
        "       SUN-RA    SUN-DEC  SUN-Distance\n",
        "0  285.233876 -22.698815      0.983284\n",
        "1  285.233876 -22.698815      0.983284"
       ]
      }
     ],
     "prompt_number": 34
    },
    {
     "cell_type": "code",
     "collapsed": false,
     "input": [
      "from astropy.constants import c, au\n",
      "import numpy as np"
     ],
     "language": "python",
     "metadata": {},
     "outputs": [],
     "prompt_number": 35
    },
    {
     "cell_type": "code",
     "collapsed": false,
     "input": [
      "c"
     ],
     "language": "python",
     "metadata": {},
     "outputs": [
      {
       "latex": [
        "$2.9979246 \\times 10^{8} \\; \\mathrm{\\frac{m}{s}}$"
       ],
       "metadata": {},
       "output_type": "pyout",
       "prompt_number": 36,
       "text": [
        "<Constant name=u'Speed of light in vacuum' value=299792458.0 error=0.0 units='m / s' reference=u'CODATA 2010'>"
       ]
      }
     ],
     "prompt_number": 36
    },
    {
     "cell_type": "code",
     "collapsed": false,
     "input": [
      "c.value, au.value"
     ],
     "language": "python",
     "metadata": {},
     "outputs": [
      {
       "metadata": {},
       "output_type": "pyout",
       "prompt_number": 37,
       "text": [
        "(299792458.0, 149597870700.0)"
       ]
      }
     ],
     "prompt_number": 37
    },
    {
     "cell_type": "code",
     "collapsed": false,
     "input": [
      "au"
     ],
     "language": "python",
     "metadata": {},
     "outputs": [
      {
       "latex": [
        "$1.4959787 \\times 10^{11} \\; \\mathrm{m}$"
       ],
       "metadata": {},
       "output_type": "pyout",
       "prompt_number": 38,
       "text": [
        "<Constant name=u'Astronomical Unit' value=1.495978707e+11 error=0.0 units='m' reference=u'IAU 2012 Resolution B2'>"
       ]
      }
     ],
     "prompt_number": 38
    },
    {
     "cell_type": "code",
     "collapsed": false,
     "input": [
      "tempo.jd"
     ],
     "language": "python",
     "metadata": {},
     "outputs": [
      {
       "metadata": {},
       "output_type": "pyout",
       "prompt_number": 39,
       "text": [
        "2455931.6583477547"
       ]
      }
     ],
     "prompt_number": 39
    },
    {
     "cell_type": "code",
     "collapsed": false,
     "input": [
      "sun_loc.frame.distance"
     ],
     "language": "python",
     "metadata": {},
     "outputs": [
      {
       "latex": [
        "$0.98328416 \\; \\mathrm{AU}$"
       ],
       "metadata": {},
       "output_type": "pyout",
       "prompt_number": 40,
       "text": [
        "<Distance 0.983284161333394 AU>"
       ]
      }
     ],
     "prompt_number": 40
    },
    {
     "cell_type": "code",
     "collapsed": false,
     "input": [
      "from astropy.coordinates import Angle"
     ],
     "language": "python",
     "metadata": {},
     "outputs": [],
     "prompt_number": 41
    },
    {
     "cell_type": "code",
     "collapsed": false,
     "input": [
      "sun_loc.ra.deg"
     ],
     "language": "python",
     "metadata": {},
     "outputs": [
      {
       "metadata": {},
       "output_type": "pyout",
       "prompt_number": 42,
       "text": [
        "285.23387557679666"
       ]
      }
     ],
     "prompt_number": 42
    },
    {
     "cell_type": "code",
     "collapsed": false,
     "input": [
      "Angle(sun_loc.ra.deg * u.deg)"
     ],
     "language": "python",
     "metadata": {},
     "outputs": [
      {
       "latex": [
        "$285^\\circ14{}^\\prime01.9521{}^{\\prime\\prime}$"
       ],
       "metadata": {},
       "output_type": "pyout",
       "prompt_number": 43,
       "text": [
        "<Angle 285.23387557679666 deg>"
       ]
      }
     ],
     "prompt_number": 43
    },
    {
     "cell_type": "code",
     "collapsed": false,
     "input": [
      "Angle(sun_loc.ra.deg * u.deg).rad"
     ],
     "language": "python",
     "metadata": {},
     "outputs": [
      {
       "metadata": {},
       "output_type": "pyout",
       "prompt_number": 44,
       "text": [
        "4.978270267038942"
       ]
      }
     ],
     "prompt_number": 44
    },
    {
     "cell_type": "code",
     "collapsed": false,
     "input": [
      "#obtain heliocentric julian date\n",
      "def hjd_date(JD,distance_sun,declination_sun,right_ascention_sun,declination_obj,right_ascention_obj):\n",
      "    \"\"\"\n",
      "    Return the Heliocentric Julian Date from a given Julian Date]\n",
      "    ___\n",
      "    INPUT:\n",
      "    JD :  Julian Date, type: float\n",
      "    distance_sun :  distance of observer from the Sun, unit: astronomical unit (AU), type: float\n",
      "    declination_sun: declination of the Sun from the specific Julian Date input, unit:degrees, type:float\n",
      "    right_ascention: right ascention of the Sun from the specific Julian Date input, unit:degrees, type:float\n",
      "    declination_obj: declination of the extrasolar object, unit:degrees, type:float\n",
      "    right-ascention: right ascention of the extrasolar objet, unit:degrees, type:float\n",
      "    \n",
      "    OUTPUT:\n",
      "    date_hjd: heliocentric julian date, type:float\n",
      "    \"\"\"\n",
      "    from astropy.constants import c, au\n",
      "    from astropy import units as u\n",
      "    from astropy.coordinates import Angle\n",
      "    #Convert degrees in radians and astronomical unit to meters\n",
      "    declination_sun,right_ascention_sun = Angle(declination_sun *u.deg).rad, Angle(right_ascention_sun *u.deg).rad\n",
      "    declination_obj,right_ascention_obj = Angle(declination_obj *u.deg).rad, Angle(right_ascention_obj *u.deg).rad\n",
      "    distance_sun = distance_sun * au.value\n",
      "    # obtain the heliocentric julian date\n",
      "    delta_alpha = np.cos(right_ascention_obj - right_ascention_sun)\n",
      "    delta = (np.sin(declination_sun)*np.sin(declination_obj)) + (np.cos(declination_sun) *np.cos(declination_obj)*delta_alpha)\n",
      "    date_hjd = JD - ((distance_sun)/c.value)*delta\n",
      "    return date_hjd"
     ],
     "language": "python",
     "metadata": {},
     "outputs": [],
     "prompt_number": 45
    },
    {
     "cell_type": "code",
     "collapsed": false,
     "input": [
      "print tempo.jd,sun_loc.distance.value,sun_loc.dec.deg,sun_loc.ra.deg,input_data['DEC'],input_data['RA']"
     ],
     "language": "python",
     "metadata": {},
     "outputs": [
      {
       "output_type": "stream",
       "stream": "stdout",
       "text": [
        "2455931.65835 0.983284161333 -22.6988150077 285.233875577 +50:13:32.9 07:48:06.46\n"
       ]
      }
     ],
     "prompt_number": 46
    },
    {
     "cell_type": "code",
     "collapsed": false,
     "input": [
      "SkyCoord(dec=input_data['DEC'],ra=input_data['RA'],unit=('deg','deg'))"
     ],
     "language": "python",
     "metadata": {},
     "outputs": [
      {
       "metadata": {},
       "output_type": "pyout",
       "prompt_number": 47,
       "text": [
        "<SkyCoord (ICRS): (ra, dec) in deg\n",
        "    (7.80179444, 50.22580556)>"
       ]
      }
     ],
     "prompt_number": 47
    },
    {
     "cell_type": "code",
     "collapsed": false,
     "input": [
      "exoplanet = SkyCoord(dec=input_data['DEC'],ra=input_data['RA'],unit=('deg','deg'),frame=input_data['frame'])"
     ],
     "language": "python",
     "metadata": {},
     "outputs": [],
     "prompt_number": 48
    },
    {
     "cell_type": "code",
     "collapsed": false,
     "input": [
      "exoplanet.icrs"
     ],
     "language": "python",
     "metadata": {},
     "outputs": [
      {
       "metadata": {},
       "output_type": "pyout",
       "prompt_number": 49,
       "text": [
        "<SkyCoord (ICRS): (ra, dec) in deg\n",
        "    (7.80178109, 50.2258038)>"
       ]
      }
     ],
     "prompt_number": 49
    },
    {
     "cell_type": "code",
     "collapsed": false,
     "input": [
      "exoplanet.ra"
     ],
     "language": "python",
     "metadata": {},
     "outputs": [
      {
       "latex": [
        "$7^\\circ48{}^\\prime06.46{}^{\\prime\\prime}$"
       ],
       "metadata": {},
       "output_type": "pyout",
       "prompt_number": 50,
       "text": [
        "<Longitude 7.801794444444444 deg>"
       ]
      }
     ],
     "prompt_number": 50
    },
    {
     "cell_type": "code",
     "collapsed": false,
     "input": [
      "exoplanet.dec"
     ],
     "language": "python",
     "metadata": {},
     "outputs": [
      {
       "latex": [
        "$50^\\circ13{}^\\prime32.9{}^{\\prime\\prime}$"
       ],
       "metadata": {},
       "output_type": "pyout",
       "prompt_number": 51,
       "text": [
        "<Latitude 50.22580555555556 deg>"
       ]
      }
     ],
     "prompt_number": 51
    },
    {
     "cell_type": "code",
     "collapsed": false,
     "input": [
      "exoplanet.ra.deg, exoplanet.dec.deg"
     ],
     "language": "python",
     "metadata": {},
     "outputs": [
      {
       "metadata": {},
       "output_type": "pyout",
       "prompt_number": 52,
       "text": [
        "(7.801794444444444, 50.22580555555556)"
       ]
      }
     ],
     "prompt_number": 52
    },
    {
     "cell_type": "code",
     "collapsed": false,
     "input": [
      "hjd_date(float(tempo.jd),float(sun_loc.distance.value),float(sun_loc.dec.deg),\n",
      "         float(sun_loc.ra.deg),float(exoplanet.dec.deg),float(exoplanet.ra.deg))"
     ],
     "language": "python",
     "metadata": {},
     "outputs": [
      {
       "metadata": {},
       "output_type": "pyout",
       "prompt_number": 53,
       "text": [
        "2456039.7208402413"
       ]
      }
     ],
     "prompt_number": 53
    },
    {
     "cell_type": "code",
     "collapsed": false,
     "input": [
      "print float(tempo.jd),float(sun_loc.distance.value),float(sun_loc.dec.deg),float(sun_loc.ra.deg),float(exoplanet.dec.deg),float(exoplanet.ra.deg)"
     ],
     "language": "python",
     "metadata": {},
     "outputs": [
      {
       "output_type": "stream",
       "stream": "stdout",
       "text": [
        "2455931.65835 0.983284161333 -22.6988150077 285.233875577 50.2258055556 7.80179444444\n"
       ]
      }
     ],
     "prompt_number": 54
    },
    {
     "cell_type": "code",
     "collapsed": false,
     "input": [
      "from astropy.constants import c, au\n",
      "from astropy import units as u\n",
      "from astropy.coordinates import Angle\n"
     ],
     "language": "python",
     "metadata": {},
     "outputs": [],
     "prompt_number": 55
    },
    {
     "cell_type": "code",
     "collapsed": false,
     "input": [
      "#Convert degrees in radians and astronomical unit to meters\n",
      "\n",
      "distance_sun = float(sun_loc.distance.value) * au.value"
     ],
     "language": "python",
     "metadata": {},
     "outputs": [],
     "prompt_number": 56
    },
    {
     "cell_type": "code",
     "collapsed": false,
     "input": [
      "distance_sun"
     ],
     "language": "python",
     "metadata": {},
     "outputs": [
      {
       "metadata": {},
       "output_type": "pyout",
       "prompt_number": 57,
       "text": [
        "147097216828.51102"
       ]
      }
     ],
     "prompt_number": 57
    },
    {
     "cell_type": "code",
     "collapsed": false,
     "input": [
      "declination_sun,right_ascention_sun = Angle(float(sun_loc.dec.deg) *u.deg).rad, Angle(float(sun_loc.ra.deg) *u.deg).rad"
     ],
     "language": "python",
     "metadata": {},
     "outputs": [],
     "prompt_number": 58
    },
    {
     "cell_type": "code",
     "collapsed": false,
     "input": [
      "declination_sun, right_ascention_sun"
     ],
     "language": "python",
     "metadata": {},
     "outputs": [
      {
       "metadata": {},
       "output_type": "pyout",
       "prompt_number": 59,
       "text": [
        "(-0.39616905818475895, 4.978270267038942)"
       ]
      }
     ],
     "prompt_number": 59
    },
    {
     "cell_type": "code",
     "collapsed": false,
     "input": [
      "declination_obj,right_ascention_obj = Angle(exoplanet.dec.deg *u.deg).rad, Angle(exoplanet.ra.deg *u.deg).rad"
     ],
     "language": "python",
     "metadata": {},
     "outputs": [],
     "prompt_number": 60
    },
    {
     "cell_type": "code",
     "collapsed": false,
     "input": [
      "declination_obj, right_ascention_obj"
     ],
     "language": "python",
     "metadata": {},
     "outputs": [
      {
       "metadata": {},
       "output_type": "pyout",
       "prompt_number": 61,
       "text": [
        "(0.8766056764109043, 0.13616700061935738)"
       ]
      }
     ],
     "prompt_number": 61
    },
    {
     "cell_type": "code",
     "collapsed": false,
     "input": [
      "Angle(exoplanet.ra).rad"
     ],
     "language": "python",
     "metadata": {},
     "outputs": [
      {
       "metadata": {},
       "output_type": "pyout",
       "prompt_number": 62,
       "text": [
        "0.13616700061935738"
       ]
      }
     ],
     "prompt_number": 62
    },
    {
     "cell_type": "code",
     "collapsed": false,
     "input": [
      "Angle(exoplanet.dec).rad"
     ],
     "language": "python",
     "metadata": {},
     "outputs": [
      {
       "metadata": {},
       "output_type": "pyout",
       "prompt_number": 63,
       "text": [
        "0.8766056764109043"
       ]
      }
     ],
     "prompt_number": 63
    },
    {
     "cell_type": "code",
     "collapsed": false,
     "input": [
      "hjd_date(float(tempo.jd),float(sun_loc.distance.value),float(sun_loc.dec.deg),\n",
      "         float(sun_loc.ra.deg),float(exoplanet.dec.deg),float(exoplanet.ra.deg))"
     ],
     "language": "python",
     "metadata": {},
     "outputs": [
      {
       "metadata": {},
       "output_type": "pyout",
       "prompt_number": 64,
       "text": [
        "2456039.7208402413"
       ]
      }
     ],
     "prompt_number": 64
    },
    {
     "cell_type": "code",
     "collapsed": false,
     "input": [
      "tempo.jd"
     ],
     "language": "python",
     "metadata": {},
     "outputs": [
      {
       "metadata": {},
       "output_type": "pyout",
       "prompt_number": 65,
       "text": [
        "2455931.6583477547"
       ]
      }
     ],
     "prompt_number": 65
    },
    {
     "cell_type": "code",
     "collapsed": false,
     "input": [
      "delta_alpha = np.cos(right_ascention_obj - right_ascention_sun)"
     ],
     "language": "python",
     "metadata": {},
     "outputs": [],
     "prompt_number": 66
    },
    {
     "cell_type": "code",
     "collapsed": false,
     "input": [
      "delta_alpha"
     ],
     "language": "python",
     "metadata": {},
     "outputs": [
      {
       "metadata": {},
       "output_type": "pyout",
       "prompt_number": 67,
       "text": [
        "0.12935083425207147"
       ]
      }
     ],
     "prompt_number": 67
    },
    {
     "cell_type": "code",
     "collapsed": false,
     "input": [
      "delta = (np.sin(declination_sun)*np.sin(declination_obj)) + (np.cos(declination_sun) *np.cos(declination_obj)*delta_alpha)"
     ],
     "language": "python",
     "metadata": {},
     "outputs": [],
     "prompt_number": 68
    },
    {
     "cell_type": "code",
     "collapsed": false,
     "input": [
      "delta"
     ],
     "language": "python",
     "metadata": {},
     "outputs": [
      {
       "metadata": {},
       "output_type": "pyout",
       "prompt_number": 69,
       "text": [
        "-0.2202374792582284"
       ]
      }
     ],
     "prompt_number": 69
    },
    {
     "cell_type": "code",
     "collapsed": false,
     "input": [
      "tempo.jd-(sun_loc.distance.meter/c.value)*delta"
     ],
     "language": "python",
     "metadata": {},
     "outputs": [
      {
       "metadata": {},
       "output_type": "pyout",
       "prompt_number": 70,
       "text": [
        "2456039.7208402413"
       ]
      }
     ],
     "prompt_number": 70
    },
    {
     "cell_type": "code",
     "collapsed": false,
     "input": [
      "sun_loc.distance.value*au.value"
     ],
     "language": "python",
     "metadata": {},
     "outputs": [
      {
       "metadata": {},
       "output_type": "pyout",
       "prompt_number": 71,
       "text": [
        "147097216828.51102"
       ]
      }
     ],
     "prompt_number": 71
    },
    {
     "cell_type": "code",
     "collapsed": false,
     "input": [
      "sun_loc.distance.meter"
     ],
     "language": "python",
     "metadata": {},
     "outputs": [
      {
       "metadata": {},
       "output_type": "pyout",
       "prompt_number": 72,
       "text": [
        "147097216828.51102"
       ]
      }
     ],
     "prompt_number": 72
    },
    {
     "cell_type": "markdown",
     "metadata": {},
     "source": [
      "# Obtain mean time of the exposure"
     ]
    },
    {
     "cell_type": "code",
     "collapsed": false,
     "input": [
      "new_time = hdr['DAte-obs']+'T'+hdr['UT']"
     ],
     "language": "python",
     "metadata": {},
     "outputs": [],
     "prompt_number": 73
    },
    {
     "cell_type": "code",
     "collapsed": false,
     "input": [
      "print new_time"
     ],
     "language": "python",
     "metadata": {},
     "outputs": [
      {
       "output_type": "stream",
       "stream": "stdout",
       "text": [
        "2012-01-05T03:48:01.246\n"
       ]
      }
     ],
     "prompt_number": 74
    },
    {
     "cell_type": "code",
     "collapsed": false,
     "input": [
      "new_time = Time(new_time,scale=input_data['scale-time'],format='isot',location=(input_data['lon-obs'],input_data['lat-obs']))"
     ],
     "language": "python",
     "metadata": {},
     "outputs": [],
     "prompt_number": 75
    },
    {
     "cell_type": "code",
     "collapsed": false,
     "input": [
      "new_time"
     ],
     "language": "python",
     "metadata": {},
     "outputs": [
      {
       "metadata": {},
       "output_type": "pyout",
       "prompt_number": 76,
       "text": [
        "<Time object: scale='utc' format='isot' value=2012-01-05T03:48:01.246>"
       ]
      }
     ],
     "prompt_number": 76
    },
    {
     "cell_type": "code",
     "collapsed": false,
     "input": [
      "hdr['EXPTIME']/2."
     ],
     "language": "python",
     "metadata": {},
     "outputs": [
      {
       "metadata": {},
       "output_type": "pyout",
       "prompt_number": 77,
       "text": [
        "30.0"
       ]
      }
     ],
     "prompt_number": 77
    },
    {
     "cell_type": "code",
     "collapsed": false,
     "input": [
      "import string"
     ],
     "language": "python",
     "metadata": {},
     "outputs": [],
     "prompt_number": 78
    },
    {
     "cell_type": "code",
     "collapsed": false,
     "input": [
      "def delta_exp(exptime, time,date):\n",
      "    \"\"\"\n",
      "    obtain the mean time of the exposure when the exposure is less than 1 minute\n",
      "    ____\n",
      "    INPUT:\n",
      "    EXPTIME: the exposure time from the header of the image, string or float\n",
      "    time: UT time from the exposure from header\n",
      "    date: UT date of the exposure from header\n",
      "    \n",
      "    OUTPUT:\n",
      "    mean_time: mean time of the exposure in isot format (YYYY-MM-DDTHH:MM:SS)\n",
      "    \"\"\"\n",
      "    from string import split\n",
      "    from numpy import zeros\n",
      "    \n",
      "    time = split(time,':') #split the time in hours, minutes and seconds in each value of a array\n",
      "    new_time = zeros(len(time)) #create our new time\n",
      "    new_time[0],new_time[1] = float(time[0]), float(time[1])\n",
      "    new_time[2] = float(time[2])+float(exptime)/2.\n",
      "    \n",
      "    mean_time = date+'T'+str(int(new_time[0]))+':'+str(int(new_time[1]))+':'+str(new_time[2])\n",
      "    \n",
      "    return mean_time"
     ],
     "language": "python",
     "metadata": {},
     "outputs": [],
     "prompt_number": 79
    },
    {
     "cell_type": "code",
     "collapsed": false,
     "input": [
      "from string import split"
     ],
     "language": "python",
     "metadata": {},
     "outputs": [],
     "prompt_number": 80
    },
    {
     "cell_type": "code",
     "collapsed": false,
     "input": [
      "split(hdr['UT'],':')"
     ],
     "language": "python",
     "metadata": {},
     "outputs": [
      {
       "metadata": {},
       "output_type": "pyout",
       "prompt_number": 81,
       "text": [
        "['03', '48', '01.246']"
       ]
      }
     ],
     "prompt_number": 81
    },
    {
     "cell_type": "code",
     "collapsed": false,
     "input": [
      "delta_exp(hdr['exptime'],hdr['UT'],hdr['date-obs'])"
     ],
     "language": "python",
     "metadata": {},
     "outputs": [
      {
       "metadata": {},
       "output_type": "pyout",
       "prompt_number": 82,
       "text": [
        "'2012-01-05T3:48:31.246'"
       ]
      }
     ],
     "prompt_number": 82
    },
    {
     "cell_type": "code",
     "collapsed": false,
     "input": [
      "new_time = delta_exp(hdr['exptime'],hdr['UT'],hdr['date-obs'])"
     ],
     "language": "python",
     "metadata": {},
     "outputs": [],
     "prompt_number": 83
    },
    {
     "cell_type": "code",
     "collapsed": false,
     "input": [
      "new_time"
     ],
     "language": "python",
     "metadata": {},
     "outputs": [
      {
       "metadata": {},
       "output_type": "pyout",
       "prompt_number": 84,
       "text": [
        "'2012-01-05T3:48:31.246'"
       ]
      }
     ],
     "prompt_number": 84
    },
    {
     "cell_type": "code",
     "collapsed": false,
     "input": [
      "new_time = Time(new_time,scale=input_data['scale-time'],format='isot',location=(input_data['lon-obs'],input_data['lat-obs']))"
     ],
     "language": "python",
     "metadata": {},
     "outputs": [],
     "prompt_number": 85
    },
    {
     "cell_type": "code",
     "collapsed": false,
     "input": [
      "new_time"
     ],
     "language": "python",
     "metadata": {},
     "outputs": [
      {
       "metadata": {},
       "output_type": "pyout",
       "prompt_number": 86,
       "text": [
        "<Time object: scale='utc' format='isot' value=2012-01-05T03:48:31.246>"
       ]
      }
     ],
     "prompt_number": 86
    },
    {
     "cell_type": "code",
     "collapsed": false,
     "input": [
      "new_time.jd"
     ],
     "language": "python",
     "metadata": {},
     "outputs": [
      {
       "metadata": {},
       "output_type": "pyout",
       "prompt_number": 87,
       "text": [
        "2455931.658694977"
       ]
      }
     ],
     "prompt_number": 87
    },
    {
     "cell_type": "code",
     "collapsed": false,
     "input": [
      "hjd_date(float(new_time.jd),float(sun_loc.distance.value),float(sun_loc.dec.deg),\n",
      "         float(sun_loc.ra.deg),float(exoplanet.dec.deg),float(exoplanet.ra.deg))"
     ],
     "language": "python",
     "metadata": {},
     "outputs": [
      {
       "metadata": {},
       "output_type": "pyout",
       "prompt_number": 88,
       "text": [
        "2456039.7211874635"
       ]
      }
     ],
     "prompt_number": 88
    },
    {
     "cell_type": "code",
     "collapsed": false,
     "input": [
      "hjd_date(float(tempo.jd),float(sun_loc.distance.value),float(sun_loc.dec.deg),\n",
      "         float(sun_loc.ra.deg),float(exoplanet.dec.deg),float(exoplanet.ra.deg))"
     ],
     "language": "python",
     "metadata": {},
     "outputs": [
      {
       "metadata": {},
       "output_type": "pyout",
       "prompt_number": 89,
       "text": [
        "2456039.7208402413"
       ]
      }
     ],
     "prompt_number": 89
    },
    {
     "cell_type": "code",
     "collapsed": false,
     "input": [
      "hdr['date-obs'], hdr['filename']"
     ],
     "language": "python",
     "metadata": {},
     "outputs": [
      {
       "metadata": {},
       "output_type": "pyout",
       "prompt_number": 90,
       "text": [
        "('2012-01-05', 'XO2b.0001.fits')"
       ]
      }
     ],
     "prompt_number": 90
    },
    {
     "cell_type": "code",
     "collapsed": false,
     "input": [
      "sun_loc"
     ],
     "language": "python",
     "metadata": {},
     "outputs": [
      {
       "metadata": {},
       "output_type": "pyout",
       "prompt_number": 91,
       "text": [
        "<SkyCoord (GCRS: obstime=J2000.000, obsgeoloc=[ 0.  0.  0.] m, obsgeovel=[ 0.  0.  0.] m / s): (ra, dec, distance) in (deg, deg, AU)\n",
        "    (285.23387558, -22.69881501, 0.98328416)>"
       ]
      }
     ],
     "prompt_number": 91
    },
    {
     "cell_type": "code",
     "collapsed": false,
     "input": [
      "#2012-Jan-05 03:48  m  19 00 55.88 -22 41 58.1 -26.78 -10.59 0.98331183146535   0.2989455   0.0000 /?   0.0000"
     ],
     "language": "python",
     "metadata": {},
     "outputs": [],
     "prompt_number": 92
    },
    {
     "cell_type": "code",
     "collapsed": false,
     "input": [
      "tempo"
     ],
     "language": "python",
     "metadata": {},
     "outputs": [
      {
       "metadata": {},
       "output_type": "pyout",
       "prompt_number": 93,
       "text": [
        "<Time object: scale='utc' format='isot' value=2012-01-05T03:48:01.246>"
       ]
      }
     ],
     "prompt_number": 93
    },
    {
     "cell_type": "code",
     "collapsed": false,
     "input": [
      "sun_loc = get_sun(tempo)"
     ],
     "language": "python",
     "metadata": {},
     "outputs": [],
     "prompt_number": 94
    },
    {
     "cell_type": "code",
     "collapsed": false,
     "input": [
      "sun_loc.icrs"
     ],
     "language": "python",
     "metadata": {},
     "outputs": [
      {
       "metadata": {},
       "output_type": "pyout",
       "prompt_number": 95,
       "text": [
        "<SkyCoord (ICRS): (ra, dec, distance) in (deg, deg, AU)\n",
        "    (285.24006402, -22.69821491, 1.96440434)>"
       ]
      }
     ],
     "prompt_number": 95
    },
    {
     "cell_type": "code",
     "collapsed": false,
     "input": [
      "sun_loc.icrs.ra.hour"
     ],
     "language": "python",
     "metadata": {},
     "outputs": [
      {
       "metadata": {},
       "output_type": "pyout",
       "prompt_number": 96,
       "text": [
        "19.01600426803906"
       ]
      }
     ],
     "prompt_number": 96
    },
    {
     "cell_type": "code",
     "collapsed": false,
     "input": [
      "int((sun_loc.ra.hour - 19)*60), ((sun_loc.ra.hour - 19)*60 - int((sun_loc.ra.hour - 19)*60))*60"
     ],
     "language": "python",
     "metadata": {},
     "outputs": [
      {
       "metadata": {},
       "output_type": "pyout",
       "prompt_number": 97,
       "text": [
        "(0, 56.130138431214505)"
       ]
      }
     ],
     "prompt_number": 97
    },
    {
     "cell_type": "code",
     "collapsed": false,
     "input": [
      "#acredito que o que esta dando errado no hjd sao as coordenadas do exoplaneta"
     ],
     "language": "python",
     "metadata": {},
     "outputs": [],
     "prompt_number": 98
    },
    {
     "cell_type": "code",
     "collapsed": false,
     "input": [
      "exoplanet"
     ],
     "language": "python",
     "metadata": {},
     "outputs": [
      {
       "metadata": {},
       "output_type": "pyout",
       "prompt_number": 99,
       "text": [
        "<SkyCoord (FK5: equinox=J2000.000): (ra, dec) in deg\n",
        "    (7.80179444, 50.22580556)>"
       ]
      }
     ],
     "prompt_number": 99
    },
    {
     "cell_type": "code",
     "collapsed": false,
     "input": [
      "Angle(exoplanet.ra),Angle(exoplanet.dec)"
     ],
     "language": "python",
     "metadata": {},
     "outputs": [
      {
       "metadata": {},
       "output_type": "pyout",
       "prompt_number": 100,
       "text": [
        "(<Angle 7.801794444444444 deg>, <Angle 50.22580555555556 deg>)"
       ]
      }
     ],
     "prompt_number": 100
    },
    {
     "cell_type": "code",
     "collapsed": false,
     "input": [
      "Angle(sun_loc.ra), Angle(sun_loc.dec)"
     ],
     "language": "python",
     "metadata": {},
     "outputs": [
      {
       "metadata": {},
       "output_type": "pyout",
       "prompt_number": 101,
       "text": [
        "(<Angle 285.23387557679666 deg>, <Angle -22.69881500765943 deg>)"
       ]
      }
     ],
     "prompt_number": 101
    },
    {
     "cell_type": "code",
     "collapsed": false,
     "input": [
      "exoplanet = SkyCoord(dec=input_data['DEC'],ra=input_data['RA'],unit=('deg','deg'),frame='icrs')"
     ],
     "language": "python",
     "metadata": {},
     "outputs": [],
     "prompt_number": 102
    },
    {
     "cell_type": "code",
     "collapsed": false,
     "input": [
      "exoplanet.fk5"
     ],
     "language": "python",
     "metadata": {},
     "outputs": [
      {
       "metadata": {},
       "output_type": "pyout",
       "prompt_number": 103,
       "text": [
        "<SkyCoord (FK5: equinox=J2000.000): (ra, dec) in deg\n",
        "    (7.8018078, 50.22580731)>"
       ]
      }
     ],
     "prompt_number": 103
    },
    {
     "cell_type": "code",
     "collapsed": false,
     "input": [
      "sun_loc.fk5"
     ],
     "language": "python",
     "metadata": {},
     "outputs": [
      {
       "metadata": {},
       "output_type": "pyout",
       "prompt_number": 104,
       "text": [
        "<SkyCoord (FK5: equinox=J2000.000): (ra, dec, distance) in (deg, deg, AU)\n",
        "    (285.24007079, -22.69820891, 1.96440434)>"
       ]
      }
     ],
     "prompt_number": 104
    },
    {
     "cell_type": "code",
     "collapsed": false,
     "input": [
      "from astropy.coordinates import ICRS"
     ],
     "language": "python",
     "metadata": {},
     "outputs": [],
     "prompt_number": 105
    },
    {
     "cell_type": "code",
     "collapsed": false,
     "input": [
      "ICRS(exoplanet.ra,exoplanet.dec)"
     ],
     "language": "python",
     "metadata": {},
     "outputs": [
      {
       "metadata": {},
       "output_type": "pyout",
       "prompt_number": 106,
       "text": [
        "<ICRS Coordinate: (ra, dec) in deg\n",
        "    (7.80179444, 50.22580556)>"
       ]
      }
     ],
     "prompt_number": 106
    },
    {
     "cell_type": "code",
     "collapsed": false,
     "input": [
      "ICRS(sun_loc.ra,sun_loc.dec)"
     ],
     "language": "python",
     "metadata": {},
     "outputs": [
      {
       "metadata": {},
       "output_type": "pyout",
       "prompt_number": 107,
       "text": [
        "<ICRS Coordinate: (ra, dec) in deg\n",
        "    (285.23387558, -22.69881501)>"
       ]
      }
     ],
     "prompt_number": 107
    },
    {
     "cell_type": "code",
     "collapsed": false,
     "input": [
      "sun_loc.ra"
     ],
     "language": "python",
     "metadata": {},
     "outputs": [
      {
       "latex": [
        "$285^\\circ14{}^\\prime01.9521{}^{\\prime\\prime}$"
       ],
       "metadata": {},
       "output_type": "pyout",
       "prompt_number": 108,
       "text": [
        "<Longitude 285.23387557679666 deg>"
       ]
      }
     ],
     "prompt_number": 108
    },
    {
     "cell_type": "code",
     "collapsed": false,
     "input": [
      "x = ICRS(sun_loc.ra,sun_loc.dec)"
     ],
     "language": "python",
     "metadata": {},
     "outputs": [],
     "prompt_number": 109
    },
    {
     "cell_type": "code",
     "collapsed": false,
     "input": [
      "x.ra.deg"
     ],
     "language": "python",
     "metadata": {},
     "outputs": [
      {
       "metadata": {},
       "output_type": "pyout",
       "prompt_number": 110,
       "text": [
        "285.23387557679666"
       ]
      }
     ],
     "prompt_number": 110
    },
    {
     "cell_type": "code",
     "collapsed": false,
     "input": [
      "def hjd_date(JD,distance_sun,declination_sun,right_ascention_sun,declination_obj,right_ascention_obj):\n",
      "    \"\"\"\n",
      "    Return the Heliocentric Julian Date from a given Julian Date]\n",
      "    ___\n",
      "    INPUT:\n",
      "    JD :  Julian Date, type: float\n",
      "    distance_sun :  distance of observer from the Sun, unit: astronomical unit (AU), type: float\n",
      "    declination_sun: declination of the Sun from the specific Julian Date input, unit:degrees, type:float\n",
      "    right_ascention: right ascention of the Sun from the specific Julian Date input, unit:degrees, type:float\n",
      "    declination_obj: declination of the extrasolar object, unit:degrees, type:float\n",
      "    right-ascention: right ascention of the extrasolar objet, unit:degrees, type:float\n",
      "    \n",
      "    OUTPUT:\n",
      "    date_hjd: heliocentric julian date, type:float\n",
      "    \"\"\"\n",
      "    from astropy.constants import c, au\n",
      "    from astropy import units as u\n",
      "    from astropy.coordinates import Angle\n",
      "    #contants\n",
      "    day = 86400 #seconds\n",
      "    #Convert degrees in radians and astronomical unit to meters\n",
      "    declination_sun,right_ascention_sun = Angle(declination_sun *u.deg).rad, Angle(right_ascention_sun *u.deg).rad\n",
      "    declination_obj,right_ascention_obj = Angle(declination_obj *u.deg).rad, Angle(right_ascention_obj *u.deg).rad\n",
      "    distance_sun = distance_sun * au.value\n",
      "    # obtain the heliocentric julian date\n",
      "    delta_alpha = np.cos(right_ascention_obj - right_ascention_sun)\n",
      "    delta = (np.sin(declination_sun)*np.sin(declination_obj)) + (np.cos(declination_sun) *np.cos(declination_obj)*delta_alpha)\n",
      "    corr_seconds = ((distance_sun)/c.value)*delta\n",
      "    corr_days = corr_seconds/day\n",
      "    date_hjd = JD - corr_days\n",
      "    return date_hjd"
     ],
     "language": "python",
     "metadata": {},
     "outputs": [],
     "prompt_number": 111
    },
    {
     "cell_type": "code",
     "collapsed": false,
     "input": [
      "tempo.jd"
     ],
     "language": "python",
     "metadata": {},
     "outputs": [
      {
       "metadata": {},
       "output_type": "pyout",
       "prompt_number": 112,
       "text": [
        "2455931.6583477547"
       ]
      }
     ],
     "prompt_number": 112
    },
    {
     "cell_type": "code",
     "collapsed": false,
     "input": [
      "hjd_date(float(tempo.jd),float(sun_loc.distance.value),float(sun_loc.dec.deg),\n",
      "         float(sun_loc.ra.deg),float(exoplanet.dec.deg),float(exoplanet.ra.deg))"
     ],
     "language": "python",
     "metadata": {},
     "outputs": [
      {
       "metadata": {},
       "output_type": "pyout",
       "prompt_number": 113,
       "text": [
        "2455931.6595984781"
       ]
      }
     ],
     "prompt_number": 113
    },
    {
     "cell_type": "code",
     "collapsed": false,
     "input": [
      "tempo.value"
     ],
     "language": "python",
     "metadata": {},
     "outputs": [
      {
       "metadata": {},
       "output_type": "pyout",
       "prompt_number": 114,
       "text": [
        "'2012-01-05T03:48:01.246'"
       ]
      }
     ],
     "prompt_number": 114
    },
    {
     "cell_type": "code",
     "collapsed": false,
     "input": [
      "hdr['UT']"
     ],
     "language": "python",
     "metadata": {},
     "outputs": [
      {
       "metadata": {},
       "output_type": "pyout",
       "prompt_number": 115,
       "text": [
        "'03:48:01.246'"
       ]
      }
     ],
     "prompt_number": 115
    },
    {
     "cell_type": "code",
     "collapsed": false,
     "input": [
      "tempo.sidereal_time('apparent').deg"
     ],
     "language": "python",
     "metadata": {},
     "outputs": [
      {
       "metadata": {},
       "output_type": "pyout",
       "prompt_number": 119,
       "text": [
        "50.432091889258"
       ]
      }
     ],
     "prompt_number": 119
    },
    {
     "cell_type": "code",
     "collapsed": false,
     "input": [
      "\n",
      "\n",
      "from datetime import datetime, timedelta\n",
      "\n",
      "yesterday = datetime.now() - timedelta(days=1)\n",
      "yesterday\n",
      "\n"
     ],
     "language": "python",
     "metadata": {},
     "outputs": [
      {
       "metadata": {},
       "output_type": "pyout",
       "prompt_number": 124,
       "text": [
        "datetime.datetime(2016, 2, 14, 15, 54, 39, 894314)"
       ]
      }
     ],
     "prompt_number": 124
    },
    {
     "cell_type": "code",
     "collapsed": false,
     "input": [
      "datetime.now()"
     ],
     "language": "python",
     "metadata": {},
     "outputs": [
      {
       "metadata": {},
       "output_type": "pyout",
       "prompt_number": 125,
       "text": [
        "datetime.datetime(2016, 2, 15, 15, 55, 3, 693281)"
       ]
      }
     ],
     "prompt_number": 125
    },
    {
     "cell_type": "code",
     "collapsed": false,
     "input": [
      "hdr['timezone'], hdr['time-obs'],hdr['date-obs']"
     ],
     "language": "python",
     "metadata": {},
     "outputs": [
      {
       "metadata": {},
       "output_type": "pyout",
       "prompt_number": 128,
       "text": [
        "(7, '03:48:01.246', '2012-01-05')"
       ]
      }
     ],
     "prompt_number": 128
    },
    {
     "cell_type": "code",
     "collapsed": false,
     "input": [
      "data = split(hdr['date-obs'],'-')"
     ],
     "language": "python",
     "metadata": {},
     "outputs": [],
     "prompt_number": 132
    },
    {
     "cell_type": "code",
     "collapsed": false,
     "input": [
      "data"
     ],
     "language": "python",
     "metadata": {},
     "outputs": [
      {
       "metadata": {},
       "output_type": "pyout",
       "prompt_number": 133,
       "text": [
        "['2012', '01', '05']"
       ]
      }
     ],
     "prompt_number": 133
    },
    {
     "cell_type": "code",
     "collapsed": false,
     "input": [
      "datetime(int(data[0]),int(data[1]),int(data[2]))"
     ],
     "language": "python",
     "metadata": {},
     "outputs": [
      {
       "metadata": {},
       "output_type": "pyout",
       "prompt_number": 135,
       "text": [
        "datetime.datetime(2012, 1, 5, 0, 0)"
       ]
      }
     ],
     "prompt_number": 135
    },
    {
     "cell_type": "code",
     "collapsed": false,
     "input": [
      "datetime(int(data[0]),int(data[1]),int(data[2])) - timedelta(days=1)"
     ],
     "language": "python",
     "metadata": {},
     "outputs": [
      {
       "metadata": {},
       "output_type": "pyout",
       "prompt_number": 137,
       "text": [
        "datetime.datetime(2012, 1, 4, 0, 0)"
       ]
      }
     ],
     "prompt_number": 137
    },
    {
     "cell_type": "code",
     "collapsed": false,
     "input": [
      "new_date = datetime(int(data[0]),int(data[1]),int(data[2])) - timedelta(days=1)"
     ],
     "language": "python",
     "metadata": {},
     "outputs": [],
     "prompt_number": 138
    },
    {
     "cell_type": "code",
     "collapsed": false,
     "input": [
      "new_date.year, new_date.month, new_date.day"
     ],
     "language": "python",
     "metadata": {},
     "outputs": [
      {
       "metadata": {},
       "output_type": "pyout",
       "prompt_number": 143,
       "text": [
        "(2012, 1, 4)"
       ]
      }
     ],
     "prompt_number": 143
    },
    {
     "cell_type": "code",
     "collapsed": false,
     "input": [
      "Time(hdr['Date-obs']+'T'+hdr['UT'],scale='utc',format='isot')"
     ],
     "language": "python",
     "metadata": {},
     "outputs": [
      {
       "metadata": {},
       "output_type": "pyout",
       "prompt_number": 151,
       "text": [
        "<Time object: scale='utc' format='isot' value=2012-01-05T03:48:01.246>"
       ]
      }
     ],
     "prompt_number": 151
    },
    {
     "cell_type": "code",
     "collapsed": false,
     "input": [
      "int(split(hdr['UT'],':')[0])"
     ],
     "language": "python",
     "metadata": {},
     "outputs": [
      {
       "metadata": {},
       "output_type": "pyout",
       "prompt_number": 155,
       "text": [
        "3"
       ]
      }
     ],
     "prompt_number": 155
    },
    {
     "cell_type": "code",
     "collapsed": false,
     "input": [
      "hdr"
     ],
     "language": "python",
     "metadata": {},
     "outputs": [
      {
       "metadata": {},
       "output_type": "pyout",
       "prompt_number": 156,
       "text": [
        "SIMPLE  =                    T / Fits standard                                  \n",
        "BITPIX  =                  -32 / Bits per pixel                                 \n",
        "NAXIS   =                    2 / Number of axes                                 \n",
        "NAXIS1  =                 1365 / Axis length                                    \n",
        "NAXIS2  =                  683 / Axis length                                    \n",
        "EXTEND  =                    F / File may contain extensions                    \n",
        "ORIGIN  = 'NOAO-IRAF FITS Image Kernel July 2003' / FITS file originator        \n",
        "DATE    = '2016-02-15T17:41:46' / Date FITS file was generated                  \n",
        "IRAF-TLM= '2016-02-15T17:43:56' / Time of last modification                     \n",
        "OBJECT  = 'XO-2b   '           / Name of the object observed                    \n",
        "CCDSUM  = '3 3     '           / CCD pixel summing                              \n",
        "CCDBIN1 =                    3 / Binning factor along axis 1                    \n",
        "CCDBIN2 =                    3 / Binning factor along axis 2                    \n",
        "FILENAME= 'XO2b.0001.fits'     / base filename at acquisition                   \n",
        "NCCDS   =                    1 / Number of CCDs                                 \n",
        "NAMPS   =                    2 / Number of amplifiers                           \n",
        "DARKCUR = '0.0     '           / Average dark current (e-/pixel/hour)           \n",
        "DARKTIME=               60.157 / Dark time (seconds)                            \n",
        "DATE-OBS= '2012-01-05'         / UTC shutter opened                             \n",
        "DETECTOR= 'mont4k sn3088'      / Detector name                                  \n",
        "DETGAIN =                    5 / Video gain setting                             \n",
        "EXPREQ  =                 60.0 / Exposure time requested (seconds)              \n",
        "EXPTIME =                 60.0 / Exposure time (seconds)                        \n",
        "GAIN1   = '3.14    '           / Conversion gain (e-/DN) for amp 1              \n",
        "GAIN2   = '3.08    '           / Conversion gain (e-/DN) for amp 2              \n",
        "IMAGETYP= 'object  '           / Image type                                     \n",
        "INSTRUME= 'mont4k  '           / Instrument name                                \n",
        "LOCTIME = '20:48:01'           / Local time at start of exposure                \n",
        "OBSERVAT= 'mtbigelow'          / Observatory                                    \n",
        "OBSERVER= 'Turner  '                                                            \n",
        "PCIFILE = 'pci2.lod'           / PCI board DSP code filename                    \n",
        "PIXSCAL1= '0.15    '           / Pixel scale for axis 1 (arcsec/unbinned pixel) \n",
        "PIXSCAL2= '0.15    '           / Pixel scale for axis 2 (arcsec/unbinned pixel) \n",
        "PIXSIZE1= '15.0    '           / Pixel size for axis 1 (microns)                \n",
        "PIXSIZE2= '15.0    '           / Pixel size for axis 2 (microns)                \n",
        "RDNOISE1= '6.3     '           / Read noise (electrons) for amp 1               \n",
        "RDNOISE2= '6.7     '           / Read noise (electrons) for amp 2               \n",
        "SITEELEV= '2510    '           / Altitude (meters)                              \n",
        "SITELAT = '32:24:59.3'         / Latitude (DD:MM:SS.S North)                    \n",
        "SITELONG= '110:44:04.3'        / Longitude (DD:MM:SS.S West)                    \n",
        "TELESCOP= 'bigelow-1.55m'      / Telescope name                                 \n",
        "TIME-OBS= '03:48:01.246'       / UTC at start of exposure                       \n",
        "TIMESYS = 'UTC     '           / Time system                                    \n",
        "TIMEZONE=                    7 / Local time zone                                \n",
        "TIMFILE = 'tim2_split.lod'     / Timing board DSP code filename                 \n",
        "UT      = '03:48:01.246'       / UTC at start of exposure                       \n",
        "UTC-OBS = '03:48:01.246'       / UTC at start of exposure                       \n",
        "UTILFILE= 'util2.lod'          / Utility board DSP code filename                \n",
        "VIDGAIN =                    5 / Video gain setting                             \n",
        "VIDSPEED=                    1 / Video speed setting                            \n",
        "ITL-HEAD= 'OK      '           / ITL Header flag                                \n",
        "N-AMPS-X=                    2 / Number of amplifiers in X                      \n",
        "N-AMPS-Y=                    1 / Number of amplifiers in Y                      \n",
        "N-DET-X =                    1 / Number of detectors in X                       \n",
        "N-DET-Y =                    1 / Number of detectors in Y                       \n",
        "NUM-AMPX=                    2 / Number of amplifiers in X                      \n",
        "NUM-AMPY=                    1 / Number of amplifiers in Y                      \n",
        "NUM-DETX=                    1 / Number of detectors in X                       \n",
        "NUM-DETY=                    1 / Number of detectors in Y                       \n",
        "REF-PIX1=                 2048 / Reference pixel 1                              \n",
        "REF-PIX2=                 2048 / Reference pixel 2                              \n",
        "SYS-MOD = 'Mont4k  '           / System module                                  \n",
        "CAMTEMP =               -116.0 / Camera temperature in C                        \n",
        "DEWTEMP =             -184.666 / Dewar temperature in C                         \n",
        "XTKCOEF =          2.600000E-4                                                  \n",
        "BUNIT   = 'ADU     '           / Physical unit of array values                  \n",
        "COMMENT Image                                                                   \n",
        "DETSIZE = '[1:4092,1:2049]'    / Detector size                                  \n",
        "CCDSIZE = '[1:4092,1:2049]'    / CCD size                                       \n",
        "AMPSEC  = '[0:4094,0:2048]'    / Amplifier section                              \n",
        "DETSEC  = '[0:4094,0:2048]'    / Detector section                               \n",
        "CCDSEC  = '[0:4094,0:2048]'    / CCD section                                    \n",
        "CCDSEC1 = '[1:682,1:683]'      / CCD section with binning                       \n",
        "OVRSCAN1=                   20 / Overscan on axis 1                             \n",
        "OVRSCAN2=                    0 / Overscan on axis 2                             \n",
        "PRESCAN1=                    0 / Underscan on axis 1                            \n",
        "PRESCAN2=                    0 / Underscan on axis 2                            \n",
        "ATM1_1  =                    1 / CCD to amplifier transformation                \n",
        "ATM2_2  =                    1 / CCD to amplifier transformation                \n",
        "ATV1    =                    0 / CCD to amplifier transformation                \n",
        "ATV2    =                    0 / CCD to amplifier transformation                \n",
        "LTM1_1  =    0.333333343267441 / CCD to image transformation                    \n",
        "LTM2_2  =    0.333333343267441 / CCD to image transformation                    \n",
        "LTV1    =    0.666666686534882 / CCD to image transformation                    \n",
        "LTV2    =    0.666666686534882 / CCD to image transformation                    \n",
        "DTM1_1  =                    1 / CCD to detector transformation                 \n",
        "DTM2_2  =                    1 / CCD to detector transformation                 \n",
        "DTV1    =                    0 / CCD to detector transformation                 \n",
        "DTV2    =                    0 / CCD to detector transformation                 \n",
        "COMMENT WCS                                                                     \n",
        "EQUINOX =                 2000 / Equinox of WCS                                 \n",
        "WCSDIM  =                    2 / WCS Dimensionality                             \n",
        "CTYPE1  = 'RA---TNX'           / Coordinate type                                \n",
        "CTYPE2  = 'DEC--TNX'           / Coordinate type                                \n",
        "CRPIX1  =     682.333353668451 / Coordinate reference pixel                     \n",
        "CRPIX2  =     342.000010192394 / Coordinate reference pixel                     \n",
        "CD1_1   =  1.49999995529652E-4 / Coordinate matrix                              \n",
        "CD2_2   =  1.49999995529652E-4 / Coordinate matrix                              \n",
        "AMP-CFG =                    0 / Amplifier configuration                        \n",
        "DET-NUM =                    1 / Detector number                                \n",
        "EXT-NUM =                    1 / Extension number                               \n",
        "JPG-EXT =                    1 / Image section                                  \n",
        "DET-POSX=                    1 / Detector position in X                         \n",
        "DET-POSY=                    1 / Detector position in Y                         \n",
        "AMP-POSX=                    1 / Amplifier position in X                        \n",
        "AMP-POSY=                    1 / Amplifier position in Y                        \n",
        "AMP-PIX1=                    1 / Amplifier pixel position in X                  \n",
        "AMP-PIX2=                    1 / Amplifier pixel position in Y                  \n",
        "CDELT1  =  1.49999995529652E-4                                                  \n",
        "CDELT2  =  1.49999995529652E-4                                                  \n",
        "WAT0_001= 'system=image'                                                        \n",
        "WAT1_001= 'wtype=tnx axtype=ra'                                                 \n",
        "WAT2_001= 'wtype=tnx axtype=dec'                                                \n",
        "TRIM    = '[1:682,1:683]'                                                       \n",
        "OVERSCAN= '[688:702,1:683]'                                                     \n",
        "OVSCMED1=             926.0311                                                  \n",
        "OVSCMED2=             919.9296                                                  \n",
        "ST      = '5:15:50.2163236162'                                                  \n",
        "RA      = '07:48:06.46'                                                         \n",
        "DEC     = '+50:13:32.9'                                                         \n",
        "EPOCH   = '2000.0  '                                                            \n",
        "                                                                                \n",
        "                                                                                \n",
        "                                                                                \n",
        "                                                                                \n",
        "                                                                                \n",
        "                                                                                \n",
        "                                                                                \n",
        "                                                                                \n",
        "                                                                                \n",
        "                                                                                \n",
        "                                                                                \n",
        "                                                                                \n",
        "                                                                                \n",
        "                                                                                \n",
        "                                                                                \n",
        "                                                                                \n",
        "                                                                                \n",
        "                                                                                \n",
        "                                                                                \n",
        "                                                                                \n",
        "                                                                                \n",
        "                                                                                "
       ]
      }
     ],
     "prompt_number": 156
    },
    {
     "cell_type": "code",
     "collapsed": false,
     "input": [],
     "language": "python",
     "metadata": {},
     "outputs": []
    }
   ],
   "metadata": {}
  }
 ]
}